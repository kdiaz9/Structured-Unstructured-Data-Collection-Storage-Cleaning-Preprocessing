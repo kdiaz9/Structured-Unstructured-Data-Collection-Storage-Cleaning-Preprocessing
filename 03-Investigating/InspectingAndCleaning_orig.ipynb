{
 "cells": [
  {
   "cell_type": "code",
   "execution_count": null,
   "metadata": {
    "ExecuteTime": {
     "end_time": "2018-01-26T09:42:35.916594",
     "start_time": "2018-01-26T09:42:34.112497"
    },
    "collapsed": false
   },
   "outputs": [],
   "source": [
    "# setup\n",
    "import os, sys\n",
    "import numpy as np\n",
    "import pandas as pd\n",
    "%matplotlib inline\n",
    "import matplotlib.pyplot as plt\n",
    "import seaborn as sns\n",
    "\n"
   ]
  },
  {
   "cell_type": "markdown",
   "metadata": {},
   "source": [
    "# Helper Functions"
   ]
  },
  {
   "cell_type": "markdown",
   "metadata": {},
   "source": [
    "This function takes a string and eliminates all characters that wouldn't be suitable for filenames"
   ]
  },
  {
   "cell_type": "code",
   "execution_count": null,
   "metadata": {
    "ExecuteTime": {
     "end_time": "2018-01-26T11:21:52.415570",
     "start_time": "2018-01-26T11:21:52.411631"
    },
    "collapsed": true
   },
   "outputs": [],
   "source": [
    "## https://docs.python.org/2/library/re.html\n",
    "def to_filename(s):\n",
    "    import re\n",
    "    return re.sub('_+', '_', re.sub('\\W', '', re.sub('[=\\s]', '_', s)))\n",
    "\n",
    "to_filename(u'pearsonr = 0.68; p = 6.7e-34')"
   ]
  },
  {
   "cell_type": "markdown",
   "metadata": {},
   "source": [
    "A function to save figures which ensures that the subdirectoy is created"
   ]
  },
  {
   "cell_type": "code",
   "execution_count": null,
   "metadata": {
    "ExecuteTime": {
     "end_time": "2018-01-26T11:25:20.012618",
     "start_time": "2018-01-26T11:25:20.007815"
    },
    "collapsed": true
   },
   "outputs": [],
   "source": [
    "def savefig(g, figdir, fname):\n",
    "    import os\n",
    "    if not os.path.isdir(figdir):\n",
    "        os.makedirs(figdir)\n",
    "    g.savefig(os.path.join(figdir, fname))\n",
    "    return fname\n",
    "        "
   ]
  },
  {
   "cell_type": "code",
   "execution_count": null,
   "metadata": {
    "ExecuteTime": {
     "end_time": "2018-01-26T11:25:50.625919",
     "start_time": "2018-01-26T11:25:50.332771"
    },
    "collapsed": false
   },
   "outputs": [],
   "source": [
    "savefig(g, 'www/figs', 'joint.png')"
   ]
  },
  {
   "cell_type": "code",
   "execution_count": null,
   "metadata": {
    "ExecuteTime": {
     "end_time": "2018-01-26T11:26:00.083812",
     "start_time": "2018-01-26T11:25:59.957657"
    },
    "collapsed": false
   },
   "outputs": [],
   "source": [
    "ls -lR www/figs/joint.png"
   ]
  },
  {
   "cell_type": "markdown",
   "metadata": {},
   "source": [
    "# Visual Inspection"
   ]
  },
  {
   "cell_type": "markdown",
   "metadata": {},
   "source": [
    "## Produce Description Table\n",
    "We build a feature description table and export it to Excel and HTML. This makes it easier to read"
   ]
  },
  {
   "cell_type": "code",
   "execution_count": null,
   "metadata": {
    "collapsed": true
   },
   "outputs": [],
   "source": [
    "descr_tbl = df.describe().transpose()\n",
    "descr_tbl.head()"
   ]
  },
  {
   "cell_type": "code",
   "execution_count": null,
   "metadata": {
    "collapsed": true
   },
   "outputs": [],
   "source": [
    "import StringIO\n",
    "output = StringIO.StringIO()\n",
    "descr_tbl[descr_tbl['count']>0].to_html(output, float_format=lambda x: '%12.4f'%x)\n",
    "##\n",
    "\n",
    "with open(jp('www', 'desciption.html'), 'w') as out:\n",
    "    out.write(\"\"\"\n",
    "    <html>\n",
    "    <head>\n",
    "    <style>\n",
    "    table {border: 1px gray;}\n",
    "    td {padding: 1em 0.3em; text-align: right;}\n",
    "    </style>\n",
    "    </head>\n",
    "    <body>\n",
    "    \"\"\")\n",
    "    out.write(output.getvalue())\n",
    "    out.write(\"\"\"\n",
    "    </body>\n",
    "    </html>\n",
    "    \"\"\")\n",
    "output.close()\n"
   ]
  },
  {
   "cell_type": "markdown",
   "metadata": {},
   "source": [
    "## Types of Plots"
   ]
  },
  {
   "cell_type": "code",
   "execution_count": null,
   "metadata": {
    "collapsed": true
   },
   "outputs": [],
   "source": []
  },
  {
   "cell_type": "code",
   "execution_count": null,
   "metadata": {
    "ExecuteTime": {
     "end_time": "2018-01-26T09:42:54.546907",
     "start_time": "2018-01-26T09:42:51.233001"
    },
    "collapsed": false
   },
   "outputs": [],
   "source": [
    "import seaborn as sns\n",
    "sns.set(style=\"ticks\")\n",
    "\n",
    "df = sns.load_dataset(\"iris\")\n",
    "sns.pairplot(df, hue=\"species\")"
   ]
  },
  {
   "cell_type": "markdown",
   "metadata": {},
   "source": [
    "### Linear regression with marginal distributions¶\n",
    "- Demo https://seaborn.pydata.org/examples/regression_marginals.html\n",
    "- Documentation https://seaborn.pydata.org/generated/seaborn.jointplot.html"
   ]
  },
  {
   "cell_type": "code",
   "execution_count": null,
   "metadata": {
    "ExecuteTime": {
     "end_time": "2018-01-26T11:01:07.046483",
     "start_time": "2018-01-26T11:00:53.970305"
    },
    "collapsed": false
   },
   "outputs": [],
   "source": [
    "sns.set(style=\"darkgrid\", color_codes=True)\n",
    "\n",
    "tips = sns.load_dataset(\"tips\")\n",
    "g = sns.jointplot(\"total_bill\", \"tip\", data=tips, kind=\"reg\",\n",
    "                  xlim=(0, 60), ylim=(0, 12), color=\"r\", size=7)"
   ]
  },
  {
   "cell_type": "code",
   "execution_count": null,
   "metadata": {
    "collapsed": true
   },
   "outputs": [],
   "source": [
    "g.savefig('')"
   ]
  },
  {
   "cell_type": "code",
   "execution_count": null,
   "metadata": {
    "ExecuteTime": {
     "end_time": "2018-01-26T11:09:46.949375",
     "start_time": "2018-01-26T11:09:46.942630"
    },
    "collapsed": false
   },
   "outputs": [],
   "source": [
    "leg = g.ax_joint.get_legend()\n",
    "txt = leg.get_texts()\n",
    "for t in txt:\n",
    "    print t\n",
    "t.get_text()"
   ]
  },
  {
   "cell_type": "markdown",
   "metadata": {},
   "source": [
    "### Box Plots\n",
    "- Demo https://seaborn.pydata.org/examples/grouped_boxplot.html\n",
    "- Documentation https://seaborn.pydata.org/generated/seaborn.boxplot.html?highlight=box%20plot#seaborn.boxplot"
   ]
  },
  {
   "cell_type": "code",
   "execution_count": null,
   "metadata": {
    "ExecuteTime": {
     "end_time": "2018-01-26T11:44:00.023077",
     "start_time": "2018-01-26T11:43:59.609326"
    },
    "collapsed": false
   },
   "outputs": [],
   "source": [
    "sns.set(style=\"ticks\")\n",
    "\n",
    "# Load the example tips dataset\n",
    "tips = sns.load_dataset(\"tips\")\n",
    "\n",
    "# Draw a nested boxplot to show bills by day and sex\n",
    "sns.boxplot(x=\"day\", y=\"total_bill\", hue=\"sex\", data=tips, palette=\"PRGn\")\n",
    "sns.despine(offset=10, trim=True)"
   ]
  },
  {
   "cell_type": "markdown",
   "metadata": {},
   "source": [
    "### Violine Plot\n",
    "https://seaborn.pydata.org/examples/elaborate_violinplot.html"
   ]
  },
  {
   "cell_type": "code",
   "execution_count": null,
   "metadata": {
    "ExecuteTime": {
     "end_time": "2018-01-26T09:43:57.427489",
     "start_time": "2018-01-26T09:43:56.550161"
    },
    "collapsed": false
   },
   "outputs": [],
   "source": [
    "#import seaborn as sns\n",
    "#import matplotlib.pyplot as plt\n",
    "sns.set(style=\"whitegrid\")\n",
    "\n",
    "# Load the example dataset of brain network correlations\n",
    "df = sns.load_dataset(\"brain_networks\", header=[0, 1, 2], index_col=0)\n",
    "\n",
    "# Pull out a specific subset of networks\n",
    "used_networks = [1, 3, 4, 5, 6, 7, 8, 11, 12, 13, 16, 17]\n",
    "used_columns = (df.columns.get_level_values(\"network\")\n",
    "                          .astype(int)\n",
    "                          .isin(used_networks))\n",
    "df = df.loc[:, used_columns]\n",
    "\n",
    "# Compute the correlation matrix and average over networks\n",
    "corr_df = df.corr().groupby(level=\"network\").mean()\n",
    "corr_df.index = corr_df.index.astype(int)\n",
    "corr_df = corr_df.sort_index().T\n",
    "\n",
    "# Set up the matplotlib figure\n",
    "f, ax = plt.subplots(figsize=(11, 6))\n",
    "\n",
    "# Draw a violinplot with a narrower bandwidth than the default\n",
    "sns.violinplot(data=corr_df, palette=\"Set3\", bw=.2, cut=1, linewidth=1)\n",
    "\n",
    "# Finalize the figure\n",
    "ax.set(ylim=(-.7, 1.05))\n",
    "sns.despine(left=True, bottom=True)"
   ]
  },
  {
   "cell_type": "markdown",
   "metadata": {},
   "source": []
  },
  {
   "cell_type": "code",
   "execution_count": null,
   "metadata": {
    "collapsed": true
   },
   "outputs": [],
   "source": []
  },
  {
   "cell_type": "code",
   "execution_count": null,
   "metadata": {
    "collapsed": true
   },
   "outputs": [],
   "source": []
  },
  {
   "cell_type": "code",
   "execution_count": null,
   "metadata": {
    "collapsed": true
   },
   "outputs": [],
   "source": []
  },
  {
   "cell_type": "markdown",
   "metadata": {},
   "source": [
    "## Running self-standing programs to produce tons of plots\n",
    "It's not a good idea to produce a large number of plots inside the notebook. It'll potentially slow down or crash the browser.\n",
    "Instead, we run an external program to produce image files."
   ]
  },
  {
   "cell_type": "code",
   "execution_count": null,
   "metadata": {
    "ExecuteTime": {
     "end_time": "2018-01-26T09:31:50.680161",
     "start_time": "2018-01-26T09:31:50.672533"
    },
    "collapsed": true
   },
   "outputs": [],
   "source": [
    "# %load plot_histograms.py\n",
    "#!/usr/bin/env python\n",
    "import sys, os\n",
    "jp = os.path.join\n",
    "\n",
    "import numpy as np\n",
    "import pandas as pd\n",
    "\n",
    "### use matplotlib headless https://gist.github.com/philippstroehle/6621189\n",
    "import matplotlib\n",
    "matplotlib.use('Agg')\n",
    "from matplotlib import pyplot as plt\n",
    "import seaborn as sb\n",
    "\n",
    "DATADIR='data'\n",
    "WEBDIR='www'\n",
    "\n",
    "if __name__ == '__main__':\n",
    "    df = pd.read_csv(jp('data', 'manfct80s.csv'), low_memory=False)\n",
    "    print \"Nrows %d, Ncols %d\"%(df.shape[0], df.shape[1])\n",
    "\n",
    "    ## get numeric columns\n",
    "    descr_tbl = df.describe().transpose()\n",
    "\n",
    "    for col in descr_tbl.index:\n",
    "        ##if descr_tbl.loc[col]['count']>0:\n",
    "        try:\n",
    "            print \"plotting col %s\"%(col)\n",
    "            fig = plt.figure(figsize=(12,8))\n",
    "            plt.hist(df[col])\n",
    "            plt.title(\"%s\"%(col))\n",
    "            fig.savefig(jp(WEBDIR, \"hist_%s.png\"%(col)))\n",
    "            ##else:\n",
    "        except:\n",
    "            print \"skipping col %s\"%(col)\n"
   ]
  },
  {
   "cell_type": "code",
   "execution_count": null,
   "metadata": {
    "collapsed": true
   },
   "outputs": [],
   "source": []
  },
  {
   "cell_type": "markdown",
   "metadata": {},
   "source": [
    "## Creating HTML Output\n",
    "\n",
    "A basic HTML document looks like this\n",
    "```\n",
    "<?DOCTYPE html>\n",
    "<html>\n",
    "<head>\n",
    "    <style>\n",
    "    td {\n",
    "        text-align:right;\n",
    "    }\n",
    "    </style>\n",
    "</head>\n",
    "<body>\n",
    "</body>\n",
    "</html>\n",
    "```"
   ]
  },
  {
   "cell_type": "code",
   "execution_count": null,
   "metadata": {
    "collapsed": true
   },
   "outputs": [],
   "source": []
  },
  {
   "cell_type": "markdown",
   "metadata": {},
   "source": [
    "# Cleaning\n",
    "Standardization, or mean removal and variance scaling http://scikit-learn.org/stable/modules/preprocessing.html\n",
    "\n",
    "**Standardization** of datasets is a common requirement for many machine learning estimators implemented in scikit-learn; they might behave badly if the individual features do not more or less look like **standard normally distributed** data: Gaussian with zero mean and unit variance.\n",
    "\n",
    "In practice we often ignore the shape of the distribution and just transform the data to center it by removing the mean value of each feature, then scale it by dividing non-constant features by their standard deviation.\n",
    "\n",
    "For instance, many elements used in the objective function of a learning algorithm (such as the RBF kernel of Support Vector Machines or the l1 and l2 regularizers of linear models) assume that all features are centered around zero and have variance in the same order. If a feature has a variance that is orders of magnitude larger than others, it might dominate the objective function and make the estimator unable to learn from other features correctly as expected."
   ]
  },
  {
   "cell_type": "code",
   "execution_count": 5,
   "metadata": {
    "ExecuteTime": {
     "end_time": "2018-01-26T12:10:07.362382",
     "start_time": "2018-01-26T12:10:07.346539"
    },
    "collapsed": false,
    "scrolled": true
   },
   "outputs": [
    {
     "data": {
      "text/plain": [
       "array([[ 0.        , -1.22474487,  1.33630621],\n",
       "       [ 1.22474487,  0.        , -0.26726124],\n",
       "       [-1.22474487,  1.22474487, -1.06904497]])"
      ]
     },
     "execution_count": 5,
     "metadata": {},
     "output_type": "execute_result"
    }
   ],
   "source": [
    "from sklearn import preprocessing\n",
    "import numpy as np\n",
    "X_train = np.array([[ 1., -1.,  2.],\n",
    "                    [ 2.,  0.,  0.],\n",
    "                    [ 0.,  1., -1.]])\n",
    "X_scaled = preprocessing.scale(X_train)\n",
    "\n",
    "X_scaled                                          "
   ]
  },
  {
   "cell_type": "markdown",
   "metadata": {},
   "source": [
    "Scaled data has zero mean and unit variance:"
   ]
  },
  {
   "cell_type": "code",
   "execution_count": 7,
   "metadata": {
    "ExecuteTime": {
     "end_time": "2018-01-26T12:11:59.515375",
     "start_time": "2018-01-26T12:11:59.510003"
    },
    "collapsed": false
   },
   "outputs": [
    {
     "name": "stdout",
     "output_type": "stream",
     "text": [
      "Mean: [ 0.  0.  0.]\n",
      "Stdev: [ 1.  1.  1.]\n"
     ]
    }
   ],
   "source": [
    "print 'Mean:', X_scaled.mean(axis=0)\n",
    "print 'Stdev:', X_scaled.std(axis=0)"
   ]
  },
  {
   "cell_type": "markdown",
   "metadata": {},
   "source": [
    "However, there are other ways to standardize the data"
   ]
  },
  {
   "cell_type": "code",
   "execution_count": null,
   "metadata": {
    "collapsed": true
   },
   "outputs": [],
   "source": []
  },
  {
   "cell_type": "code",
   "execution_count": null,
   "metadata": {
    "collapsed": true
   },
   "outputs": [],
   "source": []
  },
  {
   "cell_type": "markdown",
   "metadata": {
    "ExecuteTime": {
     "end_time": "2018-01-26T11:51:04.601861",
     "start_time": "2018-01-26T11:51:04.597961"
    }
   },
   "source": [
    "## Scalining\n",
    "- Min-Max Scaler http://scikit-learn.org/stable/modules/generated/sklearn.preprocessing.MinMaxScaler.html\n",
    "- Demo http://scikit-learn.org/stable/auto_examples/preprocessing/plot_all_scaling.html#sphx-glr-auto-examples-preprocessing-plot-all-scaling-py\n",
    "- Notebook http://localhost:8888/notebooks/plot_all_scaling.ipynb#"
   ]
  },
  {
   "cell_type": "markdown",
   "metadata": {
    "ExecuteTime": {
     "end_time": "2018-01-26T12:00:37.790561",
     "start_time": "2018-01-26T12:00:37.783878"
    }
   },
   "source": [
    "## Outlier Detection\n",
    "\n",
    "open notebook `plot_outlier_detection_housing_orig.ipynb`\n",
    "- http://scikit-learn.org/stable/auto_examples/covariance/plot_outlier_detection.html\n",
    "- http://scikit-learn.org/stable/auto_examples/applications/plot_outlier_detection_housing.html"
   ]
  },
  {
   "cell_type": "code",
   "execution_count": null,
   "metadata": {
    "ExecuteTime": {
     "end_time": "2018-01-26T11:52:56.623584",
     "start_time": "2018-01-26T11:52:56.432809"
    },
    "collapsed": false
   },
   "outputs": [],
   "source": []
  }
 ],
 "metadata": {
  "hide_input": false,
  "kernelspec": {
   "display_name": "Python 2",
   "language": "python",
   "name": "python2"
  },
  "language_info": {
   "codemirror_mode": {
    "name": "ipython",
    "version": 2
   },
   "file_extension": ".py",
   "mimetype": "text/x-python",
   "name": "python",
   "nbconvert_exporter": "python",
   "pygments_lexer": "ipython2",
   "version": "2.7.14"
  },
  "latex_envs": {
   "bibliofile": "biblio.bib",
   "cite_by": "apalike",
   "current_citInitial": 1,
   "eqLabelWithNumbers": true,
   "eqNumInitial": 0
  },
  "toc": {
   "nav_menu": {
    "height": "228px",
    "width": "252px"
   },
   "navigate_menu": true,
   "number_sections": true,
   "sideBar": true,
   "threshold": 4,
   "toc_cell": false,
   "toc_section_display": "block",
   "toc_window_display": true
  }
 },
 "nbformat": 4,
 "nbformat_minor": 2
}

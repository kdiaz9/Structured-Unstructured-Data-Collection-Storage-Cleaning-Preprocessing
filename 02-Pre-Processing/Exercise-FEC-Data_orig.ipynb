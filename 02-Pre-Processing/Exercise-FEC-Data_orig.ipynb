{
 "cells": [
  {
   "cell_type": "markdown",
   "metadata": {},
   "source": [
    "# Introduction\n",
    "\n",
    "Let's look at some data from the Federal Election Commission (FEC). Some of the links point to sites that are no longer maintained, though they still good to do some research. This site is an example of organizations sharing public data without investing too much to make it user friendly. That's great for us: less glitter, more data.\n",
    "\n",
    "Paper Reports http://classic.fec.gov/finance/disclosure/ftppaper.shtml\n"
   ]
  },
  {
   "cell_type": "markdown",
   "metadata": {},
   "source": [
    "## What are .inc files, and how can we read them?\n",
    "Visit https://www.fec.gov/files/bulk-downloads/index.html?prefix=bulk-downloads/ and you see a couple of files with this extension.\n",
    "1. Let's download one, see whether it has any data.\n",
    "2. If so, how can we save them in a data table?"
   ]
  },
  {
   "cell_type": "code",
   "execution_count": null,
   "metadata": {
    "ExecuteTime": {
     "end_time": "2018-01-19T14:34:44.005033",
     "start_time": "2018-01-19T14:34:42.692215"
    },
    "collapsed": false
   },
   "outputs": [],
   "source": [
    "%%sh\n",
    "wget \"https://cg-519a459a-0ea3-42c2-b7bc-fa1143481f74.s3-us-gov-west-1.amazonaws.com/bulk-downloads/leadership_pacs.inc\""
   ]
  },
  {
   "cell_type": "code",
   "execution_count": null,
   "metadata": {
    "ExecuteTime": {
     "end_time": "2018-01-19T14:35:01.170835",
     "start_time": "2018-01-19T14:35:01.156201"
    },
    "collapsed": false
   },
   "outputs": [],
   "source": [
    "%%sh\n",
    "head leadership_pacs.inc"
   ]
  },
  {
   "cell_type": "code",
   "execution_count": null,
   "metadata": {
    "ExecuteTime": {
     "end_time": "2018-01-19T14:36:07.755627",
     "start_time": "2018-01-19T14:36:02.849212"
    },
    "collapsed": false,
    "scrolled": false
   },
   "outputs": [],
   "source": []
  },
  {
   "cell_type": "markdown",
   "metadata": {},
   "source": [
    "## Traversing the site\n",
    "When visiting https://www.fec.gov/files/bulk-downloads/index.html?prefix=bulk-downloads/ the page looks pretty 'OK' ... Though, is it?"
   ]
  },
  {
   "cell_type": "code",
   "execution_count": null,
   "metadata": {
    "ExecuteTime": {
     "end_time": "2018-01-19T14:47:14.338518",
     "start_time": "2018-01-19T14:47:14.228369"
    },
    "collapsed": false
   },
   "outputs": [],
   "source": []
  },
  {
   "cell_type": "code",
   "execution_count": null,
   "metadata": {
    "collapsed": true
   },
   "outputs": [],
   "source": []
  },
  {
   "cell_type": "markdown",
   "metadata": {},
   "source": [
    "## What secrets do *these* files hold?\n",
    "\n",
    "http://classic.fec.gov/finance/disclosure/ftppaper.shtml\n",
    "\n",
    "A paper report submitted to the Commission is a committee's official campaign finance disclosure filing for paper filers. If there are any discrepancies between the paper report and the electronic data file received from our data entry contractor, the paper report takes precedence. \n",
    "The summary financial information and transactions disclosed in paper reports are data entered into an electronic format, and then stored in a downloadable file similar to electronically filed reports, known as a .fec file. Paper filings are data entered in a batch process; therefore, the Commission does not receive converted paper filings every day from our contractor. On days the Commission does not receive converted paper filings, an empty file (YYYYMMDD.nofiles.zip) will be placed on the FTP server. On days the Commission receives converted paper filings, a file (YYYYMMDD.zip) will contain that day's .fec files.\n",
    "\n",
    "https://www.fec.gov/files/bulk-downloads/index.html?prefix=bulk-downloads/paper/\n",
    "\n",
    "### Tasks 1: convert .fec files into data tables\n",
    "1. download a zip file from the site,\n",
    "2. extract it,\n",
    "3. figure out how to read a single `.fec` file, and\n",
    "4. save data into a proper `.csv` file\n",
    "\n",
    "### Task 2: automatic download\n",
    "Now, let's build a crawler to download and extract those fec files\n",
    "1. traverse site and download zip files,\n",
    "2. unpack zip files,\n",
    "3. extract data tables from fec files\n",
    "The result should be a directory tree full of CSV files (header-less), keep the file names intact, keep YYYYMMDD sub-directories."
   ]
  },
  {
   "cell_type": "code",
   "execution_count": null,
   "metadata": {
    "ExecuteTime": {
     "end_time": "2018-01-19T14:13:33.870812",
     "start_time": "2018-01-19T14:13:33.854431"
    },
    "collapsed": false
   },
   "outputs": [],
   "source": [
    "%%sh\n",
    "ls -l *.fec\n",
    "wc -l sample.fec"
   ]
  },
  {
   "cell_type": "code",
   "execution_count": null,
   "metadata": {
    "ExecuteTime": {
     "end_time": "2018-01-19T14:14:29.060018",
     "start_time": "2018-01-19T14:14:29.052754"
    },
    "collapsed": false,
    "scrolled": true
   },
   "outputs": [],
   "source": [
    "open('sample.fec', 'rb').readlines()[:4]"
   ]
  },
  {
   "cell_type": "markdown",
   "metadata": {},
   "source": [
    "Read a file line by line"
   ]
  },
  {
   "cell_type": "code",
   "execution_count": null,
   "metadata": {
    "ExecuteTime": {
     "end_time": "2018-01-19T14:24:57.212569",
     "start_time": "2018-01-19T14:24:57.199272"
    },
    "collapsed": false,
    "scrolled": false
   },
   "outputs": [],
   "source": [
    "with open('sample.fec', 'rb') as io:\n",
    "    header = io.readline()\n",
    "    line = io.readline()\n",
    "    while line:\n",
    "        vals = line.strip().split('\\x1C')\n",
    "        print len(vals), vals\n",
    "        line = io.readline()"
   ]
  },
  {
   "cell_type": "code",
   "execution_count": null,
   "metadata": {
    "collapsed": true
   },
   "outputs": [],
   "source": []
  },
  {
   "cell_type": "code",
   "execution_count": null,
   "metadata": {
    "collapsed": true
   },
   "outputs": [],
   "source": []
  }
 ],
 "metadata": {
  "hide_input": false,
  "kernelspec": {
   "display_name": "Python 2",
   "language": "python",
   "name": "python2"
  },
  "language_info": {
   "codemirror_mode": {
    "name": "ipython",
    "version": 2
   },
   "file_extension": ".py",
   "mimetype": "text/x-python",
   "name": "python",
   "nbconvert_exporter": "python",
   "pygments_lexer": "ipython2",
   "version": "2.7.5"
  },
  "toc": {
   "nav_menu": {
    "height": "120px",
    "width": "252px"
   },
   "navigate_menu": true,
   "number_sections": true,
   "sideBar": true,
   "threshold": 4,
   "toc_cell": false,
   "toc_section_display": "block",
   "toc_window_display": false
  }
 },
 "nbformat": 4,
 "nbformat_minor": 0
}

{
 "cells": [
  {
   "cell_type": "markdown",
   "metadata": {},
   "source": [
    "# Introduction\n",
    "\n",
    "**JavaScript Object Notation** or **JSON** is an open-standard file format that uses human-readable text to transmit data objects consisting of attribute–value pairs and array data types (or any other serializable value). It is a very common data format used for asynchronous browser–server communication, including as a replacement for XML in some AJAX-style systems.\n",
    "\n",
    "JSON is a language-independent data format. It was derived from JavaScript, but as of 2017 many programming languages include code to generate and parse JSON-format data. The official Internet media type for JSON is `application/json`. JSON filenames use the extension `.json`.\n",
    "\n",
    "## Tools\n",
    "We focus on two tools:\n",
    "1. Python package `json` https://docs.python.org/2/library/json.html\n",
    "2. UNIX command line tool `jq` https://stedolan.github.io/jq/\n",
    "\n",
    "## References\n",
    "- Tweet data dictionaries https://developer.twitter.com/en/docs/tweets/data-dictionary/overview/tweet-object\n",
    "- https://developer.twitter.com/en/docs/tweets/data-dictionary/overview/intro-to-tweet-json.html\n",
    "- Parsing JSON with jq http://www.compciv.org/recipes/cli/jq-for-parsing-json/"
   ]
  },
  {
   "cell_type": "markdown",
   "metadata": {},
   "source": [
    "# Data Set\n",
    "We use an small subset of a Twitter data-set, which contains over 170,000,000 tweets collected during 3 months leading up to the 2012 presidential elections. The original data files are posted at https://old.datahub.io/dataset/twitter-2012-presidential-election\n",
    "\n"
   ]
  },
  {
   "cell_type": "code",
   "execution_count": 3,
   "metadata": {
    "ExecuteTime": {
     "end_time": "2018-01-19T15:03:49.295690",
     "start_time": "2018-01-19T15:03:49.275894"
    },
    "collapsed": false
   },
   "outputs": [
    {
     "name": "stdout",
     "output_type": "stream",
     "text": [
      "{\n",
      "  \"in_reply_to_user_id_str\": null,\n",
      "  \"id_str\": \"246058156919238656\",\n",
      "  \"text\": \"Anderson Silva vs Stephen bonner is like sending a man to murders row after he saved the president 5 years earlier\",\n",
      "  \"geo\": null,\n",
      "  \"retweeted\": false,\n",
      "  \"in_reply_to_status_id\": null,\n",
      "  \"created_at\": \"Thu Sep 13 01:30:10 +0000 2012\",\n",
      "  \"source\": \"web\",\n",
      "  \"entities\": {\n",
      "    \"urls\": [],\n",
      "    \"user_mentions\": [],\n",
      "    \"hashtags\": []\n",
      "  },\n",
      "  \"contributors\": null,\n",
      "  \"place\": null,\n",
      "  \"favorited\": false,\n",
      "  \"coordinates\": null,\n",
      "  \"retweet_count\": 0,\n",
      "  \"truncated\": false,\n",
      "  \"in_reply_to_status_id_str\": null,\n",
      "  \"user\": {\n",
      "    \"id_str\": \"29324689\",\n",
      "    \"is_translator\": false,\n",
      "    \"verified\": false,\n",
      "    \"favourites_count\": 9,\n",
      "    \"geo_enabled\": false,\n",
      "    \"profile_use_background_image\": false,\n",
      "    \"profile_image_url\": \"http://a0.twimg.com/profile_images/2581517833/1y7d6c4gxsublrfhmium_normal.jpeg\",\n",
      "    \"profile_text_color\": \"666666\",\n",
      "    \"profile_background_image_url\": \"http://a0.twimg.com/profile_background_images/595435349/ev27lwyf19t3o4aml4m5.jpeg\",\n",
      "    \"created_at\": \"Mon Apr 06 23:26:56 +0000 2009\",\n",
      "    \"profile_image_url_https\": \"https://si0.twimg.com/profile_images/2581517833/1y7d6c4gxsublrfhmium_normal.jpeg\",\n",
      "    \"description\": \"NYer Dating around, watching sports especially NY rangers hockey and writing about lifes absurdities. \",\n",
      "    \"listed_count\": 17,\n",
      "    \"profile_link_color\": \"2FC2EF\",\n",
      "    \"followers_count\": 815,\n",
      "    \"url\": null,\n",
      "    \"contributors_enabled\": false,\n",
      "    \"lang\": \"en\",\n",
      "    \"time_zone\": \"Eastern Time (US & Canada)\",\n",
      "    \"default_profile\": false,\n",
      "    \"profile_background_color\": \"1A1B1F\",\n",
      "    \"screen_name\": \"RealistSpeaking\",\n",
      "    \"profile_background_tile\": false,\n",
      "    \"protected\": false,\n",
      "    \"location\": \"New York \",\n",
      "    \"show_all_inline_media\": false,\n",
      "    \"following\": null,\n",
      "    \"profile_sidebar_fill_color\": \"252429\",\n",
      "    \"name\": \"Greg S.\",\n",
      "    \"follow_request_sent\": null,\n",
      "    \"statuses_count\": 17046,\n",
      "    \"profile_background_image_url_https\": \"https://si0.twimg.com/profile_background_images/595435349/ev27lwyf19t3o4aml4m5.jpeg\",\n",
      "    \"id\": 29324689,\n",
      "    \"default_profile_image\": false,\n",
      "    \"notifications\": null,\n",
      "    \"utc_offset\": -18000,\n",
      "    \"friends_count\": 1122,\n",
      "    \"profile_sidebar_border_color\": \"181A1E\"\n",
      "  },\n",
      "  \"id\": 246058156919238660,\n",
      "  \"in_reply_to_screen_name\": null,\n",
      "  \"in_reply_to_user_id\": null\n",
      "}\n"
     ]
    }
   ],
   "source": [
    "%%sh\n",
    "head -1 twitter200.json | jq '.'"
   ]
  },
  {
   "cell_type": "markdown",
   "metadata": {},
   "source": [
    "# Python\n"
   ]
  },
  {
   "cell_type": "code",
   "execution_count": 5,
   "metadata": {
    "ExecuteTime": {
     "end_time": "2018-01-19T15:05:32.508003",
     "start_time": "2018-01-19T15:05:32.504602"
    },
    "collapsed": true
   },
   "outputs": [],
   "source": [
    "import json\n",
    "import os, sys"
   ]
  },
  {
   "cell_type": "code",
   "execution_count": 9,
   "metadata": {
    "ExecuteTime": {
     "end_time": "2018-01-19T15:08:36.411862",
     "start_time": "2018-01-19T15:08:36.397743"
    },
    "collapsed": false
   },
   "outputs": [
    {
     "name": "stdout",
     "output_type": "stream",
     "text": [
      "[u'favorited', u'in_reply_to_user_id', u'contributors', u'entities', u'text', u'created_at', u'truncated', u'retweeted', u'in_reply_to_status_id_str', u'coordinates', u'id', u'source', u'in_reply_to_status_id', u'place', u'id_str', u'in_reply_to_screen_name', u'retweet_count', u'geo', u'in_reply_to_user_id_str', u'user']\n",
      "[u'contributors', u'truncated', u'text', u'in_reply_to_status_id', u'id', u'source', u'retweeted', u'coordinates', u'entities', u'in_reply_to_screen_name', u'in_reply_to_user_id', u'retweet_count', u'id_str', u'favorited', u'user', u'geo', u'in_reply_to_user_id_str', u'possibly_sensitive', u'created_at', u'possibly_sensitive_editable', u'in_reply_to_status_id_str', u'place']\n",
      "[u'contributors', u'truncated', u'text', u'in_reply_to_status_id', u'id', u'source', u'retweeted', u'coordinates', u'entities', u'in_reply_to_screen_name', u'in_reply_to_user_id', u'retweet_count', u'id_str', u'favorited', u'user', u'geo', u'in_reply_to_user_id_str', u'possibly_sensitive', u'created_at', u'possibly_sensitive_editable', u'in_reply_to_status_id_str', u'place']\n",
      "[u'favorited', u'in_reply_to_user_id', u'contributors', u'entities', u'text', u'created_at', u'truncated', u'retweeted', u'in_reply_to_status_id_str', u'coordinates', u'id', u'source', u'in_reply_to_status_id', u'place', u'id_str', u'in_reply_to_screen_name', u'retweet_count', u'geo', u'in_reply_to_user_id_str', u'user']\n",
      "[u'contributors', u'truncated', u'text', u'in_reply_to_status_id', u'id', u'source', u'retweeted', u'coordinates', u'entities', u'in_reply_to_screen_name', u'in_reply_to_user_id', u'retweet_count', u'id_str', u'favorited', u'user', u'geo', u'in_reply_to_user_id_str', u'possibly_sensitive', u'created_at', u'possibly_sensitive_editable', u'in_reply_to_status_id_str', u'place']\n",
      "[u'contributors', u'truncated', u'text', u'in_reply_to_status_id', u'id', u'source', u'retweeted', u'coordinates', u'entities', u'in_reply_to_screen_name', u'id_str', u'retweet_count', u'in_reply_to_user_id', u'favorited', u'retweeted_status', u'user', u'geo', u'in_reply_to_user_id_str', u'possibly_sensitive', u'created_at', u'possibly_sensitive_editable', u'in_reply_to_status_id_str', u'place']\n",
      "[u'favorited', u'in_reply_to_user_id', u'contributors', u'retweeted_status', u'entities', u'text', u'created_at', u'truncated', u'retweeted', u'in_reply_to_status_id_str', u'coordinates', u'id', u'source', u'in_reply_to_status_id', u'place', u'id_str', u'in_reply_to_screen_name', u'retweet_count', u'geo', u'in_reply_to_user_id_str', u'user']\n",
      "[u'favorited', u'in_reply_to_user_id', u'contributors', u'entities', u'text', u'created_at', u'truncated', u'retweeted', u'in_reply_to_status_id_str', u'coordinates', u'id', u'source', u'in_reply_to_status_id', u'place', u'id_str', u'in_reply_to_screen_name', u'retweet_count', u'geo', u'in_reply_to_user_id_str', u'user']\n",
      "[u'favorited', u'in_reply_to_user_id', u'contributors', u'retweeted_status', u'entities', u'text', u'created_at', u'truncated', u'retweeted', u'in_reply_to_status_id_str', u'coordinates', u'id', u'source', u'in_reply_to_status_id', u'place', u'id_str', u'in_reply_to_screen_name', u'retweet_count', u'geo', u'in_reply_to_user_id_str', u'user']\n",
      "[u'favorited', u'in_reply_to_user_id', u'contributors', u'retweeted_status', u'entities', u'text', u'created_at', u'truncated', u'retweeted', u'in_reply_to_status_id_str', u'coordinates', u'id', u'source', u'in_reply_to_status_id', u'place', u'id_str', u'in_reply_to_screen_name', u'retweet_count', u'geo', u'in_reply_to_user_id_str', u'user']\n"
     ]
    }
   ],
   "source": [
    "MAX_LINES = 10\n",
    "with open('twitter200.json') as io:\n",
    "    line = io.readline()\n",
    "    while line and MAX_LINES>0:\n",
    "        row = json.loads(line.strip())\n",
    "        print row.keys()\n",
    "        \n",
    "        # end of while-body\n",
    "        MAX_LINES -= 1\n",
    "        line = io.readline()\n",
    "        "
   ]
  },
  {
   "cell_type": "code",
   "execution_count": 10,
   "metadata": {
    "ExecuteTime": {
     "end_time": "2018-01-19T15:08:40.068880",
     "start_time": "2018-01-19T15:08:40.037226"
    },
    "collapsed": false,
    "scrolled": false
   },
   "outputs": [
    {
     "data": {
      "text/plain": [
       "{u'contributors': None,\n",
       " u'coordinates': None,\n",
       " u'created_at': u'Thu Sep 13 01:30:11 +0000 2012',\n",
       " u'entities': {u'hashtags': [],\n",
       "  u'urls': [],\n",
       "  u'user_mentions': [{u'id': 34993057,\n",
       "    u'id_str': u'34993057',\n",
       "    u'indices': [3, 15],\n",
       "    u'name': u'JustMePammy',\n",
       "    u'screen_name': u'JustMePammy'},\n",
       "   {u'id': 376514554,\n",
       "    u'id_str': u'376514554',\n",
       "    u'indices': [24, 36],\n",
       "    u'name': u'@bornAmerica',\n",
       "    u'screen_name': u'BornAmerica'}]},\n",
       " u'favorited': False,\n",
       " u'geo': None,\n",
       " u'id': 246058158190129153,\n",
       " u'id_str': u'246058158190129153',\n",
       " u'in_reply_to_screen_name': None,\n",
       " u'in_reply_to_status_id': None,\n",
       " u'in_reply_to_status_id_str': None,\n",
       " u'in_reply_to_user_id': None,\n",
       " u'in_reply_to_user_id_str': None,\n",
       " u'place': None,\n",
       " u'retweet_count': 2,\n",
       " u'retweeted': False,\n",
       " u'retweeted_status': {u'contributors': None,\n",
       "  u'coordinates': None,\n",
       "  u'created_at': u'Thu Sep 13 01:25:48 +0000 2012',\n",
       "  u'entities': {u'hashtags': [],\n",
       "   u'urls': [],\n",
       "   u'user_mentions': [{u'id': 376514554,\n",
       "     u'id_str': u'376514554',\n",
       "     u'indices': [7, 19],\n",
       "     u'name': u'@bornAmerica',\n",
       "     u'screen_name': u'BornAmerica'}]},\n",
       "  u'favorited': False,\n",
       "  u'geo': None,\n",
       "  u'id': 246057054870044672,\n",
       "  u'id_str': u'246057054870044672',\n",
       "  u'in_reply_to_screen_name': None,\n",
       "  u'in_reply_to_status_id': None,\n",
       "  u'in_reply_to_status_id_str': None,\n",
       "  u'in_reply_to_user_id': None,\n",
       "  u'in_reply_to_user_id_str': None,\n",
       "  u'place': None,\n",
       "  u'retweet_count': 2,\n",
       "  u'retweeted': False,\n",
       "  u'source': u'<a href=\"http://www.tweetdeck.com\" rel=\"nofollow\">TweetDeck</a>',\n",
       "  u'text': u'&gt;RT @BornAmerica: The USA is a Republic.',\n",
       "  u'truncated': False,\n",
       "  u'user': {u'contributors_enabled': False,\n",
       "   u'created_at': u'Fri Apr 24 18:07:57 +0000 2009',\n",
       "   u'default_profile': False,\n",
       "   u'default_profile_image': False,\n",
       "   u'description': u'Conservative American. Good little queen of the woodlands. Formerly of the city. Have a bit of an evil streak.',\n",
       "   u'favourites_count': 1441,\n",
       "   u'follow_request_sent': None,\n",
       "   u'followers_count': 4220,\n",
       "   u'following': None,\n",
       "   u'friends_count': 4641,\n",
       "   u'geo_enabled': False,\n",
       "   u'id': 34993057,\n",
       "   u'id_str': u'34993057',\n",
       "   u'is_translator': False,\n",
       "   u'lang': u'en',\n",
       "   u'listed_count': 318,\n",
       "   u'location': u'America ',\n",
       "   u'name': u'JustMePammy',\n",
       "   u'notifications': None,\n",
       "   u'profile_background_color': u'9AE4E8',\n",
       "   u'profile_background_image_url': u'http://a0.twimg.com/profile_background_images/64500584/18024',\n",
       "   u'profile_background_image_url_https': u'https://si0.twimg.com/profile_background_images/64500584/18024',\n",
       "   u'profile_background_tile': False,\n",
       "   u'profile_image_url': u'http://a0.twimg.com/profile_images/671589557/Senoir_Photo_normal_normal.jpg',\n",
       "   u'profile_image_url_https': u'https://si0.twimg.com/profile_images/671589557/Senoir_Photo_normal_normal.jpg',\n",
       "   u'profile_link_color': u'0000FF',\n",
       "   u'profile_sidebar_border_color': u'87BC44',\n",
       "   u'profile_sidebar_fill_color': u'E0FF92',\n",
       "   u'profile_text_color': u'000000',\n",
       "   u'profile_use_background_image': True,\n",
       "   u'protected': False,\n",
       "   u'screen_name': u'JustMePammy',\n",
       "   u'show_all_inline_media': False,\n",
       "   u'statuses_count': 175313,\n",
       "   u'time_zone': u'Quito',\n",
       "   u'url': None,\n",
       "   u'utc_offset': -18000,\n",
       "   u'verified': False}},\n",
       " u'source': u'web',\n",
       " u'text': u'RT @JustMePammy: &gt;RT @BornAmerica: The USA is a Republic.',\n",
       " u'truncated': False,\n",
       " u'user': {u'contributors_enabled': False,\n",
       "  u'created_at': u'Tue Sep 20 01:04:46 +0000 2011',\n",
       "  u'default_profile': False,\n",
       "  u'default_profile_image': False,\n",
       "  u'description': u\"Don't follow me if you are liberal, socialist or a troll. RT not endorsement. I am tea-party libertarian & I block libs. I believe in rugged individualism. \\r\\n\",\n",
       "  u'favourites_count': 20,\n",
       "  u'follow_request_sent': None,\n",
       "  u'followers_count': 2457,\n",
       "  u'following': None,\n",
       "  u'friends_count': 2431,\n",
       "  u'geo_enabled': False,\n",
       "  u'id': 376514554,\n",
       "  u'id_str': u'376514554',\n",
       "  u'is_translator': False,\n",
       "  u'lang': u'en',\n",
       "  u'listed_count': 62,\n",
       "  u'location': u'United States of America',\n",
       "  u'name': u'@bornAmerica',\n",
       "  u'notifications': None,\n",
       "  u'profile_background_color': u'1A1B1F',\n",
       "  u'profile_background_image_url': u'http://a0.twimg.com/profile_background_images/578100058/j4gc066496dsdrqhjtci.jpeg',\n",
       "  u'profile_background_image_url_https': u'https://si0.twimg.com/profile_background_images/578100058/j4gc066496dsdrqhjtci.jpeg',\n",
       "  u'profile_background_tile': False,\n",
       "  u'profile_image_url': u'http://a0.twimg.com/profile_images/2603953115/vuuujgvl6pndgb78jkll_normal.jpeg',\n",
       "  u'profile_image_url_https': u'https://si0.twimg.com/profile_images/2603953115/vuuujgvl6pndgb78jkll_normal.jpeg',\n",
       "  u'profile_link_color': u'2FC2EF',\n",
       "  u'profile_sidebar_border_color': u'A8C7F7',\n",
       "  u'profile_sidebar_fill_color': u'C0DFEC',\n",
       "  u'profile_text_color': u'000000',\n",
       "  u'profile_use_background_image': True,\n",
       "  u'protected': False,\n",
       "  u'screen_name': u'BornAmerica',\n",
       "  u'show_all_inline_media': False,\n",
       "  u'statuses_count': 30776,\n",
       "  u'time_zone': u'Eastern Time (US & Canada)',\n",
       "  u'url': u'http://www.incarcerationnationusa.com',\n",
       "  u'utc_offset': -18000,\n",
       "  u'verified': False}}"
      ]
     },
     "execution_count": 10,
     "metadata": {},
     "output_type": "execute_result"
    }
   ],
   "source": [
    "row"
   ]
  },
  {
   "cell_type": "markdown",
   "metadata": {},
   "source": [
    "## Table of users and web-sites\n",
    "\n",
    "Let's create a table of users and web-sites they are tweeted about. This may be useful to create a graph between web-sites determined by the number of shared uses. Eventually, we could also include a sentiment analysis of the tweet."
   ]
  },
  {
   "cell_type": "code",
   "execution_count": null,
   "metadata": {
    "ExecuteTime": {
     "end_time": "2018-01-19T15:12:03.558189",
     "start_time": "2018-01-19T15:12:03.543746"
    },
    "collapsed": false,
    "scrolled": true
   },
   "outputs": [],
   "source": [
    "### Let's start with the core loop\n",
    "MAX_LINES = 10\n",
    "with open('twitter200.json') as io:\n",
    "    line = io.readline()\n",
    "    while line and MAX_LINES>0:\n",
    "        row = json.loads(line.strip())\n",
    "        print row.keys()\n",
    "        \n",
    "        # end of while-body\n",
    "        MAX_LINES -= 1\n",
    "        line = io.readline()"
   ]
  },
  {
   "cell_type": "code",
   "execution_count": null,
   "metadata": {
    "collapsed": true
   },
   "outputs": [],
   "source": []
  },
  {
   "cell_type": "code",
   "execution_count": null,
   "metadata": {
    "collapsed": true
   },
   "outputs": [],
   "source": []
  },
  {
   "cell_type": "markdown",
   "metadata": {},
   "source": [
    "# JQ\n",
    "\n",
    "- https://stedolan.github.io/jq/\n",
    "- Parsing JSON with jq http://www.compciv.org/recipes/cli/jq-for-parsing-json/\n",
    "\n",
    "jq is like sed for JSON data - you can use it to slice and filter and map and transform structured data with the same ease that sed, awk, grep and friends let you play with text.\n",
    "\n",
    "jq is written in portable C, and it has zero runtime dependencies. You can download a single binary, scp it to a far away machine of the same type, and expect it to work.\n",
    "\n",
    "jq can mangle the data format that you have into the one that you want with very little effort, and the program to do so is often shorter and simpler than you’d expect."
   ]
  },
  {
   "cell_type": "raw",
   "metadata": {
    "ExecuteTime": {
     "end_time": "2018-01-19T14:51:50.351503",
     "start_time": "2018-01-19T14:51:50.346783"
    }
   },
   "source": [
    "%%sh\n",
    "cat twitter200.json | grep -v '\"geo\":null' | wc -l \n",
    "cat twitter200.json | grep -v '\"geo\":null' | more \n",
    "cat twitter200.json | grep '\"geo_enabled\":true' | wc -l\n",
    "cat twitter200.json | jq '.*'\n",
    "cat twitter200.json | jq '.'\n",
    "head -1 < twitter200.json | jq '.'\n",
    "head -1 < twitter200.json | jq '.'\n",
    "head -1 < twitter200.json | jq '.' | wc -l \n",
    "head -1 < twitter200.json | jq '.' | head -20\n",
    "head -1 < twitter200.json | jq '.user' | head -20\n",
    "head -1 < twitter200.json | jq '.geo' | head -20\n",
    "head -1 < twitter200.json | jq '{hello: .geo}' | head -20\n",
    "head -1 < twitter200.json | jq '{user_name: .user.name, user_id: .user.id}' | head -20\n",
    "head -1 < twitter200.json | jq '{user_name: .user.name, user_id: .user.id, links: .entities.href}' | head -20\n",
    "head -10 < twitter200.json | jq '{user_name: .user.name, user_id: .user.id, links: .entities.href}' | head -20\n",
    "head -1 < twitter200.json | jq '.'\n",
    "head -10 < twitter200.json | jq '{user_name: .user.name, user_id: .user.id, links: .entities.urls}' | head -20\n",
    "head -10 < twitter200.json | jq '{user_name: .user.name, user_id: .user.id, links: .entities.urls[]}' | head -20\n",
    "head -20 < twitter200.json | jq '{user_name: .user.name, user_id: .user.id, links: .entities.urls[]}' | head -20\n",
    "head -20 < twitter200.json | jq '{user_name: .user.name, user_id: .user.id, links: [.entities.urls[]]}' | head -20\n",
    "head -20 < twitter200.json | jq '{user_name: .user.name, user_id: .user.id, links: [.entities.urls[].expanded_url]}' | head -20\n",
    "head -100 < twitter200.json | jq '{user_name: .user.name, user_id: .user.id, links: [.entities.urls[].expanded_url]}' | head -20\n",
    "head -100 < twitter200.json | jq '{user_name: .user.name, user_id: .user.id, links: [.entities .urls[] .expanded_url]}' | head -20\n",
    "cat twitter1k.json | jq '{user_name: .user.name, user_id: .user.id, links: [.entities .urls[] .expanded_url]}' | head -20\n",
    "\n"
   ]
  },
  {
   "cell_type": "code",
   "execution_count": null,
   "metadata": {
    "collapsed": true
   },
   "outputs": [],
   "source": []
  }
 ],
 "metadata": {
  "hide_input": false,
  "kernelspec": {
   "display_name": "Python 2",
   "language": "python",
   "name": "python2"
  },
  "language_info": {
   "codemirror_mode": {
    "name": "ipython",
    "version": 2
   },
   "file_extension": ".py",
   "mimetype": "text/x-python",
   "name": "python",
   "nbconvert_exporter": "python",
   "pygments_lexer": "ipython2",
   "version": "2.7.5"
  },
  "toc": {
   "nav_menu": {
    "height": "84px",
    "width": "252px"
   },
   "navigate_menu": true,
   "number_sections": true,
   "sideBar": true,
   "threshold": 4,
   "toc_cell": false,
   "toc_section_display": "block",
   "toc_window_display": true
  }
 },
 "nbformat": 4,
 "nbformat_minor": 0
}

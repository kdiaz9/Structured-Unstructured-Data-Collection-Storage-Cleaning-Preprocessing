{
 "cells": [
  {
   "cell_type": "markdown",
   "metadata": {},
   "source": [
    "# Introduction\n",
    "\n",
    "This notebook presents a couple of examples on web scraping:\n",
    "1. Scraping monthly car sales data\n",
    "2. Loading site maps\n",
    "3. Collection data about academic programs at Robinson\n",
    "\n",
    "There are three steps:\n",
    "1. requesting and loading a particular (HTML) document,\n",
    "2. extracting elements from the document, and\n",
    "3. finding links and managing traversal\n",
    "\n",
    "In addition, we utilize the `robots.txt` file to avoid conflicts with the web-site.\n",
    "\n",
    "## References\n",
    "- Documentation `urllib2` https://docs.python.org/2/library/urllib2.html\n",
    "- Documentation `request` http://docs.python-requests.org/en/master/\n",
    "- Documentation Beautiful Soup `bs4` https://www.crummy.com/software/BeautifulSoup/bs4/doc/\n",
    "- Documentation `StringIO` https://docs.python.org/2/library/stringio.html\n",
    "- Documentation `fnmatch` https://docs.python.org/2/library/fnmatch.html\n",
    "- Read HTML tables with Pandas https://pandas.pydata.org/pandas-docs/stable/generated/pandas.read_html.html\n",
    "- Core tools for working with streams https://docs.python.org/2/library/io.html\n",
    "- http://avi-urllib-vs-requests.blogspot.com\n",
    "- Benchmarking urllib2 vs. urllib3 https://attilaolah.eu/2010/08/08/urllib-benchmark/"
   ]
  },
  {
   "cell_type": "code",
   "execution_count": 14,
   "metadata": {
    "ExecuteTime": {
     "end_time": "2018-01-18T11:27:32.570663",
     "start_time": "2018-01-18T11:27:32.566115"
    },
    "collapsed": true
   },
   "outputs": [],
   "source": [
    "import os, sys\n",
    "import urllib2 as ul\n",
    "from bs4 import BeautifulSoup"
   ]
  },
  {
   "cell_type": "markdown",
   "metadata": {},
   "source": [
    "## Requesting Documents"
   ]
  },
  {
   "cell_type": "code",
   "execution_count": 435,
   "metadata": {
    "ExecuteTime": {
     "end_time": "2018-01-19T10:38:59.032358",
     "start_time": "2018-01-19T10:38:59.028216"
    },
    "collapsed": true
   },
   "outputs": [],
   "source": [
    "seed = 'http://calendar.gsu.edu/event/Structured_Unstructured_Data_Collection_bootcamp?utm_campaign=widget&utm_medium=widget&utm_source=Georgia+State+University+#.WmIQ4CMo524'"
   ]
  },
  {
   "cell_type": "code",
   "execution_count": 437,
   "metadata": {
    "ExecuteTime": {
     "end_time": "2018-01-19T10:39:29.816077",
     "start_time": "2018-01-19T10:39:29.811114"
    },
    "collapsed": false
   },
   "outputs": [
    {
     "name": "stdout",
     "output_type": "stream",
     "text": [
      "SplitResult(scheme='http', netloc='calendar.gsu.edu', path='/event/Structured_Unstructured_Data_Collection_bootcamp', query='utm_campaign=widget&utm_medium=widget&utm_source=Georgia+State+University+', fragment='.WmIQ4CMo524')\n"
     ]
    }
   ],
   "source": [
    "print ul.urlparse.urlsplit(seed)"
   ]
  },
  {
   "cell_type": "code",
   "execution_count": 438,
   "metadata": {
    "ExecuteTime": {
     "end_time": "2018-01-19T10:40:15.161672",
     "start_time": "2018-01-19T10:40:15.154992"
    },
    "collapsed": false
   },
   "outputs": [
    {
     "data": {
      "text/plain": [
       "{'utm_campaign': ['widget'],\n",
       " 'utm_medium': ['widget'],\n",
       " 'utm_source': ['Georgia State University ']}"
      ]
     },
     "execution_count": 438,
     "metadata": {},
     "output_type": "execute_result"
    }
   ],
   "source": [
    "ul.urlparse.parse_qs(ul.urlparse.urlsplit(seed).query)"
   ]
  },
  {
   "cell_type": "code",
   "execution_count": 439,
   "metadata": {
    "ExecuteTime": {
     "end_time": "2018-01-19T10:40:39.183626",
     "start_time": "2018-01-19T10:40:39.063776"
    },
    "collapsed": false
   },
   "outputs": [
    {
     "name": "stdout",
     "output_type": "stream",
     "text": [
      "  <!doctype html>\n",
      "<!--[if lt IE 7 ]> <html class=\"no-js ie6 lt-ie9 lt-ie8 lt-ie7\" lang=\"en\"> <![endif]-->\n",
      "<!--[if IE 7 ]>    <html class=\"no-js ie7 lt-ie9 lt-ie8\" lang=\"en\"> <![endif]-->\n",
      "<!--[if IE 8 ]>    <html class=\"no-js ie8 lt-ie9\" lang=\"en\"> <![endif]-->\n",
      "<!--[if (gte IE 9)|!(IE)]><!--> <html class=\"no-js\" lang=\"en\"> <!--<![endif]-->\n",
      "\n",
      "<!--\n",
      "  _                     _ _     _\n",
      " | |                   | (_)   | |\n",
      " | |     ___   ___ __ _| |_ ___| |_\n",
      " | |    / _ \\ / __/ _` | | / __| __|\n",
      " | |___| (_) | (_| (_| | | \\__ \\ |_\n",
      " |______\\___/ \\___\\__,_|_|_|___/\\__|\n",
      "\n",
      "The event marketing calendar.\n",
      "\n",
      "-->\n",
      "\n",
      "<head>\n",
      "  <title>Structured and Unstructured Data Collection, Storage, Cleaning and Preprocessing Bootcamp - Georgia State University </title>\n",
      "\n",
      "  <meta http-equiv=\"Content-Type\" content=\"text/html; charset=utf-8\" />\n",
      "\n",
      "    <meta name=\"description\" content=\"Structured and Unstructured Data Collection, Storage, Cleaning and Preprocessing Bootcamp\n",
      "\n",
      " \n",
      "\n",
      "When\n",
      "\n",
      "The program will meet for 2 consecutive weekend\n"
     ]
    }
   ],
   "source": [
    "req = ul.Request(url=seed)\n",
    "f = ul.urlopen(req)\n",
    "html_doc = f.read()\n",
    "print html_doc[:1000]"
   ]
  },
  {
   "cell_type": "markdown",
   "metadata": {
    "ExecuteTime": {
     "end_time": "2018-01-19T10:52:39.595951",
     "start_time": "2018-01-19T10:52:39.592579"
    }
   },
   "source": [
    "## Extracting Content\n",
    "Let's look at a fairly simple web-site https://xkcd.com\n",
    "\n",
    "We're **inspecting** this site and identifying some DOM elements or interest."
   ]
  },
  {
   "cell_type": "code",
   "execution_count": 441,
   "metadata": {
    "ExecuteTime": {
     "end_time": "2018-01-19T10:54:22.125981",
     "start_time": "2018-01-19T10:54:21.980892"
    },
    "collapsed": false
   },
   "outputs": [
    {
     "name": "stdout",
     "output_type": "stream",
     "text": [
      "<!DOCTYPE html>\n",
      "<html>\n",
      "<head>\n",
      "<script>\n",
      "  (function(i,s,o,g,r,a,m){i['GoogleAnalyticsObject']=r;i[r]=i[r]||function(){\n",
      "  (i[r].q=i[r].q||[]).push(arguments)},i[r].l=1*new Date();a=s.createElement(o),\n",
      " \n"
     ]
    }
   ],
   "source": [
    "html_doc = ul.urlopen('https://xkcd.com').read()\n",
    "print html_doc[:200]"
   ]
  },
  {
   "cell_type": "code",
   "execution_count": 443,
   "metadata": {
    "ExecuteTime": {
     "end_time": "2018-01-19T10:57:58.317664",
     "start_time": "2018-01-19T10:57:58.293596"
    },
    "collapsed": false
   },
   "outputs": [
    {
     "name": "stdout",
     "output_type": "stream",
     "text": [
      "<!DOCTYPE html>\n",
      "<html>\n",
      " <head>\n",
      "  <script>\n",
      "   (function(i,s,o,g,r,a,m){i['GoogleAnalyticsObject']=r;i[r]=i[r]||function(){\n",
      "  (i[r].q=i[r].q||[]).push(arguments)},i[r].l=1*new Date();a=s.createElement(o\n"
     ]
    }
   ],
   "source": [
    "soup = BeautifulSoup(html_doc, 'html.parser')\n",
    "print soup.prettify()[:200]"
   ]
  },
  {
   "cell_type": "code",
   "execution_count": 444,
   "metadata": {
    "ExecuteTime": {
     "end_time": "2018-01-19T10:58:54.430848",
     "start_time": "2018-01-19T10:58:54.422967"
    },
    "collapsed": false
   },
   "outputs": [
    {
     "data": {
      "text/plain": [
       "<div id=\"comic\">\\n<img alt=\"The End of the Rainbow\" src=\"//imgs.xkcd.com/comics/the_end_of_the_rainbow.png\" srcset=\"//imgs.xkcd.com/comics/the_end_of_the_rainbow_2x.png 2x\" title=\"The retina is the exposed surface of the brain, so if you think about a pot of gold while looking at a rainbow, then there's one at BOTH ends.\"/>\\n</div>"
      ]
     },
     "execution_count": 444,
     "metadata": {},
     "output_type": "execute_result"
    }
   ],
   "source": [
    "soup.find('div', id='comic')"
   ]
  },
  {
   "cell_type": "code",
   "execution_count": 446,
   "metadata": {
    "ExecuteTime": {
     "end_time": "2018-01-19T10:59:30.676709",
     "start_time": "2018-01-19T10:59:30.666975"
    },
    "collapsed": false
   },
   "outputs": [
    {
     "data": {
      "text/plain": [
       "<img alt=\"The End of the Rainbow\" src=\"//imgs.xkcd.com/comics/the_end_of_the_rainbow.png\" srcset=\"//imgs.xkcd.com/comics/the_end_of_the_rainbow_2x.png 2x\" title=\"The retina is the exposed surface of the brain, so if you think about a pot of gold while looking at a rainbow, then there's one at BOTH ends.\"/>"
      ]
     },
     "execution_count": 446,
     "metadata": {},
     "output_type": "execute_result"
    }
   ],
   "source": [
    "img = soup.find('div', id='comic').find('img')\n",
    "img"
   ]
  },
  {
   "cell_type": "code",
   "execution_count": 451,
   "metadata": {
    "ExecuteTime": {
     "end_time": "2018-01-19T11:01:04.261896",
     "start_time": "2018-01-19T11:01:04.255608"
    },
    "collapsed": false
   },
   "outputs": [
    {
     "name": "stdout",
     "output_type": "stream",
     "text": [
      "src\t//imgs.xkcd.com/comics/the_end_of_the_rainbow.png\n",
      "alt\tThe End of the Rainbow\n",
      "title\tThe retina is the exposed surface of the brain, so if you think about a pot of gold while looking at a rainbow, then there's one at BOTH ends.\n"
     ]
    }
   ],
   "source": [
    "print 'src\\t', img.get('src')\n",
    "print 'alt\\t', img.get('alt')\n",
    "print 'title\\t', img.get('title')"
   ]
  },
  {
   "cell_type": "markdown",
   "metadata": {},
   "source": [
    "We're going to have a bit more fun with this doing the exercise..."
   ]
  },
  {
   "cell_type": "code",
   "execution_count": null,
   "metadata": {
    "collapsed": true
   },
   "outputs": [],
   "source": [
    "#soup.find_all('a')\n",
    "all_as = soup.find_all('a')\n",
    "for a in all_as:\n",
    "    print a.text, a.attrs['href']"
   ]
  },
  {
   "cell_type": "code",
   "execution_count": 54,
   "metadata": {
    "ExecuteTime": {
     "end_time": "2018-01-18T11:50:00.247321",
     "start_time": "2018-01-18T11:50:00.242975"
    },
    "collapsed": false
   },
   "outputs": [],
   "source": [
    "def save_html_doc(DATADIR, soup, url):\n",
    "    q = ul.urlparse.parse_qs(url.split('?', 1)[1])\n",
    "    parcel = q['KEY'][0].decode('utf-8').replace(' ', '_')\n",
    "    county = q['county']\n",
    "    datdir = os.path.join(DATADIR, county)\n",
    "    if not os.path.isdir(datdir):\n",
    "        os.makedirs(datdir)\n",
    "    with open(datdir+\".html\", 'w') as io:\n",
    "        io.write(soup.prettify(formatter='html'))\n",
    "        "
   ]
  },
  {
   "cell_type": "markdown",
   "metadata": {},
   "source": [
    "# Robots exclusion standard robots.txt\n",
    "\n",
    "https://en.wikipedia.org/wiki/Robots_exclusion_standard\n",
    "\n",
    "The robots exclusion standard, also known as the robots exclusion protocol or simply `robots.txt`, is a standard used by websites to **communicate with web crawlers and other web robots**. The standard specifies how to inform the web robot about **which areas of the website should not be processed or scanned**. Robots are often used by search engines to categorize websites.\n",
    "\n",
    "Not all robots cooperate with the standard; email harvesters, spambots, malware, and robots that scan for security vulnerabilities may even start with the portions of the website where they have been told to stay out. The standard is different from but can be used in conjunction with, **Sitemaps**, a robot inclusion standard for websites.\n"
   ]
  },
  {
   "cell_type": "code",
   "execution_count": 95,
   "metadata": {
    "ExecuteTime": {
     "end_time": "2018-01-18T14:26:16.339981",
     "start_time": "2018-01-18T14:26:16.331372"
    },
    "collapsed": false
   },
   "outputs": [],
   "source": [
    "def get_robots_disallow(url):\n",
    "    import urllib2 as ul\n",
    "    #import fnmatch as fm\n",
    "    url_split = ul.urlparse.urlsplit(url)\n",
    "    rbts = ul.urlopen(url_split.scheme+\"://\"+url_split.netloc+\"/robots.txt\").readlines()\n",
    "    pt = map(lambda x: x.strip().split(' ')[1]+'*', filter(lambda x: x.startswith('Disallow:'), rbts))\n",
    "    return pt"
   ]
  },
  {
   "cell_type": "code",
   "execution_count": 98,
   "metadata": {
    "ExecuteTime": {
     "end_time": "2018-01-18T14:28:08.089085",
     "start_time": "2018-01-18T14:28:07.995836"
    },
    "collapsed": false,
    "scrolled": true
   },
   "outputs": [
    {
     "data": {
      "text/plain": [
       "['/wp-admin/*',\n",
       " '/wp-includes/*',\n",
       " '/calendar/action~posterboard/*',\n",
       " '/calendar/action~agenda/*',\n",
       " '/calendar/action~oneday/*',\n",
       " '/calendar/action~month/*',\n",
       " '/calendar/action~week/*',\n",
       " '/calendar/action~stream/*',\n",
       " '/*/action~**',\n",
       " '/*/month_offset~**',\n",
       " '/*/exact_date~**',\n",
       " '/*/cat_ids~**',\n",
       " '/*/tag_ids~**']"
      ]
     },
     "execution_count": 98,
     "metadata": {},
     "output_type": "execute_result"
    }
   ],
   "source": [
    "get_robots_disallow('http://news.gsu.edu')"
   ]
  },
  {
   "cell_type": "code",
   "execution_count": 399,
   "metadata": {
    "ExecuteTime": {
     "end_time": "2018-01-18T21:35:08.581802",
     "start_time": "2018-01-18T21:35:08.122600"
    },
    "collapsed": true
   },
   "outputs": [],
   "source": [
    "def is_allowed(pt, url):\n",
    "    import urllib2 as ul\n",
    "    import fnmatch\n",
    "    url_split = ul.urlparse.urlsplit(url)\n",
    "    for p in pt:\n",
    "        if fnmatch.fnmatch(url_split.netloc, p):\n",
    "            return False\n",
    "    return True\n",
    "\n",
    "\n",
    "sleep_time = 10 ## seconds\n",
    "seed = 'http://price.pcauto.com.cn/top/sales/s1-t1.html'\n",
    "robots_pat = get_robots_disallow(seed)\n",
    "\n",
    "## initialize queue\n",
    "queue = {}\n",
    "queue[seed] = 3"
   ]
  },
  {
   "cell_type": "code",
   "execution_count": 94,
   "metadata": {
    "ExecuteTime": {
     "end_time": "2018-01-18T14:24:58.842408",
     "start_time": "2018-01-18T14:24:58.835992"
    },
    "collapsed": false
   },
   "outputs": [
    {
     "data": {
      "text/plain": [
       "True"
      ]
     },
     "execution_count": 94,
     "metadata": {},
     "output_type": "execute_result"
    }
   ],
   "source": [
    "fm.fnmatch('/abcd/action~sadfadsf', '/*/action~**')"
   ]
  },
  {
   "cell_type": "markdown",
   "metadata": {},
   "source": [
    "#  Monthly Car Sales Crawler\n",
    "\n",
    "Let's look at a site for monthly car sales \n",
    "http://price.pcauto.com.cn/top/sales/s1-t1.html\n",
    "\n",
    "This site turned posed a few challenges (for me):\n",
    "1. It's in a foreign language\n",
    "2. It uses a different alphabet and encoding, and because of that\n",
    "    1. we need to read the data in binary format, and \n",
    "    2. transform them from their original encoding to UTF-8\n"
   ]
  },
  {
   "cell_type": "code",
   "execution_count": null,
   "metadata": {
    "collapsed": true
   },
   "outputs": [],
   "source": [
    "import time\n",
    "import numpy as np\n",
    "import urllib2 as ul\n",
    "from bs4 import BeautifulSoup"
   ]
  },
  {
   "cell_type": "code",
   "execution_count": 136,
   "metadata": {
    "ExecuteTime": {
     "end_time": "2018-01-18T15:38:57.088979",
     "start_time": "2018-01-18T15:38:56.639643"
    },
    "collapsed": true
   },
   "outputs": [],
   "source": []
  },
  {
   "cell_type": "code",
   "execution_count": 198,
   "metadata": {
    "ExecuteTime": {
     "end_time": "2018-01-18T16:12:20.616561",
     "start_time": "2018-01-18T16:12:20.609167"
    },
    "collapsed": true
   },
   "outputs": [],
   "source": [
    "## https://stackoverflow.com/questions/41305887/scraping-chinese-characters-python\n",
    "def load_soup(url):\n",
    "    import urllib2 as ul\n",
    "    html_doc = ul.urlopen(url, 'b').read()\n",
    "    html_doc_utf = html_doc.decode('GBK', 'ignore').encode('UTF-8', 'ignore')\n",
    "    return BeautifulSoup(html_doc_utf, 'html.parser')"
   ]
  },
  {
   "cell_type": "code",
   "execution_count": 196,
   "metadata": {
    "ExecuteTime": {
     "end_time": "2018-01-18T16:10:39.967678",
     "start_time": "2018-01-18T16:10:36.147428"
    },
    "collapsed": false
   },
   "outputs": [],
   "source": [
    "soup = load_soup('http://price.pcauto.com.cn/top/sales/s1-t1.html')"
   ]
  },
  {
   "cell_type": "code",
   "execution_count": 197,
   "metadata": {
    "ExecuteTime": {
     "end_time": "2018-01-18T16:11:13.145252",
     "start_time": "2018-01-18T16:11:13.003343"
    },
    "collapsed": false
   },
   "outputs": [
    {
     "name": "stdout",
     "output_type": "stream",
     "text": [
      "<!DOCTYPE html>\n",
      "<html>\n",
      " <head>\n",
      "  <meta charset=\"utf-8\"/>\n",
      "  <title>\n",
      "   【2017年12月轿车销量排行榜】2017年12月轿车月销量排行榜_太平洋汽车网排行榜\n",
      "  </title>\n",
      "  <meta content=\"\" name=\"keywords\"/>\n",
      "  <meta content=\"\" name=\"description\"/>\n",
      "  <meta content=\"yangzhifang_gz none\" name=\"Author\">\n",
      "   <meta content=\"no-transform \" http-equiv=\"Cache-Control\"/>\n",
      "   <meta content=\"always\" name=\"referrer\">\n",
      "    <meta content=\"format=html5; url=http://m.pcauto.com.cn/auto/top/sales-k78.html\" name=\"mobile-agent\"/>\n",
      "    <!--炫版地址-->\n",
      "    <link href=\"http://m.pcauto.com.cn/auto/top/sales-k78.html\" media=\"only screen and(max-width: 640px)\" rel=\"alternate\"/>\n",
      "    <!--炫版地址-->\n",
      "    <meta content=\"pc\" name=\"applicable-device\">\n",
      "     <link href=\"http://js.3conline.com/pcauto/2017/price/css/list_top.css\" rel=\"stylesheet\" type=\"text/css\"/>\n",
      "     <!--[if IE 6]><script>document.execCommand(\"BackgroundImageCache\", false, true)</script><![endif]-->\n",
      "     <!-- 设备跳转 S -->\n",
      "     <!-- 设备跳转 ssi引入方式 -->\n",
      "     <script>\n",
      "      !function(a,b){var o,c=navigator.userAgent.toLowerCase(),d=location.href.toLowerCase(),e=location.hostname,f=b.referrer.toLowerCase(),g=f.split(\"/\")[2],h=location.search,i=location.hash,j=\".pcauto.com.cn\",k=\"m.pcauto.com.cn\",l=\"ipad.pcauto.com.cn\",m={},n={SB:c.indexOf(\"symbian\")>-1,NK:c.indexOf(\"nokia\")>-1,BB:c.indexOf(\"blackberry\")>-1,WCE:c.indexOf(\"windows ce\")>-1,WP:c.indexOf(\"windows phone\")>-1,Mobile:c.indexOf(\"mobile\")>-1,Android:c.indexOf(\"android\")>-1,Iphone:c.indexOf(\"iphone\")>-1,Ipod:c.indexOf(\"ipod\")>-1,Ipad:c.indexOf(\"ipad\")>-1,Mipad:c.indexOf(\"mi-pad\")>-1,WX:c.indexOf(\"micromessenger\")>-1};m.bIsWeixin=n.weixin?!0:!1,m.browserType=n.Ipad||n.Mipad?\"ipad\":n.SB||n.BB||n.WCE||n.WP||n.NK?\"wap\":n.Mobile||n.Android||n.Iphone||n.Ipod?\"wap_3g\":\"main\",a.PCGPARAM&&\"object\"==typeof a.PCGPARAM||(a.PCGPARAM=m),o=function(){},o.prototype={init:function(c,n,o){function u(a,c,d,e,f){b.cookie=a+\"=\"+c+\";expires=\"+new Date((new Date).getTime()+d).toGMTString()+\";path=\"+e+\";domain=\"+f}var r,s,t,v,w,p=m.browserType,q=c[p];return\"function\n"
     ]
    }
   ],
   "source": [
    "print soup.prettify(formatter='html')[:2000]"
   ]
  },
  {
   "cell_type": "code",
   "execution_count": 207,
   "metadata": {
    "ExecuteTime": {
     "end_time": "2018-01-18T16:22:38.098194",
     "start_time": "2018-01-18T16:22:38.093781"
    },
    "collapsed": true
   },
   "outputs": [],
   "source": []
  },
  {
   "cell_type": "code",
   "execution_count": null,
   "metadata": {
    "collapsed": true
   },
   "outputs": [],
   "source": [
    "pd.read_html()"
   ]
  },
  {
   "cell_type": "markdown",
   "metadata": {},
   "source": [
    "Let's find the table of interest in the HTML document"
   ]
  },
  {
   "cell_type": "code",
   "execution_count": 214,
   "metadata": {
    "ExecuteTime": {
     "end_time": "2018-01-18T16:25:07.952298",
     "start_time": "2018-01-18T16:25:07.767155"
    },
    "collapsed": false
   },
   "outputs": [
    {
     "data": {
      "text/plain": [
       "u'<table border=\"1\" class=\"table-sl\">\\n <tr>\\n  <th class=\"col1\">\\n   \\u9500\\u91cf\\u6392\\u540d\\n  </th>\\n  <th class=\"col2\">\\n   \\u8f66\\u7cfb\\n  </th>\\n  <th class=\"col3\">\\n   \\u5b98\\u65b9\\u4ef7\\n  </th>\\n  <th class=\"col4\">\\n   \\u4ece\\u5c5e\\u54c1\\u724c\\n  </th>\\n  <th class=\"col5\">\\n   12\\u6708\\u9500\\u91cf\\n  </th>\\n  <th class=\"col6\">\\n   1-12\\u6708\\n   <br/>\\n   \\u7d2f\\u8ba1\\u9500\\u91cf\\n  </th>\\n  <th class=\"col7\">\\n   \\u76f8\\u5173\\u94fe\\u63a5\\n  </th>\\n </tr>\\n <tr>\\n  <td class=\"col1 index org\">\\n   1\\n  </td>\\n  <td class=\"col2 brand\">\\n   <a class=\"blue\" href=\"/sg3225/\" target=\"_blank\">\\n    \\u6717\\u9038\\n   </a>\\n  </td>\\n  <td class=\"col3 price\">\\n   10.99-15.99\\u4e07\\n  </td>\\n  <td class=\"col4 relBrand\">\\n   \\u5927\\u4f17\\n  </td>\\n  <td class=\"col5 salesNum\">\\n   45554\\n  </td>\\n  <td class=\"col6 salesSum\">\\n   461062\\n  </td>\\n  <td class=\"col7 links\">\\n   <a href=\"/sg3225/price.html\" target=\"_blank\">\\n    \\u62a5\\u4ef7\\n   </a>\\n   <a href=\"http://price.pcauto.com.cn/comment/sg3225/\" target=\"_blank\">\\n    \\u70b9\\u8bc4\\n   </a>\\n   <a href=\"/cars/sg3225/\" target=\"_blank\">\\n    \\u56fe\\u7247\\n   </a>\\n   <a href=\"/sg3225/config.html\" target=\"_blank\">\\n    \\u53c2\\u914d\\n   </a>\\n  </td>\\n </tr>\\n <tr>\\n  <td class=\"col1 index org\">\\n   2\\n  </td>\\n  <td class=\"col2 brand\">\\n   <a class=\"blue\" href=\"/sg3996/\" target=\"_blank\">\\n    \\u8f69\\u9038\\n   </a>\\n  </td>\\n  <td class=\"col3 price\">\\n   9.98-15.90\\u4e07\\n  </td>\\n  <td class=\"col4 relBrand\">\\n   \\u65e5\\u4ea7\\n  </td>\\n  <td class=\"col5 salesNum\">\\n   44141\\n  </td>\\n  <td class=\"col6 salesSum\">\\n   404726\\n  </td>\\n  <td class=\"col7 links\">\\n   <a href=\"/sg3996/price.html\" target=\"_blank\">\\n    \\u62a5\\u4ef7\\n   </a>\\n   <a href=\"http://price.pcauto.com.cn/comment/sg3996/\" target=\"_blank\">\\n    \\u70b9\\u8bc4\\n   </a>\\n   <a href=\"/cars/sg3996/\" target=\"_blank\">\\n    \\u56fe\\u7247\\n   </a>\\n   <a href=\"/sg3996/config.html\" target=\"_blank\">\\n    \\u53c2\\u914d\\n   </a>\\n  </td>\\n </tr>\\n <tr>\\n  <td class=\"col1 index org\">\\n   3\\n  </td>\\n  <td class=\"col2 brand\">\\n   <a class=\"blue\" href=\"/sg8090/\" target=\"_blank\">\\n    \\u82f1\\u6717\\n   </a>\\n  </td>\\n  <td class=\"col3 price\">\\n   10.99-15.09\\u4e07\\n  </td>\\n  <td class=\"col4 relBrand\">\\n   \\u522b\\u514b\\n  </td>\\n  <td class=\"col5 salesNum\">\\n   40939\\n  </td>\\n  <td class=\"col6 salesSum\">\\n   421296\\n  </td>\\n  <td class=\"col7 links\">\\n   <a href=\"/sg8090/price.html\" target=\"_blank\">\\n    \\u62a5\\u4ef7\\n   </a>\\n   <a href=\"http://price.pcauto.com.cn/comment/sg8090/\" target=\"_blank\">\\n    \\u70b9\\u8bc4\\n   </a>\\n   <a href=\"/cars/sg8090/\" target=\"_blank\">\\n    \\u56fe\\u7247\\n   </a>\\n   <a href=\"/sg8090/config.html\" target=\"_blank\">\\n    \\u53c2\\u914d\\n   </a>\\n  </td>\\n </tr>\\n <tr>\\n  <td class=\"col1 index gray\">\\n   4\\n  </td>\\n  <td class=\"col2 brand\">\\n   <a class=\"blue\" href=\"/sg14101/\" target=\"_blank\">\\n    \\u5b9d\\u9a8f310\\n   </a>\\n  </td>\\n  <td class=\"col3 price\">\\n   3.68-6.08\\u4e07\\n  </td>\\n  <td class=\"col4 relBrand\">\\n   \\u5b9d\\u9a8f\\n  </td>\\n  <td class=\"col5 salesNum\">\\n   35048\\n  </td>\\n  <td class=\"col6 salesSum\">\\n   219727\\n  </td>\\n  <td class=\"col7 links\">\\n   <a href=\"/sg14101/price.html\" target=\"_blank\">\\n    \\u62a5\\u4ef7\\n   </a>\\n   <a href=\"http://price.pcauto.com.cn/comment/sg14101/\" target=\"_blank\">\\n    \\u70b9\\u8bc4\\n   </a>\\n   <a href=\"/cars/sg14101/\" target=\"_blank\">\\n    \\u56fe\\u7247\\n   </a>\\n   <a href=\"/sg14101/config.html\" target=\"_blank\">\\n    \\u53c2\\u914d\\n   </a>\\n  </td>\\n </tr>\\n <tr>\\n  <td class=\"col1 index gray\">\\n   5\\n  </td>\\n  <td class=\"col2 brand\">\\n   <a class=\"blue\" href=\"/sg10740/\" target=\"_blank\">\\n    \\u798f\\u777f\\u65af\\n   </a>\\n  </td>\\n  <td class=\"col3 price\">\\n   9.68-12.23\\u4e07\\n  </td>\\n  <td class=\"col4 relBrand\">\\n   \\u798f\\u7279\\n  </td>\\n  <td class=\"col5 salesNum\">\\n   33581\\n  </td>\\n  <td class=\"col6 salesSum\">\\n   285029\\n  </td>\\n  <td class=\"col7 links\">\\n   <a href=\"/sg10740/price.html\" target=\"_blank\">\\n    \\u62a5\\u4ef7\\n   </a>\\n   <a href=\"http://price.pcauto.com.cn/comment/sg10740/\" target=\"_blank\">\\n    \\u70b9\\u8bc4\\n   </a>\\n   <a href=\"/cars/sg10740/\" target=\"_blank\">\\n    \\u56fe\\u7247\\n   </a>\\n   <a href=\"/sg10740/config.html\" target=\"_blank\">\\n    \\u53c2\\u914d\\n   </a>\\n  </td>\\n </tr>\\n <tr>\\n  <td class=\"col1 index gray\">\\n   6\\n  </td>\\n  <td class=\"col2 brand\">\\n   <a class=\"blue\" href=\"/sg1633/\" target=\"_blank\">\\n    \\u901f\\u817e\\n   </a>\\n  </td>\\n  <td class=\"col3 price\">\\n   13.18-21.88\\u4e07\\n  </td>\\n  <td class=\"col4 relBrand\">\\n   \\u5927\\u4f17\\n  </td>\\n  <td class=\"col5 salesNum\">\\n   29946\\n  </td>\\n  <td class=\"col6 salesSum\">\\n   327062\\n  </td>\\n  <td class=\"col7 links\">\\n   <a href=\"/sg1633/price.html\" target=\"_blank\">\\n    \\u62a5\\u4ef7\\n   </a>\\n   <a href=\"http://price.pcauto.com.cn/comment/sg1633/\" target=\"_blank\">\\n    \\u70b9\\u8bc4\\n   </a>\\n   <a href=\"/cars/sg1633/\" target=\"_blank\">\\n    \\u56fe\\u7247\\n   </a>\\n   <a href=\"/sg1633/config.html\" target=\"_blank\">\\n    \\u53c2\\u914d\\n   </a>\\n  </td>\\n </tr>\\n <tr>\\n  <td class=\"col1 index gray\">\\n   7\\n  </td>\\n  <td class=\"col2 brand\">\\n   <a class=\"blue\" href=\"/sg3286/\" target=\"_blank\">\\n    \\u5b9d\\u6765\\n   </a>\\n  </td>\\n  <td class=\"col3 price\">\\n   10.78-15.38\\u4e07\\n  </td>\\n  <td class=\"col4 relBrand\">\\n   \\u5927\\u4f17\\n  </td>\\n  <td class=\"col5 salesNum\">\\n   22458\\n  </td>\\n  <td class=\"col6 salesSum\">\\n   248665\\n  </td>\\n  <td class=\"col7 links\">\\n   <a href=\"/sg3286/price.html\" target=\"_blank\">\\n    \\u62a5\\u4ef7\\n   </a>\\n   <a href=\"http://price.pcauto.com.cn/comment/sg3286/\" target=\"_blank\">\\n    \\u70b9\\u8bc4\\n   </a>\\n   <a href=\"/cars/sg3286/\" target=\"_blank\">\\n    \\u56fe\\u7247\\n   </a>\\n   <a href=\"/sg3286/config.html\" target=\"_blank\">\\n    \\u53c2\\u914d\\n   </a>\\n  </td>\\n </tr>\\n <tr>\\n  <td class=\"col1 index gray\">\\n   8\\n  </td>\\n  <td class=\"col2 brand\">\\n   <a class=\"blue\" href=\"/sg14375/\" target=\"_blank\">\\n    \\u79d1\\u6c83\\u5179\\n   </a>\\n  </td>\\n  <td class=\"col3 price\">\\n   7.99-10.99\\u4e07\\n  </td>\\n  <td class=\"col4 relBrand\">\\n   \\u96ea\\u4f5b\\u5170\\n  </td>\\n  <td class=\"col5 salesNum\">\\n   21376\\n  </td>\\n  <td class=\"col6 salesSum\">\\n   189409\\n  </td>\\n  <td class=\"col7 links\">\\n   <a href=\"/sg14375/price.html\" target=\"_blank\">\\n    \\u62a5\\u4ef7\\n   </a>\\n   <a href=\"http://price.pcauto.com.cn/comment/sg14375/\" target=\"_blank\">\\n    \\u70b9\\u8bc4\\n   </a>\\n   <a href=\"/cars/sg14375/\" target=\"_blank\">\\n    \\u56fe\\u7247\\n   </a>\\n   <a href=\"/sg14375/config.html\" target=\"_blank\">\\n    \\u53c2\\u914d\\n   </a>\\n  </td>\\n </tr>\\n <tr>\\n  <td class=\"col1 index gray\">\\n   9\\n  </td>\\n  <td class=\"col2 brand\">\\n   <a class=\"blue\" href=\"/sg13398/\" target=\"_blank\">\\n    \\u9886\\u52a8\\n   </a>\\n  </td>\\n  <td class=\"col3 price\">\\n   9.98-15.18\\u4e07\\n  </td>\\n  <td class=\"col4 relBrand\">\\n   \\u73b0\\u4ee3\\n  </td>\\n  <td class=\"col5 salesNum\">\\n   20492\\n  </td>\\n  <td class=\"col6 salesSum\">\\n   116459\\n  </td>\\n  <td class=\"col7 links\">\\n   <a href=\"/sg13398/price.html\" target=\"_blank\">\\n    \\u62a5\\u4ef7\\n   </a>\\n   <a href=\"http://price.pcauto.com.cn/comment/sg13398/\" target=\"_blank\">\\n    \\u70b9\\u8bc4\\n   </a>\\n   <a href=\"/cars/sg13398/\" target=\"_blank\">\\n    \\u56fe\\u7247\\n   </a>\\n   <a href=\"/sg13398/config.html\" target=\"_blank\">\\n    \\u53c2\\u914d\\n   </a>\\n  </td>\\n </tr>\\n <tr>\\n  <td class=\"col1 index gray\">\\n   10\\n  </td>\\n  <td class=\"col2 brand\">\\n   <a class=\"blue\" href=\"/sg2824/\" target=\"_blank\">\\n    \\u8fc8\\u817e\\n   </a>\\n  </td>\\n  <td class=\"col3 price\">\\n   18.99-31.69\\u4e07\\n  </td>\\n  <td class=\"col4 relBrand\">\\n   \\u5927\\u4f17\\n  </td>\\n  <td class=\"col5 salesNum\">\\n   20343\\n  </td>\\n  <td class=\"col6 salesSum\">\\n   216303\\n  </td>\\n  <td class=\"col7 links\">\\n   <a href=\"/sg2824/price.html\" target=\"_blank\">\\n    \\u62a5\\u4ef7\\n   </a>\\n   <a href=\"http://price.pcauto.com.cn/comment/sg2824/\" target=\"_blank\">\\n    \\u70b9\\u8bc4\\n   </a>\\n   <a href=\"/cars/sg2824/\" target=\"_blank\">\\n    \\u56fe\\u7247\\n   </a>\\n   <a href=\"/sg2824/config.html\" target=\"_blank\">\\n    \\u53c2\\u914d\\n   </a>\\n  </td>\\n </tr>\\n <tr>\\n  <td class=\"col1 index gray\">\\n   11\\n  </td>\\n  <td class=\"col2 brand\">\\n   <a class=\"blue\" href=\"/sg12381/\" target=\"_blank\">\\n    \\u5a01\\u6717\\n   </a>\\n  </td>\\n  <td class=\"col3 price\">\\n   13.59-20.59\\u4e07\\n  </td>\\n  <td class=\"col4 relBrand\">\\n   \\u522b\\u514b\\n  </td>\\n  <td class=\"col5 salesNum\">\\n   19879\\n  </td>\\n  <td class=\"col6 salesSum\">\\n   182826\\n  </td>\\n  <td class=\"col7 links\">\\n   <a href=\"/sg12381/price.html\" target=\"_blank\">\\n    \\u62a5\\u4ef7\\n   </a>\\n   <a href=\"http://price.pcauto.com.cn/comment/sg12381/\" target=\"_blank\">\\n    \\u70b9\\u8bc4\\n   </a>\\n   <a href=\"/cars/sg12381/\" target=\"_blank\">\\n    \\u56fe\\u7247\\n   </a>\\n   <a href=\"/sg12381/config.html\" target=\"_blank\">\\n    \\u53c2\\u914d\\n   </a>\\n  </td>\\n </tr>\\n <tr>\\n  <td class=\"col1 index gray\">\\n   12\\n  </td>\\n  <td class=\"col2 brand\">\\n   <a class=\"blue\" href=\"/sg2734/\" target=\"_blank\">\\n    \\u5361\\u7f57\\u62c9\\n   </a>\\n  </td>\\n  <td class=\"col3 price\">\\n   10.78-16.38\\u4e07\\n  </td>\\n  <td class=\"col4 relBrand\">\\n   \\u4e30\\u7530\\n  </td>\\n  <td class=\"col5 salesNum\">\\n   19406\\n  </td>\\n  <td class=\"col6 salesSum\">\\n   336763\\n  </td>\\n  <td class=\"col7 links\">\\n   <a href=\"/sg2734/price.html\" target=\"_blank\">\\n    \\u62a5\\u4ef7\\n   </a>\\n   <a href=\"http://price.pcauto.com.cn/comment/sg2734/\" target=\"_blank\">\\n    \\u70b9\\u8bc4\\n   </a>\\n   <a href=\"/cars/sg2734/\" target=\"_blank\">\\n    \\u56fe\\u7247\\n   </a>\\n   <a href=\"/sg2734/config.html\" target=\"_blank\">\\n    \\u53c2\\u914d\\n   </a>\\n  </td>\\n </tr>\\n <tr>\\n  <td class=\"col1 index gray\">\\n   13\\n  </td>\\n  <td class=\"col2 brand\">\\n   <a class=\"blue\" href=\"/sg7889/\" target=\"_blank\">\\n    \\u8d77\\u4e9aK3\\n   </a>\\n  </td>\\n  <td class=\"col3 price\">\\n   9.68-15.08\\u4e07\\n  </td>\\n  <td class=\"col4 relBrand\">\\n   \\u8d77\\u4e9a\\n  </td>\\n  <td class=\"col5 salesNum\">\\n   18856\\n  </td>\\n  <td class=\"col6 salesSum\">\\n   139107\\n  </td>\\n  <td class=\"col7 links\">\\n   <a href=\"/sg7889/price.html\" target=\"_blank\">\\n    \\u62a5\\u4ef7\\n   </a>\\n   <a href=\"http://price.pcauto.com.cn/comment/sg7889/\" target=\"_blank\">\\n    \\u70b9\\u8bc4\\n   </a>\\n   <a href=\"/cars/sg7889/\" target=\"_blank\">\\n    \\u56fe\\u7247\\n   </a>\\n   <a href=\"/sg7889/config.html\" target=\"_blank\">\\n    \\u53c2\\u914d\\n   </a>\\n  </td>\\n </tr>\\n <tr>\\n  <td class=\"col1 index gray\">\\n   14\\n  </td>\\n  <td class=\"col2 brand\">\\n   <a class=\"blue\" href=\"/sg100/\" target=\"_blank\">\\n    \\u6851\\u5854\\u7eb3\\n   </a>\\n  </td>\\n  <td class=\"col3 price\">\\n   8.49-12.38\\u4e07\\n  </td>\\n  <td class=\"col4 relBrand\">\\n   \\u5927\\u4f17\\n  </td>\\n  <td class=\"col5 salesNum\">\\n   18687\\n  </td>\\n  <td class=\"col6 salesSum\">\\n   277994\\n  </td>\\n  <td class=\"col7 links\">\\n   <a href=\"/sg100/price.html\" target=\"_blank\">\\n    \\u62a5\\u4ef7\\n   </a>\\n   <a href=\"http://price.pcauto.com.cn/comment/sg100/\" target=\"_blank\">\\n    \\u70b9\\u8bc4\\n   </a>\\n   <a href=\"/cars/sg100/\" target=\"_blank\">\\n    \\u56fe\\u7247\\n   </a>\\n   <a href=\"/sg100/config.html\" target=\"_blank\">\\n    \\u53c2\\u914d\\n   </a>\\n  </td>\\n </tr>\\n <tr>\\n  <td class=\"col1 index gray\">\\n   15\\n  </td>\\n  <td class=\"col2 brand\">\\n   <a class=\"blue\" href=\"/sg10801/\" target=\"_blank\">\\n    \\u96f7\\u51cc\\n   </a>\\n  </td>\\n  <td class=\"col3 price\">\\n   10.98-16.18\\u4e07\\n  </td>\\n  <td class=\"col4 relBrand\">\\n   \\u4e30\\u7530\\n  </td>\\n  <td class=\"col5 salesNum\">\\n   18085\\n  </td>\\n  <td class=\"col6 salesSum\">\\n   172871\\n  </td>\\n  <td class=\"col7 links\">\\n   <a href=\"/sg10801/price.html\" target=\"_blank\">\\n    \\u62a5\\u4ef7\\n   </a>\\n   <a href=\"http://price.pcauto.com.cn/comment/sg10801/\" target=\"_blank\">\\n    \\u70b9\\u8bc4\\n   </a>\\n   <a href=\"/cars/sg10801/\" target=\"_blank\">\\n    \\u56fe\\u7247\\n   </a>\\n   <a href=\"/sg10801/config.html\" target=\"_blank\">\\n    \\u53c2\\u914d\\n   </a>\\n  </td>\\n </tr>\\n <tr>\\n  <td class=\"col1 index gray\">\\n   16\\n  </td>\\n  <td class=\"col2 brand\">\\n   <a class=\"blue\" href=\"/sg1397/\" target=\"_blank\">\\n    \\u8fc8\\u9510\\u5b9d\\n   </a>\\n  </td>\\n  <td class=\"col3 price\">\\n   16.49-18.99\\u4e07\\n  </td>\\n  <td class=\"col4 relBrand\">\\n   \\u96ea\\u4f5b\\u5170\\n  </td>\\n  <td class=\"col5 salesNum\">\\n   17328\\n  </td>\\n  <td class=\"col6 salesSum\">\\n   118797\\n  </td>\\n  <td class=\"col7 links\">\\n   <a href=\"/sg1397/price.html\" target=\"_blank\">\\n    \\u62a5\\u4ef7\\n   </a>\\n   <a href=\"http://price.pcauto.com.cn/comment/sg1397/\" target=\"_blank\">\\n    \\u70b9\\u8bc4\\n   </a>\\n   <a href=\"/cars/sg1397/\" target=\"_blank\">\\n    \\u56fe\\u7247\\n   </a>\\n   <a href=\"/sg1397/config.html\" target=\"_blank\">\\n    \\u53c2\\u914d\\n   </a>\\n  </td>\\n </tr>\\n <tr>\\n  <td class=\"col1 index gray\">\\n   17\\n  </td>\\n  <td class=\"col2 brand\">\\n   <a class=\"blue\" href=\"/sg10891/\" target=\"_blank\">\\n    \\u51cc\\u6e21\\n   </a>\\n  </td>\\n  <td class=\"col3 price\">\\n   14.59-22.89\\u4e07\\n  </td>\\n  <td class=\"col4 relBrand\">\\n   \\u5927\\u4f17\\n  </td>\\n  <td class=\"col5 salesNum\">\\n   16539\\n  </td>\\n  <td class=\"col6 salesSum\">\\n   147059\\n  </td>\\n  <td class=\"col7 links\">\\n   <a href=\"/sg10891/price.html\" target=\"_blank\">\\n    \\u62a5\\u4ef7\\n   </a>\\n   <a href=\"http://price.pcauto.com.cn/comment/sg10891/\" target=\"_blank\">\\n    \\u70b9\\u8bc4\\n   </a>\\n   <a href=\"/cars/sg10891/\" target=\"_blank\">\\n    \\u56fe\\u7247\\n   </a>\\n   <a href=\"/sg10891/config.html\" target=\"_blank\">\\n    \\u53c2\\u914d\\n   </a>\\n  </td>\\n </tr>\\n <tr>\\n  <td class=\"col1 index gray\">\\n   18\\n  </td>\\n  <td class=\"col2 brand\">\\n   <a class=\"blue\" href=\"/sg11767/\" target=\"_blank\">\\n    \\u8d5b\\u6b273\\n   </a>\\n  </td>\\n  <td class=\"col3 price\">\\n   6.29-7.99\\u4e07\\n  </td>\\n  <td class=\"col4 relBrand\">\\n   \\u96ea\\u4f5b\\u5170\\n  </td>\\n  <td class=\"col5 salesNum\">\\n   15984\\n  </td>\\n  <td class=\"col6 salesSum\">\\n   123232\\n  </td>\\n  <td class=\"col7 links\">\\n   <a href=\"/sg11767/price.html\" target=\"_blank\">\\n    \\u62a5\\u4ef7\\n   </a>\\n   <a href=\"http://price.pcauto.com.cn/comment/sg11767/\" target=\"_blank\">\\n    \\u70b9\\u8bc4\\n   </a>\\n   <a href=\"/cars/sg11767/\" target=\"_blank\">\\n    \\u56fe\\u7247\\n   </a>\\n   <a href=\"/sg11767/config.html\" target=\"_blank\">\\n    \\u53c2\\u914d\\n   </a>\\n  </td>\\n </tr>\\n <tr>\\n  <td class=\"col1 index gray\">\\n   19\\n  </td>\\n  <td class=\"col2 brand\">\\n   <a class=\"blue\" href=\"/sg9281/\" target=\"_blank\">\\n    \\u540d\\u56fe\\n   </a>\\n  </td>\\n  <td class=\"col3 price\">\\n   12.98-16.98\\u4e07\\n  </td>\\n  <td class=\"col4 relBrand\">\\n   \\u73b0\\u4ee3\\n  </td>\\n  <td class=\"col5 salesNum\">\\n   15520\\n  </td>\\n  <td class=\"col6 salesSum\">\\n   134437\\n  </td>\\n  <td class=\"col7 links\">\\n   <a href=\"/sg9281/price.html\" target=\"_blank\">\\n    \\u62a5\\u4ef7\\n   </a>\\n   <a href=\"http://price.pcauto.com.cn/comment/sg9281/\" target=\"_blank\">\\n    \\u70b9\\u8bc4\\n   </a>\\n   <a href=\"/cars/sg9281/\" target=\"_blank\">\\n    \\u56fe\\u7247\\n   </a>\\n   <a href=\"/sg9281/config.html\" target=\"_blank\">\\n    \\u53c2\\u914d\\n   </a>\\n  </td>\\n </tr>\\n <tr>\\n  <td class=\"col1 index gray\">\\n   20\\n  </td>\\n  <td class=\"col2 brand\">\\n   <a class=\"blue\" href=\"/sg3404/\" target=\"_blank\">\\n    \\u798f\\u514b\\u65af\\n   </a>\\n  </td>\\n  <td class=\"col3 price\">\\n   9.98-16.58\\u4e07\\n  </td>\\n  <td class=\"col4 relBrand\">\\n   \\u798f\\u7279\\n  </td>\\n  <td class=\"col5 salesNum\">\\n   15193\\n  </td>\\n  <td class=\"col6 salesSum\">\\n   172126\\n  </td>\\n  <td class=\"col7 links\">\\n   <a href=\"/sg3404/price.html\" target=\"_blank\">\\n    \\u62a5\\u4ef7\\n   </a>\\n   <a href=\"http://price.pcauto.com.cn/comment/sg3404/\" target=\"_blank\">\\n    \\u70b9\\u8bc4\\n   </a>\\n   <a href=\"/cars/sg3404/\" target=\"_blank\">\\n    \\u56fe\\u7247\\n   </a>\\n   <a href=\"/sg3404/config.html\" target=\"_blank\">\\n    \\u53c2\\u914d\\n   </a>\\n  </td>\\n </tr>\\n <tr>\\n  <td class=\"col1 index gray\">\\n   21\\n  </td>\\n  <td class=\"col2 brand\">\\n   <a class=\"blue\" href=\"/sg8049/\" target=\"_blank\">\\n    \\u6717\\u52a8\\n   </a>\\n  </td>\\n  <td class=\"col3 price\">\\n   10.58-12.78\\u4e07\\n  </td>\\n  <td class=\"col4 relBrand\">\\n   \\u73b0\\u4ee3\\n  </td>\\n  <td class=\"col5 salesNum\">\\n   15038\\n  </td>\\n  <td class=\"col6 salesSum\">\\n   115656\\n  </td>\\n  <td class=\"col7 links\">\\n   <a href=\"/sg8049/price.html\" target=\"_blank\">\\n    \\u62a5\\u4ef7\\n   </a>\\n   <a href=\"http://price.pcauto.com.cn/comment/sg8049/\" target=\"_blank\">\\n    \\u70b9\\u8bc4\\n   </a>\\n   <a href=\"/cars/sg8049/\" target=\"_blank\">\\n    \\u56fe\\u7247\\n   </a>\\n   <a href=\"/sg8049/config.html\" target=\"_blank\">\\n    \\u53c2\\u914d\\n   </a>\\n  </td>\\n </tr>\\n <tr>\\n  <td class=\"col1 index gray\">\\n   22\\n  </td>\\n  <td class=\"col2 brand\">\\n   <a class=\"blue\" href=\"/sg10660/\" target=\"_blank\">\\n    \\u827e\\u745e\\u6cfd5\\n   </a>\\n  </td>\\n  <td class=\"col3 price\">\\n   5.89-9.79\\u4e07\\n  </td>\\n  <td class=\"col4 relBrand\">\\n   \\u5947\\u745e\\n  </td>\\n  <td class=\"col5 salesNum\">\\n   14930\\n  </td>\\n  <td class=\"col6 salesSum\">\\n   134489\\n  </td>\\n  <td class=\"col7 links\">\\n   <a href=\"/sg10660/price.html\" target=\"_blank\">\\n    \\u62a5\\u4ef7\\n   </a>\\n   <a href=\"http://price.pcauto.com.cn/comment/sg10660/\" target=\"_blank\">\\n    \\u70b9\\u8bc4\\n   </a>\\n   <a href=\"/cars/sg10660/\" target=\"_blank\">\\n    \\u56fe\\u7247\\n   </a>\\n   <a href=\"/sg10660/config.html\" target=\"_blank\">\\n    \\u53c2\\u914d\\n   </a>\\n  </td>\\n </tr>\\n <tr>\\n  <td class=\"col1 index gray\">\\n   23\\n  </td>\\n  <td class=\"col2 brand\">\\n   <a class=\"blue\" href=\"/sg2063/\" target=\"_blank\">\\n    \\u8fdc\\u666f\\n   </a>\\n  </td>\\n  <td class=\"col3 price\">\\n   5.39-7.29\\u4e07\\n  </td>\\n  <td class=\"col4 relBrand\">\\n   \\u5409\\u5229\\u6c7d\\u8f66\\n  </td>\\n  <td class=\"col5 salesNum\">\\n   14524\\n  </td>\\n  <td class=\"col6 salesSum\">\\n   145005\\n  </td>\\n  <td class=\"col7 links\">\\n   <a href=\"/sg2063/price.html\" target=\"_blank\">\\n    \\u62a5\\u4ef7\\n   </a>\\n   <a href=\"http://price.pcauto.com.cn/comment/sg2063/\" target=\"_blank\">\\n    \\u70b9\\u8bc4\\n   </a>\\n   <a href=\"/cars/sg2063/\" target=\"_blank\">\\n    \\u56fe\\u7247\\n   </a>\\n   <a href=\"/sg2063/config.html\" target=\"_blank\">\\n    \\u53c2\\u914d\\n   </a>\\n  </td>\\n </tr>\\n <tr>\\n  <td class=\"col1 index gray\">\\n   24\\n  </td>\\n  <td class=\"col2 brand\">\\n   <a class=\"blue\" href=\"/sg10280/\" target=\"_blank\">\\n    \\u6602\\u514b\\u8d5b\\u62c9\\n   </a>\\n  </td>\\n  <td class=\"col3 price\">\\n   11.29-16.29\\u4e07\\n  </td>\\n  <td class=\"col4 relBrand\">\\n   \\u9a6c\\u81ea\\u8fbe\\n  </td>\\n  <td class=\"col5 salesNum\">\\n   14285\\n  </td>\\n  <td class=\"col6 salesSum\">\\n   142498\\n  </td>\\n  <td class=\"col7 links\">\\n   <a href=\"/sg10280/price.html\" target=\"_blank\">\\n    \\u62a5\\u4ef7\\n   </a>\\n   <a href=\"http://price.pcauto.com.cn/comment/sg10280/\" target=\"_blank\">\\n    \\u70b9\\u8bc4\\n   </a>\\n   <a href=\"/cars/sg10280/\" target=\"_blank\">\\n    \\u56fe\\u7247\\n   </a>\\n   <a href=\"/sg10280/config.html\" target=\"_blank\">\\n    \\u53c2\\u914d\\n   </a>\\n  </td>\\n </tr>\\n <tr>\\n  <td class=\"col1 index gray\">\\n   25\\n  </td>\\n  <td class=\"col2 brand\">\\n   <a class=\"blue\" href=\"/sg3195/\" target=\"_blank\">\\n    \\u5929\\u7c41\\n   </a>\\n  </td>\\n  <td class=\"col3 price\">\\n   17.58-29.88\\u4e07\\n  </td>\\n  <td class=\"col4 relBrand\">\\n   \\u65e5\\u4ea7\\n  </td>\\n  <td class=\"col5 salesNum\">\\n   14223\\n  </td>\\n  <td class=\"col6 salesSum\">\\n   113857\\n  </td>\\n  <td class=\"col7 links\">\\n   <a href=\"/sg3195/price.html\" target=\"_blank\">\\n    \\u62a5\\u4ef7\\n   </a>\\n   <a href=\"http://price.pcauto.com.cn/comment/sg3195/\" target=\"_blank\">\\n    \\u70b9\\u8bc4\\n   </a>\\n   <a href=\"/cars/sg3195/\" target=\"_blank\">\\n    \\u56fe\\u7247\\n   </a>\\n   <a href=\"/sg3195/config.html\" target=\"_blank\">\\n    \\u53c2\\u914d\\n   </a>\\n  </td>\\n </tr>\\n <tr>\\n  <td class=\"col1 index gray\">\\n   26\\n  </td>\\n  <td class=\"col2 brand\">\\n   <a class=\"blue\" href=\"/sg13867/\" target=\"_blank\">\\n    \\u5e1d\\u8c6aGL\\n   </a>\\n  </td>\\n  <td class=\"col3 price\">\\n   7.88-11.58\\u4e07\\n  </td>\\n  <td class=\"col4 relBrand\">\\n   \\u5409\\u5229\\u6c7d\\u8f66\\n  </td>\\n  <td class=\"col5 salesNum\">\\n   14088\\n  </td>\\n  <td class=\"col6 salesSum\">\\n   124109\\n  </td>\\n  <td class=\"col7 links\">\\n   <a href=\"/sg13867/price.html\" target=\"_blank\">\\n    \\u62a5\\u4ef7\\n   </a>\\n   <a href=\"http://price.pcauto.com.cn/comment/sg13867/\" target=\"_blank\">\\n    \\u70b9\\u8bc4\\n   </a>\\n   <a href=\"/cars/sg13867/\" target=\"_blank\">\\n    \\u56fe\\u7247\\n   </a>\\n   <a href=\"/sg13867/config.html\" target=\"_blank\">\\n    \\u53c2\\u914d\\n   </a>\\n  </td>\\n </tr>\\n <tr>\\n  <td class=\"col1 index gray\">\\n   27\\n  </td>\\n  <td class=\"col2 brand\">\\n   <a class=\"blue\" href=\"/sg89/\" target=\"_blank\">\\n    \\u6377\\u8fbe\\n   </a>\\n  </td>\\n  <td class=\"col3 price\">\\n   7.99-13.49\\u4e07\\n  </td>\\n  <td class=\"col4 relBrand\">\\n   \\u5927\\u4f17\\n  </td>\\n  <td class=\"col5 salesNum\">\\n   13965\\n  </td>\\n  <td class=\"col6 salesSum\">\\n   317637\\n  </td>\\n  <td class=\"col7 links\">\\n   <a href=\"/sg89/price.html\" target=\"_blank\">\\n    \\u62a5\\u4ef7\\n   </a>\\n   <a href=\"http://price.pcauto.com.cn/comment/sg89/\" target=\"_blank\">\\n    \\u70b9\\u8bc4\\n   </a>\\n   <a href=\"/cars/sg89/\" target=\"_blank\">\\n    \\u56fe\\u7247\\n   </a>\\n   <a href=\"/sg89/config.html\" target=\"_blank\">\\n    \\u53c2\\u914d\\n   </a>\\n  </td>\\n </tr>\\n <tr>\\n  <td class=\"col1 index gray\">\\n   28\\n  </td>\\n  <td class=\"col2 brand\">\\n   <a class=\"blue\" href=\"/sg2143/\" target=\"_blank\">\\n    \\u8499\\u8fea\\u6b27\\n   </a>\\n  </td>\\n  <td class=\"col3 price\">\\n   17.98-27.98\\u4e07\\n  </td>\\n  <td class=\"col4 relBrand\">\\n   \\u798f\\u7279\\n  </td>\\n  <td class=\"col5 salesNum\">\\n   13321\\n  </td>\\n  <td class=\"col6 salesSum\">\\n   112158\\n  </td>\\n  <td class=\"col7 links\">\\n   <a href=\"/sg2143/price.html\" target=\"_blank\">\\n    \\u62a5\\u4ef7\\n   </a>\\n   <a href=\"http://price.pcauto.com.cn/comment/sg2143/\" target=\"_blank\">\\n    \\u70b9\\u8bc4\\n   </a>\\n   <a href=\"/cars/sg2143/\" target=\"_blank\">\\n    \\u56fe\\u7247\\n   </a>\\n   <a href=\"/sg2143/config.html\" target=\"_blank\">\\n    \\u53c2\\u914d\\n   </a>\\n  </td>\\n </tr>\\n <tr>\\n  <td class=\"col1 index gray\">\\n   29\\n  </td>\\n  <td class=\"col2 brand\">\\n   <a class=\"blue\" href=\"/sg21272/\" target=\"_blank\">\\n    EC\\u7cfb\\u5217\\n   </a>\\n  </td>\\n  <td class=\"col3 price\">\\n   15.18-16.48\\u4e07\\n  </td>\\n  <td class=\"col4 relBrand\">\\n   \\u5317\\u6c7d\\u65b0\\u80fd\\u6e90\\n  </td>\\n  <td class=\"col5 salesNum\">\\n   13169\\n  </td>\\n  <td class=\"col6 salesSum\">\\n   78079\\n  </td>\\n  <td class=\"col7 links\">\\n   <a href=\"/sg21272/price.html\" target=\"_blank\">\\n    \\u62a5\\u4ef7\\n   </a>\\n   <a href=\"http://price.pcauto.com.cn/comment/sg21272/\" target=\"_blank\">\\n    \\u70b9\\u8bc4\\n   </a>\\n   <a href=\"/cars/sg21272/\" target=\"_blank\">\\n    \\u56fe\\u7247\\n   </a>\\n   <a href=\"/sg21272/config.html\" target=\"_blank\">\\n    \\u53c2\\u914d\\n   </a>\\n  </td>\\n </tr>\\n <tr>\\n  <td class=\"col1 index gray\">\\n   30\\n  </td>\\n  <td class=\"col2 brand\">\\n   <a class=\"blue\" href=\"/sg90/\" target=\"_blank\">\\n    \\u96c5\\u9601\\n   </a>\\n  </td>\\n  <td class=\"col3 price\">\\n   16.98-23.78\\u4e07\\n  </td>\\n  <td class=\"col4 relBrand\">\\n   \\u672c\\u7530\\n  </td>\\n  <td class=\"col5 salesNum\">\\n   13167\\n  </td>\\n  <td class=\"col6 salesSum\">\\n   150365\\n  </td>\\n  <td class=\"col7 links\">\\n   <a href=\"/sg90/price.html\" target=\"_blank\">\\n    \\u62a5\\u4ef7\\n   </a>\\n   <a href=\"http://price.pcauto.com.cn/comment/sg90/\" target=\"_blank\">\\n    \\u70b9\\u8bc4\\n   </a>\\n   <a href=\"/cars/sg90/\" target=\"_blank\">\\n    \\u56fe\\u7247\\n   </a>\\n   <a href=\"/sg90/config.html\" target=\"_blank\">\\n    \\u53c2\\u914d\\n   </a>\\n  </td>\\n </tr>\\n <tr>\\n  <td class=\"col1 index gray\">\\n   31\\n  </td>\\n  <td class=\"col2 brand\">\\n   <a class=\"blue\" href=\"/sg2453/\" target=\"_blank\">\\n    \\u660e\\u9510\\n   </a>\\n  </td>\\n  <td class=\"col3 price\">\\n   11.99-17.99\\u4e07\\n  </td>\\n  <td class=\"col4 relBrand\">\\n   \\u65af\\u67ef\\u8fbe\\n  </td>\\n  <td class=\"col5 salesNum\">\\n   12718\\n  </td>\\n  <td class=\"col6 salesSum\">\\n   128992\\n  </td>\\n  <td class=\"col7 links\">\\n   <a href=\"/sg2453/price.html\" target=\"_blank\">\\n    \\u62a5\\u4ef7\\n   </a>\\n   <a href=\"http://price.pcauto.com.cn/comment/sg2453/\" target=\"_blank\">\\n    \\u70b9\\u8bc4\\n   </a>\\n   <a href=\"/cars/sg2453/\" target=\"_blank\">\\n    \\u56fe\\u7247\\n   </a>\\n   <a href=\"/sg2453/config.html\" target=\"_blank\">\\n    \\u53c2\\u914d\\n   </a>\\n  </td>\\n </tr>\\n <tr>\\n  <td class=\"col1 index gray\">\\n   32\\n  </td>\\n  <td class=\"col2 brand\">\\n   <a class=\"blue\" href=\"/sg98/\" target=\"_blank\">\\n    \\u5927\\u4f17Polo\\n   </a>\\n  </td>\\n  <td class=\"col3 price\">\\n   7.59-14.69\\u4e07\\n  </td>\\n  <td class=\"col4 relBrand\">\\n   \\u5927\\u4f17\\n  </td>\\n  <td class=\"col5 salesNum\">\\n   12656\\n  </td>\\n  <td class=\"col6 salesSum\">\\n   174072\\n  </td>\\n  <td class=\"col7 links\">\\n   <a href=\"/sg98/price.html\" target=\"_blank\">\\n    \\u62a5\\u4ef7\\n   </a>\\n   <a href=\"http://price.pcauto.com.cn/comment/sg98/\" target=\"_blank\">\\n    \\u70b9\\u8bc4\\n   </a>\\n   <a href=\"/cars/sg98/\" target=\"_blank\">\\n    \\u56fe\\u7247\\n   </a>\\n   <a href=\"/sg98/config.html\" target=\"_blank\">\\n    \\u53c2\\u914d\\n   </a>\\n  </td>\\n </tr>\\n <tr>\\n  <td class=\"col1 index gray\">\\n   33\\n  </td>\\n  <td class=\"col2 brand\">\\n   <a class=\"blue\" href=\"/sg3178/\" target=\"_blank\">\\n    \\u5954\\u9a70C\\u7ea7\\n   </a>\\n  </td>\\n  <td class=\"col3 price\">\\n   31.28-48.90\\u4e07\\n  </td>\\n  <td class=\"col4 relBrand\">\\n   \\u5954\\u9a70\\n  </td>\\n  <td class=\"col5 salesNum\">\\n   12489\\n  </td>\\n  <td class=\"col6 salesSum\">\\n   129258\\n  </td>\\n  <td class=\"col7 links\">\\n   <a href=\"/sg3178/price.html\" target=\"_blank\">\\n    \\u62a5\\u4ef7\\n   </a>\\n   <a href=\"http://price.pcauto.com.cn/comment/sg3178/\" target=\"_blank\">\\n    \\u70b9\\u8bc4\\n   </a>\\n   <a href=\"/cars/sg3178/\" target=\"_blank\">\\n    \\u56fe\\u7247\\n   </a>\\n   <a href=\"/sg3178/config.html\" target=\"_blank\">\\n    \\u53c2\\u914d\\n   </a>\\n  </td>\\n </tr>\\n <tr>\\n  <td class=\"col1 index gray\">\\n   34\\n  </td>\\n  <td class=\"col2 brand\">\\n   <a class=\"blue\" href=\"/sg99/\" target=\"_blank\">\\n    \\u5e15\\u8428\\u7279\\n   </a>\\n  </td>\\n  <td class=\"col3 price\">\\n   18.99-30.39\\u4e07\\n  </td>\\n  <td class=\"col4 relBrand\">\\n   \\u5927\\u4f17\\n  </td>\\n  <td class=\"col5 salesNum\">\\n   12483\\n  </td>\\n  <td class=\"col6 salesSum\">\\n   160323\\n  </td>\\n  <td class=\"col7 links\">\\n   <a href=\"/sg99/price.html\" target=\"_blank\">\\n    \\u62a5\\u4ef7\\n   </a>\\n   <a href=\"http://price.pcauto.com.cn/comment/sg99/\" target=\"_blank\">\\n    \\u70b9\\u8bc4\\n   </a>\\n   <a href=\"/cars/sg99/\" target=\"_blank\">\\n    \\u56fe\\u7247\\n   </a>\\n   <a href=\"/sg99/config.html\" target=\"_blank\">\\n    \\u53c2\\u914d\\n   </a>\\n  </td>\\n </tr>\\n <tr>\\n  <td class=\"col1 index gray\">\\n   35\\n  </td>\\n  <td class=\"col2 brand\">\\n   <a class=\"blue\" href=\"/sg3224/\" target=\"_blank\">\\n    \\u98de\\u5ea6\\n   </a>\\n  </td>\\n  <td class=\"col3 price\">\\n   7.38-11.28\\u4e07\\n  </td>\\n  <td class=\"col4 relBrand\">\\n   \\u672c\\u7530\\n  </td>\\n  <td class=\"col5 salesNum\">\\n   12223\\n  </td>\\n  <td class=\"col6 salesSum\">\\n   111752\\n  </td>\\n  <td class=\"col7 links\">\\n   <a href=\"/sg3224/price.html\" target=\"_blank\">\\n    \\u62a5\\u4ef7\\n   </a>\\n   <a href=\"http://price.pcauto.com.cn/comment/sg3224/\" target=\"_blank\">\\n    \\u70b9\\u8bc4\\n   </a>\\n   <a href=\"/cars/sg3224/\" target=\"_blank\">\\n    \\u56fe\\u7247\\n   </a>\\n   <a href=\"/sg3224/config.html\" target=\"_blank\">\\n    \\u53c2\\u914d\\n   </a>\\n  </td>\\n </tr>\\n <tr>\\n  <td class=\"col1 index gray\">\\n   36\\n  </td>\\n  <td class=\"col2 brand\">\\n   <a class=\"blue\" href=\"/sg3544/\" target=\"_blank\">\\n    \\u79d1\\u9c81\\u5179\\n   </a>\\n  </td>\\n  <td class=\"col3 price\">\\n   10.99-16.99\\u4e07\\n  </td>\\n  <td class=\"col4 relBrand\">\\n   \\u96ea\\u4f5b\\u5170\\n  </td>\\n  <td class=\"col5 salesNum\">\\n   11986\\n  </td>\\n  <td class=\"col6 salesSum\">\\n   82836\\n  </td>\\n  <td class=\"col7 links\">\\n   <a href=\"/sg3544/price.html\" target=\"_blank\">\\n    \\u62a5\\u4ef7\\n   </a>\\n   <a href=\"http://price.pcauto.com.cn/comment/sg3544/\" target=\"_blank\">\\n    \\u70b9\\u8bc4\\n   </a>\\n   <a href=\"/cars/sg3544/\" target=\"_blank\">\\n    \\u56fe\\u7247\\n   </a>\\n   <a href=\"/sg3544/config.html\" target=\"_blank\">\\n    \\u53c2\\u914d\\n   </a>\\n  </td>\\n </tr>\\n <tr>\\n  <td class=\"col1 index gray\">\\n   37\\n  </td>\\n  <td class=\"col2 brand\">\\n   <a class=\"blue\" href=\"/sg424/\" target=\"_blank\">\\n    \\u5b9d\\u9a6c3\\u7cfb\\n   </a>\\n  </td>\\n  <td class=\"col3 price\">\\n   28.80-48.69\\u4e07\\n  </td>\\n  <td class=\"col4 relBrand\">\\n   \\u5b9d\\u9a6c\\n  </td>\\n  <td class=\"col5 salesNum\">\\n   11270\\n  </td>\\n  <td class=\"col6 salesSum\">\\n   123206\\n  </td>\\n  <td class=\"col7 links\">\\n   <a href=\"/sg424/price.html\" target=\"_blank\">\\n    \\u62a5\\u4ef7\\n   </a>\\n   <a href=\"http://price.pcauto.com.cn/comment/sg424/\" target=\"_blank\">\\n    \\u70b9\\u8bc4\\n   </a>\\n   <a href=\"/cars/sg424/\" target=\"_blank\">\\n    \\u56fe\\u7247\\n   </a>\\n   <a href=\"/sg424/config.html\" target=\"_blank\">\\n    \\u53c2\\u914d\\n   </a>\\n  </td>\\n </tr>\\n <tr>\\n  <td class=\"col1 index gray\">\\n   38\\n  </td>\\n  <td class=\"col2 brand\">\\n   <a class=\"blue\" href=\"/sg441/\" target=\"_blank\">\\n    \\u5b9d\\u9a6c5\\u7cfb\\n   </a>\\n  </td>\\n  <td class=\"col3 price\">\\n   44.99-66.39\\u4e07\\n  </td>\\n  <td class=\"col4 relBrand\">\\n   \\u5b9d\\u9a6c\\n  </td>\\n  <td class=\"col5 salesNum\">\\n   11093\\n  </td>\\n  <td class=\"col6 salesSum\">\\n   120320\\n  </td>\\n  <td class=\"col7 links\">\\n   <a href=\"/sg441/price.html\" target=\"_blank\">\\n    \\u62a5\\u4ef7\\n   </a>\\n   <a href=\"http://price.pcauto.com.cn/comment/sg441/\" target=\"_blank\">\\n    \\u70b9\\u8bc4\\n   </a>\\n   <a href=\"/cars/sg441/\" target=\"_blank\">\\n    \\u56fe\\u7247\\n   </a>\\n   <a href=\"/sg441/config.html\" target=\"_blank\">\\n    \\u53c2\\u914d\\n   </a>\\n  </td>\\n </tr>\\n <tr>\\n  <td class=\"col1 index gray\">\\n   39\\n  </td>\\n  <td class=\"col2 brand\">\\n   <a class=\"blue\" href=\"/sg3745/\" target=\"_blank\">\\n    \\u541b\\u8d8a\\n   </a>\\n  </td>\\n  <td class=\"col3 price\">\\n   22.98-33.98\\u4e07\\n  </td>\\n  <td class=\"col4 relBrand\">\\n   \\u522b\\u514b\\n  </td>\\n  <td class=\"col5 salesNum\">\\n   11069\\n  </td>\\n  <td class=\"col6 salesSum\">\\n   99609\\n  </td>\\n  <td class=\"col7 links\">\\n   <a href=\"/sg3745/price.html\" target=\"_blank\">\\n    \\u62a5\\u4ef7\\n   </a>\\n   <a href=\"http://price.pcauto.com.cn/comment/sg3745/\" target=\"_blank\">\\n    \\u70b9\\u8bc4\\n   </a>\\n   <a href=\"/cars/sg3745/\" target=\"_blank\">\\n    \\u56fe\\u7247\\n   </a>\\n   <a href=\"/sg3745/config.html\" target=\"_blank\">\\n    \\u53c2\\u914d\\n   </a>\\n  </td>\\n </tr>\\n <tr>\\n  <td class=\"col1 index gray\">\\n   40\\n  </td>\\n  <td class=\"col2 brand\">\\n   <a class=\"blue\" href=\"/sg1726/\" target=\"_blank\">\\n    \\u601d\\u57df\\n   </a>\\n  </td>\\n  <td class=\"col3 price\">\\n   11.59-16.99\\u4e07\\n  </td>\\n  <td class=\"col4 relBrand\">\\n   \\u672c\\u7530\\n  </td>\\n  <td class=\"col5 salesNum\">\\n   10836\\n  </td>\\n  <td class=\"col6 salesSum\">\\n   173865\\n  </td>\\n  <td class=\"col7 links\">\\n   <a href=\"/sg1726/price.html\" target=\"_blank\">\\n    \\u62a5\\u4ef7\\n   </a>\\n   <a href=\"http://price.pcauto.com.cn/comment/sg1726/\" target=\"_blank\">\\n    \\u70b9\\u8bc4\\n   </a>\\n   <a href=\"/cars/sg1726/\" target=\"_blank\">\\n    \\u56fe\\u7247\\n   </a>\\n   <a href=\"/sg1726/config.html\" target=\"_blank\">\\n    \\u53c2\\u914d\\n   </a>\\n  </td>\\n </tr>\\n <tr>\\n  <td class=\"col1 index gray\">\\n   41\\n  </td>\\n  <td class=\"col2 brand\">\\n   <a class=\"blue\" href=\"/sg7589/\" target=\"_blank\">\\n    \\u6807\\u81f4308\\n   </a>\\n  </td>\\n  <td class=\"col3 price\">\\n   9.97-15.97\\u4e07\\n  </td>\\n  <td class=\"col4 relBrand\">\\n   \\u6807\\u81f4\\n  </td>\\n  <td class=\"col5 salesNum\">\\n   10591\\n  </td>\\n  <td class=\"col6 salesSum\">\\n   55929\\n  </td>\\n  <td class=\"col7 links\">\\n   <a href=\"/sg7589/price.html\" target=\"_blank\">\\n    \\u62a5\\u4ef7\\n   </a>\\n   <a href=\"http://price.pcauto.com.cn/comment/sg7589/\" target=\"_blank\">\\n    \\u70b9\\u8bc4\\n   </a>\\n   <a href=\"/cars/sg7589/\" target=\"_blank\">\\n    \\u56fe\\u7247\\n   </a>\\n   <a href=\"/sg7589/config.html\" target=\"_blank\">\\n    \\u53c2\\u914d\\n   </a>\\n  </td>\\n </tr>\\n <tr>\\n  <td class=\"col1 index gray\">\\n   42\\n  </td>\\n  <td class=\"col2 brand\">\\n   <a class=\"blue\" href=\"/sg21914/\" target=\"_blank\">\\n    \\u542f\\u8fb0D60\\n   </a>\\n  </td>\\n  <td class=\"col3 price\">\\n   6.98-11.18\\u4e07\\n  </td>\\n  <td class=\"col4 relBrand\">\\n   \\u4e1c\\u98ce\\u542f\\u8fb0\\n  </td>\\n  <td class=\"col5 salesNum\">\\n   10010\\n  </td>\\n  <td class=\"col6 salesSum\">\\n   17831\\n  </td>\\n  <td class=\"col7 links\">\\n   <a href=\"/sg21914/price.html\" target=\"_blank\">\\n    \\u62a5\\u4ef7\\n   </a>\\n   <a href=\"http://price.pcauto.com.cn/comment/sg21914/\" target=\"_blank\">\\n    \\u70b9\\u8bc4\\n   </a>\\n   <a href=\"/cars/sg21914/\" target=\"_blank\">\\n    \\u56fe\\u7247\\n   </a>\\n   <a href=\"/sg21914/config.html\" target=\"_blank\">\\n    \\u53c2\\u914d\\n   </a>\\n  </td>\\n </tr>\\n <tr>\\n  <td class=\"col1 index gray\">\\n   43\\n  </td>\\n  <td class=\"col2 brand\">\\n   <a class=\"blue\" href=\"/sg14263/\" target=\"_blank\">\\n    \\u60a6\\u7eb3\\n   </a>\\n  </td>\\n  <td class=\"col3 price\">\\n   7.28-10.58\\u4e07\\n  </td>\\n  <td class=\"col4 relBrand\">\\n   \\u73b0\\u4ee3\\n  </td>\\n  <td class=\"col5 salesNum\">\\n   9626\\n  </td>\\n  <td class=\"col6 salesSum\">\\n   86023\\n  </td>\\n  <td class=\"col7 links\">\\n   <a href=\"/sg14263/price.html\" target=\"_blank\">\\n    \\u62a5\\u4ef7\\n   </a>\\n   <a href=\"http://price.pcauto.com.cn/comment/sg14263/\" target=\"_blank\">\\n    \\u70b9\\u8bc4\\n   </a>\\n   <a href=\"/cars/sg14263/\" target=\"_blank\">\\n    \\u56fe\\u7247\\n   </a>\\n   <a href=\"/sg14263/config.html\" target=\"_blank\">\\n    \\u53c2\\u914d\\n   </a>\\n  </td>\\n </tr>\\n <tr>\\n  <td class=\"col1 index gray\">\\n   44\\n  </td>\\n  <td class=\"col2 brand\">\\n   <a class=\"blue\" href=\"/sg129/\" target=\"_blank\">\\n    \\u84dd\\u9e1f\\n   </a>\\n  </td>\\n  <td class=\"col3 price\">\\n   10.59-14.39\\u4e07\\n  </td>\\n  <td class=\"col4 relBrand\">\\n   \\u65e5\\u4ea7\\n  </td>\\n  <td class=\"col5 salesNum\">\\n   9525\\n  </td>\\n  <td class=\"col6 salesSum\">\\n   65487\\n  </td>\\n  <td class=\"col7 links\">\\n   <a href=\"/sg129/price.html\" target=\"_blank\">\\n    \\u62a5\\u4ef7\\n   </a>\\n   <a href=\"http://price.pcauto.com.cn/comment/sg129/\" target=\"_blank\">\\n    \\u70b9\\u8bc4\\n   </a>\\n   <a href=\"/cars/sg129/\" target=\"_blank\">\\n    \\u56fe\\u7247\\n   </a>\\n   <a href=\"/sg129/config.html\" target=\"_blank\">\\n    \\u53c2\\u914d\\n   </a>\\n  </td>\\n </tr>\\n <tr>\\n  <td class=\"col1 index gray\">\\n   45\\n  </td>\\n  <td class=\"col2 brand\">\\n   <a class=\"blue\" href=\"/sg1044/\" target=\"_blank\">\\n    \\u6bd4\\u4e9a\\u8feaF3\\n   </a>\\n  </td>\\n  <td class=\"col3 price\">\\n   4.39-7.79\\u4e07\\n  </td>\\n  <td class=\"col4 relBrand\">\\n   \\u6bd4\\u4e9a\\u8fea\\n  </td>\\n  <td class=\"col5 salesNum\">\\n   9281\\n  </td>\\n  <td class=\"col6 salesSum\">\\n   123590\\n  </td>\\n  <td class=\"col7 links\">\\n   <a href=\"/sg1044/price.html\" target=\"_blank\">\\n    \\u62a5\\u4ef7\\n   </a>\\n   <a href=\"http://price.pcauto.com.cn/comment/sg1044/\" target=\"_blank\">\\n    \\u70b9\\u8bc4\\n   </a>\\n   <a href=\"/cars/sg1044/\" target=\"_blank\">\\n    \\u56fe\\u7247\\n   </a>\\n   <a href=\"/sg1044/config.html\" target=\"_blank\">\\n    \\u53c2\\u914d\\n   </a>\\n  </td>\\n </tr>\\n <tr>\\n  <td class=\"col1 index gray\">\\n   46\\n  </td>\\n  <td class=\"col2 brand\">\\n   <a class=\"blue\" href=\"/sg1603/\" target=\"_blank\">\\n    \\u5954\\u9a70E\\u7ea7\\n   </a>\\n  </td>\\n  <td class=\"col3 price\">\\n   42.28-62.98\\u4e07\\n  </td>\\n  <td class=\"col4 relBrand\">\\n   \\u5954\\u9a70\\n  </td>\\n  <td class=\"col5 salesNum\">\\n   9271\\n  </td>\\n  <td class=\"col6 salesSum\">\\n   105210\\n  </td>\\n  <td class=\"col7 links\">\\n   <a href=\"/sg1603/price.html\" target=\"_blank\">\\n    \\u62a5\\u4ef7\\n   </a>\\n   <a href=\"http://price.pcauto.com.cn/comment/sg1603/\" target=\"_blank\">\\n    \\u70b9\\u8bc4\\n   </a>\\n   <a href=\"/cars/sg1603/\" target=\"_blank\">\\n    \\u56fe\\u7247\\n   </a>\\n   <a href=\"/sg1603/config.html\" target=\"_blank\">\\n    \\u53c2\\u914d\\n   </a>\\n  </td>\\n </tr>\\n <tr>\\n  <td class=\"col1 index gray\">\\n   47\\n  </td>\\n  <td class=\"col2 brand\">\\n   <a class=\"blue\" href=\"/sg4611/\" target=\"_blank\">\\n    \\u745e\\u7eb3\\n   </a>\\n  </td>\\n  <td class=\"col3 price\">\\n   4.99-10.69\\u4e07\\n  </td>\\n  <td class=\"col4 relBrand\">\\n   \\u73b0\\u4ee3\\n  </td>\\n  <td class=\"col5 salesNum\">\\n   8896\\n  </td>\\n  <td class=\"col6 salesSum\">\\n   42917\\n  </td>\\n  <td class=\"col7 links\">\\n   <a href=\"/sg4611/price.html\" target=\"_blank\">\\n    \\u62a5\\u4ef7\\n   </a>\\n   <a href=\"http://price.pcauto.com.cn/comment/sg4611/\" target=\"_blank\">\\n    \\u70b9\\u8bc4\\n   </a>\\n   <a href=\"/cars/sg4611/\" target=\"_blank\">\\n    \\u56fe\\u7247\\n   </a>\\n   <a href=\"/sg4611/config.html\" target=\"_blank\">\\n    \\u53c2\\u914d\\n   </a>\\n  </td>\\n </tr>\\n <tr>\\n  <td class=\"col1 index gray\">\\n   48\\n  </td>\\n  <td class=\"col2 brand\">\\n   <a class=\"blue\" href=\"/sg7201/\" target=\"_blank\">\\n    \\u9038\\u52a8\\n   </a>\\n  </td>\\n  <td class=\"col3 price\">\\n   6.99-9.29\\u4e07\\n  </td>\\n  <td class=\"col4 relBrand\">\\n   \\u957f\\u5b89\\n  </td>\\n  <td class=\"col5 salesNum\">\\n   8208\\n  </td>\\n  <td class=\"col6 salesSum\">\\n   91871\\n  </td>\\n  <td class=\"col7 links\">\\n   <a href=\"/sg7201/price.html\" target=\"_blank\">\\n    \\u62a5\\u4ef7\\n   </a>\\n   <a href=\"http://price.pcauto.com.cn/comment/sg7201/\" target=\"_blank\">\\n    \\u70b9\\u8bc4\\n   </a>\\n   <a href=\"/cars/sg7201/\" target=\"_blank\">\\n    \\u56fe\\u7247\\n   </a>\\n   <a href=\"/sg7201/config.html\" target=\"_blank\">\\n    \\u53c2\\u914d\\n   </a>\\n  </td>\\n </tr>\\n <tr>\\n  <td class=\"col1 index gray\">\\n   49\\n  </td>\\n  <td class=\"col2 brand\">\\n   <a class=\"blue\" href=\"/sg21964/\" target=\"_blank\">\\n    \\u8d77\\u4e9aKX CROSS\\n   </a>\\n  </td>\\n  <td class=\"col3 price\">\\n   7.49-8.59\\u4e07\\n  </td>\\n  <td class=\"col4 relBrand\">\\n   \\u8d77\\u4e9a\\n  </td>\\n  <td class=\"col5 salesNum\">\\n   8151\\n  </td>\\n  <td class=\"col6 salesSum\">\\n   26709\\n  </td>\\n  <td class=\"col7 links\">\\n   <a href=\"/sg21964/price.html\" target=\"_blank\">\\n    \\u62a5\\u4ef7\\n   </a>\\n   <a href=\"http://price.pcauto.com.cn/comment/sg21964/\" target=\"_blank\">\\n    \\u70b9\\u8bc4\\n   </a>\\n   <a href=\"/cars/sg21964/\" target=\"_blank\">\\n    \\u56fe\\u7247\\n   </a>\\n   <a href=\"/sg21964/config.html\" target=\"_blank\">\\n    \\u53c2\\u914d\\n   </a>\\n  </td>\\n </tr>\\n <tr>\\n  <td class=\"col1 index gray\">\\n   50\\n  </td>\\n  <td class=\"col2 brand\">\\n   <a class=\"blue\" href=\"/sg4313/\" target=\"_blank\">\\n    \\u5965\\u8feaA6L\\n   </a>\\n  </td>\\n  <td class=\"col3 price\">\\n   40.60-74.60\\u4e07\\n  </td>\\n  <td class=\"col4 relBrand\">\\n   \\u5965\\u8fea\\n  </td>\\n  <td class=\"col5 salesNum\">\\n   7964\\n  </td>\\n  <td class=\"col6 salesSum\">\\n   143699\\n  </td>\\n  <td class=\"col7 links\">\\n   <a href=\"/sg4313/price.html\" target=\"_blank\">\\n    \\u62a5\\u4ef7\\n   </a>\\n   <a href=\"http://price.pcauto.com.cn/comment/sg4313/\" target=\"_blank\">\\n    \\u70b9\\u8bc4\\n   </a>\\n   <a href=\"/cars/sg4313/\" target=\"_blank\">\\n    \\u56fe\\u7247\\n   </a>\\n   <a href=\"/sg4313/config.html\" target=\"_blank\">\\n    \\u53c2\\u914d\\n   </a>\\n  </td>\\n </tr>\\n <tr>\\n  <td class=\"col1 index gray\">\\n   51\\n  </td>\\n  <td class=\"col2 brand\">\\n   <a class=\"blue\" href=\"/sg4437/\" target=\"_blank\">\\n    \\u9ad8\\u5c14\\u592b\\n   </a>\\n  </td>\\n  <td class=\"col3 price\">\\n   12.19-23.99\\u4e07\\n  </td>\\n  <td class=\"col4 relBrand\">\\n   \\u5927\\u4f17\\n  </td>\\n  <td class=\"col5 salesNum\">\\n   7484\\n  </td>\\n  <td class=\"col6 salesSum\">\\n   150479\\n  </td>\\n  <td class=\"col7 links\">\\n   <a href=\"/sg4437/price.html\" target=\"_blank\">\\n    \\u62a5\\u4ef7\\n   </a>\\n   <a href=\"http://price.pcauto.com.cn/comment/sg4437/\" target=\"_blank\">\\n    \\u70b9\\u8bc4\\n   </a>\\n   <a href=\"/cars/sg4437/\" target=\"_blank\">\\n    \\u56fe\\u7247\\n   </a>\\n   <a href=\"/sg4437/config.html\" target=\"_blank\">\\n    \\u53c2\\u914d\\n   </a>\\n  </td>\\n </tr>\\n <tr>\\n  <td class=\"col1 index gray\">\\n   52\\n  </td>\\n  <td class=\"col2 brand\">\\n   <a class=\"blue\" href=\"/sg5045/\" target=\"_blank\">\\n    \\u9a90\\u8fbe\\n   </a>\\n  </td>\\n  <td class=\"col3 price\">\\n   9.99-13.49\\u4e07\\n  </td>\\n  <td class=\"col4 relBrand\">\\n   \\u65e5\\u4ea7\\n  </td>\\n  <td class=\"col5 salesNum\">\\n   7451\\n  </td>\\n  <td class=\"col6 salesSum\">\\n   78712\\n  </td>\\n  <td class=\"col7 links\">\\n   <a href=\"/sg5045/price.html\" target=\"_blank\">\\n    \\u62a5\\u4ef7\\n   </a>\\n   <a href=\"http://price.pcauto.com.cn/comment/sg5045/\" target=\"_blank\">\\n    \\u70b9\\u8bc4\\n   </a>\\n   <a href=\"/cars/sg5045/\" target=\"_blank\">\\n    \\u56fe\\u7247\\n   </a>\\n   <a href=\"/sg5045/config.html\" target=\"_blank\">\\n    \\u53c2\\u914d\\n   </a>\\n  </td>\\n </tr>\\n <tr>\\n  <td class=\"col1 index gray\">\\n   53\\n  </td>\\n  <td class=\"col2 brand\">\\n   <a class=\"blue\" href=\"/sg7130/\" target=\"_blank\">\\n    \\u8d77\\u4e9aK2\\n   </a>\\n  </td>\\n  <td class=\"col3 price\">\\n   7.29-10.39\\u4e07\\n  </td>\\n  <td class=\"col4 relBrand\">\\n   \\u8d77\\u4e9a\\n  </td>\\n  <td class=\"col5 salesNum\">\\n   7443\\n  </td>\\n  <td class=\"col6 salesSum\">\\n   53011\\n  </td>\\n  <td class=\"col7 links\">\\n   <a href=\"/sg7130/price.html\" target=\"_blank\">\\n    \\u62a5\\u4ef7\\n   </a>\\n   <a href=\"http://price.pcauto.com.cn/comment/sg7130/\" target=\"_blank\">\\n    \\u70b9\\u8bc4\\n   </a>\\n   <a href=\"/cars/sg7130/\" target=\"_blank\">\\n    \\u56fe\\u7247\\n   </a>\\n   <a href=\"/sg7130/config.html\" target=\"_blank\">\\n    \\u53c2\\u914d\\n   </a>\\n  </td>\\n </tr>\\n <tr>\\n  <td class=\"col1 index gray\">\\n   54\\n  </td>\\n  <td class=\"col2 brand\">\\n   <a class=\"blue\" href=\"/sg8179/\" target=\"_blank\">\\n    \\u6615\\u9510\\n   </a>\\n  </td>\\n  <td class=\"col3 price\">\\n   7.69-11.69\\u4e07\\n  </td>\\n  <td class=\"col4 relBrand\">\\n   \\u65af\\u67ef\\u8fbe\\n  </td>\\n  <td class=\"col5 salesNum\">\\n   7146\\n  </td>\\n  <td class=\"col6 salesSum\">\\n   64853\\n  </td>\\n  <td class=\"col7 links\">\\n   <a href=\"/sg8179/price.html\" target=\"_blank\">\\n    \\u62a5\\u4ef7\\n   </a>\\n   <a href=\"http://price.pcauto.com.cn/comment/sg8179/\" target=\"_blank\">\\n    \\u70b9\\u8bc4\\n   </a>\\n   <a href=\"/cars/sg8179/\" target=\"_blank\">\\n    \\u56fe\\u7247\\n   </a>\\n   <a href=\"/sg8179/config.html\" target=\"_blank\">\\n    \\u53c2\\u914d\\n   </a>\\n  </td>\\n </tr>\\n <tr>\\n  <td class=\"col1 index gray\">\\n   55\\n  </td>\\n  <td class=\"col2 brand\">\\n   <a class=\"blue\" href=\"/sg4591/\" target=\"_blank\">\\n    \\u5317\\u6597\\u661f\\n   </a>\\n  </td>\\n  <td class=\"col3 price\">\\n   3.99-4.49\\u4e07\\n  </td>\\n  <td class=\"col4 relBrand\">\\n   \\u94c3\\u6728\\n  </td>\\n  <td class=\"col5 salesNum\">\\n   7033\\n  </td>\\n  <td class=\"col6 salesSum\">\\n   30835\\n  </td>\\n  <td class=\"col7 links\">\\n   <a href=\"/sg4591/price.html\" target=\"_blank\">\\n    \\u62a5\\u4ef7\\n   </a>\\n   <a href=\"http://price.pcauto.com.cn/comment/sg4591/\" target=\"_blank\">\\n    \\u70b9\\u8bc4\\n   </a>\\n   <a href=\"/cars/sg4591/\" target=\"_blank\">\\n    \\u56fe\\u7247\\n   </a>\\n   <a href=\"/sg4591/config.html\" target=\"_blank\">\\n    \\u53c2\\u914d\\n   </a>\\n  </td>\\n </tr>\\n <tr>\\n  <td class=\"col1 index gray\">\\n   56\\n  </td>\\n  <td class=\"col2 brand\">\\n   <a class=\"blue\" href=\"/sg22188/\" target=\"_blank\">\\n    \\u9605\\u6717\\n   </a>\\n  </td>\\n  <td class=\"col3 price\">\\n   11.99-14.69\\u4e07\\n  </td>\\n  <td class=\"col4 relBrand\">\\n   \\u522b\\u514b\\n  </td>\\n  <td class=\"col5 salesNum\">\\n   6750\\n  </td>\\n  <td class=\"col6 salesSum\">\\n   13327\\n  </td>\\n  <td class=\"col7 links\">\\n   <a href=\"/sg22188/price.html\" target=\"_blank\">\\n    \\u62a5\\u4ef7\\n   </a>\\n   <a href=\"http://price.pcauto.com.cn/comment/sg22188/\" target=\"_blank\">\\n    \\u70b9\\u8bc4\\n   </a>\\n   <a href=\"/cars/sg22188/\" target=\"_blank\">\\n    \\u56fe\\u7247\\n   </a>\\n   <a href=\"/sg22188/config.html\" target=\"_blank\">\\n    \\u53c2\\u914d\\n   </a>\\n  </td>\\n </tr>\\n <tr>\\n  <td class=\"col1 index gray\">\\n   57\\n  </td>\\n  <td class=\"col2 brand\">\\n   <a class=\"blue\" href=\"/sg4447/\" target=\"_blank\">\\n    \\u6807\\u81f4408\\n   </a>\\n  </td>\\n  <td class=\"col3 price\">\\n   12.97-18.97\\u4e07\\n  </td>\\n  <td class=\"col4 relBrand\">\\n   \\u6807\\u81f4\\n  </td>\\n  <td class=\"col5 salesNum\">\\n   6359\\n  </td>\\n  <td class=\"col6 salesSum\">\\n   56735\\n  </td>\\n  <td class=\"col7 links\">\\n   <a href=\"/sg4447/price.html\" target=\"_blank\">\\n    \\u62a5\\u4ef7\\n   </a>\\n   <a href=\"http://price.pcauto.com.cn/comment/sg4447/\" target=\"_blank\">\\n    \\u70b9\\u8bc4\\n   </a>\\n   <a href=\"/cars/sg4447/\" target=\"_blank\">\\n    \\u56fe\\u7247\\n   </a>\\n   <a href=\"/sg4447/config.html\" target=\"_blank\">\\n    \\u53c2\\u914d\\n   </a>\\n  </td>\\n </tr>\\n <tr>\\n  <td class=\"col1 index gray\">\\n   58\\n  </td>\\n  <td class=\"col2 brand\">\\n   <a class=\"blue\" href=\"/sg3543/\" target=\"_blank\">\\n    \\u541b\\u5a01\\n   </a>\\n  </td>\\n  <td class=\"col3 price\">\\n   17.58-26.98\\u4e07\\n  </td>\\n  <td class=\"col4 relBrand\">\\n   \\u522b\\u514b\\n  </td>\\n  <td class=\"col5 salesNum\">\\n   6325\\n  </td>\\n  <td class=\"col6 salesSum\">\\n   61619\\n  </td>\\n  <td class=\"col7 links\">\\n   <a href=\"/sg3543/price.html\" target=\"_blank\">\\n    \\u62a5\\u4ef7\\n   </a>\\n   <a href=\"http://price.pcauto.com.cn/comment/sg3543/\" target=\"_blank\">\\n    \\u70b9\\u8bc4\\n   </a>\\n   <a href=\"/cars/sg3543/\" target=\"_blank\">\\n    \\u56fe\\u7247\\n   </a>\\n   <a href=\"/sg3543/config.html\" target=\"_blank\">\\n    \\u53c2\\u914d\\n   </a>\\n  </td>\\n </tr>\\n <tr>\\n  <td class=\"col1 index gray\">\\n   59\\n  </td>\\n  <td class=\"col2 brand\">\\n   <a class=\"blue\" href=\"/sg9301/\" target=\"_blank\">\\n    \\u51cc\\u6d3e\\n   </a>\\n  </td>\\n  <td class=\"col3 price\">\\n   10.98-14.98\\u4e07\\n  </td>\\n  <td class=\"col4 relBrand\">\\n   \\u672c\\u7530\\n  </td>\\n  <td class=\"col5 salesNum\">\\n   6200\\n  </td>\\n  <td class=\"col6 salesSum\">\\n   98930\\n  </td>\\n  <td class=\"col7 links\">\\n   <a href=\"/sg9301/price.html\" target=\"_blank\">\\n    \\u62a5\\u4ef7\\n   </a>\\n   <a href=\"http://price.pcauto.com.cn/comment/sg9301/\" target=\"_blank\">\\n    \\u70b9\\u8bc4\\n   </a>\\n   <a href=\"/cars/sg9301/\" target=\"_blank\">\\n    \\u56fe\\u7247\\n   </a>\\n   <a href=\"/sg9301/config.html\" target=\"_blank\">\\n    \\u53c2\\u914d\\n   </a>\\n  </td>\\n </tr>\\n <tr>\\n  <td class=\"col1 index gray\">\\n   60\\n  </td>\\n  <td class=\"col2 brand\">\\n   <a class=\"blue\" href=\"/sg3539/\" target=\"_blank\">\\n    \\u950b\\u8303\\n   </a>\\n  </td>\\n  <td class=\"col3 price\">\\n   7.98-11.98\\u4e07\\n  </td>\\n  <td class=\"col4 relBrand\">\\n   \\u672c\\u7530\\n  </td>\\n  <td class=\"col5 salesNum\">\\n   6196\\n  </td>\\n  <td class=\"col6 salesSum\">\\n   63662\\n  </td>\\n  <td class=\"col7 links\">\\n   <a href=\"/sg3539/price.html\" target=\"_blank\">\\n    \\u62a5\\u4ef7\\n   </a>\\n   <a href=\"http://price.pcauto.com.cn/comment/sg3539/\" target=\"_blank\">\\n    \\u70b9\\u8bc4\\n   </a>\\n   <a href=\"/cars/sg3539/\" target=\"_blank\">\\n    \\u56fe\\u7247\\n   </a>\\n   <a href=\"/sg3539/config.html\" target=\"_blank\">\\n    \\u53c2\\u914d\\n   </a>\\n  </td>\\n </tr>\\n <tr>\\n  <td class=\"col1 index gray\">\\n   61\\n  </td>\\n  <td class=\"col2 brand\">\\n   <a class=\"blue\" href=\"/sg7280/\" target=\"_blank\">\\n    \\u4e2d\\u534eH530\\n   </a>\\n  </td>\\n  <td class=\"col3 price\">\\n   8.58-13.98\\u4e07\\n  </td>\\n  <td class=\"col4 relBrand\">\\n   \\u4e2d\\u534e\\n  </td>\\n  <td class=\"col5 salesNum\">\\n   6000\\n  </td>\\n  <td class=\"col6 salesSum\">\\n   19701\\n  </td>\\n  <td class=\"col7 links\">\\n   <a href=\"/sg7280/price.html\" target=\"_blank\">\\n    \\u62a5\\u4ef7\\n   </a>\\n   <a href=\"http://price.pcauto.com.cn/comment/sg7280/\" target=\"_blank\">\\n    \\u70b9\\u8bc4\\n   </a>\\n   <a href=\"/cars/sg7280/\" target=\"_blank\">\\n    \\u56fe\\u7247\\n   </a>\\n   <a href=\"/sg7280/config.html\" target=\"_blank\">\\n    \\u53c2\\u914d\\n   </a>\\n  </td>\\n </tr>\\n <tr>\\n  <td class=\"col1 index gray\">\\n   62\\n  </td>\\n  <td class=\"col2 brand\">\\n   <a class=\"blue\" href=\"/sg21054/\" target=\"_blank\">\\n    \\u8363\\u5a01i6\\n   </a>\\n  </td>\\n  <td class=\"col3 price\">\\n   8.98-14.38\\u4e07\\n  </td>\\n  <td class=\"col4 relBrand\">\\n   \\u8363\\u5a01\\n  </td>\\n  <td class=\"col5 salesNum\">\\n   5924\\n  </td>\\n  <td class=\"col6 salesSum\">\\n   63770\\n  </td>\\n  <td class=\"col7 links\">\\n   <a href=\"/sg21054/price.html\" target=\"_blank\">\\n    \\u62a5\\u4ef7\\n   </a>\\n   <a href=\"http://price.pcauto.com.cn/comment/sg21054/\" target=\"_blank\">\\n    \\u70b9\\u8bc4\\n   </a>\\n   <a href=\"/cars/sg21054/\" target=\"_blank\">\\n    \\u56fe\\u7247\\n   </a>\\n   <a href=\"/sg21054/config.html\" target=\"_blank\">\\n    \\u53c2\\u914d\\n   </a>\\n  </td>\\n </tr>\\n <tr>\\n  <td class=\"col1 index gray\">\\n   63\\n  </td>\\n  <td class=\"col2 brand\">\\n   <a class=\"blue\" href=\"/sg11697/\" target=\"_blank\">\\n    \\u5947\\u745eeQ\\n   </a>\\n  </td>\\n  <td class=\"col3 price\">\\n   6.98-17.19\\u4e07\\n  </td>\\n  <td class=\"col4 relBrand\">\\n   \\u5947\\u745e\\n  </td>\\n  <td class=\"col5 salesNum\">\\n   5650\\n  </td>\\n  <td class=\"col6 salesSum\">\\n   21801\\n  </td>\\n  <td class=\"col7 links\">\\n   <a href=\"/sg11697/price.html\" target=\"_blank\">\\n    \\u62a5\\u4ef7\\n   </a>\\n   <a href=\"http://price.pcauto.com.cn/comment/sg11697/\" target=\"_blank\">\\n    \\u70b9\\u8bc4\\n   </a>\\n   <a href=\"/cars/sg11697/\" target=\"_blank\">\\n    \\u56fe\\u7247\\n   </a>\\n   <a href=\"/sg11697/config.html\" target=\"_blank\">\\n    \\u53c2\\u914d\\n   </a>\\n  </td>\\n </tr>\\n <tr>\\n  <td class=\"col1 index gray\">\\n   64\\n  </td>\\n  <td class=\"col2 brand\">\\n   <a class=\"blue\" href=\"/sg13625/\" target=\"_blank\">\\n    \\u5b9d\\u9a8fE100\\n   </a>\\n  </td>\\n  <td class=\"col3 price\">\\n   9.39-10.99\\u4e07\\n  </td>\\n  <td class=\"col4 relBrand\">\\n   \\u5b9d\\u9a8f\\n  </td>\\n  <td class=\"col5 salesNum\">\\n   5545\\n  </td>\\n  <td class=\"col6 salesSum\">\\n   11420\\n  </td>\\n  <td class=\"col7 links\">\\n   <a href=\"/sg13625/price.html\" target=\"_blank\">\\n    \\u62a5\\u4ef7\\n   </a>\\n   <a href=\"http://price.pcauto.com.cn/comment/sg13625/\" target=\"_blank\">\\n    \\u70b9\\u8bc4\\n   </a>\\n   <a href=\"/cars/sg13625/\" target=\"_blank\">\\n    \\u56fe\\u7247\\n   </a>\\n   <a href=\"/sg13625/config.html\" target=\"_blank\">\\n    \\u53c2\\u914d\\n   </a>\\n  </td>\\n </tr>\\n <tr>\\n  <td class=\"col1 index gray\">\\n   65\\n  </td>\\n  <td class=\"col2 brand\">\\n   <a class=\"blue\" href=\"/sg3686/\" target=\"_blank\">\\n    \\u540d\\u72356\\n   </a>\\n  </td>\\n  <td class=\"col3 price\">\\n   9.68-13.28\\u4e07\\n  </td>\\n  <td class=\"col4 relBrand\">\\n   MG\\u540d\\u7235\\n  </td>\\n  <td class=\"col5 salesNum\">\\n   5442\\n  </td>\\n  <td class=\"col6 salesSum\">\\n   8409\\n  </td>\\n  <td class=\"col7 links\">\\n   <a href=\"/sg3686/price.html\" target=\"_blank\">\\n    \\u62a5\\u4ef7\\n   </a>\\n   <a href=\"http://price.pcauto.com.cn/comment/sg3686/\" target=\"_blank\">\\n    \\u70b9\\u8bc4\\n   </a>\\n   <a href=\"/cars/sg3686/\" target=\"_blank\">\\n    \\u56fe\\u7247\\n   </a>\\n   <a href=\"/sg3686/config.html\" target=\"_blank\">\\n    \\u53c2\\u914d\\n   </a>\\n  </td>\\n </tr>\\n <tr>\\n  <td class=\"col1 index gray\">\\n   66\\n  </td>\\n  <td class=\"col2 brand\">\\n   <a class=\"blue\" href=\"/sg21704/\" target=\"_blank\">\\n    \\u777f\\u9a8bCC\\n   </a>\\n  </td>\\n  <td class=\"col3 price\">\\n   8.99-13.89\\u4e07\\n  </td>\\n  <td class=\"col4 relBrand\">\\n   \\u957f\\u5b89\\n  </td>\\n  <td class=\"col5 salesNum\">\\n   5440\\n  </td>\\n  <td class=\"col6 salesSum\">\\n   5440\\n  </td>\\n  <td class=\"col7 links\">\\n   <a href=\"/sg21704/price.html\" target=\"_blank\">\\n    \\u62a5\\u4ef7\\n   </a>\\n   <a href=\"http://price.pcauto.com.cn/comment/sg21704/\" target=\"_blank\">\\n    \\u70b9\\u8bc4\\n   </a>\\n   <a href=\"/cars/sg21704/\" target=\"_blank\">\\n    \\u56fe\\u7247\\n   </a>\\n   <a href=\"/sg21704/config.html\" target=\"_blank\">\\n    \\u53c2\\u914d\\n   </a>\\n  </td>\\n </tr>\\n <tr>\\n  <td class=\"col1 index gray\">\\n   67\\n  </td>\\n  <td class=\"col2 brand\">\\n   <a class=\"blue\" href=\"/sg10951/\" target=\"_blank\">\\n    \\u51ef\\u8fea\\u62c9\\u514bATS-L\\n   </a>\\n  </td>\\n  <td class=\"col3 price\">\\n   29.88-42.88\\u4e07\\n  </td>\\n  <td class=\"col4 relBrand\">\\n   \\u51ef\\u8fea\\u62c9\\u514b\\n  </td>\\n  <td class=\"col5 salesNum\">\\n   5395\\n  </td>\\n  <td class=\"col6 salesSum\">\\n   55682\\n  </td>\\n  <td class=\"col7 links\">\\n   <a href=\"/sg10951/price.html\" target=\"_blank\">\\n    \\u62a5\\u4ef7\\n   </a>\\n   <a href=\"http://price.pcauto.com.cn/comment/sg10951/\" target=\"_blank\">\\n    \\u70b9\\u8bc4\\n   </a>\\n   <a href=\"/cars/sg10951/\" target=\"_blank\">\\n    \\u56fe\\u7247\\n   </a>\\n   <a href=\"/sg10951/config.html\" target=\"_blank\">\\n    \\u53c2\\u914d\\n   </a>\\n  </td>\\n </tr>\\n <tr>\\n  <td class=\"col1 index gray\">\\n   68\\n  </td>\\n  <td class=\"col2 brand\">\\n   <a class=\"blue\" href=\"/sg3524/\" target=\"_blank\">\\n    \\u5965\\u8feaA4L\\n   </a>\\n  </td>\\n  <td class=\"col3 price\">\\n   29.28-41.40\\u4e07\\n  </td>\\n  <td class=\"col4 relBrand\">\\n   \\u5965\\u8fea\\n  </td>\\n  <td class=\"col5 salesNum\">\\n   5358\\n  </td>\\n  <td class=\"col6 salesSum\">\\n   115654\\n  </td>\\n  <td class=\"col7 links\">\\n   <a href=\"/sg3524/price.html\" target=\"_blank\">\\n    \\u62a5\\u4ef7\\n   </a>\\n   <a href=\"http://price.pcauto.com.cn/comment/sg3524/\" target=\"_blank\">\\n    \\u70b9\\u8bc4\\n   </a>\\n   <a href=\"/cars/sg3524/\" target=\"_blank\">\\n    \\u56fe\\u7247\\n   </a>\\n   <a href=\"/sg3524/config.html\" target=\"_blank\">\\n    \\u53c2\\u914d\\n   </a>\\n  </td>\\n </tr>\\n <tr>\\n  <td class=\"col1 index gray\">\\n   69\\n  </td>\\n  <td class=\"col2 brand\">\\n   <a class=\"blue\" href=\"/sg3163/\" target=\"_blank\">\\n    \\u5a01\\u9a70\\n   </a>\\n  </td>\\n  <td class=\"col3 price\">\\n   6.98-11.38\\u4e07\\n  </td>\\n  <td class=\"col4 relBrand\">\\n   \\u4e30\\u7530\\n  </td>\\n  <td class=\"col5 salesNum\">\\n   5307\\n  </td>\\n  <td class=\"col6 salesSum\">\\n   93626\\n  </td>\\n  <td class=\"col7 links\">\\n   <a href=\"/sg3163/price.html\" target=\"_blank\">\\n    \\u62a5\\u4ef7\\n   </a>\\n   <a href=\"http://price.pcauto.com.cn/comment/sg3163/\" target=\"_blank\">\\n    \\u70b9\\u8bc4\\n   </a>\\n   <a href=\"/cars/sg3163/\" target=\"_blank\">\\n    \\u56fe\\u7247\\n   </a>\\n   <a href=\"/sg3163/config.html\" target=\"_blank\">\\n    \\u53c2\\u914d\\n   </a>\\n  </td>\\n </tr>\\n <tr>\\n  <td class=\"col1 index gray\">\\n   70\\n  </td>\\n  <td class=\"col2 brand\">\\n   <a class=\"blue\" href=\"/sg10530/\" target=\"_blank\">\\n    \\u7ec5\\u5b9dD50\\n   </a>\\n  </td>\\n  <td class=\"col3 price\">\\n   6.79-11.38\\u4e07\\n  </td>\\n  <td class=\"col4 relBrand\">\\n   \\u5317\\u6c7d\\u7ec5\\u5b9d\\n  </td>\\n  <td class=\"col5 salesNum\">\\n   5274\\n  </td>\\n  <td class=\"col6 salesSum\">\\n   9476\\n  </td>\\n  <td class=\"col7 links\">\\n   <a href=\"/sg10530/price.html\" target=\"_blank\">\\n    \\u62a5\\u4ef7\\n   </a>\\n   <a href=\"http://price.pcauto.com.cn/comment/sg10530/\" target=\"_blank\">\\n    \\u70b9\\u8bc4\\n   </a>\\n   <a href=\"/cars/sg10530/\" target=\"_blank\">\\n    \\u56fe\\u7247\\n   </a>\\n   <a href=\"/sg10530/config.html\" target=\"_blank\">\\n    \\u53c2\\u914d\\n   </a>\\n  </td>\\n </tr>\\n <tr>\\n  <td class=\"col1 index gray\">\\n   71\\n  </td>\\n  <td class=\"col2 brand\">\\n   <a class=\"blue\" href=\"/sg52/\" target=\"_blank\">\\n    \\u901f\\u6d3e\\n   </a>\\n  </td>\\n  <td class=\"col3 price\">\\n   16.98-27.28\\u4e07\\n  </td>\\n  <td class=\"col4 relBrand\">\\n   \\u65af\\u67ef\\u8fbe\\n  </td>\\n  <td class=\"col5 salesNum\">\\n   5041\\n  </td>\\n  <td class=\"col6 salesSum\">\\n   40384\\n  </td>\\n  <td class=\"col7 links\">\\n   <a href=\"/sg52/price.html\" target=\"_blank\">\\n    \\u62a5\\u4ef7\\n   </a>\\n   <a href=\"http://price.pcauto.com.cn/comment/sg52/\" target=\"_blank\">\\n    \\u70b9\\u8bc4\\n   </a>\\n   <a href=\"/cars/sg52/\" target=\"_blank\">\\n    \\u56fe\\u7247\\n   </a>\\n   <a href=\"/sg52/config.html\" target=\"_blank\">\\n    \\u53c2\\u914d\\n   </a>\\n  </td>\\n </tr>\\n <tr>\\n  <td class=\"col1 index gray\">\\n   72\\n  </td>\\n  <td class=\"col2 brand\">\\n   <a class=\"blue\" href=\"/sg10560/\" target=\"_blank\">\\n    \\u963f\\u7279\\u5179\\n   </a>\\n  </td>\\n  <td class=\"col3 price\">\\n   17.58-23.78\\u4e07\\n  </td>\\n  <td class=\"col4 relBrand\">\\n   \\u9a6c\\u81ea\\u8fbe\\n  </td>\\n  <td class=\"col5 salesNum\">\\n   5002\\n  </td>\\n  <td class=\"col6 salesSum\">\\n   50057\\n  </td>\\n  <td class=\"col7 links\">\\n   <a href=\"/sg10560/price.html\" target=\"_blank\">\\n    \\u62a5\\u4ef7\\n   </a>\\n   <a href=\"http://price.pcauto.com.cn/comment/sg10560/\" target=\"_blank\">\\n    \\u70b9\\u8bc4\\n   </a>\\n   <a href=\"/cars/sg10560/\" target=\"_blank\">\\n    \\u56fe\\u7247\\n   </a>\\n   <a href=\"/sg10560/config.html\" target=\"_blank\">\\n    \\u53c2\\u914d\\n   </a>\\n  </td>\\n </tr>\\n <tr>\\n  <td class=\"col1 index gray\">\\n   73\\n  </td>\\n  <td class=\"col2 brand\">\\n   <a class=\"blue\" href=\"/sg20454/\" target=\"_blank\">\\n    \\u6c5f\\u94c3E200\\n   </a>\\n  </td>\\n  <td class=\"col3 price\">\\n   17.98-18.28\\u4e07\\n  </td>\\n  <td class=\"col4 relBrand\">\\n   \\u6c5f\\u94c3\\u96c6\\u56e2\\u65b0\\u80fd\\u6e90\\n  </td>\\n  <td class=\"col5 salesNum\">\\n   4914\\n  </td>\\n  <td class=\"col6 salesSum\">\\n   15699\\n  </td>\\n  <td class=\"col7 links\">\\n   <a href=\"/sg20454/price.html\" target=\"_blank\">\\n    \\u62a5\\u4ef7\\n   </a>\\n   <a href=\"http://price.pcauto.com.cn/comment/sg20454/\" target=\"_blank\">\\n    \\u70b9\\u8bc4\\n   </a>\\n   <a href=\"/cars/sg20454/\" target=\"_blank\">\\n    \\u56fe\\u7247\\n   </a>\\n   <a href=\"/sg20454/config.html\" target=\"_blank\">\\n    \\u53c2\\u914d\\n   </a>\\n  </td>\\n </tr>\\n <tr>\\n  <td class=\"col1 index gray\">\\n   74\\n  </td>\\n  <td class=\"col2 brand\">\\n   <a class=\"blue\" href=\"/sg3187/\" target=\"_blank\">\\n    \\u5168\\u65b0\\u7231\\u4e3d\\u820d\\n   </a>\\n  </td>\\n  <td class=\"col3 price\">\\n   8.38-10.48\\u4e07\\n  </td>\\n  <td class=\"col4 relBrand\">\\n   \\u96ea\\u94c1\\u9f99\\n  </td>\\n  <td class=\"col5 salesNum\">\\n   4873\\n  </td>\\n  <td class=\"col6 salesSum\">\\n   47459\\n  </td>\\n  <td class=\"col7 links\">\\n   <a href=\"/sg3187/price.html\" target=\"_blank\">\\n    \\u62a5\\u4ef7\\n   </a>\\n   <a href=\"http://price.pcauto.com.cn/comment/sg3187/\" target=\"_blank\">\\n    \\u70b9\\u8bc4\\n   </a>\\n   <a href=\"/cars/sg3187/\" target=\"_blank\">\\n    \\u56fe\\u7247\\n   </a>\\n   <a href=\"/sg3187/config.html\" target=\"_blank\">\\n    \\u53c2\\u914d\\n   </a>\\n  </td>\\n </tr>\\n <tr>\\n  <td class=\"col1 index gray\">\\n   75\\n  </td>\\n  <td class=\"col2 brand\">\\n   <a class=\"blue\" href=\"/sg9550/\" target=\"_blank\">\\n    \\u5965\\u8feaA3\\n   </a>\\n  </td>\\n  <td class=\"col3 price\">\\n   18.80-25.80\\u4e07\\n  </td>\\n  <td class=\"col4 relBrand\">\\n   \\u5965\\u8fea\\n  </td>\\n  <td class=\"col5 salesNum\">\\n   4770\\n  </td>\\n  <td class=\"col6 salesSum\">\\n   82735\\n  </td>\\n  <td class=\"col7 links\">\\n   <a href=\"/sg9550/price.html\" target=\"_blank\">\\n    \\u62a5\\u4ef7\\n   </a>\\n   <a href=\"http://price.pcauto.com.cn/comment/sg9550/\" target=\"_blank\">\\n    \\u70b9\\u8bc4\\n   </a>\\n   <a href=\"/cars/sg9550/\" target=\"_blank\">\\n    \\u56fe\\u7247\\n   </a>\\n   <a href=\"/sg9550/config.html\" target=\"_blank\">\\n    \\u53c2\\u914d\\n   </a>\\n  </td>\\n </tr>\\n <tr>\\n  <td class=\"col1 index gray\">\\n   76\\n  </td>\\n  <td class=\"col2 brand\">\\n   <a class=\"blue\" href=\"/sg11404/\" target=\"_blank\">\\n    \\u535a\\u745e\\n   </a>\\n  </td>\\n  <td class=\"col3 price\">\\n   11.98-17.98\\u4e07\\n  </td>\\n  <td class=\"col4 relBrand\">\\n   \\u5409\\u5229\\u6c7d\\u8f66\\n  </td>\\n  <td class=\"col5 salesNum\">\\n   4727\\n  </td>\\n  <td class=\"col6 salesSum\">\\n   42760\\n  </td>\\n  <td class=\"col7 links\">\\n   <a href=\"/sg11404/price.html\" target=\"_blank\">\\n    \\u62a5\\u4ef7\\n   </a>\\n   <a href=\"http://price.pcauto.com.cn/comment/sg11404/\" target=\"_blank\">\\n    \\u70b9\\u8bc4\\n   </a>\\n   <a href=\"/cars/sg11404/\" target=\"_blank\">\\n    \\u56fe\\u7247\\n   </a>\\n   <a href=\"/sg11404/config.html\" target=\"_blank\">\\n    \\u53c2\\u914d\\n   </a>\\n  </td>\\n </tr>\\n <tr>\\n  <td class=\"col1 index gray\">\\n   77\\n  </td>\\n  <td class=\"col2 brand\">\\n   <a class=\"blue\" href=\"/sg8120/\" target=\"_blank\">\\n    \\u79e6\\n   </a>\\n  </td>\\n  <td class=\"col3 price\">\\n   18.59-25.59\\u4e07\\n  </td>\\n  <td class=\"col4 relBrand\">\\n   \\u6bd4\\u4e9a\\u8fea\\n  </td>\\n  <td class=\"col5 salesNum\">\\n   4583\\n  </td>\\n  <td class=\"col6 salesSum\">\\n   25048\\n  </td>\\n  <td class=\"col7 links\">\\n   <a href=\"/sg8120/price.html\" target=\"_blank\">\\n    \\u62a5\\u4ef7\\n   </a>\\n   <a href=\"http://price.pcauto.com.cn/comment/sg8120/\" target=\"_blank\">\\n    \\u70b9\\u8bc4\\n   </a>\\n   <a href=\"/cars/sg8120/\" target=\"_blank\">\\n    \\u56fe\\u7247\\n   </a>\\n   <a href=\"/sg8120/config.html\" target=\"_blank\">\\n    \\u53c2\\u914d\\n   </a>\\n  </td>\\n </tr>\\n <tr>\\n  <td class=\"col1 index gray\">\\n   78\\n  </td>\\n  <td class=\"col2 brand\">\\n   <a class=\"blue\" href=\"/sg9666/\" target=\"_blank\">\\n    YARiS L \\u81f4\\u70ab\\n   </a>\\n  </td>\\n  <td class=\"col3 price\">\\n   6.98-10.48\\u4e07\\n  </td>\\n  <td class=\"col4 relBrand\">\\n   \\u4e30\\u7530\\n  </td>\\n  <td class=\"col5 salesNum\">\\n   4417\\n  </td>\\n  <td class=\"col6 salesSum\">\\n   54089\\n  </td>\\n  <td class=\"col7 links\">\\n   <a href=\"/sg9666/price.html\" target=\"_blank\">\\n    \\u62a5\\u4ef7\\n   </a>\\n   <a href=\"http://price.pcauto.com.cn/comment/sg9666/\" target=\"_blank\">\\n    \\u70b9\\u8bc4\\n   </a>\\n   <a href=\"/cars/sg9666/\" target=\"_blank\">\\n    \\u56fe\\u7247\\n   </a>\\n   <a href=\"/sg9666/config.html\" target=\"_blank\">\\n    \\u53c2\\u914d\\n   </a>\\n  </td>\\n </tr>\\n <tr>\\n  <td class=\"col1 index gray\">\\n   79\\n  </td>\\n  <td class=\"col2 brand\">\\n   <a class=\"blue\" href=\"/sg9191/\" target=\"_blank\">\\n    \\u6717\\u884c\\n   </a>\\n  </td>\\n  <td class=\"col3 price\">\\n   11.29-16.29\\u4e07\\n  </td>\\n  <td class=\"col4 relBrand\">\\n   \\u5927\\u4f17\\n  </td>\\n  <td class=\"col5 salesNum\">\\n   4403\\n  </td>\\n  <td class=\"col6 salesSum\">\\n   56194\\n  </td>\\n  <td class=\"col7 links\">\\n   <a href=\"/sg9191/price.html\" target=\"_blank\">\\n    \\u62a5\\u4ef7\\n   </a>\\n   <a href=\"http://price.pcauto.com.cn/comment/sg9191/\" target=\"_blank\">\\n    \\u70b9\\u8bc4\\n   </a>\\n   <a href=\"/cars/sg9191/\" target=\"_blank\">\\n    \\u56fe\\u7247\\n   </a>\\n   <a href=\"/sg9191/config.html\" target=\"_blank\">\\n    \\u53c2\\u914d\\n   </a>\\n  </td>\\n </tr>\\n <tr>\\n  <td class=\"col1 index gray\">\\n   80\\n  </td>\\n  <td class=\"col2 brand\">\\n   <a class=\"blue\" href=\"/sg13350/\" target=\"_blank\">\\n    \\u5361\\u7f57\\u62c9\\u53cc\\u64ce\\n   </a>\\n  </td>\\n  <td class=\"col3 price\">\\n   13.98-17.58\\u4e07\\n  </td>\\n  <td class=\"col4 relBrand\">\\n   \\u4e30\\u7530\\n  </td>\\n  <td class=\"col5 salesNum\">\\n   4392\\n  </td>\\n  <td class=\"col6 salesSum\">\\n   4392\\n  </td>\\n  <td class=\"col7 links\">\\n   <a href=\"/sg13350/price.html\" target=\"_blank\">\\n    \\u62a5\\u4ef7\\n   </a>\\n   <a href=\"http://price.pcauto.com.cn/comment/sg13350/\" target=\"_blank\">\\n    \\u70b9\\u8bc4\\n   </a>\\n   <a href=\"/cars/sg13350/\" target=\"_blank\">\\n    \\u56fe\\u7247\\n   </a>\\n   <a href=\"/sg13350/config.html\" target=\"_blank\">\\n    \\u53c2\\u914d\\n   </a>\\n  </td>\\n </tr>\\n <tr>\\n  <td class=\"col1 index gray\">\\n   81\\n  </td>\\n  <td class=\"col2 brand\">\\n   <a class=\"blue\" href=\"/sg13351/\" target=\"_blank\">\\n    \\u96f7\\u51cc\\u53cc\\u64ce\\n   </a>\\n  </td>\\n  <td class=\"col3 price\">\\n   13.98-15.98\\u4e07\\n  </td>\\n  <td class=\"col4 relBrand\">\\n   \\u4e30\\u7530\\n  </td>\\n  <td class=\"col5 salesNum\">\\n   4377\\n  </td>\\n  <td class=\"col6 salesSum\">\\n   8241\\n  </td>\\n  <td class=\"col7 links\">\\n   <a href=\"/sg13351/price.html\" target=\"_blank\">\\n    \\u62a5\\u4ef7\\n   </a>\\n   <a href=\"http://price.pcauto.com.cn/comment/sg13351/\" target=\"_blank\">\\n    \\u70b9\\u8bc4\\n   </a>\\n   <a href=\"/cars/sg13351/\" target=\"_blank\">\\n    \\u56fe\\u7247\\n   </a>\\n   <a href=\"/sg13351/config.html\" target=\"_blank\">\\n    \\u53c2\\u914d\\n   </a>\\n  </td>\\n </tr>\\n <tr>\\n  <td class=\"col1 index gray\">\\n   82\\n  </td>\\n  <td class=\"col2 brand\">\\n   <a class=\"blue\" href=\"/sg21435/\" target=\"_blank\">\\n    \\u5954\\u5954\\u65b0\\u80fd\\u6e90\\n   </a>\\n  </td>\\n  <td class=\"col3 price\">\\n   15.48-17.18\\u4e07\\n  </td>\\n  <td class=\"col4 relBrand\">\\n   \\u957f\\u5b89\\n  </td>\\n  <td class=\"col5 salesNum\">\\n   4353\\n  </td>\\n  <td class=\"col6 salesSum\">\\n   19639\\n  </td>\\n  <td class=\"col7 links\">\\n   <a href=\"/sg21435/price.html\" target=\"_blank\">\\n    \\u62a5\\u4ef7\\n   </a>\\n   <a href=\"http://price.pcauto.com.cn/comment/sg21435/\" target=\"_blank\">\\n    \\u70b9\\u8bc4\\n   </a>\\n   <a href=\"/cars/sg21435/\" target=\"_blank\">\\n    \\u56fe\\u7247\\n   </a>\\n   <a href=\"/sg21435/config.html\" target=\"_blank\">\\n    \\u53c2\\u914d\\n   </a>\\n  </td>\\n </tr>\\n <tr>\\n  <td class=\"col1 index gray\">\\n   83\\n  </td>\\n  <td class=\"col2 brand\">\\n   <a class=\"blue\" href=\"/sg9322/\" target=\"_blank\">\\n    \\u6770\\u5fb7\\n   </a>\\n  </td>\\n  <td class=\"col3 price\">\\n   12.99-17.99\\u4e07\\n  </td>\\n  <td class=\"col4 relBrand\">\\n   \\u672c\\u7530\\n  </td>\\n  <td class=\"col5 salesNum\">\\n   4202\\n  </td>\\n  <td class=\"col6 salesSum\">\\n   43012\\n  </td>\\n  <td class=\"col7 links\">\\n   <a href=\"/sg9322/price.html\" target=\"_blank\">\\n    \\u62a5\\u4ef7\\n   </a>\\n   <a href=\"http://price.pcauto.com.cn/comment/sg9322/\" target=\"_blank\">\\n    \\u70b9\\u8bc4\\n   </a>\\n   <a href=\"/cars/sg9322/\" target=\"_blank\">\\n    \\u56fe\\u7247\\n   </a>\\n   <a href=\"/sg9322/config.html\" target=\"_blank\">\\n    \\u53c2\\u914d\\n   </a>\\n  </td>\\n </tr>\\n <tr>\\n  <td class=\"col1 index gray\">\\n   84\\n  </td>\\n  <td class=\"col2 brand\">\\n   <a class=\"blue\" href=\"/sg3734/\" target=\"_blank\">\\n    \\u798f\\u745e\\u8fea\\n   </a>\\n  </td>\\n  <td class=\"col3 price\">\\n   7.88-11.98\\u4e07\\n  </td>\\n  <td class=\"col4 relBrand\">\\n   \\u8d77\\u4e9a\\n  </td>\\n  <td class=\"col5 salesNum\">\\n   4039\\n  </td>\\n  <td class=\"col6 salesSum\">\\n   10302\\n  </td>\\n  <td class=\"col7 links\">\\n   <a href=\"/sg3734/price.html\" target=\"_blank\">\\n    \\u62a5\\u4ef7\\n   </a>\\n   <a href=\"http://price.pcauto.com.cn/comment/sg3734/\" target=\"_blank\">\\n    \\u70b9\\u8bc4\\n   </a>\\n   <a href=\"/cars/sg3734/\" target=\"_blank\">\\n    \\u56fe\\u7247\\n   </a>\\n   <a href=\"/sg3734/config.html\" target=\"_blank\">\\n    \\u53c2\\u914d\\n   </a>\\n  </td>\\n </tr>\\n <tr>\\n  <td class=\"col1 index gray\">\\n   85\\n  </td>\\n  <td class=\"col2 brand\">\\n   <a class=\"blue\" href=\"/sg12774/\" target=\"_blank\">\\n    \\u8363\\u5a01360\\n   </a>\\n  </td>\\n  <td class=\"col3 price\">\\n   7.59-12.99\\u4e07\\n  </td>\\n  <td class=\"col4 relBrand\">\\n   \\u8363\\u5a01\\n  </td>\\n  <td class=\"col5 salesNum\">\\n   4023\\n  </td>\\n  <td class=\"col6 salesSum\">\\n   51367\\n  </td>\\n  <td class=\"col7 links\">\\n   <a href=\"/sg12774/price.html\" target=\"_blank\">\\n    \\u62a5\\u4ef7\\n   </a>\\n   <a href=\"http://price.pcauto.com.cn/comment/sg12774/\" target=\"_blank\">\\n    \\u70b9\\u8bc4\\n   </a>\\n   <a href=\"/cars/sg12774/\" target=\"_blank\">\\n    \\u56fe\\u7247\\n   </a>\\n   <a href=\"/sg12774/config.html\" target=\"_blank\">\\n    \\u53c2\\u914d\\n   </a>\\n  </td>\\n </tr>\\n <tr>\\n  <td class=\"col1 index gray\">\\n   86\\n  </td>\\n  <td class=\"col2 brand\">\\n   <a class=\"blue\" href=\"/sg3174/\" target=\"_blank\">\\n    \\u60a6\\u52a8\\n   </a>\\n  </td>\\n  <td class=\"col3 price\">\\n   7.88-12.08\\u4e07\\n  </td>\\n  <td class=\"col4 relBrand\">\\n   \\u73b0\\u4ee3\\n  </td>\\n  <td class=\"col5 salesNum\">\\n   3874\\n  </td>\\n  <td class=\"col6 salesSum\">\\n   27723\\n  </td>\\n  <td class=\"col7 links\">\\n   <a href=\"/sg3174/price.html\" target=\"_blank\">\\n    \\u62a5\\u4ef7\\n   </a>\\n   <a href=\"http://price.pcauto.com.cn/comment/sg3174/\" target=\"_blank\">\\n    \\u70b9\\u8bc4\\n   </a>\\n   <a href=\"/cars/sg3174/\" target=\"_blank\">\\n    \\u56fe\\u7247\\n   </a>\\n   <a href=\"/sg3174/config.html\" target=\"_blank\">\\n    \\u53c2\\u914d\\n   </a>\\n  </td>\\n </tr>\\n <tr>\\n  <td class=\"col1 index gray\">\\n   87\\n  </td>\\n  <td class=\"col2 brand\">\\n   <a class=\"blue\" href=\"/sg20843/\" target=\"_blank\">\\n    \\u851a\\u9886\\n   </a>\\n  </td>\\n  <td class=\"col3 price\">\\n   12.59-16.29\\u4e07\\n  </td>\\n  <td class=\"col4 relBrand\">\\n   \\u5927\\u4f17\\n  </td>\\n  <td class=\"col5 salesNum\">\\n   3677\\n  </td>\\n  <td class=\"col6 salesSum\">\\n   63248\\n  </td>\\n  <td class=\"col7 links\">\\n   <a href=\"/sg20843/price.html\" target=\"_blank\">\\n    \\u62a5\\u4ef7\\n   </a>\\n   <a href=\"http://price.pcauto.com.cn/comment/sg20843/\" target=\"_blank\">\\n    \\u70b9\\u8bc4\\n   </a>\\n   <a href=\"/cars/sg20843/\" target=\"_blank\">\\n    \\u56fe\\u7247\\n   </a>\\n   <a href=\"/sg20843/config.html\" target=\"_blank\">\\n    \\u53c2\\u914d\\n   </a>\\n  </td>\\n </tr>\\n <tr>\\n  <td class=\"col1 index gray\">\\n   88\\n  </td>\\n  <td class=\"col2 brand\">\\n   <a class=\"blue\" href=\"/sg20583/\" target=\"_blank\">\\n    \\u5b9d\\u9a6c1\\u7cfb\\n   </a>\\n  </td>\\n  <td class=\"col3 price\">\\n   20.48-31.98\\u4e07\\n  </td>\\n  <td class=\"col4 relBrand\">\\n   \\u5b9d\\u9a6c\\n  </td>\\n  <td class=\"col5 salesNum\">\\n   3554\\n  </td>\\n  <td class=\"col6 salesSum\">\\n   34774\\n  </td>\\n  <td class=\"col7 links\">\\n   <a href=\"/sg20583/price.html\" target=\"_blank\">\\n    \\u62a5\\u4ef7\\n   </a>\\n   <a href=\"http://price.pcauto.com.cn/comment/sg20583/\" target=\"_blank\">\\n    \\u70b9\\u8bc4\\n   </a>\\n   <a href=\"/cars/sg20583/\" target=\"_blank\">\\n    \\u56fe\\u7247\\n   </a>\\n   <a href=\"/sg20583/config.html\" target=\"_blank\">\\n    \\u53c2\\u914d\\n   </a>\\n  </td>\\n </tr>\\n <tr>\\n  <td class=\"col1 index gray\">\\n   89\\n  </td>\\n  <td class=\"col2 brand\">\\n   <a class=\"blue\" href=\"/sg13018/\" target=\"_blank\">\\n    C4\\u4e16\\u5609\\n   </a>\\n  </td>\\n  <td class=\"col3 price\">\\n   9.88-16.48\\u4e07\\n  </td>\\n  <td class=\"col4 relBrand\">\\n   \\u96ea\\u94c1\\u9f99\\n  </td>\\n  <td class=\"col5 salesNum\">\\n   3488\\n  </td>\\n  <td class=\"col6 salesSum\">\\n   13728\\n  </td>\\n  <td class=\"col7 links\">\\n   <a href=\"/sg13018/price.html\" target=\"_blank\">\\n    \\u62a5\\u4ef7\\n   </a>\\n   <a href=\"http://price.pcauto.com.cn/comment/sg13018/\" target=\"_blank\">\\n    \\u70b9\\u8bc4\\n   </a>\\n   <a href=\"/cars/sg13018/\" target=\"_blank\">\\n    \\u56fe\\u7247\\n   </a>\\n   <a href=\"/sg13018/config.html\" target=\"_blank\">\\n    \\u53c2\\u914d\\n   </a>\\n  </td>\\n </tr>\\n <tr>\\n  <td class=\"col1 index gray\">\\n   90\\n  </td>\\n  <td class=\"col2 brand\">\\n   <a class=\"blue\" href=\"/sg8019/\" target=\"_blank\">\\n    \\u4e2d\\u534eH230\\n   </a>\\n  </td>\\n  <td class=\"col3 price\">\\n   5.58-8.15\\u4e07\\n  </td>\\n  <td class=\"col4 relBrand\">\\n   \\u4e2d\\u534e\\n  </td>\\n  <td class=\"col5 salesNum\">\\n   3456\\n  </td>\\n  <td class=\"col6 salesSum\">\\n   9566\\n  </td>\\n  <td class=\"col7 links\">\\n   <a href=\"/sg8019/price.html\" target=\"_blank\">\\n    \\u62a5\\u4ef7\\n   </a>\\n   <a href=\"http://price.pcauto.com.cn/comment/sg8019/\" target=\"_blank\">\\n    \\u70b9\\u8bc4\\n   </a>\\n   <a href=\"/cars/sg8019/\" target=\"_blank\">\\n    \\u56fe\\u7247\\n   </a>\\n   <a href=\"/sg8019/config.html\" target=\"_blank\">\\n    \\u53c2\\u914d\\n   </a>\\n  </td>\\n </tr>\\n <tr>\\n  <td class=\"col1 index gray\">\\n   91\\n  </td>\\n  <td class=\"col2 brand\">\\n   <a class=\"blue\" href=\"/sg933/\" target=\"_blank\">\\n    \\u7687\\u51a0\\n   </a>\\n  </td>\\n  <td class=\"col3 price\">\\n   25.48-39.18\\u4e07\\n  </td>\\n  <td class=\"col4 relBrand\">\\n   \\u4e30\\u7530\\n  </td>\\n  <td class=\"col5 salesNum\">\\n   3317\\n  </td>\\n  <td class=\"col6 salesSum\">\\n   37455\\n  </td>\\n  <td class=\"col7 links\">\\n   <a href=\"/sg933/price.html\" target=\"_blank\">\\n    \\u62a5\\u4ef7\\n   </a>\\n   <a href=\"http://price.pcauto.com.cn/comment/sg933/\" target=\"_blank\">\\n    \\u70b9\\u8bc4\\n   </a>\\n   <a href=\"/cars/sg933/\" target=\"_blank\">\\n    \\u56fe\\u7247\\n   </a>\\n   <a href=\"/sg933/config.html\" target=\"_blank\">\\n    \\u53c2\\u914d\\n   </a>\\n  </td>\\n </tr>\\n <tr>\\n  <td class=\"col1 index gray\">\\n   92\\n  </td>\\n  <td class=\"col2 brand\">\\n   <a class=\"blue\" href=\"/sg20543/\" target=\"_blank\">\\n    \\u6c83\\u5c14\\u6c83S90\\n   </a>\\n  </td>\\n  <td class=\"col3 price\">\\n   36.98-55.18\\u4e07\\n  </td>\\n  <td class=\"col4 relBrand\">\\n   \\u6c83\\u5c14\\u6c83\\n  </td>\\n  <td class=\"col5 salesNum\">\\n   3304\\n  </td>\\n  <td class=\"col6 salesSum\">\\n   20674\\n  </td>\\n  <td class=\"col7 links\">\\n   <a href=\"/sg20543/price.html\" target=\"_blank\">\\n    \\u62a5\\u4ef7\\n   </a>\\n   <a href=\"http://price.pcauto.com.cn/comment/sg20543/\" target=\"_blank\">\\n    \\u70b9\\u8bc4\\n   </a>\\n   <a href=\"/cars/sg20543/\" target=\"_blank\">\\n    \\u56fe\\u7247\\n   </a>\\n   <a href=\"/sg20543/config.html\" target=\"_blank\">\\n    \\u53c2\\u914d\\n   </a>\\n  </td>\\n </tr>\\n <tr>\\n  <td class=\"col1 index gray\">\\n   93\\n  </td>\\n  <td class=\"col2 brand\">\\n   <a class=\"blue\" href=\"/sg13388/\" target=\"_blank\">\\n    EU\\u7cfb\\u5217\\n   </a>\\n  </td>\\n  <td class=\"col3 price\">\\n   20.59-22.49\\u4e07\\n  </td>\\n  <td class=\"col4 relBrand\">\\n   \\u5317\\u6c7d\\u65b0\\u80fd\\u6e90\\n  </td>\\n  <td class=\"col5 salesNum\">\\n   3247\\n  </td>\\n  <td class=\"col6 salesSum\">\\n   11934\\n  </td>\\n  <td class=\"col7 links\">\\n   <a href=\"/sg13388/price.html\" target=\"_blank\">\\n    \\u62a5\\u4ef7\\n   </a>\\n   <a href=\"http://price.pcauto.com.cn/comment/sg13388/\" target=\"_blank\">\\n    \\u70b9\\u8bc4\\n   </a>\\n   <a href=\"/cars/sg13388/\" target=\"_blank\">\\n    \\u56fe\\u7247\\n   </a>\\n   <a href=\"/sg13388/config.html\" target=\"_blank\">\\n    \\u53c2\\u914d\\n   </a>\\n  </td>\\n </tr>\\n <tr>\\n  <td class=\"col1 index gray\">\\n   94\\n  </td>\\n  <td class=\"col2 brand\">\\n   <a class=\"blue\" href=\"/sg13918/\" target=\"_blank\">\\n    \\u8f89\\u6602\\n   </a>\\n  </td>\\n  <td class=\"col3 price\">\\n   34.90-65.90\\u4e07\\n  </td>\\n  <td class=\"col4 relBrand\">\\n   \\u5927\\u4f17\\n  </td>\\n  <td class=\"col5 salesNum\">\\n   3245\\n  </td>\\n  <td class=\"col6 salesSum\">\\n   13158\\n  </td>\\n  <td class=\"col7 links\">\\n   <a href=\"/sg13918/price.html\" target=\"_blank\">\\n    \\u62a5\\u4ef7\\n   </a>\\n   <a href=\"http://price.pcauto.com.cn/comment/sg13918/\" target=\"_blank\">\\n    \\u70b9\\u8bc4\\n   </a>\\n   <a href=\"/cars/sg13918/\" target=\"_blank\">\\n    \\u56fe\\u7247\\n   </a>\\n   <a href=\"/sg13918/config.html\" target=\"_blank\">\\n    \\u53c2\\u914d\\n   </a>\\n  </td>\\n </tr>\\n <tr>\\n  <td class=\"col1 index gray\">\\n   95\\n  </td>\\n  <td class=\"col2 brand\">\\n   <a class=\"blue\" href=\"/sg21084/\" target=\"_blank\">\\n    YARiS L \\u81f4\\u4eab\\n   </a>\\n  </td>\\n  <td class=\"col3 price\">\\n   6.98-10.68\\u4e07\\n  </td>\\n  <td class=\"col4 relBrand\">\\n   \\u4e30\\u7530\\n  </td>\\n  <td class=\"col5 salesNum\">\\n   3224\\n  </td>\\n  <td class=\"col6 salesSum\">\\n   40414\\n  </td>\\n  <td class=\"col7 links\">\\n   <a href=\"/sg21084/price.html\" target=\"_blank\">\\n    \\u62a5\\u4ef7\\n   </a>\\n   <a href=\"http://price.pcauto.com.cn/comment/sg21084/\" target=\"_blank\">\\n    \\u70b9\\u8bc4\\n   </a>\\n   <a href=\"/cars/sg21084/\" target=\"_blank\">\\n    \\u56fe\\u7247\\n   </a>\\n   <a href=\"/sg21084/config.html\" target=\"_blank\">\\n    \\u53c2\\u914d\\n   </a>\\n  </td>\\n </tr>\\n <tr>\\n  <td class=\"col1 index gray\">\\n   96\\n  </td>\\n  <td class=\"col2 brand\">\\n   <a class=\"blue\" href=\"/sg20652/\" target=\"_blank\">\\n    \\u7ade\\u745e\\n   </a>\\n  </td>\\n  <td class=\"col3 price\">\\n   8.99-12.79\\u4e07\\n  </td>\\n  <td class=\"col4 relBrand\">\\n   \\u672c\\u7530\\n  </td>\\n  <td class=\"col5 salesNum\">\\n   3076\\n  </td>\\n  <td class=\"col6 salesSum\">\\n   27675\\n  </td>\\n  <td class=\"col7 links\">\\n   <a href=\"/sg20652/price.html\" target=\"_blank\">\\n    \\u62a5\\u4ef7\\n   </a>\\n   <a href=\"http://price.pcauto.com.cn/comment/sg20652/\" target=\"_blank\">\\n    \\u70b9\\u8bc4\\n   </a>\\n   <a href=\"/cars/sg20652/\" target=\"_blank\">\\n    \\u56fe\\u7247\\n   </a>\\n   <a href=\"/sg20652/config.html\" target=\"_blank\">\\n    \\u53c2\\u914d\\n   </a>\\n  </td>\\n </tr>\\n <tr>\\n  <td class=\"col1 index gray\">\\n   97\\n  </td>\\n  <td class=\"col2 brand\">\\n   <a class=\"blue\" href=\"/sg21432/\" target=\"_blank\">\\n    \\u5e1d\\u8c6a\\u65b0\\u80fd\\u6e90\\n   </a>\\n  </td>\\n  <td class=\"col3 price\">\\n   16.58-21.58\\u4e07\\n  </td>\\n  <td class=\"col4 relBrand\">\\n   \\u5409\\u5229\\u6c7d\\u8f66\\n  </td>\\n  <td class=\"col5 salesNum\">\\n   2984\\n  </td>\\n  <td class=\"col6 salesSum\">\\n   21059\\n  </td>\\n  <td class=\"col7 links\">\\n   <a href=\"/sg21432/price.html\" target=\"_blank\">\\n    \\u62a5\\u4ef7\\n   </a>\\n   <a href=\"http://price.pcauto.com.cn/comment/sg21432/\" target=\"_blank\">\\n    \\u70b9\\u8bc4\\n   </a>\\n   <a href=\"/cars/sg21432/\" target=\"_blank\">\\n    \\u56fe\\u7247\\n   </a>\\n   <a href=\"/sg21432/config.html\" target=\"_blank\">\\n    \\u53c2\\u914d\\n   </a>\\n  </td>\\n </tr>\\n <tr>\\n  <td class=\"col1 index gray\">\\n   98\\n  </td>\\n  <td class=\"col2 brand\">\\n   <a class=\"blue\" href=\"/sg9767/\" target=\"_blank\">\\n    \\u6c83\\u5c14\\u6c83S60L\\n   </a>\\n  </td>\\n  <td class=\"col3 price\">\\n   26.69-39.09\\u4e07\\n  </td>\\n  <td class=\"col4 relBrand\">\\n   \\u6c83\\u5c14\\u6c83\\n  </td>\\n  <td class=\"col5 salesNum\">\\n   2868\\n  </td>\\n  <td class=\"col6 salesSum\">\\n   26965\\n  </td>\\n  <td class=\"col7 links\">\\n   <a href=\"/sg9767/price.html\" target=\"_blank\">\\n    \\u62a5\\u4ef7\\n   </a>\\n   <a href=\"http://price.pcauto.com.cn/comment/sg9767/\" target=\"_blank\">\\n    \\u70b9\\u8bc4\\n   </a>\\n   <a href=\"/cars/sg9767/\" target=\"_blank\">\\n    \\u56fe\\u7247\\n   </a>\\n   <a href=\"/sg9767/config.html\" target=\"_blank\">\\n    \\u53c2\\u914d\\n   </a>\\n  </td>\\n </tr>\\n <tr>\\n  <td class=\"col1 index gray\">\\n   99\\n  </td>\\n  <td class=\"col2 brand\">\\n   <a class=\"blue\" href=\"/sg21085/\" target=\"_blank\">\\n    \\u5a01\\u9a70FS\\n   </a>\\n  </td>\\n  <td class=\"col3 price\">\\n   6.98-10.98\\u4e07\\n  </td>\\n  <td class=\"col4 relBrand\">\\n   \\u4e30\\u7530\\n  </td>\\n  <td class=\"col5 salesNum\">\\n   2843\\n  </td>\\n  <td class=\"col6 salesSum\">\\n   35336\\n  </td>\\n  <td class=\"col7 links\">\\n   <a href=\"/sg21085/price.html\" target=\"_blank\">\\n    \\u62a5\\u4ef7\\n   </a>\\n   <a href=\"http://price.pcauto.com.cn/comment/sg21085/\" target=\"_blank\">\\n    \\u70b9\\u8bc4\\n   </a>\\n   <a href=\"/cars/sg21085/\" target=\"_blank\">\\n    \\u56fe\\u7247\\n   </a>\\n   <a href=\"/sg21085/config.html\" target=\"_blank\">\\n    \\u53c2\\u914d\\n   </a>\\n  </td>\\n </tr>\\n <tr>\\n  <td class=\"col1 index gray\">\\n   100\\n  </td>\\n  <td class=\"col2 brand\">\\n   <a class=\"blue\" href=\"/sg4512/\" target=\"_blank\">\\n    \\u51ef\\u8fea\\u62c9\\u514bXTS\\n   </a>\\n  </td>\\n  <td class=\"col3 price\">\\n   29.99-47.99\\u4e07\\n  </td>\\n  <td class=\"col4 relBrand\">\\n   \\u51ef\\u8fea\\u62c9\\u514b\\n  </td>\\n  <td class=\"col5 salesNum\">\\n   2807\\n  </td>\\n  <td class=\"col6 salesSum\">\\n   41645\\n  </td>\\n  <td class=\"col7 links\">\\n   <a href=\"/sg4512/price.html\" target=\"_blank\">\\n    \\u62a5\\u4ef7\\n   </a>\\n   <a href=\"http://price.pcauto.com.cn/comment/sg4512/\" target=\"_blank\">\\n    \\u70b9\\u8bc4\\n   </a>\\n   <a href=\"/cars/sg4512/\" target=\"_blank\">\\n    \\u56fe\\u7247\\n   </a>\\n   <a href=\"/sg4512/config.html\" target=\"_blank\">\\n    \\u53c2\\u914d\\n   </a>\\n  </td>\\n </tr>\\n <tr>\\n  <td class=\"col1 index gray\">\\n   101\\n  </td>\\n  <td class=\"col2 brand\">\\n   <a class=\"blue\" href=\"/sg9305/\" target=\"_blank\">\\n    \\u6807\\u81f4301\\n   </a>\\n  </td>\\n  <td class=\"col3 price\">\\n   8.47-10.77\\u4e07\\n  </td>\\n  <td class=\"col4 relBrand\">\\n   \\u6807\\u81f4\\n  </td>\\n  <td class=\"col5 salesNum\">\\n   2786\\n  </td>\\n  <td class=\"col6 salesSum\">\\n   29486\\n  </td>\\n  <td class=\"col7 links\">\\n   <a href=\"/sg9305/price.html\" target=\"_blank\">\\n    \\u62a5\\u4ef7\\n   </a>\\n   <a href=\"http://price.pcauto.com.cn/comment/sg9305/\" target=\"_blank\">\\n    \\u70b9\\u8bc4\\n   </a>\\n   <a href=\"/cars/sg9305/\" target=\"_blank\">\\n    \\u56fe\\u7247\\n   </a>\\n   <a href=\"/sg9305/config.html\" target=\"_blank\">\\n    \\u53c2\\u914d\\n   </a>\\n  </td>\\n </tr>\\n <tr>\\n  <td class=\"col1 index gray\">\\n   102\\n  </td>\\n  <td class=\"col2 brand\">\\n   <a class=\"blue\" href=\"/sg3664/\" target=\"_blank\">\\n    \\u60a6\\u7fd4\\n   </a>\\n  </td>\\n  <td class=\"col3 price\">\\n   \\u6682\\u65e0\\u62a5\\u4ef7\\n  </td>\\n  <td class=\"col4 relBrand\">\\n   \\u957f\\u5b89\\n  </td>\\n  <td class=\"col5 salesNum\">\\n   2744\\n  </td>\\n  <td class=\"col6 salesSum\">\\n   6860\\n  </td>\\n  <td class=\"col7 links\">\\n   <a href=\"/sg3664/price.html\" target=\"_blank\">\\n    \\u62a5\\u4ef7\\n   </a>\\n   <a href=\"http://price.pcauto.com.cn/comment/sg3664/\" target=\"_blank\">\\n    \\u70b9\\u8bc4\\n   </a>\\n   <a href=\"/cars/sg3664/\" target=\"_blank\">\\n    \\u56fe\\u7247\\n   </a>\\n   <a href=\"/sg3664/config.html\" target=\"_blank\">\\n    \\u53c2\\u914d\\n   </a>\\n  </td>\\n </tr>\\n <tr>\\n  <td class=\"col1 index gray\">\\n   103\\n  </td>\\n  <td class=\"col2 brand\">\\n   <a class=\"blue\" href=\"/sg4100/\" target=\"_blank\">\\n    \\u98ce\\u4e912\\n   </a>\\n  </td>\\n  <td class=\"col3 price\">\\n   4.29-4.69\\u4e07\\n  </td>\\n  <td class=\"col4 relBrand\">\\n   \\u5947\\u745e\\n  </td>\\n  <td class=\"col5 salesNum\">\\n   2732\\n  </td>\\n  <td class=\"col6 salesSum\">\\n   22763\\n  </td>\\n  <td class=\"col7 links\">\\n   <a href=\"/sg4100/price.html\" target=\"_blank\">\\n    \\u62a5\\u4ef7\\n   </a>\\n   <a href=\"http://price.pcauto.com.cn/comment/sg4100/\" target=\"_blank\">\\n    \\u70b9\\u8bc4\\n   </a>\\n   <a href=\"/cars/sg4100/\" target=\"_blank\">\\n    \\u56fe\\u7247\\n   </a>\\n   <a href=\"/sg4100/config.html\" target=\"_blank\">\\n    \\u53c2\\u914d\\n   </a>\\n  </td>\\n </tr>\\n <tr>\\n  <td class=\"col1 index gray\">\\n   104\\n  </td>\\n  <td class=\"col2 brand\">\\n   <a class=\"blue\" href=\"/sg10843/\" target=\"_blank\">\\n    \\u4f20\\u797aGA6\\n   </a>\\n  </td>\\n  <td class=\"col3 price\">\\n   10.28-19.68\\u4e07\\n  </td>\\n  <td class=\"col4 relBrand\">\\n   \\u5e7f\\u6c7d\\u4f20\\u797a\\n  </td>\\n  <td class=\"col5 salesNum\">\\n   2657\\n  </td>\\n  <td class=\"col6 salesSum\">\\n   23728\\n  </td>\\n  <td class=\"col7 links\">\\n   <a href=\"/sg10843/price.html\" target=\"_blank\">\\n    \\u62a5\\u4ef7\\n   </a>\\n   <a href=\"http://price.pcauto.com.cn/comment/sg10843/\" target=\"_blank\">\\n    \\u70b9\\u8bc4\\n   </a>\\n   <a href=\"/cars/sg10843/\" target=\"_blank\">\\n    \\u56fe\\u7247\\n   </a>\\n   <a href=\"/sg10843/config.html\" target=\"_blank\">\\n    \\u53c2\\u914d\\n   </a>\\n  </td>\\n </tr>\\n <tr>\\n  <td class=\"col1 index gray\">\\n   105\\n  </td>\\n  <td class=\"col2 brand\">\\n   <a class=\"blue\" href=\"/sg21624/\" target=\"_blank\">\\n    \\u7115\\u9a70\\n   </a>\\n  </td>\\n  <td class=\"col3 price\">\\n   4.99-7.39\\u4e07\\n  </td>\\n  <td class=\"col4 relBrand\">\\n   \\u8d77\\u4e9a\\n  </td>\\n  <td class=\"col5 salesNum\">\\n   2618\\n  </td>\\n  <td class=\"col6 salesSum\">\\n   10612\\n  </td>\\n  <td class=\"col7 links\">\\n   <a href=\"/sg21624/price.html\" target=\"_blank\">\\n    \\u62a5\\u4ef7\\n   </a>\\n   <a href=\"http://price.pcauto.com.cn/comment/sg21624/\" target=\"_blank\">\\n    \\u70b9\\u8bc4\\n   </a>\\n   <a href=\"/cars/sg21624/\" target=\"_blank\">\\n    \\u56fe\\u7247\\n   </a>\\n   <a href=\"/sg21624/config.html\" target=\"_blank\">\\n    \\u53c2\\u914d\\n   </a>\\n  </td>\\n </tr>\\n <tr>\\n  <td class=\"col1 index gray\">\\n   106\\n  </td>\\n  <td class=\"col2 brand\">\\n   <a class=\"blue\" href=\"/sg14113/\" target=\"_blank\">\\n    \\u6377\\u8c79XFL\\n   </a>\\n  </td>\\n  <td class=\"col3 price\">\\n   38.80-68.80\\u4e07\\n  </td>\\n  <td class=\"col4 relBrand\">\\n   \\u6377\\u8c79\\n  </td>\\n  <td class=\"col5 salesNum\">\\n   2559\\n  </td>\\n  <td class=\"col6 salesSum\">\\n   21012\\n  </td>\\n  <td class=\"col7 links\">\\n   <a href=\"/sg14113/price.html\" target=\"_blank\">\\n    \\u62a5\\u4ef7\\n   </a>\\n   <a href=\"http://price.pcauto.com.cn/comment/sg14113/\" target=\"_blank\">\\n    \\u70b9\\u8bc4\\n   </a>\\n   <a href=\"/cars/sg14113/\" target=\"_blank\">\\n    \\u56fe\\u7247\\n   </a>\\n   <a href=\"/sg14113/config.html\" target=\"_blank\">\\n    \\u53c2\\u914d\\n   </a>\\n  </td>\\n </tr>\\n <tr>\\n  <td class=\"col1 index gray\">\\n   107\\n  </td>\\n  <td class=\"col2 brand\">\\n   <a class=\"blue\" href=\"/sg12572/\" target=\"_blank\">\\n    \\u4f17\\u6cf0E200\\n   </a>\\n  </td>\\n  <td class=\"col3 price\">\\n   18.18-18.58\\u4e07\\n  </td>\\n  <td class=\"col4 relBrand\">\\n   \\u4f17\\u6cf0\\n  </td>\\n  <td class=\"col5 salesNum\">\\n   2488\\n  </td>\\n  <td class=\"col6 salesSum\">\\n   15913\\n  </td>\\n  <td class=\"col7 links\">\\n   <a href=\"/sg12572/price.html\" target=\"_blank\">\\n    \\u62a5\\u4ef7\\n   </a>\\n   <a href=\"http://price.pcauto.com.cn/comment/sg12572/\" target=\"_blank\">\\n    \\u70b9\\u8bc4\\n   </a>\\n   <a href=\"/cars/sg12572/\" target=\"_blank\">\\n    \\u56fe\\u7247\\n   </a>\\n   <a href=\"/sg12572/config.html\" target=\"_blank\">\\n    \\u53c2\\u914d\\n   </a>\\n  </td>\\n </tr>\\n <tr>\\n  <td class=\"col1 index gray\">\\n   108\\n  </td>\\n  <td class=\"col2 brand\">\\n   <a class=\"blue\" href=\"/sg13428/\" target=\"_blank\">\\n    \\u9ad8\\u5c14\\u592b&middot;\\u5609\\u65c5\\n   </a>\\n  </td>\\n  <td class=\"col3 price\">\\n   13.19-19.79\\u4e07\\n  </td>\\n  <td class=\"col4 relBrand\">\\n   \\u5927\\u4f17\\n  </td>\\n  <td class=\"col5 salesNum\">\\n   2430\\n  </td>\\n  <td class=\"col6 salesSum\">\\n   46826\\n  </td>\\n  <td class=\"col7 links\">\\n   <a href=\"/sg13428/price.html\" target=\"_blank\">\\n    \\u62a5\\u4ef7\\n   </a>\\n   <a href=\"http://price.pcauto.com.cn/comment/sg13428/\" target=\"_blank\">\\n    \\u70b9\\u8bc4\\n   </a>\\n   <a href=\"/cars/sg13428/\" target=\"_blank\">\\n    \\u56fe\\u7247\\n   </a>\\n   <a href=\"/sg13428/config.html\" target=\"_blank\">\\n    \\u53c2\\u914d\\n   </a>\\n  </td>\\n </tr>\\n <tr>\\n  <td class=\"col1 index gray\">\\n   109\\n  </td>\\n  <td class=\"col2 brand\">\\n   <a class=\"blue\" href=\"/sg7075/\" target=\"_blank\">\\n    \\u8d77\\u4e9aK5\\n   </a>\\n  </td>\\n  <td class=\"col3 price\">\\n   16.48-23.98\\u4e07\\n  </td>\\n  <td class=\"col4 relBrand\">\\n   \\u8d77\\u4e9a\\n  </td>\\n  <td class=\"col5 salesNum\">\\n   2423\\n  </td>\\n  <td class=\"col6 salesSum\">\\n   26231\\n  </td>\\n  <td class=\"col7 links\">\\n   <a href=\"/sg7075/price.html\" target=\"_blank\">\\n    \\u62a5\\u4ef7\\n   </a>\\n   <a href=\"http://price.pcauto.com.cn/comment/sg7075/\" target=\"_blank\">\\n    \\u70b9\\u8bc4\\n   </a>\\n   <a href=\"/cars/sg7075/\" target=\"_blank\">\\n    \\u56fe\\u7247\\n   </a>\\n   <a href=\"/sg7075/config.html\" target=\"_blank\">\\n    \\u53c2\\u914d\\n   </a>\\n  </td>\\n </tr>\\n <tr>\\n  <td class=\"col1 index gray\">\\n   110\\n  </td>\\n  <td class=\"col2 brand\">\\n   <a class=\"blue\" href=\"/sg8880/\" target=\"_blank\">\\n    \\u5947\\u745eQQ\\n   </a>\\n  </td>\\n  <td class=\"col3 price\">\\n   3.79-5.09\\u4e07\\n  </td>\\n  <td class=\"col4 relBrand\">\\n   \\u5947\\u745e\\n  </td>\\n  <td class=\"col5 salesNum\">\\n   2372\\n  </td>\\n  <td class=\"col6 salesSum\">\\n   19423\\n  </td>\\n  <td class=\"col7 links\">\\n   <a href=\"/sg8880/price.html\" target=\"_blank\">\\n    \\u62a5\\u4ef7\\n   </a>\\n   <a href=\"http://price.pcauto.com.cn/comment/sg8880/\" target=\"_blank\">\\n    \\u70b9\\u8bc4\\n   </a>\\n   <a href=\"/cars/sg8880/\" target=\"_blank\">\\n    \\u56fe\\u7247\\n   </a>\\n   <a href=\"/sg8880/config.html\" target=\"_blank\">\\n    \\u53c2\\u914d\\n   </a>\\n  </td>\\n </tr>\\n <tr>\\n  <td class=\"col1 index gray\">\\n   111\\n  </td>\\n  <td class=\"col2 brand\">\\n   <a class=\"blue\" href=\"/sg10018/\" target=\"_blank\">\\n    \\u8d77\\u4e9aK4\\n   </a>\\n  </td>\\n  <td class=\"col3 price\">\\n   12.88-18.88\\u4e07\\n  </td>\\n  <td class=\"col4 relBrand\">\\n   \\u8d77\\u4e9a\\n  </td>\\n  <td class=\"col5 salesNum\">\\n   2356\\n  </td>\\n  <td class=\"col6 salesSum\">\\n   19065\\n  </td>\\n  <td class=\"col7 links\">\\n   <a href=\"/sg10018/price.html\" target=\"_blank\">\\n    \\u62a5\\u4ef7\\n   </a>\\n   <a href=\"http://price.pcauto.com.cn/comment/sg10018/\" target=\"_blank\">\\n    \\u70b9\\u8bc4\\n   </a>\\n   <a href=\"/cars/sg10018/\" target=\"_blank\">\\n    \\u56fe\\u7247\\n   </a>\\n   <a href=\"/sg10018/config.html\" target=\"_blank\">\\n    \\u53c2\\u914d\\n   </a>\\n  </td>\\n </tr>\\n <tr>\\n  <td class=\"col1 index gray\">\\n   112\\n  </td>\\n  <td class=\"col2 brand\">\\n   <a class=\"blue\" href=\"/sg11342/\" target=\"_blank\">\\n    \\u82f1\\u83f2\\u5c3c\\u8feaQ50L\\n   </a>\\n  </td>\\n  <td class=\"col3 price\">\\n   27.98-40.98\\u4e07\\n  </td>\\n  <td class=\"col4 relBrand\">\\n   \\u82f1\\u83f2\\u5c3c\\u8fea\\n  </td>\\n  <td class=\"col5 salesNum\">\\n   2270\\n  </td>\\n  <td class=\"col6 salesSum\">\\n   20720\\n  </td>\\n  <td class=\"col7 links\">\\n   <a href=\"/sg11342/price.html\" target=\"_blank\">\\n    \\u62a5\\u4ef7\\n   </a>\\n   <a href=\"http://price.pcauto.com.cn/comment/sg11342/\" target=\"_blank\">\\n    \\u70b9\\u8bc4\\n   </a>\\n   <a href=\"/cars/sg11342/\" target=\"_blank\">\\n    \\u56fe\\u7247\\n   </a>\\n   <a href=\"/sg11342/config.html\" target=\"_blank\">\\n    \\u53c2\\u914d\\n   </a>\\n  </td>\\n </tr>\\n <tr>\\n  <td class=\"col1 index gray\">\\n   113\\n  </td>\\n  <td class=\"col2 brand\">\\n   <a class=\"blue\" href=\"/sg12131/\" target=\"_blank\">\\n    \\u91d1\\u725b\\u5ea7\\n   </a>\\n  </td>\\n  <td class=\"col3 price\">\\n   23.48-36.98\\u4e07\\n  </td>\\n  <td class=\"col4 relBrand\">\\n   \\u798f\\u7279\\n  </td>\\n  <td class=\"col5 salesNum\">\\n   2237\\n  </td>\\n  <td class=\"col6 salesSum\">\\n   25762\\n  </td>\\n  <td class=\"col7 links\">\\n   <a href=\"/sg12131/price.html\" target=\"_blank\">\\n    \\u62a5\\u4ef7\\n   </a>\\n   <a href=\"http://price.pcauto.com.cn/comment/sg12131/\" target=\"_blank\">\\n    \\u70b9\\u8bc4\\n   </a>\\n   <a href=\"/cars/sg12131/\" target=\"_blank\">\\n    \\u56fe\\u7247\\n   </a>\\n   <a href=\"/sg12131/config.html\" target=\"_blank\">\\n    \\u53c2\\u914d\\n   </a>\\n  </td>\\n </tr>\\n <tr>\\n  <td class=\"col1 index gray\">\\n   114\\n  </td>\\n  <td class=\"col2 brand\">\\n   <a class=\"blue\" href=\"/sg11577/\" target=\"_blank\">\\n    \\u4e91100\\n   </a>\\n  </td>\\n  <td class=\"col3 price\">\\n   15.89-16.99\\u4e07\\n  </td>\\n  <td class=\"col4 relBrand\">\\n   \\u4f17\\u6cf0\\n  </td>\\n  <td class=\"col5 salesNum\">\\n   2099\\n  </td>\\n  <td class=\"col6 salesSum\">\\n   11038\\n  </td>\\n  <td class=\"col7 links\">\\n   <a href=\"/sg11577/price.html\" target=\"_blank\">\\n    \\u62a5\\u4ef7\\n   </a>\\n   <a href=\"http://price.pcauto.com.cn/comment/sg11577/\" target=\"_blank\">\\n    \\u70b9\\u8bc4\\n   </a>\\n   <a href=\"/cars/sg11577/\" target=\"_blank\">\\n    \\u56fe\\u7247\\n   </a>\\n   <a href=\"/sg11577/config.html\" target=\"_blank\">\\n    \\u53c2\\u914d\\n   </a>\\n  </td>\\n </tr>\\n <tr>\\n  <td class=\"col1 index gray\">\\n   115\\n  </td>\\n  <td class=\"col2 brand\">\\n   <a class=\"blue\" href=\"/sg21713/\" target=\"_blank\">\\n    \\u7231\\u5c1aEV160\\n   </a>\\n  </td>\\n  <td class=\"col3 price\">\\n   12.38\\u4e07\\n  </td>\\n  <td class=\"col4 relBrand\">\\n   \\u6d77\\u9a6c\\u65b0\\u80fd\\u6e90\\n  </td>\\n  <td class=\"col5 salesNum\">\\n   2096\\n  </td>\\n  <td class=\"col6 salesSum\">\\n   5799\\n  </td>\\n  <td class=\"col7 links\">\\n   <a href=\"/sg21713/price.html\" target=\"_blank\">\\n    \\u62a5\\u4ef7\\n   </a>\\n   <a href=\"http://price.pcauto.com.cn/comment/sg21713/\" target=\"_blank\">\\n    \\u70b9\\u8bc4\\n   </a>\\n   <a href=\"/cars/sg21713/\" target=\"_blank\">\\n    \\u56fe\\u7247\\n   </a>\\n   <a href=\"/sg21713/config.html\" target=\"_blank\">\\n    \\u53c2\\u914d\\n   </a>\\n  </td>\\n </tr>\\n <tr>\\n  <td class=\"col1 index gray\">\\n   116\\n  </td>\\n  <td class=\"col2 brand\">\\n   <a class=\"blue\" href=\"/sg3314/\" target=\"_blank\">\\n    \\u529b\\u5e06320\\n   </a>\\n  </td>\\n  <td class=\"col3 price\">\\n   \\u6682\\u65e0\\u62a5\\u4ef7\\n  </td>\\n  <td class=\"col4 relBrand\">\\n   \\u529b\\u5e06\\n  </td>\\n  <td class=\"col5 salesNum\">\\n   2039\\n  </td>\\n  <td class=\"col6 salesSum\">\\n   2150\\n  </td>\\n  <td class=\"col7 links\">\\n   <a href=\"/sg3314/price.html\" target=\"_blank\">\\n    \\u62a5\\u4ef7\\n   </a>\\n   <a href=\"http://price.pcauto.com.cn/comment/sg3314/\" target=\"_blank\">\\n    \\u70b9\\u8bc4\\n   </a>\\n   <a href=\"/cars/sg3314/\" target=\"_blank\">\\n    \\u56fe\\u7247\\n   </a>\\n   <a href=\"/sg3314/config.html\" target=\"_blank\">\\n    \\u53c2\\u914d\\n   </a>\\n  </td>\\n </tr>\\n <tr>\\n  <td class=\"col1 index gray\">\\n   117\\n  </td>\\n  <td class=\"col2 brand\">\\n   <a class=\"blue\" href=\"/sg9192/\" target=\"_blank\">\\n    \\u4e2d\\u534eH330\\n   </a>\\n  </td>\\n  <td class=\"col3 price\">\\n   6.58-8.98\\u4e07\\n  </td>\\n  <td class=\"col4 relBrand\">\\n   \\u4e2d\\u534e\\n  </td>\\n  <td class=\"col5 salesNum\">\\n   2016\\n  </td>\\n  <td class=\"col6 salesSum\">\\n   21831\\n  </td>\\n  <td class=\"col7 links\">\\n   <a href=\"/sg9192/price.html\" target=\"_blank\">\\n    \\u62a5\\u4ef7\\n   </a>\\n   <a href=\"http://price.pcauto.com.cn/comment/sg9192/\" target=\"_blank\">\\n    \\u70b9\\u8bc4\\n   </a>\\n   <a href=\"/cars/sg9192/\" target=\"_blank\">\\n    \\u56fe\\u7247\\n   </a>\\n   <a href=\"/sg9192/config.html\" target=\"_blank\">\\n    \\u53c2\\u914d\\n   </a>\\n  </td>\\n </tr>\\n <tr>\\n  <td class=\"col1 index gray\">\\n   118\\n  </td>\\n  <td class=\"col2 brand\">\\n   <a class=\"blue\" href=\"/sg12884/\" target=\"_blank\">\\n    \\u54e5\\u745e\\n   </a>\\n  </td>\\n  <td class=\"col3 price\">\\n   7.98-11.98\\u4e07\\n  </td>\\n  <td class=\"col4 relBrand\">\\n   \\u672c\\u7530\\n  </td>\\n  <td class=\"col5 salesNum\">\\n   1983\\n  </td>\\n  <td class=\"col6 salesSum\">\\n   27692\\n  </td>\\n  <td class=\"col7 links\">\\n   <a href=\"/sg12884/price.html\" target=\"_blank\">\\n    \\u62a5\\u4ef7\\n   </a>\\n   <a href=\"http://price.pcauto.com.cn/comment/sg12884/\" target=\"_blank\">\\n    \\u70b9\\u8bc4\\n   </a>\\n   <a href=\"/cars/sg12884/\" target=\"_blank\">\\n    \\u56fe\\u7247\\n   </a>\\n   <a href=\"/sg12884/config.html\" target=\"_blank\">\\n    \\u53c2\\u914d\\n   </a>\\n  </td>\\n </tr>\\n <tr>\\n  <td class=\"col1 index gray\">\\n   119\\n  </td>\\n  <td class=\"col2 brand\">\\n   <a class=\"blue\" href=\"/sg21924/\" target=\"_blank\">\\n    \\u4f17\\u6cf0Z300\\n   </a>\\n  </td>\\n  <td class=\"col3 price\">\\n   \\u6682\\u65e0\\u62a5\\u4ef7\\n  </td>\\n  <td class=\"col4 relBrand\">\\n   \\u4f17\\u6cf0\\n  </td>\\n  <td class=\"col5 salesNum\">\\n   1941\\n  </td>\\n  <td class=\"col6 salesSum\">\\n   8391\\n  </td>\\n  <td class=\"col7 links\">\\n   <a href=\"/sg21924/price.html\" target=\"_blank\">\\n    \\u62a5\\u4ef7\\n   </a>\\n   <a href=\"http://price.pcauto.com.cn/comment/sg21924/\" target=\"_blank\">\\n    \\u70b9\\u8bc4\\n   </a>\\n   <a href=\"/cars/sg21924/\" target=\"_blank\">\\n    \\u56fe\\u7247\\n   </a>\\n   <a href=\"/sg21924/config.html\" target=\"_blank\">\\n    \\u53c2\\u914d\\n   </a>\\n  </td>\\n </tr>\\n <tr>\\n  <td class=\"col1 index gray\">\\n   120\\n  </td>\\n  <td class=\"col2 brand\">\\n   <a class=\"blue\" href=\"/sg7324/\" target=\"_blank\">\\n    \\u6d77\\u9a6cM3\\n   </a>\\n  </td>\\n  <td class=\"col3 price\">\\n   4.99-6.99\\u4e07\\n  </td>\\n  <td class=\"col4 relBrand\">\\n   \\u6d77\\u9a6c\\u90d1\\u5dde\\n  </td>\\n  <td class=\"col5 salesNum\">\\n   1892\\n  </td>\\n  <td class=\"col6 salesSum\">\\n   18012\\n  </td>\\n  <td class=\"col7 links\">\\n   <a href=\"/sg7324/price.html\" target=\"_blank\">\\n    \\u62a5\\u4ef7\\n   </a>\\n   <a href=\"http://price.pcauto.com.cn/comment/sg7324/\" target=\"_blank\">\\n    \\u70b9\\u8bc4\\n   </a>\\n   <a href=\"/cars/sg7324/\" target=\"_blank\">\\n    \\u56fe\\u7247\\n   </a>\\n   <a href=\"/sg7324/config.html\" target=\"_blank\">\\n    \\u53c2\\u914d\\n   </a>\\n  </td>\\n </tr>\\n <tr>\\n  <td class=\"col1 index gray\">\\n   121\\n  </td>\\n  <td class=\"col2 brand\">\\n   <a class=\"blue\" href=\"/sg10460/\" target=\"_blank\">\\n    \\u6c5f\\u6deeiEV\\n   </a>\\n  </td>\\n  <td class=\"col3 price\">\\n   12.85-13.85\\u4e07\\n  </td>\\n  <td class=\"col4 relBrand\">\\n   \\u6c5f\\u6dee\\n  </td>\\n  <td class=\"col5 salesNum\">\\n   1861\\n  </td>\\n  <td class=\"col6 salesSum\">\\n   18630\\n  </td>\\n  <td class=\"col7 links\">\\n   <a href=\"/sg10460/price.html\" target=\"_blank\">\\n    \\u62a5\\u4ef7\\n   </a>\\n   <a href=\"http://price.pcauto.com.cn/comment/sg10460/\" target=\"_blank\">\\n    \\u70b9\\u8bc4\\n   </a>\\n   <a href=\"/cars/sg10460/\" target=\"_blank\">\\n    \\u56fe\\u7247\\n   </a>\\n   <a href=\"/sg10460/config.html\" target=\"_blank\">\\n    \\u53c2\\u914d\\n   </a>\\n  </td>\\n </tr>\\n <tr>\\n  <td class=\"col1 index gray\">\\n   122\\n  </td>\\n  <td class=\"col2 brand\">\\n   <a class=\"blue\" href=\"/sg10070/\" target=\"_blank\">\\n    \\u6615\\u52a8\\n   </a>\\n  </td>\\n  <td class=\"col3 price\">\\n   6.99-11.99\\u4e07\\n  </td>\\n  <td class=\"col4 relBrand\">\\n   \\u65af\\u67ef\\u8fbe\\n  </td>\\n  <td class=\"col5 salesNum\">\\n   1777\\n  </td>\\n  <td class=\"col6 salesSum\">\\n   25695\\n  </td>\\n  <td class=\"col7 links\">\\n   <a href=\"/sg10070/price.html\" target=\"_blank\">\\n    \\u62a5\\u4ef7\\n   </a>\\n   <a href=\"http://price.pcauto.com.cn/comment/sg10070/\" target=\"_blank\">\\n    \\u70b9\\u8bc4\\n   </a>\\n   <a href=\"/cars/sg10070/\" target=\"_blank\">\\n    \\u56fe\\u7247\\n   </a>\\n   <a href=\"/sg10070/config.html\" target=\"_blank\">\\n    \\u53c2\\u914d\\n   </a>\\n  </td>\\n </tr>\\n <tr>\\n  <td class=\"col1 index gray\">\\n   123\\n  </td>\\n  <td class=\"col2 brand\">\\n   <a class=\"blue\" href=\"/sg21603/\" target=\"_blank\">\\n    \\u4e1c\\u98ce\\u98ce\\u795eE70\\n   </a>\\n  </td>\\n  <td class=\"col3 price\">\\n   21.28-22.28\\u4e07\\n  </td>\\n  <td class=\"col4 relBrand\">\\n   \\u4e1c\\u98ce\\u98ce\\u795e\\n  </td>\\n  <td class=\"col5 salesNum\">\\n   1724\\n  </td>\\n  <td class=\"col6 salesSum\">\\n   2559\\n  </td>\\n  <td class=\"col7 links\">\\n   <a href=\"/sg21603/price.html\" target=\"_blank\">\\n    \\u62a5\\u4ef7\\n   </a>\\n   <a href=\"http://price.pcauto.com.cn/comment/sg21603/\" target=\"_blank\">\\n    \\u70b9\\u8bc4\\n   </a>\\n   <a href=\"/cars/sg21603/\" target=\"_blank\">\\n    \\u56fe\\u7247\\n   </a>\\n   <a href=\"/sg21603/config.html\" target=\"_blank\">\\n    \\u53c2\\u914d\\n   </a>\\n  </td>\\n </tr>\\n <tr>\\n  <td class=\"col1 index gray\">\\n   124\\n  </td>\\n  <td class=\"col2 brand\">\\n   <a class=\"blue\" href=\"/sg10846/\" target=\"_blank\">\\n    \\u542f\\u60a6\\n   </a>\\n  </td>\\n  <td class=\"col3 price\">\\n   7.89-11.39\\u4e07\\n  </td>\\n  <td class=\"col4 relBrand\">\\n   \\u94c3\\u6728\\n  </td>\\n  <td class=\"col5 salesNum\">\\n   1718\\n  </td>\\n  <td class=\"col6 salesSum\">\\n   18882\\n  </td>\\n  <td class=\"col7 links\">\\n   <a href=\"/sg10846/price.html\" target=\"_blank\">\\n    \\u62a5\\u4ef7\\n   </a>\\n   <a href=\"http://price.pcauto.com.cn/comment/sg10846/\" target=\"_blank\">\\n    \\u70b9\\u8bc4\\n   </a>\\n   <a href=\"/cars/sg10846/\" target=\"_blank\">\\n    \\u56fe\\u7247\\n   </a>\\n   <a href=\"/sg10846/config.html\" target=\"_blank\">\\n    \\u53c2\\u914d\\n   </a>\\n  </td>\\n </tr>\\n <tr>\\n  <td class=\"col1 index gray\">\\n   125\\n  </td>\\n  <td class=\"col2 brand\">\\n   <a class=\"blue\" href=\"/sg4581/\" target=\"_blank\">\\n    \\u957f\\u57ceC30\\n   </a>\\n  </td>\\n  <td class=\"col3 price\">\\n   5.49-7.19\\u4e07\\n  </td>\\n  <td class=\"col4 relBrand\">\\n   \\u957f\\u57ce\\n  </td>\\n  <td class=\"col5 salesNum\">\\n   1603\\n  </td>\\n  <td class=\"col6 salesSum\">\\n   10195\\n  </td>\\n  <td class=\"col7 links\">\\n   <a href=\"/sg4581/price.html\" target=\"_blank\">\\n    \\u62a5\\u4ef7\\n   </a>\\n   <a href=\"http://price.pcauto.com.cn/comment/sg4581/\" target=\"_blank\">\\n    \\u70b9\\u8bc4\\n   </a>\\n   <a href=\"/cars/sg4581/\" target=\"_blank\">\\n    \\u56fe\\u7247\\n   </a>\\n   <a href=\"/sg4581/config.html\" target=\"_blank\">\\n    \\u53c2\\u914d\\n   </a>\\n  </td>\\n </tr>\\n <tr>\\n  <td class=\"col1 index gray\">\\n   126\\n  </td>\\n  <td class=\"col2 brand\">\\n   <a class=\"blue\" href=\"/sg21923/\" target=\"_blank\">\\n    \\u5317\\u6597\\u661fX5E\\n   </a>\\n  </td>\\n  <td class=\"col3 price\">\\n   11.50-14.30\\u4e07\\n  </td>\\n  <td class=\"col4 relBrand\">\\n   \\u660c\\u6cb3\\n  </td>\\n  <td class=\"col5 salesNum\">\\n   1551\\n  </td>\\n  <td class=\"col6 salesSum\">\\n   3036\\n  </td>\\n  <td class=\"col7 links\">\\n   <a href=\"/sg21923/price.html\" target=\"_blank\">\\n    \\u62a5\\u4ef7\\n   </a>\\n   <a href=\"http://price.pcauto.com.cn/comment/sg21923/\" target=\"_blank\">\\n    \\u70b9\\u8bc4\\n   </a>\\n   <a href=\"/cars/sg21923/\" target=\"_blank\">\\n    \\u56fe\\u7247\\n   </a>\\n   <a href=\"/sg21923/config.html\" target=\"_blank\">\\n    \\u53c2\\u914d\\n   </a>\\n  </td>\\n </tr>\\n <tr>\\n  <td class=\"col1 index gray\">\\n   127\\n  </td>\\n  <td class=\"col2 brand\">\\n   <a class=\"blue\" href=\"/sg4550/\" target=\"_blank\">\\n    \\u51ef\\u7f8e\\u745e\\n   </a>\\n  </td>\\n  <td class=\"col3 price\">\\n   17.98-25.98\\u4e07\\n  </td>\\n  <td class=\"col4 relBrand\">\\n   \\u4e30\\u7530\\n  </td>\\n  <td class=\"col5 salesNum\">\\n   1525\\n  </td>\\n  <td class=\"col6 salesSum\">\\n   75237\\n  </td>\\n  <td class=\"col7 links\">\\n   <a href=\"/sg4550/price.html\" target=\"_blank\">\\n    \\u62a5\\u4ef7\\n   </a>\\n   <a href=\"http://price.pcauto.com.cn/comment/sg4550/\" target=\"_blank\">\\n    \\u70b9\\u8bc4\\n   </a>\\n   <a href=\"/cars/sg4550/\" target=\"_blank\">\\n    \\u56fe\\u7247\\n   </a>\\n   <a href=\"/sg4550/config.html\" target=\"_blank\">\\n    \\u53c2\\u914d\\n   </a>\\n  </td>\\n </tr>\\n <tr>\\n  <td class=\"col1 index gray\">\\n   128\\n  </td>\\n  <td class=\"col2 brand\">\\n   <a class=\"blue\" href=\"/sg20522/\" target=\"_blank\">\\n    \\u5168\\u7403\\u9e70K12\\n   </a>\\n  </td>\\n  <td class=\"col3 price\">\\n   15.88\\u4e07\\n  </td>\\n  <td class=\"col4 relBrand\">\\n   \\u5eb7\\u8fea\\n  </td>\\n  <td class=\"col5 salesNum\">\\n   1489\\n  </td>\\n  <td class=\"col6 salesSum\">\\n   9347\\n  </td>\\n  <td class=\"col7 links\">\\n   <a href=\"/sg20522/price.html\" target=\"_blank\">\\n    \\u62a5\\u4ef7\\n   </a>\\n   <a href=\"http://price.pcauto.com.cn/comment/sg20522/\" target=\"_blank\">\\n    \\u70b9\\u8bc4\\n   </a>\\n   <a href=\"/cars/sg20522/\" target=\"_blank\">\\n    \\u56fe\\u7247\\n   </a>\\n   <a href=\"/sg20522/config.html\" target=\"_blank\">\\n    \\u53c2\\u914d\\n   </a>\\n  </td>\\n </tr>\\n <tr>\\n  <td class=\"col1 index gray\">\\n   129\\n  </td>\\n  <td class=\"col2 brand\">\\n   <a class=\"blue\" href=\"/sg4517/\" target=\"_blank\">\\n    \\u5927\\u4f17CC\\n   </a>\\n  </td>\\n  <td class=\"col3 price\">\\n   25.28-34.28\\u4e07\\n  </td>\\n  <td class=\"col4 relBrand\">\\n   \\u5927\\u4f17\\n  </td>\\n  <td class=\"col5 salesNum\">\\n   1478\\n  </td>\\n  <td class=\"col6 salesSum\">\\n   21472\\n  </td>\\n  <td class=\"col7 links\">\\n   <a href=\"/sg4517/price.html\" target=\"_blank\">\\n    \\u62a5\\u4ef7\\n   </a>\\n   <a href=\"http://price.pcauto.com.cn/comment/sg4517/\" target=\"_blank\">\\n    \\u70b9\\u8bc4\\n   </a>\\n   <a href=\"/cars/sg4517/\" target=\"_blank\">\\n    \\u56fe\\u7247\\n   </a>\\n   <a href=\"/sg4517/config.html\" target=\"_blank\">\\n    \\u53c2\\u914d\\n   </a>\\n  </td>\\n </tr>\\n <tr>\\n  <td class=\"col1 index gray\">\\n   130\\n  </td>\\n  <td class=\"col2 brand\">\\n   <a class=\"blue\" href=\"/sg10410/\" target=\"_blank\">\\n    \\u666f\\u9038S50\\n   </a>\\n  </td>\\n  <td class=\"col3 price\">\\n   6.59-13.18\\u4e07\\n  </td>\\n  <td class=\"col4 relBrand\">\\n   \\u4e1c\\u98ce\\u98ce\\u884c\\n  </td>\\n  <td class=\"col5 salesNum\">\\n   1335\\n  </td>\\n  <td class=\"col6 salesSum\">\\n   12485\\n  </td>\\n  <td class=\"col7 links\">\\n   <a href=\"/sg10410/price.html\" target=\"_blank\">\\n    \\u62a5\\u4ef7\\n   </a>\\n   <a href=\"http://price.pcauto.com.cn/comment/sg10410/\" target=\"_blank\">\\n    \\u70b9\\u8bc4\\n   </a>\\n   <a href=\"/cars/sg10410/\" target=\"_blank\">\\n    \\u56fe\\u7247\\n   </a>\\n   <a href=\"/sg10410/config.html\" target=\"_blank\">\\n    \\u53c2\\u914d\\n   </a>\\n  </td>\\n </tr>\\n <tr>\\n  <td class=\"col1 index gray\">\\n   131\\n  </td>\\n  <td class=\"col2 brand\">\\n   <a class=\"blue\" href=\"/sg22065/\" target=\"_blank\">\\n    \\u6377\\u8c79XEL\\n   </a>\\n  </td>\\n  <td class=\"col3 price\">\\n   28.88-42.88\\u4e07\\n  </td>\\n  <td class=\"col4 relBrand\">\\n   \\u6377\\u8c79\\n  </td>\\n  <td class=\"col5 salesNum\">\\n   1328\\n  </td>\\n  <td class=\"col6 salesSum\">\\n   1328\\n  </td>\\n  <td class=\"col7 links\">\\n   <a href=\"/sg22065/price.html\" target=\"_blank\">\\n    \\u62a5\\u4ef7\\n   </a>\\n   <a href=\"http://price.pcauto.com.cn/comment/sg22065/\" target=\"_blank\">\\n    \\u70b9\\u8bc4\\n   </a>\\n   <a href=\"/cars/sg22065/\" target=\"_blank\">\\n    \\u56fe\\u7247\\n   </a>\\n   <a href=\"/sg22065/config.html\" target=\"_blank\">\\n    \\u53c2\\u914d\\n   </a>\\n  </td>\\n </tr>\\n <tr>\\n  <td class=\"col1 index gray\">\\n   132\\n  </td>\\n  <td class=\"col2 brand\">\\n   <a class=\"blue\" href=\"/sg4125/\" target=\"_blank\">\\n    \\u96ea\\u94c1\\u9f99C5\\n   </a>\\n  </td>\\n  <td class=\"col3 price\">\\n   16.99-21.99\\u4e07\\n  </td>\\n  <td class=\"col4 relBrand\">\\n   \\u96ea\\u94c1\\u9f99\\n  </td>\\n  <td class=\"col5 salesNum\">\\n   1316\\n  </td>\\n  <td class=\"col6 salesSum\">\\n   8305\\n  </td>\\n  <td class=\"col7 links\">\\n   <a href=\"/sg4125/price.html\" target=\"_blank\">\\n    \\u62a5\\u4ef7\\n   </a>\\n   <a href=\"http://price.pcauto.com.cn/comment/sg4125/\" target=\"_blank\">\\n    \\u70b9\\u8bc4\\n   </a>\\n   <a href=\"/cars/sg4125/\" target=\"_blank\">\\n    \\u56fe\\u7247\\n   </a>\\n   <a href=\"/sg4125/config.html\" target=\"_blank\">\\n    \\u53c2\\u914d\\n   </a>\\n  </td>\\n </tr>\\n <tr>\\n  <td class=\"col1 index gray\">\\n   133\\n  </td>\\n  <td class=\"col2 brand\">\\n   <a class=\"blue\" href=\"/sg11808/\" target=\"_blank\">\\n    \\u7d22\\u7eb3\\u5854\\u4e5d\\n   </a>\\n  </td>\\n  <td class=\"col3 price\">\\n   16.98-24.98\\u4e07\\n  </td>\\n  <td class=\"col4 relBrand\">\\n   \\u73b0\\u4ee3\\n  </td>\\n  <td class=\"col5 salesNum\">\\n   1289\\n  </td>\\n  <td class=\"col6 salesSum\">\\n   12010\\n  </td>\\n  <td class=\"col7 links\">\\n   <a href=\"/sg11808/price.html\" target=\"_blank\">\\n    \\u62a5\\u4ef7\\n   </a>\\n   <a href=\"http://price.pcauto.com.cn/comment/sg11808/\" target=\"_blank\">\\n    \\u70b9\\u8bc4\\n   </a>\\n   <a href=\"/cars/sg11808/\" target=\"_blank\">\\n    \\u56fe\\u7247\\n   </a>\\n   <a href=\"/sg11808/config.html\" target=\"_blank\">\\n    \\u53c2\\u914d\\n   </a>\\n  </td>\\n </tr>\\n <tr>\\n  <td class=\"col1 index gray\">\\n   134\\n  </td>\\n  <td class=\"col2 brand\">\\n   <a class=\"blue\" href=\"/sg4132/\" target=\"_blank\">\\n    \\u601d\\u94c2\\u777f\\n   </a>\\n  </td>\\n  <td class=\"col3 price\">\\n   17.99-26.79\\u4e07\\n  </td>\\n  <td class=\"col4 relBrand\">\\n   \\u672c\\u7530\\n  </td>\\n  <td class=\"col5 salesNum\">\\n   1266\\n  </td>\\n  <td class=\"col6 salesSum\">\\n   21020\\n  </td>\\n  <td class=\"col7 links\">\\n   <a href=\"/sg4132/price.html\" target=\"_blank\">\\n    \\u62a5\\u4ef7\\n   </a>\\n   <a href=\"http://price.pcauto.com.cn/comment/sg4132/\" target=\"_blank\">\\n    \\u70b9\\u8bc4\\n   </a>\\n   <a href=\"/cars/sg4132/\" target=\"_blank\">\\n    \\u56fe\\u7247\\n   </a>\\n   <a href=\"/sg4132/config.html\" target=\"_blank\">\\n    \\u53c2\\u914d\\n   </a>\\n  </td>\\n </tr>\\n <tr>\\n  <td class=\"col1 index gray\">\\n   135\\n  </td>\\n  <td class=\"col2 brand\">\\n   <a class=\"blue\" href=\"/sg12794/\" target=\"_blank\">\\n    \\u77e5\\u8c46D2\\n   </a>\\n  </td>\\n  <td class=\"col3 price\">\\n   15.18-18.88\\u4e07\\n  </td>\\n  <td class=\"col4 relBrand\">\\n   \\u77e5\\u8c46\\n  </td>\\n  <td class=\"col5 salesNum\">\\n   1187\\n  </td>\\n  <td class=\"col6 salesSum\">\\n   32041\\n  </td>\\n  <td class=\"col7 links\">\\n   <a href=\"/sg12794/price.html\" target=\"_blank\">\\n    \\u62a5\\u4ef7\\n   </a>\\n   <a href=\"http://price.pcauto.com.cn/comment/sg12794/\" target=\"_blank\">\\n    \\u70b9\\u8bc4\\n   </a>\\n   <a href=\"/cars/sg12794/\" target=\"_blank\">\\n    \\u56fe\\u7247\\n   </a>\\n   <a href=\"/sg12794/config.html\" target=\"_blank\">\\n    \\u53c2\\u914d\\n   </a>\\n  </td>\\n </tr>\\n <tr>\\n  <td class=\"col1 index gray\">\\n   136\\n  </td>\\n  <td class=\"col2 brand\">\\n   <a class=\"blue\" href=\"/sg8089/\" target=\"_blank\">\\n    \\u817e\\u52bf\\n   </a>\\n  </td>\\n  <td class=\"col3 price\">\\n   36.90-43.28\\u4e07\\n  </td>\\n  <td class=\"col4 relBrand\">\\n   \\u817e\\u52bf\\n  </td>\\n  <td class=\"col5 salesNum\">\\n   1179\\n  </td>\\n  <td class=\"col6 salesSum\">\\n   4435\\n  </td>\\n  <td class=\"col7 links\">\\n   <a href=\"/sg8089/price.html\" target=\"_blank\">\\n    \\u62a5\\u4ef7\\n   </a>\\n   <a href=\"http://price.pcauto.com.cn/comment/sg8089/\" target=\"_blank\">\\n    \\u70b9\\u8bc4\\n   </a>\\n   <a href=\"/cars/sg8089/\" target=\"_blank\">\\n    \\u56fe\\u7247\\n   </a>\\n   <a href=\"/sg8089/config.html\" target=\"_blank\">\\n    \\u53c2\\u914d\\n   </a>\\n  </td>\\n </tr>\\n <tr>\\n  <td class=\"col1 index gray\">\\n   137\\n  </td>\\n  <td class=\"col2 brand\">\\n   <a class=\"blue\" href=\"/sg8440/\" target=\"_blank\">\\n    \\u901f\\u9510\\n   </a>\\n  </td>\\n  <td class=\"col3 price\">\\n   6.99-9.59\\u4e07\\n  </td>\\n  <td class=\"col4 relBrand\">\\n   \\u6bd4\\u4e9a\\u8fea\\n  </td>\\n  <td class=\"col5 salesNum\">\\n   1157\\n  </td>\\n  <td class=\"col6 salesSum\">\\n   13316\\n  </td>\\n  <td class=\"col7 links\">\\n   <a href=\"/sg8440/price.html\" target=\"_blank\">\\n    \\u62a5\\u4ef7\\n   </a>\\n   <a href=\"http://price.pcauto.com.cn/comment/sg8440/\" target=\"_blank\">\\n    \\u70b9\\u8bc4\\n   </a>\\n   <a href=\"/cars/sg8440/\" target=\"_blank\">\\n    \\u56fe\\u7247\\n   </a>\\n   <a href=\"/sg8440/config.html\" target=\"_blank\">\\n    \\u53c2\\u914d\\n   </a>\\n  </td>\\n </tr>\\n <tr>\\n  <td class=\"col1 index gray\">\\n   138\\n  </td>\\n  <td class=\"col2 brand\">\\n   <a class=\"blue\" href=\"/sg14091/\" target=\"_blank\">\\n    \\u6bd4\\u4e9a\\u8feae5\\n   </a>\\n  </td>\\n  <td class=\"col3 price\">\\n   19.59-21.59\\u4e07\\n  </td>\\n  <td class=\"col4 relBrand\">\\n   \\u6bd4\\u4e9a\\u8fea\\n  </td>\\n  <td class=\"col5 salesNum\">\\n   1146\\n  </td>\\n  <td class=\"col6 salesSum\">\\n   23491\\n  </td>\\n  <td class=\"col7 links\">\\n   <a href=\"/sg14091/price.html\" target=\"_blank\">\\n    \\u62a5\\u4ef7\\n   </a>\\n   <a href=\"http://price.pcauto.com.cn/comment/sg14091/\" target=\"_blank\">\\n    \\u70b9\\u8bc4\\n   </a>\\n   <a href=\"/cars/sg14091/\" target=\"_blank\">\\n    \\u56fe\\u7247\\n   </a>\\n   <a href=\"/sg14091/config.html\" target=\"_blank\">\\n    \\u53c2\\u914d\\n   </a>\\n  </td>\\n </tr>\\n <tr>\\n  <td class=\"col1 index gray\">\\n   139\\n  </td>\\n  <td class=\"col2 brand\">\\n   <a class=\"blue\" href=\"/sg12001/\" target=\"_blank\">\\n    \\u4f17\\u6cf0Z700\\n   </a>\\n  </td>\\n  <td class=\"col3 price\">\\n   9.98-16.58\\u4e07\\n  </td>\\n  <td class=\"col4 relBrand\">\\n   \\u4f17\\u6cf0\\n  </td>\\n  <td class=\"col5 salesNum\">\\n   1124\\n  </td>\\n  <td class=\"col6 salesSum\">\\n   8161\\n  </td>\\n  <td class=\"col7 links\">\\n   <a href=\"/sg12001/price.html\" target=\"_blank\">\\n    \\u62a5\\u4ef7\\n   </a>\\n   <a href=\"http://price.pcauto.com.cn/comment/sg12001/\" target=\"_blank\">\\n    \\u70b9\\u8bc4\\n   </a>\\n   <a href=\"/cars/sg12001/\" target=\"_blank\">\\n    \\u56fe\\u7247\\n   </a>\\n   <a href=\"/sg12001/config.html\" target=\"_blank\">\\n    \\u53c2\\u914d\\n   </a>\\n  </td>\\n </tr>\\n <tr>\\n  <td class=\"col1 index gray\">\\n   140\\n  </td>\\n  <td class=\"col2 brand\">\\n   <a class=\"blue\" href=\"/sg377/\" target=\"_blank\">\\n    \\u9633\\u5149\\n   </a>\\n  </td>\\n  <td class=\"col3 price\">\\n   7.98-11.28\\u4e07\\n  </td>\\n  <td class=\"col4 relBrand\">\\n   \\u65e5\\u4ea7\\n  </td>\\n  <td class=\"col5 salesNum\">\\n   1122\\n  </td>\\n  <td class=\"col6 salesSum\">\\n   29083\\n  </td>\\n  <td class=\"col7 links\">\\n   <a href=\"/sg377/price.html\" target=\"_blank\">\\n    \\u62a5\\u4ef7\\n   </a>\\n   <a href=\"http://price.pcauto.com.cn/comment/sg377/\" target=\"_blank\">\\n    \\u70b9\\u8bc4\\n   </a>\\n   <a href=\"/cars/sg377/\" target=\"_blank\">\\n    \\u56fe\\u7247\\n   </a>\\n   <a href=\"/sg377/config.html\" target=\"_blank\">\\n    \\u53c2\\u914d\\n   </a>\\n  </td>\\n </tr>\\n <tr>\\n  <td class=\"col1 index gray\">\\n   141\\n  </td>\\n  <td class=\"col2 brand\">\\n   <a class=\"blue\" href=\"/sg13339/\" target=\"_blank\">\\n    \\u5b9d\\u9a6c2\\u7cfb\\u65c5\\u884c\\u8f66\\n   </a>\\n  </td>\\n  <td class=\"col3 price\">\\n   23.69-33.19\\u4e07\\n  </td>\\n  <td class=\"col4 relBrand\">\\n   \\u5b9d\\u9a6c\\n  </td>\\n  <td class=\"col5 salesNum\">\\n   1106\\n  </td>\\n  <td class=\"col6 salesSum\">\\n   14682\\n  </td>\\n  <td class=\"col7 links\">\\n   <a href=\"/sg13339/price.html\" target=\"_blank\">\\n    \\u62a5\\u4ef7\\n   </a>\\n   <a href=\"http://price.pcauto.com.cn/comment/sg13339/\" target=\"_blank\">\\n    \\u70b9\\u8bc4\\n   </a>\\n   <a href=\"/cars/sg13339/\" target=\"_blank\">\\n    \\u56fe\\u7247\\n   </a>\\n   <a href=\"/sg13339/config.html\" target=\"_blank\">\\n    \\u53c2\\u914d\\n   </a>\\n  </td>\\n </tr>\\n <tr>\\n  <td class=\"col1 index gray\">\\n   142\\n  </td>\\n  <td class=\"col2 brand\">\\n   <a class=\"blue\" href=\"/sg7742/\" target=\"_blank\">\\n    \\u60a6\\u7fd4V3\\n   </a>\\n  </td>\\n  <td class=\"col3 price\">\\n   4.39-4.99\\u4e07\\n  </td>\\n  <td class=\"col4 relBrand\">\\n   \\u957f\\u5b89\\n  </td>\\n  <td class=\"col5 salesNum\">\\n   1097\\n  </td>\\n  <td class=\"col6 salesSum\">\\n   15345\\n  </td>\\n  <td class=\"col7 links\">\\n   <a href=\"/sg7742/price.html\" target=\"_blank\">\\n    \\u62a5\\u4ef7\\n   </a>\\n   <a href=\"http://price.pcauto.com.cn/comment/sg7742/\" target=\"_blank\">\\n    \\u70b9\\u8bc4\\n   </a>\\n   <a href=\"/cars/sg7742/\" target=\"_blank\">\\n    \\u56fe\\u7247\\n   </a>\\n   <a href=\"/sg7742/config.html\" target=\"_blank\">\\n    \\u53c2\\u914d\\n   </a>\\n  </td>\\n </tr>\\n <tr>\\n  <td class=\"col1 index gray\">\\n   143\\n  </td>\\n  <td class=\"col2 brand\">\\n   <a class=\"blue\" href=\"/sg13088/\" target=\"_blank\">\\n    \\u51ef\\u8fea\\u62c9\\u514bCT6\\n   </a>\\n  </td>\\n  <td class=\"col3 price\">\\n   43.99-81.88\\u4e07\\n  </td>\\n  <td class=\"col4 relBrand\">\\n   \\u51ef\\u8fea\\u62c9\\u514b\\n  </td>\\n  <td class=\"col5 salesNum\">\\n   1096\\n  </td>\\n  <td class=\"col6 salesSum\">\\n   11389\\n  </td>\\n  <td class=\"col7 links\">\\n   <a href=\"/sg13088/price.html\" target=\"_blank\">\\n    \\u62a5\\u4ef7\\n   </a>\\n   <a href=\"http://price.pcauto.com.cn/comment/sg13088/\" target=\"_blank\">\\n    \\u70b9\\u8bc4\\n   </a>\\n   <a href=\"/cars/sg13088/\" target=\"_blank\">\\n    \\u56fe\\u7247\\n   </a>\\n   <a href=\"/sg13088/config.html\" target=\"_blank\">\\n    \\u53c2\\u914d\\n   </a>\\n  </td>\\n </tr>\\n <tr>\\n  <td class=\"col1 index gray\">\\n   144\\n  </td>\\n  <td class=\"col2 brand\">\\n   <a class=\"blue\" href=\"/sg21925/\" target=\"_blank\">\\n    \\u4f17\\u6cf0Z500\\n   </a>\\n  </td>\\n  <td class=\"col3 price\">\\n   \\u6682\\u65e0\\u62a5\\u4ef7\\n  </td>\\n  <td class=\"col4 relBrand\">\\n   \\u4f17\\u6cf0\\n  </td>\\n  <td class=\"col5 salesNum\">\\n   1067\\n  </td>\\n  <td class=\"col6 salesSum\">\\n   4073\\n  </td>\\n  <td class=\"col7 links\">\\n   <a href=\"/sg21925/price.html\" target=\"_blank\">\\n    \\u62a5\\u4ef7\\n   </a>\\n   <a href=\"http://price.pcauto.com.cn/comment/sg21925/\" target=\"_blank\">\\n    \\u70b9\\u8bc4\\n   </a>\\n   <a href=\"/cars/sg21925/\" target=\"_blank\">\\n    \\u56fe\\u7247\\n   </a>\\n   <a href=\"/sg21925/config.html\" target=\"_blank\">\\n    \\u53c2\\u914d\\n   </a>\\n  </td>\\n </tr>\\n <tr>\\n  <td class=\"col1 index gray\">\\n   145\\n  </td>\\n  <td class=\"col2 brand\">\\n   <a class=\"blue\" href=\"/sg3184/\" target=\"_blank\">\\n    \\u9a8f\\u6377FRV\\n   </a>\\n  </td>\\n  <td class=\"col3 price\">\\n   \\u6682\\u65e0\\u62a5\\u4ef7\\n  </td>\\n  <td class=\"col4 relBrand\">\\n   \\u4e2d\\u534e\\n  </td>\\n  <td class=\"col5 salesNum\">\\n   1056\\n  </td>\\n  <td class=\"col6 salesSum\">\\n   8064\\n  </td>\\n  <td class=\"col7 links\">\\n   <a href=\"/sg3184/price.html\" target=\"_blank\">\\n    \\u62a5\\u4ef7\\n   </a>\\n   <a href=\"http://price.pcauto.com.cn/comment/sg3184/\" target=\"_blank\">\\n    \\u70b9\\u8bc4\\n   </a>\\n   <a href=\"/cars/sg3184/\" target=\"_blank\">\\n    \\u56fe\\u7247\\n   </a>\\n   <a href=\"/sg3184/config.html\" target=\"_blank\">\\n    \\u53c2\\u914d\\n   </a>\\n  </td>\\n </tr>\\n <tr>\\n  <td class=\"col1 index gray\">\\n   146\\n  </td>\\n  <td class=\"col2 brand\">\\n   <a class=\"blue\" href=\"/sg11161/\" target=\"_blank\">\\n    \\u540d\\u7235GT\\n   </a>\\n  </td>\\n  <td class=\"col3 price\">\\n   7.79-12.99\\u4e07\\n  </td>\\n  <td class=\"col4 relBrand\">\\n   MG\\u540d\\u7235\\n  </td>\\n  <td class=\"col5 salesNum\">\\n   1030\\n  </td>\\n  <td class=\"col6 salesSum\">\\n   9342\\n  </td>\\n  <td class=\"col7 links\">\\n   <a href=\"/sg11161/price.html\" target=\"_blank\">\\n    \\u62a5\\u4ef7\\n   </a>\\n   <a href=\"http://price.pcauto.com.cn/comment/sg11161/\" target=\"_blank\">\\n    \\u70b9\\u8bc4\\n   </a>\\n   <a href=\"/cars/sg11161/\" target=\"_blank\">\\n    \\u56fe\\u7247\\n   </a>\\n   <a href=\"/sg11161/config.html\" target=\"_blank\">\\n    \\u53c2\\u914d\\n   </a>\\n  </td>\\n </tr>\\n <tr>\\n  <td class=\"col1 index gray\">\\n   147\\n  </td>\\n  <td class=\"col2 brand\">\\n   <a class=\"blue\" href=\"/sg1053/\" target=\"_blank\">\\n    \\u96e8\\u71d5\\n   </a>\\n  </td>\\n  <td class=\"col3 price\">\\n   5.48-8.28\\u4e07\\n  </td>\\n  <td class=\"col4 relBrand\">\\n   \\u94c3\\u6728\\n  </td>\\n  <td class=\"col5 salesNum\">\\n   970\\n  </td>\\n  <td class=\"col6 salesSum\">\\n   13714\\n  </td>\\n  <td class=\"col7 links\">\\n   <a href=\"/sg1053/price.html\" target=\"_blank\">\\n    \\u62a5\\u4ef7\\n   </a>\\n   <a href=\"http://price.pcauto.com.cn/comment/sg1053/\" target=\"_blank\">\\n    \\u70b9\\u8bc4\\n   </a>\\n   <a href=\"/cars/sg1053/\" target=\"_blank\">\\n    \\u56fe\\u7247\\n   </a>\\n   <a href=\"/sg1053/config.html\" target=\"_blank\">\\n    \\u53c2\\u914d\\n   </a>\\n  </td>\\n </tr>\\n <tr>\\n  <td class=\"col1 index gray\">\\n   148\\n  </td>\\n  <td class=\"col2 brand\">\\n   <a class=\"blue\" href=\"/sg3094/\" target=\"_blank\">\\n    \\u8d5b\\u62c9\\u56fe\\n   </a>\\n  </td>\\n  <td class=\"col3 price\">\\n   \\u6682\\u65e0\\u62a5\\u4ef7\\n  </td>\\n  <td class=\"col4 relBrand\">\\n   \\u8d77\\u4e9a\\n  </td>\\n  <td class=\"col5 salesNum\">\\n   950\\n  </td>\\n  <td class=\"col6 salesSum\">\\n   6447\\n  </td>\\n  <td class=\"col7 links\">\\n   <a href=\"/sg3094/price.html\" target=\"_blank\">\\n    \\u62a5\\u4ef7\\n   </a>\\n   <a href=\"http://price.pcauto.com.cn/comment/sg3094/\" target=\"_blank\">\\n    \\u70b9\\u8bc4\\n   </a>\\n   <a href=\"/cars/sg3094/\" target=\"_blank\">\\n    \\u56fe\\u7247\\n   </a>\\n   <a href=\"/sg3094/config.html\" target=\"_blank\">\\n    \\u53c2\\u914d\\n   </a>\\n  </td>\\n </tr>\\n <tr>\\n  <td class=\"col1 index gray\">\\n   149\\n  </td>\\n  <td class=\"col2 brand\">\\n   <a class=\"blue\" href=\"/sg3474/\" target=\"_blank\">\\n    \\u6676\\u9510\\n   </a>\\n  </td>\\n  <td class=\"col3 price\">\\n   6.99-10.99\\u4e07\\n  </td>\\n  <td class=\"col4 relBrand\">\\n   \\u65af\\u67ef\\u8fbe\\n  </td>\\n  <td class=\"col5 salesNum\">\\n   938\\n  </td>\\n  <td class=\"col6 salesSum\">\\n   11974\\n  </td>\\n  <td class=\"col7 links\">\\n   <a href=\"/sg3474/price.html\" target=\"_blank\">\\n    \\u62a5\\u4ef7\\n   </a>\\n   <a href=\"http://price.pcauto.com.cn/comment/sg3474/\" target=\"_blank\">\\n    \\u70b9\\u8bc4\\n   </a>\\n   <a href=\"/cars/sg3474/\" target=\"_blank\">\\n    \\u56fe\\u7247\\n   </a>\\n   <a href=\"/sg3474/config.html\" target=\"_blank\">\\n    \\u53c2\\u914d\\n   </a>\\n  </td>\\n </tr>\\n <tr>\\n  <td class=\"col1 index gray\">\\n   150\\n  </td>\\n  <td class=\"col2 brand\">\\n   <a class=\"blue\" href=\"/sg294/\" target=\"_blank\">\\n    \\u798f\\u7f8e\\u6765\\n   </a>\\n  </td>\\n  <td class=\"col3 price\">\\n   7.68-9.28\\u4e07\\n  </td>\\n  <td class=\"col4 relBrand\">\\n   \\u6d77\\u9a6c\\n  </td>\\n  <td class=\"col5 salesNum\">\\n   798\\n  </td>\\n  <td class=\"col6 salesSum\">\\n   10914\\n  </td>\\n  <td class=\"col7 links\">\\n   <a href=\"/sg294/price.html\" target=\"_blank\">\\n    \\u62a5\\u4ef7\\n   </a>\\n   <a href=\"http://price.pcauto.com.cn/comment/sg294/\" target=\"_blank\">\\n    \\u70b9\\u8bc4\\n   </a>\\n   <a href=\"/cars/sg294/\" target=\"_blank\">\\n    \\u56fe\\u7247\\n   </a>\\n   <a href=\"/sg294/config.html\" target=\"_blank\">\\n    \\u53c2\\u914d\\n   </a>\\n  </td>\\n </tr>\\n <tr>\\n  <td class=\"col1 index gray\">\\n   151\\n  </td>\\n  <td class=\"col2 brand\">\\n   <a class=\"blue\" href=\"/sg4640/\" target=\"_blank\">\\n    \\u5954\\u817eB30\\n   </a>\\n  </td>\\n  <td class=\"col3 price\">\\n   6.58-9.28\\u4e07\\n  </td>\\n  <td class=\"col4 relBrand\">\\n   \\u5954\\u817e\\n  </td>\\n  <td class=\"col5 salesNum\">\\n   735\\n  </td>\\n  <td class=\"col6 salesSum\">\\n   10603\\n  </td>\\n  <td class=\"col7 links\">\\n   <a href=\"/sg4640/price.html\" target=\"_blank\">\\n    \\u62a5\\u4ef7\\n   </a>\\n   <a href=\"http://price.pcauto.com.cn/comment/sg4640/\" target=\"_blank\">\\n    \\u70b9\\u8bc4\\n   </a>\\n   <a href=\"/cars/sg4640/\" target=\"_blank\">\\n    \\u56fe\\u7247\\n   </a>\\n   <a href=\"/sg4640/config.html\" target=\"_blank\">\\n    \\u53c2\\u914d\\n   </a>\\n  </td>\\n </tr>\\n <tr>\\n  <td class=\"col1 index gray\">\\n   152\\n  </td>\\n  <td class=\"col2 brand\">\\n   <a class=\"blue\" href=\"/sg4083/\" target=\"_blank\">\\n    \\u8363\\u5a01350\\n   </a>\\n  </td>\\n  <td class=\"col3 price\">\\n   7.87-14.07\\u4e07\\n  </td>\\n  <td class=\"col4 relBrand\">\\n   \\u8363\\u5a01\\n  </td>\\n  <td class=\"col5 salesNum\">\\n   719\\n  </td>\\n  <td class=\"col6 salesSum\">\\n   13058\\n  </td>\\n  <td class=\"col7 links\">\\n   <a href=\"/sg4083/price.html\" target=\"_blank\">\\n    \\u62a5\\u4ef7\\n   </a>\\n   <a href=\"http://price.pcauto.com.cn/comment/sg4083/\" target=\"_blank\">\\n    \\u70b9\\u8bc4\\n   </a>\\n   <a href=\"/cars/sg4083/\" target=\"_blank\">\\n    \\u56fe\\u7247\\n   </a>\\n   <a href=\"/sg4083/config.html\" target=\"_blank\">\\n    \\u53c2\\u914d\\n   </a>\\n  </td>\\n </tr>\\n <tr>\\n  <td class=\"col1 index gray\">\\n   153\\n  </td>\\n  <td class=\"col2 brand\">\\n   <a class=\"blue\" href=\"/sg3624/\" target=\"_blank\">\\n    \\u5954\\u817eB50\\n   </a>\\n  </td>\\n  <td class=\"col3 price\">\\n   8.18-11.78\\u4e07\\n  </td>\\n  <td class=\"col4 relBrand\">\\n   \\u5954\\u817e\\n  </td>\\n  <td class=\"col5 salesNum\">\\n   700\\n  </td>\\n  <td class=\"col6 salesSum\">\\n   11485\\n  </td>\\n  <td class=\"col7 links\">\\n   <a href=\"/sg3624/price.html\" target=\"_blank\">\\n    \\u62a5\\u4ef7\\n   </a>\\n   <a href=\"http://price.pcauto.com.cn/comment/sg3624/\" target=\"_blank\">\\n    \\u70b9\\u8bc4\\n   </a>\\n   <a href=\"/cars/sg3624/\" target=\"_blank\">\\n    \\u56fe\\u7247\\n   </a>\\n   <a href=\"/sg3624/config.html\" target=\"_blank\">\\n    \\u53c2\\u914d\\n   </a>\\n  </td>\\n </tr>\\n <tr>\\n  <td class=\"col1 index gray\">\\n   154\\n  </td>\\n  <td class=\"col2 brand\">\\n   <a class=\"blue\" href=\"/sg7032/\" target=\"_blank\">\\n    \\u5b9d\\u9a8f630\\n   </a>\\n  </td>\\n  <td class=\"col3 price\">\\n   5.98-7.48\\u4e07\\n  </td>\\n  <td class=\"col4 relBrand\">\\n   \\u5b9d\\u9a8f\\n  </td>\\n  <td class=\"col5 salesNum\">\\n   675\\n  </td>\\n  <td class=\"col6 salesSum\">\\n   3211\\n  </td>\\n  <td class=\"col7 links\">\\n   <a href=\"/sg7032/price.html\" target=\"_blank\">\\n    \\u62a5\\u4ef7\\n   </a>\\n   <a href=\"http://price.pcauto.com.cn/comment/sg7032/\" target=\"_blank\">\\n    \\u70b9\\u8bc4\\n   </a>\\n   <a href=\"/cars/sg7032/\" target=\"_blank\">\\n    \\u56fe\\u7247\\n   </a>\\n   <a href=\"/sg7032/config.html\" target=\"_blank\">\\n    \\u53c2\\u914d\\n   </a>\\n  </td>\\n </tr>\\n <tr>\\n  <td class=\"col1 index gray\">\\n   155\\n  </td>\\n  <td class=\"col2 brand\">\\n   <a class=\"blue\" href=\"/sg12513/\" target=\"_blank\">\\n    \\u4f20\\u797aGA8\\n   </a>\\n  </td>\\n  <td class=\"col3 price\">\\n   14.98-25.98\\u4e07\\n  </td>\\n  <td class=\"col4 relBrand\">\\n   \\u5e7f\\u6c7d\\u4f20\\u797a\\n  </td>\\n  <td class=\"col5 salesNum\">\\n   661\\n  </td>\\n  <td class=\"col6 salesSum\">\\n   4577\\n  </td>\\n  <td class=\"col7 links\">\\n   <a href=\"/sg12513/price.html\" target=\"_blank\">\\n    \\u62a5\\u4ef7\\n   </a>\\n   <a href=\"http://price.pcauto.com.cn/comment/sg12513/\" target=\"_blank\">\\n    \\u70b9\\u8bc4\\n   </a>\\n   <a href=\"/cars/sg12513/\" target=\"_blank\">\\n    \\u56fe\\u7247\\n   </a>\\n   <a href=\"/sg12513/config.html\" target=\"_blank\">\\n    \\u53c2\\u914d\\n   </a>\\n  </td>\\n </tr>\\n <tr>\\n  <td class=\"col1 index gray\">\\n   156\\n  </td>\\n  <td class=\"col2 brand\">\\n   <a class=\"blue\" href=\"/sg21512/\" target=\"_blank\">\\n    \\u827e\\u745e\\u6cfd5e\\n   </a>\\n  </td>\\n  <td class=\"col3 price\">\\n   21.28-23.28\\u4e07\\n  </td>\\n  <td class=\"col4 relBrand\">\\n   \\u5947\\u745e\\n  </td>\\n  <td class=\"col5 salesNum\">\\n   632\\n  </td>\\n  <td class=\"col6 salesSum\">\\n   1513\\n  </td>\\n  <td class=\"col7 links\">\\n   <a href=\"/sg21512/price.html\" target=\"_blank\">\\n    \\u62a5\\u4ef7\\n   </a>\\n   <a href=\"http://price.pcauto.com.cn/comment/sg21512/\" target=\"_blank\">\\n    \\u70b9\\u8bc4\\n   </a>\\n   <a href=\"/cars/sg21512/\" target=\"_blank\">\\n    \\u56fe\\u7247\\n   </a>\\n   <a href=\"/sg21512/config.html\" target=\"_blank\">\\n    \\u53c2\\u914d\\n   </a>\\n  </td>\\n </tr>\\n <tr>\\n  <td class=\"col1 index gray\">\\n   157\\n  </td>\\n  <td class=\"col2 brand\">\\n   <a class=\"blue\" href=\"/sg8910/\" target=\"_blank\">\\n    \\u6d77\\u9a6cM6\\n   </a>\\n  </td>\\n  <td class=\"col3 price\">\\n   6.98-10.28\\u4e07\\n  </td>\\n  <td class=\"col4 relBrand\">\\n   \\u6d77\\u9a6c\\u90d1\\u5dde\\n  </td>\\n  <td class=\"col5 salesNum\">\\n   592\\n  </td>\\n  <td class=\"col6 salesSum\">\\n   9301\\n  </td>\\n  <td class=\"col7 links\">\\n   <a href=\"/sg8910/price.html\" target=\"_blank\">\\n    \\u62a5\\u4ef7\\n   </a>\\n   <a href=\"http://price.pcauto.com.cn/comment/sg8910/\" target=\"_blank\">\\n    \\u70b9\\u8bc4\\n   </a>\\n   <a href=\"/cars/sg8910/\" target=\"_blank\">\\n    \\u56fe\\u7247\\n   </a>\\n   <a href=\"/sg8910/config.html\" target=\"_blank\">\\n    \\u53c2\\u914d\\n   </a>\\n  </td>\\n </tr>\\n <tr>\\n  <td class=\"col1 index gray\">\\n   158\\n  </td>\\n  <td class=\"col2 brand\">\\n   <a class=\"blue\" href=\"/sg13278/\" target=\"_blank\">\\n    \\u4e50\\u98ceRV\\n   </a>\\n  </td>\\n  <td class=\"col3 price\">\\n   7.49-9.99\\u4e07\\n  </td>\\n  <td class=\"col4 relBrand\">\\n   \\u96ea\\u4f5b\\u5170\\n  </td>\\n  <td class=\"col5 salesNum\">\\n   558\\n  </td>\\n  <td class=\"col6 salesSum\">\\n   2984\\n  </td>\\n  <td class=\"col7 links\">\\n   <a href=\"/sg13278/price.html\" target=\"_blank\">\\n    \\u62a5\\u4ef7\\n   </a>\\n   <a href=\"http://price.pcauto.com.cn/comment/sg13278/\" target=\"_blank\">\\n    \\u70b9\\u8bc4\\n   </a>\\n   <a href=\"/cars/sg13278/\" target=\"_blank\">\\n    \\u56fe\\u7247\\n   </a>\\n   <a href=\"/sg13278/config.html\" target=\"_blank\">\\n    \\u53c2\\u914d\\n   </a>\\n  </td>\\n </tr>\\n <tr>\\n  <td class=\"col1 index gray\">\\n   159\\n  </td>\\n  <td class=\"col2 brand\">\\n   <a class=\"blue\" href=\"/sg12585/\" target=\"_blank\">\\n    \\u829d\\u9ebb\\n   </a>\\n  </td>\\n  <td class=\"col3 price\">\\n   11.98\\u4e07\\n  </td>\\n  <td class=\"col4 relBrand\">\\n   \\u4f17\\u6cf0\\n  </td>\\n  <td class=\"col5 salesNum\">\\n   558\\n  </td>\\n  <td class=\"col6 salesSum\">\\n   3433\\n  </td>\\n  <td class=\"col7 links\">\\n   <a href=\"/sg12585/price.html\" target=\"_blank\">\\n    \\u62a5\\u4ef7\\n   </a>\\n   <a href=\"http://price.pcauto.com.cn/comment/sg12585/\" target=\"_blank\">\\n    \\u70b9\\u8bc4\\n   </a>\\n   <a href=\"/cars/sg12585/\" target=\"_blank\">\\n    \\u56fe\\u7247\\n   </a>\\n   <a href=\"/sg12585/config.html\" target=\"_blank\">\\n    \\u53c2\\u914d\\n   </a>\\n  </td>\\n </tr>\\n <tr>\\n  <td class=\"col1 index gray\">\\n   160\\n  </td>\\n  <td class=\"col2 brand\">\\n   <a class=\"blue\" href=\"/sg3985/\" target=\"_blank\">\\n    \\u548c\\u60a6\\n   </a>\\n  </td>\\n  <td class=\"col3 price\">\\n   6.28-7.58\\u4e07\\n  </td>\\n  <td class=\"col4 relBrand\">\\n   \\u6c5f\\u6dee\\n  </td>\\n  <td class=\"col5 salesNum\">\\n   552\\n  </td>\\n  <td class=\"col6 salesSum\">\\n   4653\\n  </td>\\n  <td class=\"col7 links\">\\n   <a href=\"/sg3985/price.html\" target=\"_blank\">\\n    \\u62a5\\u4ef7\\n   </a>\\n   <a href=\"http://price.pcauto.com.cn/comment/sg3985/\" target=\"_blank\">\\n    \\u70b9\\u8bc4\\n   </a>\\n   <a href=\"/cars/sg3985/\" target=\"_blank\">\\n    \\u56fe\\u7247\\n   </a>\\n   <a href=\"/sg3985/config.html\" target=\"_blank\">\\n    \\u53c2\\u914d\\n   </a>\\n  </td>\\n </tr>\\n <tr>\\n  <td class=\"col1 index gray\">\\n   161\\n  </td>\\n  <td class=\"col2 brand\">\\n   <a class=\"blue\" href=\"/sg14265/\" target=\"_blank\">\\n    \\u9a8f\\u6d3eA70\\n   </a>\\n  </td>\\n  <td class=\"col3 price\">\\n   6.48-8.78\\u4e07\\n  </td>\\n  <td class=\"col4 relBrand\">\\n   \\u4e00\\u6c7d\\n  </td>\\n  <td class=\"col5 salesNum\">\\n   535\\n  </td>\\n  <td class=\"col6 salesSum\">\\n   3513\\n  </td>\\n  <td class=\"col7 links\">\\n   <a href=\"/sg14265/price.html\" target=\"_blank\">\\n    \\u62a5\\u4ef7\\n   </a>\\n   <a href=\"http://price.pcauto.com.cn/comment/sg14265/\" target=\"_blank\">\\n    \\u70b9\\u8bc4\\n   </a>\\n   <a href=\"/cars/sg14265/\" target=\"_blank\">\\n    \\u56fe\\u7247\\n   </a>\\n   <a href=\"/sg14265/config.html\" target=\"_blank\">\\n    \\u53c2\\u914d\\n   </a>\\n  </td>\\n </tr>\\n <tr>\\n  <td class=\"col1 index gray\">\\n   162\\n  </td>\\n  <td class=\"col2 brand\">\\n   <a class=\"blue\" href=\"/sg11231/\" target=\"_blank\">\\n    \\u4f20\\u797aGA3S\\u89c6\\u754c\\n   </a>\\n  </td>\\n  <td class=\"col3 price\">\\n   6.98-11.98\\u4e07\\n  </td>\\n  <td class=\"col4 relBrand\">\\n   \\u5e7f\\u6c7d\\u4f20\\u797a\\n  </td>\\n  <td class=\"col5 salesNum\">\\n   509\\n  </td>\\n  <td class=\"col6 salesSum\">\\n   5633\\n  </td>\\n  <td class=\"col7 links\">\\n   <a href=\"/sg11231/price.html\" target=\"_blank\">\\n    \\u62a5\\u4ef7\\n   </a>\\n   <a href=\"http://price.pcauto.com.cn/comment/sg11231/\" target=\"_blank\">\\n    \\u70b9\\u8bc4\\n   </a>\\n   <a href=\"/cars/sg11231/\" target=\"_blank\">\\n    \\u56fe\\u7247\\n   </a>\\n   <a href=\"/sg11231/config.html\" target=\"_blank\">\\n    \\u53c2\\u914d\\n   </a>\\n  </td>\\n </tr>\\n <tr>\\n  <td class=\"col1 index gray\">\\n   163\\n  </td>\\n  <td class=\"col2 brand\">\\n   <a class=\"blue\" href=\"/sg20524/\" target=\"_blank\">\\n    \\u5168\\u7403\\u9e70K17\\n   </a>\\n  </td>\\n  <td class=\"col3 price\">\\n   16.48\\u4e07\\n  </td>\\n  <td class=\"col4 relBrand\">\\n   \\u5eb7\\u8fea\\n  </td>\\n  <td class=\"col5 salesNum\">\\n   474\\n  </td>\\n  <td class=\"col6 salesSum\">\\n   3882\\n  </td>\\n  <td class=\"col7 links\">\\n   <a href=\"/sg20524/price.html\" target=\"_blank\">\\n    \\u62a5\\u4ef7\\n   </a>\\n   <a href=\"http://price.pcauto.com.cn/comment/sg20524/\" target=\"_blank\">\\n    \\u70b9\\u8bc4\\n   </a>\\n   <a href=\"/cars/sg20524/\" target=\"_blank\">\\n    \\u56fe\\u7247\\n   </a>\\n   <a href=\"/sg20524/config.html\" target=\"_blank\">\\n    \\u53c2\\u914d\\n   </a>\\n  </td>\\n </tr>\\n <tr>\\n  <td class=\"col1 index gray\">\\n   164\\n  </td>\\n  <td class=\"col2 brand\">\\n   <a class=\"blue\" href=\"/sg22189/\" target=\"_blank\">\\n    ARCFOX LITE\\n   </a>\\n  </td>\\n  <td class=\"col3 price\">\\n   15.28-17.28\\u4e07\\n  </td>\\n  <td class=\"col4 relBrand\">\\n   ARCFOX\\n  </td>\\n  <td class=\"col5 salesNum\">\\n   472\\n  </td>\\n  <td class=\"col6 salesSum\">\\n   472\\n  </td>\\n  <td class=\"col7 links\">\\n   <a href=\"/sg22189/price.html\" target=\"_blank\">\\n    \\u62a5\\u4ef7\\n   </a>\\n   <a href=\"http://price.pcauto.com.cn/comment/sg22189/\" target=\"_blank\">\\n    \\u70b9\\u8bc4\\n   </a>\\n   <a href=\"/cars/sg22189/\" target=\"_blank\">\\n    \\u56fe\\u7247\\n   </a>\\n   <a href=\"/sg22189/config.html\" target=\"_blank\">\\n    \\u53c2\\u914d\\n   </a>\\n  </td>\\n </tr>\\n <tr>\\n  <td class=\"col1 index gray\">\\n   165\\n  </td>\\n  <td class=\"col2 brand\">\\n   <a class=\"blue\" href=\"/sg2543/\" target=\"_blank\">\\n    \\u9a8a\\u5a01\\n   </a>\\n  </td>\\n  <td class=\"col3 price\">\\n   8.58-11.72\\u4e07\\n  </td>\\n  <td class=\"col4 relBrand\">\\n   \\u65e5\\u4ea7\\n  </td>\\n  <td class=\"col5 salesNum\">\\n   463\\n  </td>\\n  <td class=\"col6 salesSum\">\\n   5495\\n  </td>\\n  <td class=\"col7 links\">\\n   <a href=\"/sg2543/price.html\" target=\"_blank\">\\n    \\u62a5\\u4ef7\\n   </a>\\n   <a href=\"http://price.pcauto.com.cn/comment/sg2543/\" target=\"_blank\">\\n    \\u70b9\\u8bc4\\n   </a>\\n   <a href=\"/cars/sg2543/\" target=\"_blank\">\\n    \\u56fe\\u7247\\n   </a>\\n   <a href=\"/sg2543/config.html\" target=\"_blank\">\\n    \\u53c2\\u914d\\n   </a>\\n  </td>\\n </tr>\\n <tr>\\n  <td class=\"col1 index gray\">\\n   166\\n  </td>\\n  <td class=\"col2 brand\">\\n   <a class=\"blue\" href=\"/sg23/\" target=\"_blank\">\\n    \\u5965\\u62d3\\n   </a>\\n  </td>\\n  <td class=\"col3 price\">\\n   4.18-6.19\\u4e07\\n  </td>\\n  <td class=\"col4 relBrand\">\\n   \\u94c3\\u6728\\n  </td>\\n  <td class=\"col5 salesNum\">\\n   463\\n  </td>\\n  <td class=\"col6 salesSum\">\\n   8626\\n  </td>\\n  <td class=\"col7 links\">\\n   <a href=\"/sg23/price.html\" target=\"_blank\">\\n    \\u62a5\\u4ef7\\n   </a>\\n   <a href=\"http://price.pcauto.com.cn/comment/sg23/\" target=\"_blank\">\\n    \\u70b9\\u8bc4\\n   </a>\\n   <a href=\"/cars/sg23/\" target=\"_blank\">\\n    \\u56fe\\u7247\\n   </a>\\n   <a href=\"/sg23/config.html\" target=\"_blank\">\\n    \\u53c2\\u914d\\n   </a>\\n  </td>\\n </tr>\\n <tr>\\n  <td class=\"col1 index gray\">\\n   167\\n  </td>\\n  <td class=\"col2 brand\">\\n   <a class=\"blue\" href=\"/sg21434/\" target=\"_blank\">\\n    \\u4f17\\u6cf0Z500EV\\n   </a>\\n  </td>\\n  <td class=\"col3 price\">\\n   22.98\\u4e07\\n  </td>\\n  <td class=\"col4 relBrand\">\\n   \\u4f17\\u6cf0\\n  </td>\\n  <td class=\"col5 salesNum\">\\n   449\\n  </td>\\n  <td class=\"col6 salesSum\">\\n   770\\n  </td>\\n  <td class=\"col7 links\">\\n   <a href=\"/sg21434/price.html\" target=\"_blank\">\\n    \\u62a5\\u4ef7\\n   </a>\\n   <a href=\"http://price.pcauto.com.cn/comment/sg21434/\" target=\"_blank\">\\n    \\u70b9\\u8bc4\\n   </a>\\n   <a href=\"/cars/sg21434/\" target=\"_blank\">\\n    \\u56fe\\u7247\\n   </a>\\n   <a href=\"/sg21434/config.html\" target=\"_blank\">\\n    \\u53c2\\u914d\\n   </a>\\n  </td>\\n </tr>\\n <tr>\\n  <td class=\"col1 index gray\">\\n   168\\n  </td>\\n  <td class=\"col2 brand\">\\n   <a class=\"blue\" href=\"/sg7679/\" target=\"_blank\">\\n    \\u4e1c\\u98ce\\u98ce\\u795eA60\\n   </a>\\n  </td>\\n  <td class=\"col3 price\">\\n   6.97-15.47\\u4e07\\n  </td>\\n  <td class=\"col4 relBrand\">\\n   \\u4e1c\\u98ce\\u98ce\\u795e\\n  </td>\\n  <td class=\"col5 salesNum\">\\n   418\\n  </td>\\n  <td class=\"col6 salesSum\">\\n   7813\\n  </td>\\n  <td class=\"col7 links\">\\n   <a href=\"/sg7679/price.html\" target=\"_blank\">\\n    \\u62a5\\u4ef7\\n   </a>\\n   <a href=\"http://price.pcauto.com.cn/comment/sg7679/\" target=\"_blank\">\\n    \\u70b9\\u8bc4\\n   </a>\\n   <a href=\"/cars/sg7679/\" target=\"_blank\">\\n    \\u56fe\\u7247\\n   </a>\\n   <a href=\"/sg7679/config.html\" target=\"_blank\">\\n    \\u53c2\\u914d\\n   </a>\\n  </td>\\n </tr>\\n <tr>\\n  <td class=\"col1 index gray\">\\n   169\\n  </td>\\n  <td class=\"col2 brand\">\\n   <a class=\"blue\" href=\"/sg3315/\" target=\"_blank\">\\n    \\u529b\\u5e06620\\n   </a>\\n  </td>\\n  <td class=\"col3 price\">\\n   \\u6682\\u65e0\\u62a5\\u4ef7\\n  </td>\\n  <td class=\"col4 relBrand\">\\n   \\u529b\\u5e06\\n  </td>\\n  <td class=\"col5 salesNum\">\\n   418\\n  </td>\\n  <td class=\"col6 salesSum\">\\n   1735\\n  </td>\\n  <td class=\"col7 links\">\\n   <a href=\"/sg3315/price.html\" target=\"_blank\">\\n    \\u62a5\\u4ef7\\n   </a>\\n   <a href=\"http://price.pcauto.com.cn/comment/sg3315/\" target=\"_blank\">\\n    \\u70b9\\u8bc4\\n   </a>\\n   <a href=\"/cars/sg3315/\" target=\"_blank\">\\n    \\u56fe\\u7247\\n   </a>\\n   <a href=\"/sg3315/config.html\" target=\"_blank\">\\n    \\u53c2\\u914d\\n   </a>\\n  </td>\\n </tr>\\n <tr>\\n  <td class=\"col1 index gray\">\\n   170\\n  </td>\\n  <td class=\"col2 brand\">\\n   <a class=\"blue\" href=\"/sg22243/\" target=\"_blank\">\\n    \\u88d5\\u8defEV2\\n   </a>\\n  </td>\\n  <td class=\"col3 price\">\\n   11.98-12.28\\u4e07\\n  </td>\\n  <td class=\"col4 relBrand\">\\n   \\u88d5\\u8def\\n  </td>\\n  <td class=\"col5 salesNum\">\\n   408\\n  </td>\\n  <td class=\"col6 salesSum\">\\n   531\\n  </td>\\n  <td class=\"col7 links\">\\n   <a href=\"/sg22243/price.html\" target=\"_blank\">\\n    \\u62a5\\u4ef7\\n   </a>\\n   <a href=\"http://price.pcauto.com.cn/comment/sg22243/\" target=\"_blank\">\\n    \\u70b9\\u8bc4\\n   </a>\\n   <a href=\"/cars/sg22243/\" target=\"_blank\">\\n    \\u56fe\\u7247\\n   </a>\\n   <a href=\"/sg22243/config.html\" target=\"_blank\">\\n    \\u53c2\\u914d\\n   </a>\\n  </td>\\n </tr>\\n <tr>\\n  <td class=\"col1 index gray\">\\n   171\\n  </td>\\n  <td class=\"col2 brand\">\\n   <a class=\"blue\" href=\"/sg7542/\" target=\"_blank\">\\n    V5\\u83f1\\u81f4\\n   </a>\\n  </td>\\n  <td class=\"col3 price\">\\n   6.59-8.09\\u4e07\\n  </td>\\n  <td class=\"col4 relBrand\">\\n   \\u4e1c\\u5357\\n  </td>\\n  <td class=\"col5 salesNum\">\\n   406\\n  </td>\\n  <td class=\"col6 salesSum\">\\n   3222\\n  </td>\\n  <td class=\"col7 links\">\\n   <a href=\"/sg7542/price.html\" target=\"_blank\">\\n    \\u62a5\\u4ef7\\n   </a>\\n   <a href=\"http://price.pcauto.com.cn/comment/sg7542/\" target=\"_blank\">\\n    \\u70b9\\u8bc4\\n   </a>\\n   <a href=\"/cars/sg7542/\" target=\"_blank\">\\n    \\u56fe\\u7247\\n   </a>\\n   <a href=\"/sg7542/config.html\" target=\"_blank\">\\n    \\u53c2\\u914d\\n   </a>\\n  </td>\\n </tr>\\n <tr>\\n  <td class=\"col1 index gray\">\\n   172\\n  </td>\\n  <td class=\"col2 brand\">\\n   <a class=\"blue\" href=\"/sg21447/\" target=\"_blank\">\\n    \\u51ef\\u7f8e\\u745e\\u53cc\\u64ce\\n   </a>\\n  </td>\\n  <td class=\"col3 price\">\\n   23.98-27.98\\u4e07\\n  </td>\\n  <td class=\"col4 relBrand\">\\n   \\u4e30\\u7530\\n  </td>\\n  <td class=\"col5 salesNum\">\\n   395\\n  </td>\\n  <td class=\"col6 salesSum\">\\n   576\\n  </td>\\n  <td class=\"col7 links\">\\n   <a href=\"/sg21447/price.html\" target=\"_blank\">\\n    \\u62a5\\u4ef7\\n   </a>\\n   <a href=\"http://price.pcauto.com.cn/comment/sg21447/\" target=\"_blank\">\\n    \\u70b9\\u8bc4\\n   </a>\\n   <a href=\"/cars/sg21447/\" target=\"_blank\">\\n    \\u56fe\\u7247\\n   </a>\\n   <a href=\"/sg21447/config.html\" target=\"_blank\">\\n    \\u53c2\\u914d\\n   </a>\\n  </td>\\n </tr>\\n <tr>\\n  <td class=\"col1 index gray\">\\n   173\\n  </td>\\n  <td class=\"col2 brand\">\\n   <a class=\"blue\" href=\"/sg4127/\" target=\"_blank\">\\n    \\u7ffc\\u795e\\n   </a>\\n  </td>\\n  <td class=\"col3 price\">\\n   9.58-13.98\\u4e07\\n  </td>\\n  <td class=\"col4 relBrand\">\\n   \\u4e09\\u83f1\\n  </td>\\n  <td class=\"col5 salesNum\">\\n   378\\n  </td>\\n  <td class=\"col6 salesSum\">\\n   2390\\n  </td>\\n  <td class=\"col7 links\">\\n   <a href=\"/sg4127/price.html\" target=\"_blank\">\\n    \\u62a5\\u4ef7\\n   </a>\\n   <a href=\"http://price.pcauto.com.cn/comment/sg4127/\" target=\"_blank\">\\n    \\u70b9\\u8bc4\\n   </a>\\n   <a href=\"/cars/sg4127/\" target=\"_blank\">\\n    \\u56fe\\u7247\\n   </a>\\n   <a href=\"/sg4127/config.html\" target=\"_blank\">\\n    \\u53c2\\u914d\\n   </a>\\n  </td>\\n </tr>\\n <tr>\\n  <td class=\"col1 index gray\">\\n   174\\n  </td>\\n  <td class=\"col2 brand\">\\n   <a class=\"blue\" href=\"/sg13746/\" target=\"_blank\">\\n    \\u4e2d\\u534eH3\\n   </a>\\n  </td>\\n  <td class=\"col3 price\">\\n   6.39-8.89\\u4e07\\n  </td>\\n  <td class=\"col4 relBrand\">\\n   \\u4e2d\\u534e\\n  </td>\\n  <td class=\"col5 salesNum\">\\n   373\\n  </td>\\n  <td class=\"col6 salesSum\">\\n   5381\\n  </td>\\n  <td class=\"col7 links\">\\n   <a href=\"/sg13746/price.html\" target=\"_blank\">\\n    \\u62a5\\u4ef7\\n   </a>\\n   <a href=\"http://price.pcauto.com.cn/comment/sg13746/\" target=\"_blank\">\\n    \\u70b9\\u8bc4\\n   </a>\\n   <a href=\"/cars/sg13746/\" target=\"_blank\">\\n    \\u56fe\\u7247\\n   </a>\\n   <a href=\"/sg13746/config.html\" target=\"_blank\">\\n    \\u53c2\\u914d\\n   </a>\\n  </td>\\n </tr>\\n <tr>\\n  <td class=\"col1 index gray\">\\n   175\\n  </td>\\n  <td class=\"col2 brand\">\\n   <a class=\"blue\" href=\"/sg11373/\" target=\"_blank\">\\n    \\u51ef\\u7ffcC3R\\n   </a>\\n  </td>\\n  <td class=\"col3 price\">\\n   4.58-6.08\\u4e07\\n  </td>\\n  <td class=\"col4 relBrand\">\\n   \\u51ef\\u7ffc\\n  </td>\\n  <td class=\"col5 salesNum\">\\n   344\\n  </td>\\n  <td class=\"col6 salesSum\">\\n   2473\\n  </td>\\n  <td class=\"col7 links\">\\n   <a href=\"/sg11373/price.html\" target=\"_blank\">\\n    \\u62a5\\u4ef7\\n   </a>\\n   <a href=\"http://price.pcauto.com.cn/comment/sg11373/\" target=\"_blank\">\\n    \\u70b9\\u8bc4\\n   </a>\\n   <a href=\"/cars/sg11373/\" target=\"_blank\">\\n    \\u56fe\\u7247\\n   </a>\\n   <a href=\"/sg11373/config.html\" target=\"_blank\">\\n    \\u53c2\\u914d\\n   </a>\\n  </td>\\n </tr>\\n <tr>\\n  <td class=\"col1 index gray\">\\n   176\\n  </td>\\n  <td class=\"col2 brand\">\\n   <a class=\"blue\" href=\"/sg4664/\" target=\"_blank\">\\n    \\u8363\\u5a01950\\n   </a>\\n  </td>\\n  <td class=\"col3 price\">\\n   16.88-28.98\\u4e07\\n  </td>\\n  <td class=\"col4 relBrand\">\\n   \\u8363\\u5a01\\n  </td>\\n  <td class=\"col5 salesNum\">\\n   334\\n  </td>\\n  <td class=\"col6 salesSum\">\\n   3070\\n  </td>\\n  <td class=\"col7 links\">\\n   <a href=\"/sg4664/price.html\" target=\"_blank\">\\n    \\u62a5\\u4ef7\\n   </a>\\n   <a href=\"http://price.pcauto.com.cn/comment/sg4664/\" target=\"_blank\">\\n    \\u70b9\\u8bc4\\n   </a>\\n   <a href=\"/cars/sg4664/\" target=\"_blank\">\\n    \\u56fe\\u7247\\n   </a>\\n   <a href=\"/sg4664/config.html\" target=\"_blank\">\\n    \\u53c2\\u914d\\n   </a>\\n  </td>\\n </tr>\\n <tr>\\n  <td class=\"col1 index gray\">\\n   177\\n  </td>\\n  <td class=\"col2 brand\">\\n   <a class=\"blue\" href=\"/sg4647/\" target=\"_blank\">\\n    \\u540d\\u72353\\n   </a>\\n  </td>\\n  <td class=\"col3 price\">\\n   5.98-9.38\\u4e07\\n  </td>\\n  <td class=\"col4 relBrand\">\\n   MG\\u540d\\u7235\\n  </td>\\n  <td class=\"col5 salesNum\">\\n   295\\n  </td>\\n  <td class=\"col6 salesSum\">\\n   7776\\n  </td>\\n  <td class=\"col7 links\">\\n   <a href=\"/sg4647/price.html\" target=\"_blank\">\\n    \\u62a5\\u4ef7\\n   </a>\\n   <a href=\"http://price.pcauto.com.cn/comment/sg4647/\" target=\"_blank\">\\n    \\u70b9\\u8bc4\\n   </a>\\n   <a href=\"/cars/sg4647/\" target=\"_blank\">\\n    \\u56fe\\u7247\\n   </a>\\n   <a href=\"/sg4647/config.html\" target=\"_blank\">\\n    \\u53c2\\u914d\\n   </a>\\n  </td>\\n </tr>\\n <tr>\\n  <td class=\"col1 index gray\">\\n   178\\n  </td>\\n  <td class=\"col2 brand\">\\n   <a class=\"blue\" href=\"/sg10109/\" target=\"_blank\">\\n    \\u5954\\u5954\\n   </a>\\n  </td>\\n  <td class=\"col3 price\">\\n   4.09-5.69\\u4e07\\n  </td>\\n  <td class=\"col4 relBrand\">\\n   \\u957f\\u5b89\\n  </td>\\n  <td class=\"col5 salesNum\">\\n   280\\n  </td>\\n  <td class=\"col6 salesSum\">\\n   13375\\n  </td>\\n  <td class=\"col7 links\">\\n   <a href=\"/sg10109/price.html\" target=\"_blank\">\\n    \\u62a5\\u4ef7\\n   </a>\\n   <a href=\"http://price.pcauto.com.cn/comment/sg10109/\" target=\"_blank\">\\n    \\u70b9\\u8bc4\\n   </a>\\n   <a href=\"/cars/sg10109/\" target=\"_blank\">\\n    \\u56fe\\u7247\\n   </a>\\n   <a href=\"/sg10109/config.html\" target=\"_blank\">\\n    \\u53c2\\u914d\\n   </a>\\n  </td>\\n </tr>\\n <tr>\\n  <td class=\"col1 index gray\">\\n   179\\n  </td>\\n  <td class=\"col2 brand\">\\n   <a class=\"blue\" href=\"/sg13624/\" target=\"_blank\">\\n    \\u96ea\\u94c1\\u9f99C6\\n   </a>\\n  </td>\\n  <td class=\"col3 price\">\\n   18.99-27.99\\u4e07\\n  </td>\\n  <td class=\"col4 relBrand\">\\n   \\u96ea\\u94c1\\u9f99\\n  </td>\\n  <td class=\"col5 salesNum\">\\n   239\\n  </td>\\n  <td class=\"col6 salesSum\">\\n   5295\\n  </td>\\n  <td class=\"col7 links\">\\n   <a href=\"/sg13624/price.html\" target=\"_blank\">\\n    \\u62a5\\u4ef7\\n   </a>\\n   <a href=\"http://price.pcauto.com.cn/comment/sg13624/\" target=\"_blank\">\\n    \\u70b9\\u8bc4\\n   </a>\\n   <a href=\"/cars/sg13624/\" target=\"_blank\">\\n    \\u56fe\\u7247\\n   </a>\\n   <a href=\"/sg13624/config.html\" target=\"_blank\">\\n    \\u53c2\\u914d\\n   </a>\\n  </td>\\n </tr>\\n <tr>\\n  <td class=\"col1 index gray\">\\n   180\\n  </td>\\n  <td class=\"col2 brand\">\\n   <a class=\"blue\" href=\"/sg11483/\" target=\"_blank\">\\n    \\u7ec5\\u5b9dD20\\n   </a>\\n  </td>\\n  <td class=\"col3 price\">\\n   4.88-8.28\\u4e07\\n  </td>\\n  <td class=\"col4 relBrand\">\\n   \\u5317\\u6c7d\\u7ec5\\u5b9d\\n  </td>\\n  <td class=\"col5 salesNum\">\\n   219\\n  </td>\\n  <td class=\"col6 salesSum\">\\n   3988\\n  </td>\\n  <td class=\"col7 links\">\\n   <a href=\"/sg11483/price.html\" target=\"_blank\">\\n    \\u62a5\\u4ef7\\n   </a>\\n   <a href=\"http://price.pcauto.com.cn/comment/sg11483/\" target=\"_blank\">\\n    \\u70b9\\u8bc4\\n   </a>\\n   <a href=\"/cars/sg11483/\" target=\"_blank\">\\n    \\u56fe\\u7247\\n   </a>\\n   <a href=\"/sg11483/config.html\" target=\"_blank\">\\n    \\u53c2\\u914d\\n   </a>\\n  </td>\\n </tr>\\n <tr>\\n  <td class=\"col1 index gray\">\\n   181\\n  </td>\\n  <td class=\"col2 brand\">\\n   <a class=\"blue\" href=\"/sg7531/\" target=\"_blank\">\\n    \\u777f\\u9a8b\\n   </a>\\n  </td>\\n  <td class=\"col3 price\">\\n   10.88-20.18\\u4e07\\n  </td>\\n  <td class=\"col4 relBrand\">\\n   \\u957f\\u5b89\\n  </td>\\n  <td class=\"col5 salesNum\">\\n   191\\n  </td>\\n  <td class=\"col6 salesSum\">\\n   1395\\n  </td>\\n  <td class=\"col7 links\">\\n   <a href=\"/sg7531/price.html\" target=\"_blank\">\\n    \\u62a5\\u4ef7\\n   </a>\\n   <a href=\"http://price.pcauto.com.cn/comment/sg7531/\" target=\"_blank\">\\n    \\u70b9\\u8bc4\\n   </a>\\n   <a href=\"/cars/sg7531/\" target=\"_blank\">\\n    \\u56fe\\u7247\\n   </a>\\n   <a href=\"/sg7531/config.html\" target=\"_blank\">\\n    \\u53c2\\u914d\\n   </a>\\n  </td>\\n </tr>\\n <tr>\\n  <td class=\"col1 index gray\">\\n   182\\n  </td>\\n  <td class=\"col2 brand\">\\n   <a class=\"blue\" href=\"/sg9181/\" target=\"_blank\">\\n    \\u4f17\\u6cf0Z100\\n   </a>\\n  </td>\\n  <td class=\"col3 price\">\\n   3.00-3.50\\u4e07\\n  </td>\\n  <td class=\"col4 relBrand\">\\n   \\u4f17\\u6cf0\\n  </td>\\n  <td class=\"col5 salesNum\">\\n   178\\n  </td>\\n  <td class=\"col6 salesSum\">\\n   1191\\n  </td>\\n  <td class=\"col7 links\">\\n   <a href=\"/sg9181/price.html\" target=\"_blank\">\\n    \\u62a5\\u4ef7\\n   </a>\\n   <a href=\"http://price.pcauto.com.cn/comment/sg9181/\" target=\"_blank\">\\n    \\u70b9\\u8bc4\\n   </a>\\n   <a href=\"/cars/sg9181/\" target=\"_blank\">\\n    \\u56fe\\u7247\\n   </a>\\n   <a href=\"/sg9181/config.html\" target=\"_blank\">\\n    \\u53c2\\u914d\\n   </a>\\n  </td>\\n </tr>\\n <tr>\\n  <td class=\"col1 index gray\">\\n   183\\n  </td>\\n  <td class=\"col2 brand\">\\n   <a class=\"blue\" href=\"/sg3337/\" target=\"_blank\">\\n    V3\\u83f1\\u60a6\\n   </a>\\n  </td>\\n  <td class=\"col3 price\">\\n   5.69-6.79\\u4e07\\n  </td>\\n  <td class=\"col4 relBrand\">\\n   \\u4e1c\\u5357\\n  </td>\\n  <td class=\"col5 salesNum\">\\n   177\\n  </td>\\n  <td class=\"col6 salesSum\">\\n   2320\\n  </td>\\n  <td class=\"col7 links\">\\n   <a href=\"/sg3337/price.html\" target=\"_blank\">\\n    \\u62a5\\u4ef7\\n   </a>\\n   <a href=\"http://price.pcauto.com.cn/comment/sg3337/\" target=\"_blank\">\\n    \\u70b9\\u8bc4\\n   </a>\\n   <a href=\"/cars/sg3337/\" target=\"_blank\">\\n    \\u56fe\\u7247\\n   </a>\\n   <a href=\"/sg3337/config.html\" target=\"_blank\">\\n    \\u53c2\\u914d\\n   </a>\\n  </td>\\n </tr>\\n <tr>\\n  <td class=\"col1 index gray\">\\n   184\\n  </td>\\n  <td class=\"col2 brand\">\\n   <a class=\"blue\" href=\"/sg10856/\" target=\"_blank\">\\n    \\u4e1c\\u98ce\\u98ce\\u795eL60\\n   </a>\\n  </td>\\n  <td class=\"col3 price\">\\n   8.97-12.97\\u4e07\\n  </td>\\n  <td class=\"col4 relBrand\">\\n   \\u4e1c\\u98ce\\u98ce\\u795e\\n  </td>\\n  <td class=\"col5 salesNum\">\\n   174\\n  </td>\\n  <td class=\"col6 salesSum\">\\n   1661\\n  </td>\\n  <td class=\"col7 links\">\\n   <a href=\"/sg10856/price.html\" target=\"_blank\">\\n    \\u62a5\\u4ef7\\n   </a>\\n   <a href=\"http://price.pcauto.com.cn/comment/sg10856/\" target=\"_blank\">\\n    \\u70b9\\u8bc4\\n   </a>\\n   <a href=\"/cars/sg10856/\" target=\"_blank\">\\n    \\u56fe\\u7247\\n   </a>\\n   <a href=\"/sg10856/config.html\" target=\"_blank\">\\n    \\u53c2\\u914d\\n   </a>\\n  </td>\\n </tr>\\n <tr>\\n  <td class=\"col1 index gray\">\\n   185\\n  </td>\\n  <td class=\"col2 brand\">\\n   <a class=\"blue\" href=\"/sg8331/\" target=\"_blank\">\\n    \\u96ea\\u94c1\\u9f99C4L\\n   </a>\\n  </td>\\n  <td class=\"col3 price\">\\n   13.49-18.29\\u4e07\\n  </td>\\n  <td class=\"col4 relBrand\">\\n   \\u96ea\\u94c1\\u9f99\\n  </td>\\n  <td class=\"col5 salesNum\">\\n   167\\n  </td>\\n  <td class=\"col6 salesSum\">\\n   4954\\n  </td>\\n  <td class=\"col7 links\">\\n   <a href=\"/sg8331/price.html\" target=\"_blank\">\\n    \\u62a5\\u4ef7\\n   </a>\\n   <a href=\"http://price.pcauto.com.cn/comment/sg8331/\" target=\"_blank\">\\n    \\u70b9\\u8bc4\\n   </a>\\n   <a href=\"/cars/sg8331/\" target=\"_blank\">\\n    \\u56fe\\u7247\\n   </a>\\n   <a href=\"/sg8331/config.html\" target=\"_blank\">\\n    \\u53c2\\u914d\\n   </a>\\n  </td>\\n </tr>\\n <tr>\\n  <td class=\"col1 index gray\">\\n   186\\n  </td>\\n  <td class=\"col2 brand\">\\n   <a class=\"blue\" href=\"/sg9313/\" target=\"_blank\">\\n    \\u827e\\u745e\\u6cfd7\\n   </a>\\n  </td>\\n  <td class=\"col3 price\">\\n   7.99-10.39\\u4e07\\n  </td>\\n  <td class=\"col4 relBrand\">\\n   \\u5947\\u745e\\n  </td>\\n  <td class=\"col5 salesNum\">\\n   146\\n  </td>\\n  <td class=\"col6 salesSum\">\\n   3691\\n  </td>\\n  <td class=\"col7 links\">\\n   <a href=\"/sg9313/price.html\" target=\"_blank\">\\n    \\u62a5\\u4ef7\\n   </a>\\n   <a href=\"http://price.pcauto.com.cn/comment/sg9313/\" target=\"_blank\">\\n    \\u70b9\\u8bc4\\n   </a>\\n   <a href=\"/cars/sg9313/\" target=\"_blank\">\\n    \\u56fe\\u7247\\n   </a>\\n   <a href=\"/sg9313/config.html\" target=\"_blank\">\\n    \\u53c2\\u914d\\n   </a>\\n  </td>\\n </tr>\\n <tr>\\n  <td class=\"col1 index gray\">\\n   187\\n  </td>\\n  <td class=\"col2 brand\">\\n   <a class=\"blue\" href=\"/sg4715/\" target=\"_blank\">\\n    \\u6807\\u81f4508\\n   </a>\\n  </td>\\n  <td class=\"col3 price\">\\n   17.37-26.97\\u4e07\\n  </td>\\n  <td class=\"col4 relBrand\">\\n   \\u6807\\u81f4\\n  </td>\\n  <td class=\"col5 salesNum\">\\n   144\\n  </td>\\n  <td class=\"col6 salesSum\">\\n   825\\n  </td>\\n  <td class=\"col7 links\">\\n   <a href=\"/sg4715/price.html\" target=\"_blank\">\\n    \\u62a5\\u4ef7\\n   </a>\\n   <a href=\"http://price.pcauto.com.cn/comment/sg4715/\" target=\"_blank\">\\n    \\u70b9\\u8bc4\\n   </a>\\n   <a href=\"/cars/sg4715/\" target=\"_blank\">\\n    \\u56fe\\u7247\\n   </a>\\n   <a href=\"/sg4715/config.html\" target=\"_blank\">\\n    \\u53c2\\u914d\\n   </a>\\n  </td>\\n </tr>\\n <tr>\\n  <td class=\"col1 index gray\">\\n   188\\n  </td>\\n  <td class=\"col2 brand\">\\n   <a class=\"blue\" href=\"/sg10199/\" target=\"_blank\">\\n    DS 5LS\\n   </a>\\n  </td>\\n  <td class=\"col3 price\">\\n   14.98-24.68\\u4e07\\n  </td>\\n  <td class=\"col4 relBrand\">\\n   DS\\n  </td>\\n  <td class=\"col5 salesNum\">\\n   143\\n  </td>\\n  <td class=\"col6 salesSum\">\\n   1341\\n  </td>\\n  <td class=\"col7 links\">\\n   <a href=\"/sg10199/price.html\" target=\"_blank\">\\n    \\u62a5\\u4ef7\\n   </a>\\n   <a href=\"http://price.pcauto.com.cn/comment/sg10199/\" target=\"_blank\">\\n    \\u70b9\\u8bc4\\n   </a>\\n   <a href=\"/cars/sg10199/\" target=\"_blank\">\\n    \\u56fe\\u7247\\n   </a>\\n   <a href=\"/sg10199/config.html\" target=\"_blank\">\\n    \\u53c2\\u914d\\n   </a>\\n  </td>\\n </tr>\\n <tr>\\n  <td class=\"col1 index gray\">\\n   189\\n  </td>\\n  <td class=\"col2 brand\">\\n   <a class=\"blue\" href=\"/sg20762/\" target=\"_blank\">\\n    \\u6d77\\u9a6c@3\\n   </a>\\n  </td>\\n  <td class=\"col3 price\">\\n   14.98-20.98\\u4e07\\n  </td>\\n  <td class=\"col4 relBrand\">\\n   \\u6d77\\u9a6c\\u65b0\\u80fd\\u6e90\\n  </td>\\n  <td class=\"col5 salesNum\">\\n   142\\n  </td>\\n  <td class=\"col6 salesSum\">\\n   142\\n  </td>\\n  <td class=\"col7 links\">\\n   <a href=\"/sg20762/price.html\" target=\"_blank\">\\n    \\u62a5\\u4ef7\\n   </a>\\n   <a href=\"http://price.pcauto.com.cn/comment/sg20762/\" target=\"_blank\">\\n    \\u70b9\\u8bc4\\n   </a>\\n   <a href=\"/cars/sg20762/\" target=\"_blank\">\\n    \\u56fe\\u7247\\n   </a>\\n   <a href=\"/sg20762/config.html\" target=\"_blank\">\\n    \\u53c2\\u914d\\n   </a>\\n  </td>\\n </tr>\\n <tr>\\n  <td class=\"col1 index gray\">\\n   190\\n  </td>\\n  <td class=\"col2 brand\">\\n   <a class=\"blue\" href=\"/sg21456/\" target=\"_blank\">\\n    \\u541b\\u8d8a\\u65b0\\u80fd\\u6e90\\n   </a>\\n  </td>\\n  <td class=\"col3 price\">\\n   27.58-30.58\\u4e07\\n  </td>\\n  <td class=\"col4 relBrand\">\\n   \\u522b\\u514b\\n  </td>\\n  <td class=\"col5 salesNum\">\\n   141\\n  </td>\\n  <td class=\"col6 salesSum\">\\n   346\\n  </td>\\n  <td class=\"col7 links\">\\n   <a href=\"/sg21456/price.html\" target=\"_blank\">\\n    \\u62a5\\u4ef7\\n   </a>\\n   <a href=\"http://price.pcauto.com.cn/comment/sg21456/\" target=\"_blank\">\\n    \\u70b9\\u8bc4\\n   </a>\\n   <a href=\"/cars/sg21456/\" target=\"_blank\">\\n    \\u56fe\\u7247\\n   </a>\\n   <a href=\"/sg21456/config.html\" target=\"_blank\">\\n    \\u53c2\\u914d\\n   </a>\\n  </td>\\n </tr>\\n <tr>\\n  <td class=\"col1 index gray\">\\n   191\\n  </td>\\n  <td class=\"col2 brand\">\\n   <a class=\"blue\" href=\"/sg8760/\" target=\"_blank\">\\n    \\u6d77\\u9a6cM8\\n   </a>\\n  </td>\\n  <td class=\"col3 price\">\\n   \\u6682\\u65e0\\u62a5\\u4ef7\\n  </td>\\n  <td class=\"col4 relBrand\">\\n   \\u6d77\\u9a6c\\n  </td>\\n  <td class=\"col5 salesNum\">\\n   138\\n  </td>\\n  <td class=\"col6 salesSum\">\\n   586\\n  </td>\\n  <td class=\"col7 links\">\\n   <a href=\"/sg8760/price.html\" target=\"_blank\">\\n    \\u62a5\\u4ef7\\n   </a>\\n   <a href=\"http://price.pcauto.com.cn/comment/sg8760/\" target=\"_blank\">\\n    \\u70b9\\u8bc4\\n   </a>\\n   <a href=\"/cars/sg8760/\" target=\"_blank\">\\n    \\u56fe\\u7247\\n   </a>\\n   <a href=\"/sg8760/config.html\" target=\"_blank\">\\n    \\u53c2\\u914d\\n   </a>\\n  </td>\\n </tr>\\n <tr>\\n  <td class=\"col1 index gray\">\\n   192\\n  </td>\\n  <td class=\"col2 brand\">\\n   <a class=\"blue\" href=\"/sg11021/\" target=\"_blank\">\\n    \\u4e1c\\u98ce\\u98ce\\u795eA30\\n   </a>\\n  </td>\\n  <td class=\"col3 price\">\\n   5.97-8.57\\u4e07\\n  </td>\\n  <td class=\"col4 relBrand\">\\n   \\u4e1c\\u98ce\\u98ce\\u795e\\n  </td>\\n  <td class=\"col5 salesNum\">\\n   123\\n  </td>\\n  <td class=\"col6 salesSum\">\\n   1609\\n  </td>\\n  <td class=\"col7 links\">\\n   <a href=\"/sg11021/price.html\" target=\"_blank\">\\n    \\u62a5\\u4ef7\\n   </a>\\n   <a href=\"http://price.pcauto.com.cn/comment/sg11021/\" target=\"_blank\">\\n    \\u70b9\\u8bc4\\n   </a>\\n   <a href=\"/cars/sg11021/\" target=\"_blank\">\\n    \\u56fe\\u7247\\n   </a>\\n   <a href=\"/sg11021/config.html\" target=\"_blank\">\\n    \\u53c2\\u914d\\n   </a>\\n  </td>\\n </tr>\\n <tr>\\n  <td class=\"col1 index gray\">\\n   193\\n  </td>\\n  <td class=\"col2 brand\">\\n   <a class=\"blue\" href=\"/sg11748/\" target=\"_blank\">\\n    \\u6807\\u81f4308S\\n   </a>\\n  </td>\\n  <td class=\"col3 price\">\\n   11.27-17.97\\u4e07\\n  </td>\\n  <td class=\"col4 relBrand\">\\n   \\u6807\\u81f4\\n  </td>\\n  <td class=\"col5 salesNum\">\\n   114\\n  </td>\\n  <td class=\"col6 salesSum\">\\n   1141\\n  </td>\\n  <td class=\"col7 links\">\\n   <a href=\"/sg11748/price.html\" target=\"_blank\">\\n    \\u62a5\\u4ef7\\n   </a>\\n   <a href=\"http://price.pcauto.com.cn/comment/sg11748/\" target=\"_blank\">\\n    \\u70b9\\u8bc4\\n   </a>\\n   <a href=\"/cars/sg11748/\" target=\"_blank\">\\n    \\u56fe\\u7247\\n   </a>\\n   <a href=\"/sg11748/config.html\" target=\"_blank\">\\n    \\u53c2\\u914d\\n   </a>\\n  </td>\\n </tr>\\n <tr>\\n  <td class=\"col1 index gray\">\\n   194\\n  </td>\\n  <td class=\"col2 brand\">\\n   <a class=\"blue\" href=\"/sg11747/\" target=\"_blank\">\\n    \\u4e1c\\u98ce\\u98ce\\u795eE30\\n   </a>\\n  </td>\\n  <td class=\"col3 price\">\\n   16.48\\u4e07\\n  </td>\\n  <td class=\"col4 relBrand\">\\n   \\u4e1c\\u98ce\\u98ce\\u795e\\n  </td>\\n  <td class=\"col5 salesNum\">\\n   110\\n  </td>\\n  <td class=\"col6 salesSum\">\\n   135\\n  </td>\\n  <td class=\"col7 links\">\\n   <a href=\"/sg11747/price.html\" target=\"_blank\">\\n    \\u62a5\\u4ef7\\n   </a>\\n   <a href=\"http://price.pcauto.com.cn/comment/sg11747/\" target=\"_blank\">\\n    \\u70b9\\u8bc4\\n   </a>\\n   <a href=\"/cars/sg11747/\" target=\"_blank\">\\n    \\u56fe\\u7247\\n   </a>\\n   <a href=\"/sg11747/config.html\" target=\"_blank\">\\n    \\u53c2\\u914d\\n   </a>\\n  </td>\\n </tr>\\n <tr>\\n  <td class=\"col1 index gray\">\\n   195\\n  </td>\\n  <td class=\"col2 brand\">\\n   <a class=\"blue\" href=\"/sg22318/\" target=\"_blank\">\\n    \\u7535\\u5496&middot;EV10\\n   </a>\\n  </td>\\n  <td class=\"col3 price\">\\n   13.38-14.18\\u4e07\\n  </td>\\n  <td class=\"col4 relBrand\">\\n   \\u7535\\u5496\\n  </td>\\n  <td class=\"col5 salesNum\">\\n   109\\n  </td>\\n  <td class=\"col6 salesSum\">\\n   109\\n  </td>\\n  <td class=\"col7 links\">\\n   <a href=\"/sg22318/price.html\" target=\"_blank\">\\n    \\u62a5\\u4ef7\\n   </a>\\n   <a href=\"http://price.pcauto.com.cn/comment/sg22318/\" target=\"_blank\">\\n    \\u70b9\\u8bc4\\n   </a>\\n   <a href=\"/cars/sg22318/\" target=\"_blank\">\\n    \\u56fe\\u7247\\n   </a>\\n   <a href=\"/sg22318/config.html\" target=\"_blank\">\\n    \\u53c2\\u914d\\n   </a>\\n  </td>\\n </tr>\\n <tr>\\n  <td class=\"col1 index gray\">\\n   196\\n  </td>\\n  <td class=\"col2 brand\">\\n   <a class=\"blue\" href=\"/sg10821/\" target=\"_blank\">\\n    \\u4e1c\\u98ceA9\\n   </a>\\n  </td>\\n  <td class=\"col3 price\">\\n   17.97-21.97\\u4e07\\n  </td>\\n  <td class=\"col4 relBrand\">\\n   \\u4e1c\\u98ce\\u98ce\\u795e\\n  </td>\\n  <td class=\"col5 salesNum\">\\n   103\\n  </td>\\n  <td class=\"col6 salesSum\">\\n   1541\\n  </td>\\n  <td class=\"col7 links\">\\n   <a href=\"/sg10821/price.html\" target=\"_blank\">\\n    \\u62a5\\u4ef7\\n   </a>\\n   <a href=\"http://price.pcauto.com.cn/comment/sg10821/\" target=\"_blank\">\\n    \\u70b9\\u8bc4\\n   </a>\\n   <a href=\"/cars/sg10821/\" target=\"_blank\">\\n    \\u56fe\\u7247\\n   </a>\\n   <a href=\"/sg10821/config.html\" target=\"_blank\">\\n    \\u53c2\\u914d\\n   </a>\\n  </td>\\n </tr>\\n <tr>\\n  <td class=\"col1 index gray\">\\n   197\\n  </td>\\n  <td class=\"col2 brand\">\\n   <a class=\"blue\" href=\"/sg21436/\" target=\"_blank\">\\n    \\u6c83\\u5c14\\u6c83S60L\\u65b0\\u80fd\\u6e90\\n   </a>\\n  </td>\\n  <td class=\"col3 price\">\\n   50.59-55.99\\u4e07\\n  </td>\\n  <td class=\"col4 relBrand\">\\n   \\u6c83\\u5c14\\u6c83\\n  </td>\\n  <td class=\"col5 salesNum\">\\n   98\\n  </td>\\n  <td class=\"col6 salesSum\">\\n   730\\n  </td>\\n  <td class=\"col7 links\">\\n   <a href=\"/sg21436/price.html\" target=\"_blank\">\\n    \\u62a5\\u4ef7\\n   </a>\\n   <a href=\"http://price.pcauto.com.cn/comment/sg21436/\" target=\"_blank\">\\n    \\u70b9\\u8bc4\\n   </a>\\n   <a href=\"/cars/sg21436/\" target=\"_blank\">\\n    \\u56fe\\u7247\\n   </a>\\n   <a href=\"/sg21436/config.html\" target=\"_blank\">\\n    \\u53c2\\u914d\\n   </a>\\n  </td>\\n </tr>\\n <tr>\\n  <td class=\"col1 index gray\">\\n   198\\n  </td>\\n  <td class=\"col2 brand\">\\n   <a class=\"blue\" href=\"/sg8840/\" target=\"_blank\">\\n    \\u89c2\\u81f43\\n   </a>\\n  </td>\\n  <td class=\"col3 price\">\\n   9.89-15.39\\u4e07\\n  </td>\\n  <td class=\"col4 relBrand\">\\n   \\u89c2\\u81f4\\n  </td>\\n  <td class=\"col5 salesNum\">\\n   97\\n  </td>\\n  <td class=\"col6 salesSum\">\\n   2611\\n  </td>\\n  <td class=\"col7 links\">\\n   <a href=\"/sg8840/price.html\" target=\"_blank\">\\n    \\u62a5\\u4ef7\\n   </a>\\n   <a href=\"http://price.pcauto.com.cn/comment/sg8840/\" target=\"_blank\">\\n    \\u70b9\\u8bc4\\n   </a>\\n   <a href=\"/cars/sg8840/\" target=\"_blank\">\\n    \\u56fe\\u7247\\n   </a>\\n   <a href=\"/sg8840/config.html\" target=\"_blank\">\\n    \\u53c2\\u914d\\n   </a>\\n  </td>\\n </tr>\\n <tr>\\n  <td class=\"col1 index gray\">\\n   199\\n  </td>\\n  <td class=\"col2 brand\">\\n   <a class=\"blue\" href=\"/sg22317/\" target=\"_blank\">\\n    \\u77e5\\u8c46D3\\n   </a>\\n  </td>\\n  <td class=\"col3 price\">\\n   14.38-17.58\\u4e07\\n  </td>\\n  <td class=\"col4 relBrand\">\\n   \\u77e5\\u8c46\\n  </td>\\n  <td class=\"col5 salesNum\">\\n   84\\n  </td>\\n  <td class=\"col6 salesSum\">\\n   117\\n  </td>\\n  <td class=\"col7 links\">\\n   <a href=\"/sg22317/price.html\" target=\"_blank\">\\n    \\u62a5\\u4ef7\\n   </a>\\n   <a href=\"http://price.pcauto.com.cn/comment/sg22317/\" target=\"_blank\">\\n    \\u70b9\\u8bc4\\n   </a>\\n   <a href=\"/cars/sg22317/\" target=\"_blank\">\\n    \\u56fe\\u7247\\n   </a>\\n   <a href=\"/sg22317/config.html\" target=\"_blank\">\\n    \\u53c2\\u914d\\n   </a>\\n  </td>\\n </tr>\\n <tr>\\n  <td class=\"col1 index gray\">\\n   200\\n  </td>\\n  <td class=\"col2 brand\">\\n   <a class=\"blue\" href=\"/sg13397/\" target=\"_blank\">\\n    \\u897f\\u739b\\n   </a>\\n  </td>\\n  <td class=\"col3 price\">\\n   23.48-26.78\\u4e07\\n  </td>\\n  <td class=\"col4 relBrand\">\\n   \\u65e5\\u4ea7\\n  </td>\\n  <td class=\"col5 salesNum\">\\n   80\\n  </td>\\n  <td class=\"col6 salesSum\">\\n   1026\\n  </td>\\n  <td class=\"col7 links\">\\n   <a href=\"/sg13397/price.html\" target=\"_blank\">\\n    \\u62a5\\u4ef7\\n   </a>\\n   <a href=\"http://price.pcauto.com.cn/comment/sg13397/\" target=\"_blank\">\\n    \\u70b9\\u8bc4\\n   </a>\\n   <a href=\"/cars/sg13397/\" target=\"_blank\">\\n    \\u56fe\\u7247\\n   </a>\\n   <a href=\"/sg13397/config.html\" target=\"_blank\">\\n    \\u53c2\\u914d\\n   </a>\\n  </td>\\n </tr>\\n <tr>\\n  <td class=\"col1 index gray\">\\n   201\\n  </td>\\n  <td class=\"col2 brand\">\\n   <a class=\"blue\" href=\"/sg2924/\" target=\"_blank\">\\n    \\u5954\\u817eB70\\n   </a>\\n  </td>\\n  <td class=\"col3 price\">\\n   9.98-14.98\\u4e07\\n  </td>\\n  <td class=\"col4 relBrand\">\\n   \\u5954\\u817e\\n  </td>\\n  <td class=\"col5 salesNum\">\\n   79\\n  </td>\\n  <td class=\"col6 salesSum\">\\n   1807\\n  </td>\\n  <td class=\"col7 links\">\\n   <a href=\"/sg2924/price.html\" target=\"_blank\">\\n    \\u62a5\\u4ef7\\n   </a>\\n   <a href=\"http://price.pcauto.com.cn/comment/sg2924/\" target=\"_blank\">\\n    \\u70b9\\u8bc4\\n   </a>\\n   <a href=\"/cars/sg2924/\" target=\"_blank\">\\n    \\u56fe\\u7247\\n   </a>\\n   <a href=\"/sg2924/config.html\" target=\"_blank\">\\n    \\u53c2\\u914d\\n   </a>\\n  </td>\\n </tr>\\n <tr>\\n  <td class=\"col1 index gray\">\\n   202\\n  </td>\\n  <td class=\"col2 brand\">\\n   <a class=\"blue\" href=\"/sg13745/\" target=\"_blank\">\\n    \\u95103\\n   </a>\\n  </td>\\n  <td class=\"col3 price\">\\n   5.98-9.68\\u4e07\\n  </td>\\n  <td class=\"col4 relBrand\">\\n   \\u7eb3\\u667a\\u6377\\n  </td>\\n  <td class=\"col5 salesNum\">\\n   48\\n  </td>\\n  <td class=\"col6 salesSum\">\\n   1721\\n  </td>\\n  <td class=\"col7 links\">\\n   <a href=\"/sg13745/price.html\" target=\"_blank\">\\n    \\u62a5\\u4ef7\\n   </a>\\n   <a href=\"http://price.pcauto.com.cn/comment/sg13745/\" target=\"_blank\">\\n    \\u70b9\\u8bc4\\n   </a>\\n   <a href=\"/cars/sg13745/\" target=\"_blank\">\\n    \\u56fe\\u7247\\n   </a>\\n   <a href=\"/sg13745/config.html\" target=\"_blank\">\\n    \\u53c2\\u914d\\n   </a>\\n  </td>\\n </tr>\\n <tr>\\n  <td class=\"col1 index gray\">\\n   203\\n  </td>\\n  <td class=\"col2 brand\">\\n   <a class=\"blue\" href=\"/sg13427/\" target=\"_blank\">\\n    DS 4S\\n   </a>\\n  </td>\\n  <td class=\"col3 price\">\\n   14.99-22.99\\u4e07\\n  </td>\\n  <td class=\"col4 relBrand\">\\n   DS\\n  </td>\\n  <td class=\"col5 salesNum\">\\n   47\\n  </td>\\n  <td class=\"col6 salesSum\">\\n   1060\\n  </td>\\n  <td class=\"col7 links\">\\n   <a href=\"/sg13427/price.html\" target=\"_blank\">\\n    \\u62a5\\u4ef7\\n   </a>\\n   <a href=\"http://price.pcauto.com.cn/comment/sg13427/\" target=\"_blank\">\\n    \\u70b9\\u8bc4\\n   </a>\\n   <a href=\"/cars/sg13427/\" target=\"_blank\">\\n    \\u56fe\\u7247\\n   </a>\\n   <a href=\"/sg13427/config.html\" target=\"_blank\">\\n    \\u53c2\\u914d\\n   </a>\\n  </td>\\n </tr>\\n <tr>\\n  <td class=\"col1 index gray\">\\n   204\\n  </td>\\n  <td class=\"col2 brand\">\\n   <a class=\"blue\" href=\"/sg21943/\" target=\"_blank\">\\n    \\u9a8f\\u6d3eA70E\\n   </a>\\n  </td>\\n  <td class=\"col3 price\">\\n   16.88-18.38\\u4e07\\n  </td>\\n  <td class=\"col4 relBrand\">\\n   \\u4e00\\u6c7d\\n  </td>\\n  <td class=\"col5 salesNum\">\\n   41\\n  </td>\\n  <td class=\"col6 salesSum\">\\n   45\\n  </td>\\n  <td class=\"col7 links\">\\n   <a href=\"/sg21943/price.html\" target=\"_blank\">\\n    \\u62a5\\u4ef7\\n   </a>\\n   <a href=\"http://price.pcauto.com.cn/comment/sg21943/\" target=\"_blank\">\\n    \\u70b9\\u8bc4\\n   </a>\\n   <a href=\"/cars/sg21943/\" target=\"_blank\">\\n    \\u56fe\\u7247\\n   </a>\\n   <a href=\"/sg21943/config.html\" target=\"_blank\">\\n    \\u53c2\\u914d\\n   </a>\\n  </td>\\n </tr>\\n <tr>\\n  <td class=\"col1 index gray\">\\n   205\\n  </td>\\n  <td class=\"col2 brand\">\\n   <a class=\"blue\" href=\"/sg21072/\" target=\"_blank\">\\n    VELITE 5\\n   </a>\\n  </td>\\n  <td class=\"col3 price\">\\n   26.58-29.58\\u4e07\\n  </td>\\n  <td class=\"col4 relBrand\">\\n   \\u522b\\u514b\\n  </td>\\n  <td class=\"col5 salesNum\">\\n   34\\n  </td>\\n  <td class=\"col6 salesSum\">\\n   1629\\n  </td>\\n  <td class=\"col7 links\">\\n   <a href=\"/sg21072/price.html\" target=\"_blank\">\\n    \\u62a5\\u4ef7\\n   </a>\\n   <a href=\"http://price.pcauto.com.cn/comment/sg21072/\" target=\"_blank\">\\n    \\u70b9\\u8bc4\\n   </a>\\n   <a href=\"/cars/sg21072/\" target=\"_blank\">\\n    \\u56fe\\u7247\\n   </a>\\n   <a href=\"/sg21072/config.html\" target=\"_blank\">\\n    \\u53c2\\u914d\\n   </a>\\n  </td>\\n </tr>\\n <tr>\\n  <td class=\"col1 index gray\">\\n   206\\n  </td>\\n  <td class=\"col2 brand\">\\n   <a class=\"blue\" href=\"/sg4718/\" target=\"_blank\">\\n    \\u6bd4\\u4e9a\\u8feaG6\\n   </a>\\n  </td>\\n  <td class=\"col3 price\">\\n   7.98-11.58\\u4e07\\n  </td>\\n  <td class=\"col4 relBrand\">\\n   \\u6bd4\\u4e9a\\u8fea\\n  </td>\\n  <td class=\"col5 salesNum\">\\n   31\\n  </td>\\n  <td class=\"col6 salesSum\">\\n   2513\\n  </td>\\n  <td class=\"col7 links\">\\n   <a href=\"/sg4718/price.html\" target=\"_blank\">\\n    \\u62a5\\u4ef7\\n   </a>\\n   <a href=\"http://price.pcauto.com.cn/comment/sg4718/\" target=\"_blank\">\\n    \\u70b9\\u8bc4\\n   </a>\\n   <a href=\"/cars/sg4718/\" target=\"_blank\">\\n    \\u56fe\\u7247\\n   </a>\\n   <a href=\"/sg4718/config.html\" target=\"_blank\">\\n    \\u53c2\\u914d\\n   </a>\\n  </td>\\n </tr>\\n <tr>\\n  <td class=\"col1 index gray\">\\n   207\\n  </td>\\n  <td class=\"col2 brand\">\\n   <a class=\"blue\" href=\"/sg3264/\" target=\"_blank\">\\n    \\u6bd4\\u4e9a\\u8feaF0\\n   </a>\\n  </td>\\n  <td class=\"col3 price\">\\n   3.79-4.79\\u4e07\\n  </td>\\n  <td class=\"col4 relBrand\">\\n   \\u6bd4\\u4e9a\\u8fea\\n  </td>\\n  <td class=\"col5 salesNum\">\\n   31\\n  </td>\\n  <td class=\"col6 salesSum\">\\n   10734\\n  </td>\\n  <td class=\"col7 links\">\\n   <a href=\"/sg3264/price.html\" target=\"_blank\">\\n    \\u62a5\\u4ef7\\n   </a>\\n   <a href=\"http://price.pcauto.com.cn/comment/sg3264/\" target=\"_blank\">\\n    \\u70b9\\u8bc4\\n   </a>\\n   <a href=\"/cars/sg3264/\" target=\"_blank\">\\n    \\u56fe\\u7247\\n   </a>\\n   <a href=\"/sg3264/config.html\" target=\"_blank\">\\n    \\u53c2\\u914d\\n   </a>\\n  </td>\\n </tr>\\n <tr>\\n  <td class=\"col1 index gray\">\\n   208\\n  </td>\\n  <td class=\"col2 brand\">\\n   <a class=\"blue\" href=\"/sg7681/\" target=\"_blank\">\\n    \\u7ec5\\u5b9dD70\\n   </a>\\n  </td>\\n  <td class=\"col3 price\">\\n   13.98-21.58\\u4e07\\n  </td>\\n  <td class=\"col4 relBrand\">\\n   \\u5317\\u6c7d\\u7ec5\\u5b9d\\n  </td>\\n  <td class=\"col5 salesNum\">\\n   20\\n  </td>\\n  <td class=\"col6 salesSum\">\\n   51\\n  </td>\\n  <td class=\"col7 links\">\\n   <a href=\"/sg7681/price.html\" target=\"_blank\">\\n    \\u62a5\\u4ef7\\n   </a>\\n   <a href=\"http://price.pcauto.com.cn/comment/sg7681/\" target=\"_blank\">\\n    \\u70b9\\u8bc4\\n   </a>\\n   <a href=\"/cars/sg7681/\" target=\"_blank\">\\n    \\u56fe\\u7247\\n   </a>\\n   <a href=\"/sg7681/config.html\" target=\"_blank\">\\n    \\u53c2\\u914d\\n   </a>\\n  </td>\\n </tr>\\n <tr>\\n  <td class=\"col1 index gray\">\\n   209\\n  </td>\\n  <td class=\"col2 brand\">\\n   <a class=\"blue\" href=\"/sg9887/\" target=\"_blank\">\\n    \\u529b\\u5e06820\\n   </a>\\n  </td>\\n  <td class=\"col3 price\">\\n   7.68-11.98\\u4e07\\n  </td>\\n  <td class=\"col4 relBrand\">\\n   \\u529b\\u5e06\\n  </td>\\n  <td class=\"col5 salesNum\">\\n   14\\n  </td>\\n  <td class=\"col6 salesSum\">\\n   3604\\n  </td>\\n  <td class=\"col7 links\">\\n   <a href=\"/sg9887/price.html\" target=\"_blank\">\\n    \\u62a5\\u4ef7\\n   </a>\\n   <a href=\"http://price.pcauto.com.cn/comment/sg9887/\" target=\"_blank\">\\n    \\u70b9\\u8bc4\\n   </a>\\n   <a href=\"/cars/sg9887/\" target=\"_blank\">\\n    \\u56fe\\u7247\\n   </a>\\n   <a href=\"/sg9887/config.html\" target=\"_blank\">\\n    \\u53c2\\u914d\\n   </a>\\n  </td>\\n </tr>\\n <tr>\\n  <td class=\"col1 index gray\">\\n   210\\n  </td>\\n  <td class=\"col2 brand\">\\n   <a class=\"blue\" href=\"/sg10370/\" target=\"_blank\">\\n    \\u6bd4\\u4e9a\\u8feaG5\\n   </a>\\n  </td>\\n  <td class=\"col3 price\">\\n   7.59-10.29\\u4e07\\n  </td>\\n  <td class=\"col4 relBrand\">\\n   \\u6bd4\\u4e9a\\u8fea\\n  </td>\\n  <td class=\"col5 salesNum\">\\n   13\\n  </td>\\n  <td class=\"col6 salesSum\">\\n   334\\n  </td>\\n  <td class=\"col7 links\">\\n   <a href=\"/sg10370/price.html\" target=\"_blank\">\\n    \\u62a5\\u4ef7\\n   </a>\\n   <a href=\"http://price.pcauto.com.cn/comment/sg10370/\" target=\"_blank\">\\n    \\u70b9\\u8bc4\\n   </a>\\n   <a href=\"/cars/sg10370/\" target=\"_blank\">\\n    \\u56fe\\u7247\\n   </a>\\n   <a href=\"/sg10370/config.html\" target=\"_blank\">\\n    \\u53c2\\u914d\\n   </a>\\n  </td>\\n </tr>\\n <tr>\\n  <td class=\"col1 index gray\">\\n   211\\n  </td>\\n  <td class=\"col2 brand\">\\n   <a class=\"blue\" href=\"/sg11889/\" target=\"_blank\">\\n    EV\\u7cfb\\u5217\\n   </a>\\n  </td>\\n  <td class=\"col3 price\">\\n   15.89-18.99\\u4e07\\n  </td>\\n  <td class=\"col4 relBrand\">\\n   \\u5317\\u6c7d\\u65b0\\u80fd\\u6e90\\n  </td>\\n  <td class=\"col5 salesNum\">\\n   10\\n  </td>\\n  <td class=\"col6 salesSum\">\\n   4167\\n  </td>\\n  <td class=\"col7 links\">\\n   <a href=\"/sg11889/price.html\" target=\"_blank\">\\n    \\u62a5\\u4ef7\\n   </a>\\n   <a href=\"http://price.pcauto.com.cn/comment/sg11889/\" target=\"_blank\">\\n    \\u70b9\\u8bc4\\n   </a>\\n   <a href=\"/cars/sg11889/\" target=\"_blank\">\\n    \\u56fe\\u7247\\n   </a>\\n   <a href=\"/sg11889/config.html\" target=\"_blank\">\\n    \\u53c2\\u914d\\n   </a>\\n  </td>\\n </tr>\\n <tr>\\n  <td class=\"col1 index gray\">\\n   212\\n  </td>\\n  <td class=\"col2 brand\">\\n   <a class=\"blue\" href=\"/sg10069/\" target=\"_blank\">\\n    Ottimo\\u81f4\\u60a6\\n   </a>\\n  </td>\\n  <td class=\"col3 price\">\\n   10.08-14.88\\u4e07\\n  </td>\\n  <td class=\"col4 relBrand\">\\n   \\u83f2\\u4e9a\\u7279\\n  </td>\\n  <td class=\"col5 salesNum\">\\n   8\\n  </td>\\n  <td class=\"col6 salesSum\">\\n   409\\n  </td>\\n  <td class=\"col7 links\">\\n   <a href=\"/sg10069/price.html\" target=\"_blank\">\\n    \\u62a5\\u4ef7\\n   </a>\\n   <a href=\"http://price.pcauto.com.cn/comment/sg10069/\" target=\"_blank\">\\n    \\u70b9\\u8bc4\\n   </a>\\n   <a href=\"/cars/sg10069/\" target=\"_blank\">\\n    \\u56fe\\u7247\\n   </a>\\n   <a href=\"/sg10069/config.html\" target=\"_blank\">\\n    \\u53c2\\u914d\\n   </a>\\n  </td>\\n </tr>\\n <tr>\\n  <td class=\"col1 index gray\">\\n   213\\n  </td>\\n  <td class=\"col2 brand\">\\n   <a class=\"blue\" href=\"/sg9656/\" target=\"_blank\">\\n    DS 5\\n   </a>\\n  </td>\\n  <td class=\"col3 price\">\\n   21.99-34.59\\u4e07\\n  </td>\\n  <td class=\"col4 relBrand\">\\n   DS\\n  </td>\\n  <td class=\"col5 salesNum\">\\n   7\\n  </td>\\n  <td class=\"col6 salesSum\">\\n   359\\n  </td>\\n  <td class=\"col7 links\">\\n   <a href=\"/sg9656/price.html\" target=\"_blank\">\\n    \\u62a5\\u4ef7\\n   </a>\\n   <a href=\"http://price.pcauto.com.cn/comment/sg9656/\" target=\"_blank\">\\n    \\u70b9\\u8bc4\\n   </a>\\n   <a href=\"/cars/sg9656/\" target=\"_blank\">\\n    \\u56fe\\u7247\\n   </a>\\n   <a href=\"/sg9656/config.html\" target=\"_blank\">\\n    \\u53c2\\u914d\\n   </a>\\n  </td>\\n </tr>\\n <tr>\\n  <td class=\"col1 index gray\">\\n   214\\n  </td>\\n  <td class=\"col2 brand\">\\n   <a class=\"blue\" href=\"/sg8099/\" target=\"_blank\">\\n    \\u7eb35\\n   </a>\\n  </td>\\n  <td class=\"col3 price\">\\n   8.58-11.98\\u4e07\\n  </td>\\n  <td class=\"col4 relBrand\">\\n   \\u7eb3\\u667a\\u6377\\n  </td>\\n  <td class=\"col5 salesNum\">\\n   3\\n  </td>\\n  <td class=\"col6 salesSum\">\\n   144\\n  </td>\\n  <td class=\"col7 links\">\\n   <a href=\"/sg8099/price.html\" target=\"_blank\">\\n    \\u62a5\\u4ef7\\n   </a>\\n   <a href=\"http://price.pcauto.com.cn/comment/sg8099/\" target=\"_blank\">\\n    \\u70b9\\u8bc4\\n   </a>\\n   <a href=\"/cars/sg8099/\" target=\"_blank\">\\n    \\u56fe\\u7247\\n   </a>\\n   <a href=\"/sg8099/config.html\" target=\"_blank\">\\n    \\u53c2\\u914d\\n   </a>\\n  </td>\\n </tr>\\n <tr>\\n  <td class=\"col1 index gray\">\\n   215\\n  </td>\\n  <td class=\"col2 brand\">\\n   <a class=\"blue\" href=\"/sg7229/\" target=\"_blank\">\\n    \\u6b27\\u529b\\u5a01\\n   </a>\\n  </td>\\n  <td class=\"col3 price\">\\n   3.98-6.09\\u4e07\\n  </td>\\n  <td class=\"col4 relBrand\">\\n   \\u957f\\u5b89\\u6b27\\u5c1a\\n  </td>\\n  <td class=\"col5 salesNum\">\\n   3\\n  </td>\\n  <td class=\"col6 salesSum\">\\n   914\\n  </td>\\n  <td class=\"col7 links\">\\n   <a href=\"/sg7229/price.html\" target=\"_blank\">\\n    \\u62a5\\u4ef7\\n   </a>\\n   <a href=\"http://price.pcauto.com.cn/comment/sg7229/\" target=\"_blank\">\\n    \\u70b9\\u8bc4\\n   </a>\\n   <a href=\"/cars/sg7229/\" target=\"_blank\">\\n    \\u56fe\\u7247\\n   </a>\\n   <a href=\"/sg7229/config.html\" target=\"_blank\">\\n    \\u53c2\\u914d\\n   </a>\\n  </td>\\n </tr>\\n <tr>\\n  <td class=\"col1 index gray\">\\n   216\\n  </td>\\n  <td class=\"col2 brand\">\\n   <a class=\"blue\" href=\"/sg12331/\" target=\"_blank\">\\n    \\u8363\\u5a01e550\\n   </a>\\n  </td>\\n  <td class=\"col3 price\">\\n   23.98\\u4e07\\n  </td>\\n  <td class=\"col4 relBrand\">\\n   \\u8363\\u5a01\\n  </td>\\n  <td class=\"col5 salesNum\">\\n   3\\n  </td>\\n  <td class=\"col6 salesSum\">\\n   2195\\n  </td>\\n  <td class=\"col7 links\">\\n   <a href=\"/sg12331/price.html\" target=\"_blank\">\\n    \\u62a5\\u4ef7\\n   </a>\\n   <a href=\"http://price.pcauto.com.cn/comment/sg12331/\" target=\"_blank\">\\n    \\u70b9\\u8bc4\\n   </a>\\n   <a href=\"/cars/sg12331/\" target=\"_blank\">\\n    \\u56fe\\u7247\\n   </a>\\n   <a href=\"/sg12331/config.html\" target=\"_blank\">\\n    \\u53c2\\u914d\\n   </a>\\n  </td>\\n </tr>\\n <tr>\\n  <td class=\"col1 index gray\">\\n   217\\n  </td>\\n  <td class=\"col2 brand\">\\n   <a class=\"blue\" href=\"/sg8390/\" target=\"_blank\">\\n    \\u542f\\u8fb0R50\\n   </a>\\n  </td>\\n  <td class=\"col3 price\">\\n   6.98-8.88\\u4e07\\n  </td>\\n  <td class=\"col4 relBrand\">\\n   \\u4e1c\\u98ce\\u542f\\u8fb0\\n  </td>\\n  <td class=\"col5 salesNum\">\\n   2\\n  </td>\\n  <td class=\"col6 salesSum\">\\n   10163\\n  </td>\\n  <td class=\"col7 links\">\\n   <a href=\"/sg8390/price.html\" target=\"_blank\">\\n    \\u62a5\\u4ef7\\n   </a>\\n   <a href=\"http://price.pcauto.com.cn/comment/sg8390/\" target=\"_blank\">\\n    \\u70b9\\u8bc4\\n   </a>\\n   <a href=\"/cars/sg8390/\" target=\"_blank\">\\n    \\u56fe\\u7247\\n   </a>\\n   <a href=\"/sg8390/config.html\" target=\"_blank\">\\n    \\u53c2\\u914d\\n   </a>\\n  </td>\\n </tr>\\n <tr>\\n  <td class=\"col1 index gray\">\\n   218\\n  </td>\\n  <td class=\"col2 brand\">\\n   <a class=\"blue\" href=\"/sg7669/\" target=\"_blank\">\\n    \\u542f\\u8fb0D50\\n   </a>\\n  </td>\\n  <td class=\"col3 price\">\\n   6.98-8.88\\u4e07\\n  </td>\\n  <td class=\"col4 relBrand\">\\n   \\u4e1c\\u98ce\\u542f\\u8fb0\\n  </td>\\n  <td class=\"col5 salesNum\">\\n   2\\n  </td>\\n  <td class=\"col6 salesSum\">\\n   3266\\n  </td>\\n  <td class=\"col7 links\">\\n   <a href=\"/sg7669/price.html\" target=\"_blank\">\\n    \\u62a5\\u4ef7\\n   </a>\\n   <a href=\"http://price.pcauto.com.cn/comment/sg7669/\" target=\"_blank\">\\n    \\u70b9\\u8bc4\\n   </a>\\n   <a href=\"/cars/sg7669/\" target=\"_blank\">\\n    \\u56fe\\u7247\\n   </a>\\n   <a href=\"/sg7669/config.html\" target=\"_blank\">\\n    \\u53c2\\u914d\\n   </a>\\n  </td>\\n </tr>\\n <tr>\\n  <td class=\"col1 index gray\">\\n   219\\n  </td>\\n  <td class=\"col2 brand\">\\n   <a class=\"blue\" href=\"/sg8059/\" target=\"_blank\">\\n    \\u83f2\\u7fd4\\n   </a>\\n  </td>\\n  <td class=\"col3 price\">\\n   10.08-14.88\\u4e07\\n  </td>\\n  <td class=\"col4 relBrand\">\\n   \\u83f2\\u4e9a\\u7279\\n  </td>\\n  <td class=\"col5 salesNum\">\\n   1\\n  </td>\\n  <td class=\"col6 salesSum\">\\n   1364\\n  </td>\\n  <td class=\"col7 links\">\\n   <a href=\"/sg8059/price.html\" target=\"_blank\">\\n    \\u62a5\\u4ef7\\n   </a>\\n   <a href=\"http://price.pcauto.com.cn/comment/sg8059/\" target=\"_blank\">\\n    \\u70b9\\u8bc4\\n   </a>\\n   <a href=\"/cars/sg8059/\" target=\"_blank\">\\n    \\u56fe\\u7247\\n   </a>\\n   <a href=\"/sg8059/config.html\" target=\"_blank\">\\n    \\u53c2\\u914d\\n   </a>\\n  </td>\\n </tr>\\n <tr>\\n  <td class=\"col1 index gray\">\\n   220\\n  </td>\\n  <td class=\"col2 brand\">\\n   <a class=\"blue\" href=\"/sg11807/\" target=\"_blank\">\\n    \\u7ec5\\u5b9d CC\\n   </a>\\n  </td>\\n  <td class=\"col3 price\">\\n   9.98-14.98\\u4e07\\n  </td>\\n  <td class=\"col4 relBrand\">\\n   \\u5317\\u6c7d\\u7ec5\\u5b9d\\n  </td>\\n  <td class=\"col5 salesNum\">\\n   1\\n  </td>\\n  <td class=\"col6 salesSum\">\\n   12\\n  </td>\\n  <td class=\"col7 links\">\\n   <a href=\"/sg11807/price.html\" target=\"_blank\">\\n    \\u62a5\\u4ef7\\n   </a>\\n   <a href=\"http://price.pcauto.com.cn/comment/sg11807/\" target=\"_blank\">\\n    \\u70b9\\u8bc4\\n   </a>\\n   <a href=\"/cars/sg11807/\" target=\"_blank\">\\n    \\u56fe\\u7247\\n   </a>\\n   <a href=\"/sg11807/config.html\" target=\"_blank\">\\n    \\u53c2\\u914d\\n   </a>\\n  </td>\\n </tr>\\n</table>\\n'"
      ]
     },
     "execution_count": 214,
     "metadata": {},
     "output_type": "execute_result"
    }
   ],
   "source": [
    "tbls = soup.find_all('table', attrs={'class':'table-sl'})\n",
    "tbl = tbls[0]\n",
    "print tbl.prettify(formatter='html')[:5000]"
   ]
  },
  {
   "cell_type": "markdown",
   "metadata": {},
   "source": [
    "Let's use Pandas to convert the HTML table"
   ]
  },
  {
   "cell_type": "code",
   "execution_count": 224,
   "metadata": {
    "ExecuteTime": {
     "end_time": "2018-01-18T16:30:38.180927",
     "start_time": "2018-01-18T16:30:38.013617"
    },
    "collapsed": false,
    "scrolled": false
   },
   "outputs": [
    {
     "data": {
      "text/html": [
       "<div>\n",
       "<table border=\"1\" class=\"dataframe\">\n",
       "  <thead>\n",
       "    <tr style=\"text-align: right;\">\n",
       "      <th></th>\n",
       "      <th>销量排名</th>\n",
       "      <th>车系</th>\n",
       "      <th>官方价</th>\n",
       "      <th>从属品牌</th>\n",
       "      <th>12月销量</th>\n",
       "      <th>1-12月  累计销量</th>\n",
       "      <th>相关链接</th>\n",
       "    </tr>\n",
       "  </thead>\n",
       "  <tbody>\n",
       "    <tr>\n",
       "      <th>0</th>\n",
       "      <td>1</td>\n",
       "      <td>朗逸</td>\n",
       "      <td>10.99-15.99万</td>\n",
       "      <td>大众</td>\n",
       "      <td>45554</td>\n",
       "      <td>461062</td>\n",
       "      <td>报价  点评  图片  参配</td>\n",
       "    </tr>\n",
       "    <tr>\n",
       "      <th>1</th>\n",
       "      <td>2</td>\n",
       "      <td>轩逸</td>\n",
       "      <td>9.98-15.90万</td>\n",
       "      <td>日产</td>\n",
       "      <td>44141</td>\n",
       "      <td>404726</td>\n",
       "      <td>报价  点评  图片  参配</td>\n",
       "    </tr>\n",
       "    <tr>\n",
       "      <th>2</th>\n",
       "      <td>3</td>\n",
       "      <td>英朗</td>\n",
       "      <td>10.99-15.09万</td>\n",
       "      <td>别克</td>\n",
       "      <td>40939</td>\n",
       "      <td>421296</td>\n",
       "      <td>报价  点评  图片  参配</td>\n",
       "    </tr>\n",
       "    <tr>\n",
       "      <th>3</th>\n",
       "      <td>4</td>\n",
       "      <td>宝骏310</td>\n",
       "      <td>3.68-6.08万</td>\n",
       "      <td>宝骏</td>\n",
       "      <td>35048</td>\n",
       "      <td>219727</td>\n",
       "      <td>报价  点评  图片  参配</td>\n",
       "    </tr>\n",
       "    <tr>\n",
       "      <th>4</th>\n",
       "      <td>5</td>\n",
       "      <td>福睿斯</td>\n",
       "      <td>9.68-12.23万</td>\n",
       "      <td>福特</td>\n",
       "      <td>33581</td>\n",
       "      <td>285029</td>\n",
       "      <td>报价  点评  图片  参配</td>\n",
       "    </tr>\n",
       "  </tbody>\n",
       "</table>\n",
       "</div>"
      ],
      "text/plain": [
       "   销量排名     车系           官方价 从属品牌  12月销量  1-12月  累计销量            相关链接\n",
       "0     1     朗逸  10.99-15.99万   大众  45554       461062  报价  点评  图片  参配\n",
       "1     2     轩逸   9.98-15.90万   日产  44141       404726  报价  点评  图片  参配\n",
       "2     3     英朗  10.99-15.09万   别克  40939       421296  报价  点评  图片  参配\n",
       "3     4  宝骏310    3.68-6.08万   宝骏  35048       219727  报价  点评  图片  参配\n",
       "4     5    福睿斯   9.68-12.23万   福特  33581       285029  报价  点评  图片  参配"
      ]
     },
     "execution_count": 224,
     "metadata": {},
     "output_type": "execute_result"
    }
   ],
   "source": [
    "#\n",
    "import pandas as pd\n",
    "from StringIO import StringIO\n",
    "\n",
    "df = pd.read_html(StringIO(tbl.prettify(formatter='html')), header=0)[0]\n",
    "df.head()"
   ]
  },
  {
   "cell_type": "code",
   "execution_count": 229,
   "metadata": {
    "ExecuteTime": {
     "end_time": "2018-01-18T16:52:03.060026",
     "start_time": "2018-01-18T16:52:03.033919"
    },
    "collapsed": true
   },
   "outputs": [],
   "source": [
    "%%sh\n",
    "###rm -rf data/pcauto"
   ]
  },
  {
   "cell_type": "code",
   "execution_count": 230,
   "metadata": {
    "ExecuteTime": {
     "end_time": "2018-01-18T17:05:48.559286",
     "start_time": "2018-01-18T16:52:09.436979"
    },
    "collapsed": false,
    "scrolled": true
   },
   "outputs": [
    {
     "name": "stdout",
     "output_type": "stream",
     "text": [
      "http://price.pcauto.com.cn/top/sales/s1-t1-y2014-m1.html -> pcauto-2014-01\n",
      "successfully read 220 rows\n",
      "http://price.pcauto.com.cn/top/sales/s1-t1-y2014-m2.html -> pcauto-2014-02\n",
      "successfully read 220 rows\n",
      "http://price.pcauto.com.cn/top/sales/s1-t1-y2014-m3.html -> pcauto-2014-03\n",
      "successfully read 220 rows\n",
      "http://price.pcauto.com.cn/top/sales/s1-t1-y2014-m4.html -> pcauto-2014-04\n",
      "successfully read 220 rows\n",
      "http://price.pcauto.com.cn/top/sales/s1-t1-y2014-m5.html -> pcauto-2014-05\n",
      "successfully read 220 rows\n",
      "http://price.pcauto.com.cn/top/sales/s1-t1-y2014-m6.html -> pcauto-2014-06\n",
      "successfully read 220 rows\n",
      "http://price.pcauto.com.cn/top/sales/s1-t1-y2014-m7.html -> pcauto-2014-07\n",
      "successfully read 220 rows\n",
      "http://price.pcauto.com.cn/top/sales/s1-t1-y2014-m8.html -> pcauto-2014-08\n",
      "successfully read 220 rows\n",
      "http://price.pcauto.com.cn/top/sales/s1-t1-y2014-m9.html -> pcauto-2014-09\n",
      "successfully read 220 rows\n",
      "http://price.pcauto.com.cn/top/sales/s1-t1-y2014-m10.html -> pcauto-2014-10\n",
      "successfully read 220 rows\n",
      "http://price.pcauto.com.cn/top/sales/s1-t1-y2014-m11.html -> pcauto-2014-11\n",
      "successfully read 220 rows\n",
      "http://price.pcauto.com.cn/top/sales/s1-t1-y2014-m12.html -> pcauto-2014-12\n",
      "successfully read 220 rows\n",
      "http://price.pcauto.com.cn/top/sales/s1-t1-y2015-m1.html -> pcauto-2015-01\n",
      "successfully read 220 rows\n",
      "http://price.pcauto.com.cn/top/sales/s1-t1-y2015-m2.html -> pcauto-2015-02\n",
      "successfully read 220 rows\n",
      "http://price.pcauto.com.cn/top/sales/s1-t1-y2015-m3.html -> pcauto-2015-03\n",
      "successfully read 220 rows\n",
      "http://price.pcauto.com.cn/top/sales/s1-t1-y2015-m4.html -> pcauto-2015-04\n",
      "successfully read 220 rows\n",
      "http://price.pcauto.com.cn/top/sales/s1-t1-y2015-m5.html -> pcauto-2015-05\n",
      "successfully read 220 rows\n",
      "http://price.pcauto.com.cn/top/sales/s1-t1-y2015-m6.html -> pcauto-2015-06\n",
      "successfully read 220 rows\n",
      "http://price.pcauto.com.cn/top/sales/s1-t1-y2015-m7.html -> pcauto-2015-07\n",
      "successfully read 220 rows\n",
      "http://price.pcauto.com.cn/top/sales/s1-t1-y2015-m8.html -> pcauto-2015-08\n",
      "successfully read 220 rows\n",
      "http://price.pcauto.com.cn/top/sales/s1-t1-y2015-m9.html -> pcauto-2015-09\n",
      "successfully read 220 rows\n",
      "http://price.pcauto.com.cn/top/sales/s1-t1-y2015-m10.html -> pcauto-2015-10\n",
      "successfully read 220 rows\n",
      "http://price.pcauto.com.cn/top/sales/s1-t1-y2015-m11.html -> pcauto-2015-11\n",
      "successfully read 220 rows\n",
      "http://price.pcauto.com.cn/top/sales/s1-t1-y2015-m12.html -> pcauto-2015-12\n",
      "successfully read 220 rows\n",
      "http://price.pcauto.com.cn/top/sales/s1-t1-y2016-m1.html -> pcauto-2016-01\n",
      "successfully read 220 rows\n",
      "http://price.pcauto.com.cn/top/sales/s1-t1-y2016-m2.html -> pcauto-2016-02\n",
      "successfully read 220 rows\n",
      "http://price.pcauto.com.cn/top/sales/s1-t1-y2016-m3.html -> pcauto-2016-03\n",
      "successfully read 220 rows\n",
      "http://price.pcauto.com.cn/top/sales/s1-t1-y2016-m4.html -> pcauto-2016-04\n",
      "successfully read 220 rows\n",
      "http://price.pcauto.com.cn/top/sales/s1-t1-y2016-m5.html -> pcauto-2016-05\n",
      "successfully read 220 rows\n",
      "http://price.pcauto.com.cn/top/sales/s1-t1-y2016-m6.html -> pcauto-2016-06\n",
      "successfully read 220 rows\n",
      "http://price.pcauto.com.cn/top/sales/s1-t1-y2016-m7.html -> pcauto-2016-07\n",
      "successfully read 220 rows\n",
      "http://price.pcauto.com.cn/top/sales/s1-t1-y2016-m8.html -> pcauto-2016-08\n",
      "successfully read 220 rows\n",
      "http://price.pcauto.com.cn/top/sales/s1-t1-y2016-m9.html -> pcauto-2016-09\n",
      "successfully read 220 rows\n",
      "http://price.pcauto.com.cn/top/sales/s1-t1-y2016-m10.html -> pcauto-2016-10\n",
      "successfully read 220 rows\n",
      "http://price.pcauto.com.cn/top/sales/s1-t1-y2016-m11.html -> pcauto-2016-11\n",
      "successfully read 220 rows\n",
      "http://price.pcauto.com.cn/top/sales/s1-t1-y2016-m12.html -> pcauto-2016-12\n",
      "successfully read 220 rows\n",
      "http://price.pcauto.com.cn/top/sales/s1-t1-y2017-m1.html -> pcauto-2017-01\n",
      "successfully read 220 rows\n",
      "http://price.pcauto.com.cn/top/sales/s1-t1-y2017-m2.html -> pcauto-2017-02\n",
      "successfully read 220 rows\n",
      "http://price.pcauto.com.cn/top/sales/s1-t1-y2017-m3.html -> pcauto-2017-03\n",
      "successfully read 220 rows\n",
      "http://price.pcauto.com.cn/top/sales/s1-t1-y2017-m4.html -> pcauto-2017-04\n",
      "successfully read 220 rows\n",
      "http://price.pcauto.com.cn/top/sales/s1-t1-y2017-m5.html -> pcauto-2017-05\n",
      "successfully read 220 rows\n",
      "http://price.pcauto.com.cn/top/sales/s1-t1-y2017-m6.html -> pcauto-2017-06\n",
      "successfully read 220 rows\n",
      "http://price.pcauto.com.cn/top/sales/s1-t1-y2017-m7.html -> pcauto-2017-07\n",
      "successfully read 220 rows\n",
      "http://price.pcauto.com.cn/top/sales/s1-t1-y2017-m8.html -> pcauto-2017-08\n",
      "successfully read 220 rows\n",
      "http://price.pcauto.com.cn/top/sales/s1-t1-y2017-m9.html -> pcauto-2017-09\n",
      "successfully read 220 rows\n",
      "http://price.pcauto.com.cn/top/sales/s1-t1-y2017-m10.html -> pcauto-2017-10\n",
      "successfully read 220 rows\n",
      "http://price.pcauto.com.cn/top/sales/s1-t1-y2017-m11.html -> pcauto-2017-11\n",
      "successfully read 220 rows\n",
      "http://price.pcauto.com.cn/top/sales/s1-t1-y2017-m12.html -> pcauto-2017-12\n",
      "successfully read 220 rows\n"
     ]
    }
   ],
   "source": [
    "## set destination data directory\n",
    "datdir = os.path.join('data','pcauto')\n",
    "if not os.path.isdir(datdir):\n",
    "    os.makedirs(datdir)\n",
    "\n",
    "for y in range(2014, 2018):\n",
    "    for m in range(1, 13):\n",
    "        url = 'http://price.pcauto.com.cn/top/sales/s1-t1-y%d-m%d.html'%(y, m)\n",
    "        fn = 'pcauto-%04d-%02d'%(y, m)\n",
    "        print url, '->', fn\n",
    "        # load page\n",
    "        soup = load_soup('http://price.pcauto.com.cn/top/sales/s1-t1.html')\n",
    "        \n",
    "        # find table\n",
    "        tbls = soup.find_all('table', attrs={'class':'table-sl'})\n",
    "        tbl = tbls[0]\n",
    "        tbl_html = tbl.prettify(formatter='html')\n",
    "        \n",
    "        # read <table>, remember pandas.read_html returns a **list** of tables\n",
    "        df = pd.read_html(StringIO(tbl.prettify(formatter='html')), header=0)[0]\n",
    "        print \"successfully read %d rows\"%(df.shape[0])\n",
    "        \n",
    "        df['Year'] = y\n",
    "        df['Month'] = m\n",
    "        \n",
    "        # now, save table\n",
    "        df.to_csv(os.path.join(datdir, fn+'.csv'), index=None, header=None, encoding='UTF-8')\n",
    "        \n",
    "        # well, the original HTML table also include hyperlinks, maybe we want to keep them for later\n",
    "        # let's also save the HTML text\n",
    "        with open(os.path.join(datdir, fn+'.html') as io:\n",
    "                  io.write(tbl_html)\n",
    "                  \n",
    "        # the sleep\n",
    "        time.sleep(13)"
   ]
  },
  {
   "cell_type": "code",
   "execution_count": 232,
   "metadata": {
    "ExecuteTime": {
     "end_time": "2018-01-18T17:07:30.780630",
     "start_time": "2018-01-18T17:07:30.751107"
    },
    "collapsed": false,
    "scrolled": true
   },
   "outputs": [
    {
     "name": "stdout",
     "output_type": "stream",
     "text": [
      "-rw-r--r-- 1 pmolnar pmolnar 18555 Jan 18 17:03 data/pcauto/pcauto-2017-03.csv\n",
      "-rw-r--r-- 1 pmolnar pmolnar 18555 Jan 18 17:03 data/pcauto/pcauto-2017-04.csv\n",
      "-rw-r--r-- 1 pmolnar pmolnar 18555 Jan 18 17:03 data/pcauto/pcauto-2017-05.csv\n",
      "-rw-r--r-- 1 pmolnar pmolnar 18555 Jan 18 17:03 data/pcauto/pcauto-2017-06.csv\n",
      "-rw-r--r-- 1 pmolnar pmolnar 18555 Jan 18 17:04 data/pcauto/pcauto-2017-07.csv\n",
      "-rw-r--r-- 1 pmolnar pmolnar 18555 Jan 18 17:04 data/pcauto/pcauto-2017-08.csv\n",
      "-rw-r--r-- 1 pmolnar pmolnar 18555 Jan 18 17:04 data/pcauto/pcauto-2017-09.csv\n",
      "-rw-r--r-- 1 pmolnar pmolnar 18775 Jan 18 17:05 data/pcauto/pcauto-2017-10.csv\n",
      "-rw-r--r-- 1 pmolnar pmolnar 18775 Jan 18 17:05 data/pcauto/pcauto-2017-11.csv\n",
      "-rw-r--r-- 1 pmolnar pmolnar 18775 Jan 18 17:05 data/pcauto/pcauto-2017-12.csv\n"
     ]
    }
   ],
   "source": [
    "%%sh\n",
    "ls -l data/pcauto/pcauto-*.csv | tail -10"
   ]
  },
  {
   "cell_type": "code",
   "execution_count": 239,
   "metadata": {
    "ExecuteTime": {
     "end_time": "2018-01-18T17:14:29.399303",
     "start_time": "2018-01-18T17:14:29.322853"
    },
    "collapsed": false
   },
   "outputs": [
    {
     "name": "stdout",
     "output_type": "stream",
     "text": [
      "(10560, 9)\n"
     ]
    },
    {
     "data": {
      "text/html": [
       "<div>\n",
       "<table border=\"1\" class=\"dataframe\">\n",
       "  <thead>\n",
       "    <tr style=\"text-align: right;\">\n",
       "      <th></th>\n",
       "      <th>SalesRanking</th>\n",
       "      <th>Car</th>\n",
       "      <th>OfficialPrice</th>\n",
       "      <th>SubordinateBrand</th>\n",
       "      <th>MonthlySales</th>\n",
       "      <th>YearToDateSales</th>\n",
       "      <th>Links</th>\n",
       "      <th>Year</th>\n",
       "      <th>Month</th>\n",
       "    </tr>\n",
       "  </thead>\n",
       "  <tbody>\n",
       "    <tr>\n",
       "      <th>0</th>\n",
       "      <td>1</td>\n",
       "      <td>朗逸</td>\n",
       "      <td>10.99-15.99万</td>\n",
       "      <td>大众</td>\n",
       "      <td>45554</td>\n",
       "      <td>461062</td>\n",
       "      <td>报价  点评  图片  参配</td>\n",
       "      <td>2014</td>\n",
       "      <td>1</td>\n",
       "    </tr>\n",
       "    <tr>\n",
       "      <th>1</th>\n",
       "      <td>2</td>\n",
       "      <td>轩逸</td>\n",
       "      <td>9.98-15.90万</td>\n",
       "      <td>日产</td>\n",
       "      <td>44141</td>\n",
       "      <td>404726</td>\n",
       "      <td>报价  点评  图片  参配</td>\n",
       "      <td>2014</td>\n",
       "      <td>1</td>\n",
       "    </tr>\n",
       "    <tr>\n",
       "      <th>2</th>\n",
       "      <td>3</td>\n",
       "      <td>英朗</td>\n",
       "      <td>10.99-15.09万</td>\n",
       "      <td>别克</td>\n",
       "      <td>40939</td>\n",
       "      <td>421296</td>\n",
       "      <td>报价  点评  图片  参配</td>\n",
       "      <td>2014</td>\n",
       "      <td>1</td>\n",
       "    </tr>\n",
       "    <tr>\n",
       "      <th>3</th>\n",
       "      <td>4</td>\n",
       "      <td>宝骏310</td>\n",
       "      <td>3.68-6.08万</td>\n",
       "      <td>宝骏</td>\n",
       "      <td>35048</td>\n",
       "      <td>219727</td>\n",
       "      <td>报价  点评  图片  参配</td>\n",
       "      <td>2014</td>\n",
       "      <td>1</td>\n",
       "    </tr>\n",
       "    <tr>\n",
       "      <th>4</th>\n",
       "      <td>5</td>\n",
       "      <td>福睿斯</td>\n",
       "      <td>9.68-12.23万</td>\n",
       "      <td>福特</td>\n",
       "      <td>33581</td>\n",
       "      <td>285029</td>\n",
       "      <td>报价  点评  图片  参配</td>\n",
       "      <td>2014</td>\n",
       "      <td>1</td>\n",
       "    </tr>\n",
       "  </tbody>\n",
       "</table>\n",
       "</div>"
      ],
      "text/plain": [
       "   SalesRanking    Car OfficialPrice SubordinateBrand  MonthlySales  \\\n",
       "0             1     朗逸  10.99-15.99万               大众         45554   \n",
       "1             2     轩逸   9.98-15.90万               日产         44141   \n",
       "2             3     英朗  10.99-15.09万               别克         40939   \n",
       "3             4  宝骏310    3.68-6.08万               宝骏         35048   \n",
       "4             5    福睿斯   9.68-12.23万               福特         33581   \n",
       "\n",
       "   YearToDateSales           Links  Year  Month  \n",
       "0           461062  报价  点评  图片  参配  2014      1  \n",
       "1           404726  报价  点评  图片  参配  2014      1  \n",
       "2           421296  报价  点评  图片  参配  2014      1  \n",
       "3           219727  报价  点评  图片  参配  2014      1  \n",
       "4           285029  报价  点评  图片  参配  2014      1  "
      ]
     },
     "execution_count": 239,
     "metadata": {},
     "output_type": "execute_result"
    }
   ],
   "source": [
    "df2 = pd.read_csv(os.popen('cat data/pcauto/pcauto-*.csv'), header=None)\n",
    "print df2.shape\n",
    "## defining column header from (Google-)translated page, the 'YearToDateSales' column might be something else...\n",
    "df2.columns = ['SalesRanking', 'Car', 'OfficialPrice', 'SubordinateBrand', 'MonthlySales', 'YearToDateSales', 'Links', 'Year', 'Month']\n",
    "df2.head()"
   ]
  },
  {
   "cell_type": "code",
   "execution_count": null,
   "metadata": {
    "collapsed": true
   },
   "outputs": [],
   "source": []
  },
  {
   "cell_type": "markdown",
   "metadata": {},
   "source": [
    "# Site Maps\n",
    "\n",
    "https://en.wikipedia.org/wiki/Sitemaps\n",
    "\n",
    "The Sitemaps protocol allows a webmaster to inform search engines about URLs on a website that are available for crawling. A Sitemap is an XML file that lists the URLs for a site. It allows webmasters to include additional information about each URL: when it was last updated, how often it changes, and how important it is in relation to other URLs in the site. **This allows search engines to crawl the site more intelligently**. Sitemaps are a URL inclusion protocol and complements robots.txt, a URL exclusion protocol.\n",
    "\n",
    "Sitemaps are particularly beneficial on websites where:\n",
    "\n",
    "- Some areas of the website are not available through the browsable interface\n",
    "- Webmasters use rich Ajax, Silverlight, or Flash content that is not normally processed by search engines.\n",
    "- The site is very large and there is a chance for the web crawlers to overlook some of the new or recently updated content\n",
    "- When websites have a huge number of pages that are isolated or not well linked together, or\n",
    "- When a website has **few external links**\n",
    "\n",
    "Let's look at https://apartmentguide.com\n",
    "\n",
    "First check what they think about robots...\n",
    "https://www.apartmentguide.com/robots.txt\n",
    "\n"
   ]
  },
  {
   "cell_type": "markdown",
   "metadata": {
    "ExecuteTime": {
     "end_time": "2018-01-18T19:48:36.548861",
     "start_time": "2018-01-18T19:48:36.544679"
    }
   },
   "source": [
    "## Check robots.txt"
   ]
  },
  {
   "cell_type": "code",
   "execution_count": 313,
   "metadata": {
    "ExecuteTime": {
     "end_time": "2018-01-18T19:47:45.550532",
     "start_time": "2018-01-18T19:47:45.486849"
    },
    "collapsed": false
   },
   "outputs": [
    {
     "name": "stdout",
     "output_type": "stream",
     "text": [
      "#\n",
      "\n",
      "# Sitemap Global Search Engine Ping (Google, Yahoo, MSN, Ask)\n",
      "\n",
      "#\n",
      "\n",
      "User-Agent: *\n",
      "\n",
      "Disallow: /thmpg/\n",
      "\n",
      "Disallow: /*/search/*\n",
      "\n",
      "Disallow: /schools/*\n",
      "\n",
      "Disallow: /apartments/print/*\n",
      "\n",
      "Disallow: /apartments/get_geo_url\n",
      "\n",
      "Disallow: /apartments/Alaska/Yakutat/\n",
      "Disallow: /zip/99689*\n",
      "SITEMAP: https://www.apartmentguide.com/sitemap.xml\n"
     ]
    }
   ],
   "source": [
    "%%sh\n",
    "#pushd data/apartmentguide.com > /dev/null\n",
    "#wget https://www.apartmentguide.com/robots.txt\n",
    "#popd > /dev/null\n",
    "head -20 data/apartmentguide.com/robots.txt\n",
    "grep SITEMAP data/apartmentguide.com/robots.txt"
   ]
  },
  {
   "cell_type": "code",
   "execution_count": null,
   "metadata": {
    "collapsed": true
   },
   "outputs": [],
   "source": []
  },
  {
   "cell_type": "code",
   "execution_count": null,
   "metadata": {
    "collapsed": true
   },
   "outputs": [],
   "source": []
  },
  {
   "cell_type": "markdown",
   "metadata": {
    "ExecuteTime": {
     "end_time": "2018-01-18T19:48:59.225617",
     "start_time": "2018-01-18T19:48:59.221679"
    }
   },
   "source": [
    "## Look at sitemap.xml"
   ]
  },
  {
   "cell_type": "code",
   "execution_count": 279,
   "metadata": {
    "ExecuteTime": {
     "end_time": "2018-01-18T18:09:56.045752",
     "start_time": "2018-01-18T18:09:55.687938"
    },
    "collapsed": false
   },
   "outputs": [
    {
     "name": "stdout",
     "output_type": "stream",
     "text": [
      "<?xml version=\"1.0\" encoding=\"UTF-8\"?>\n",
      "<html>\n",
      " <body>\n",
      "  <sitemapindex xmlns=\"http://www.sitemaps.org/schemas/sitemap/0.9\">\n",
      "   <sitemap>\n",
      "    <loc>\n",
      "     https://www.apartmentguide.com/sitemap/AptZips/sitemap_0000.xml\n",
      "    </loc>\n",
      "    <lastmod>\n",
      "     2018-01-18T10:31:38.000Z\n",
      "    </lastmod>\n",
      "   </sitemap>\n",
      "   <sitemap>\n",
      "    <loc>\n",
      "     https://www.apartmentguide.com/sitemap/PropTypeNeighborhoods/sitemap_0000.xml\n",
      "    </loc>\n",
      "    <lastmod>\n",
      "     2018-01-18T10:31:38.000Z\n",
      "    </lastmod>\n",
      "   </sitemap>\n",
      "   <sitemap>\n",
      "    <loc>\n",
      "     https://www.apartmentguide.com/sitemap/Pdps/sitemap_0000.xml\n",
      "    </loc>\n",
      "    <lastmo\n"
     ]
    }
   ],
   "source": [
    "sitemap = BeautifulSoup(ul.urlopen('https://www.apartmentguide.com/sitemap.xml').read(), 'lxml')\n",
    "print sitemap.prettify()[:600]"
   ]
  },
  {
   "cell_type": "code",
   "execution_count": 281,
   "metadata": {
    "ExecuteTime": {
     "end_time": "2018-01-18T18:12:15.006763",
     "start_time": "2018-01-18T18:12:15.001356"
    },
    "collapsed": false,
    "scrolled": true
   },
   "outputs": [
    {
     "name": "stdout",
     "output_type": "stream",
     "text": [
      "9\n"
     ]
    }
   ],
   "source": [
    "sitemap_children = sitemap.find_all('sitemap')\n",
    "print len(sitemap_children)"
   ]
  },
  {
   "cell_type": "code",
   "execution_count": 304,
   "metadata": {
    "ExecuteTime": {
     "end_time": "2018-01-18T19:37:30.559027",
     "start_time": "2018-01-18T19:37:30.530273"
    },
    "collapsed": false
   },
   "outputs": [],
   "source": [
    "### This function traverses recursivly through a tree of site mapes\n",
    "### we assume it's a tree and there are no cycles, otherwise we need to\n",
    "### ensure that we don't run into an endless loop\n",
    "\n",
    "###sitemap_df = pd.DataFrame()\n",
    "\n",
    "def collect_urls(url):\n",
    "    global sitemap_df\n",
    "    global sitemap_dir\n",
    "    \n",
    "    print \"visiting '%s', current number of urls: %d\"%(url, sitemap_df.shape[0])\n",
    "    sitemap = BeautifulSoup(ul.urlopen(url).read(), 'lxml')\n",
    "    \n",
    "    ## visit any chidren\n",
    "    for smap in sitemap.find_all('sitemap'):\n",
    "        sm_url = smap.find('loc').text\n",
    "        sm_lastmod = smap.find('lastmod').text\n",
    "        collect_urls(sm_url)\n",
    "        \n",
    "    ## collect urls\n",
    "    url_df = pd.DataFrame()\n",
    "    for el in sitemap.find_all('url'):\n",
    "        data = {'URL': [el.find('loc').text],\n",
    "                'LastModified': [el.find('lastmod').text],\n",
    "                'ChangeFrequency': [el.find('changefreq').text]\n",
    "               }\n",
    "        df = pd.DataFrame(data=data)\n",
    "        url_df = pd.concat([url_df, df])\n",
    "    f = ul.urlparse.urlsplit(url).path.split('.')[0].decode('UTF-8').replace('/', '_')\n",
    "    url_df.to_csv(os.path.join(sitemap_dir, f+\".csv\"), index=None, header=None)\n",
    "    sitemap_df = pd.concat([sitemap_df, url_df])\n",
    "    time.sleep(13)"
   ]
  },
  {
   "cell_type": "code",
   "execution_count": 305,
   "metadata": {
    "ExecuteTime": {
     "end_time": "2018-01-18T19:40:04.466098",
     "start_time": "2018-01-18T19:37:44.041578"
    },
    "collapsed": false
   },
   "outputs": [
    {
     "name": "stdout",
     "output_type": "stream",
     "text": [
      "visiting 'https://www.apartmentguide.com/sitemap.xml', current number of urls: 0\n",
      "visiting 'https://www.apartmentguide.com/sitemap/AptZips/sitemap_0000.xml', current number of urls: 0\n",
      "visiting 'https://www.apartmentguide.com/sitemap/PropTypeNeighborhoods/sitemap_0000.xml', current number of urls: 6746\n",
      "visiting 'https://www.apartmentguide.com/sitemap/Pdps/sitemap_0000.xml', current number of urls: 14555\n",
      "visiting 'https://www.apartmentguide.com/sitemap/AptNeighborhoods/sitemap_0000.xml', current number of urls: 44757\n",
      "visiting 'https://www.apartmentguide.com/sitemap/AptMilitaryCollege/sitemap_0000.xml', current number of urls: 48814\n",
      "visiting 'https://www.apartmentguide.com/sitemap/AptRefinements/sitemap_0000.xml', current number of urls: 53282\n",
      "visiting 'https://www.apartmentguide.com/sitemap/Other/sitemap_0000.xml', current number of urls: 65184\n",
      "visiting 'https://www.apartmentguide.com/sitemap/AptCities/sitemap_0000.xml', current number of urls: 65198\n",
      "visiting 'https://www.apartmentguide.com/sitemap/PropTypesCities/sitemap_0000.xml', current number of urls: 68718\n"
     ]
    }
   ],
   "source": [
    "# Run crawler\n",
    "sitemap_df = pd.DataFrame()\n",
    "sitemap_dir = os.path.join('data', 'apartmentguide.com')\n",
    "if not os.path.isdir(sitemap_dir):\n",
    "    os.makedirs(sitemap_dir)\n",
    "    \n",
    "sitemap_fn = os.path.join(sitemap_dir, 'sitemap.csv')\n",
    "\n",
    "collect_urls('https://www.apartmentguide.com/sitemap.xml')\n"
   ]
  },
  {
   "cell_type": "code",
   "execution_count": 306,
   "metadata": {
    "ExecuteTime": {
     "end_time": "2018-01-18T19:40:19.160962",
     "start_time": "2018-01-18T19:40:18.932324"
    },
    "collapsed": true
   },
   "outputs": [],
   "source": [
    "sitemap_df.to_csv(os.path.join(sitemap_dir, 'sitemap.csv'), index=None)"
   ]
  },
  {
   "cell_type": "code",
   "execution_count": 308,
   "metadata": {
    "ExecuteTime": {
     "end_time": "2018-01-18T19:41:30.955767",
     "start_time": "2018-01-18T19:41:30.945010"
    },
    "collapsed": false
   },
   "outputs": [
    {
     "name": "stdout",
     "output_type": "stream",
     "text": [
      "(76459, 3)\n"
     ]
    },
    {
     "data": {
      "text/html": [
       "<div>\n",
       "<table border=\"1\" class=\"dataframe\">\n",
       "  <thead>\n",
       "    <tr style=\"text-align: right;\">\n",
       "      <th></th>\n",
       "      <th>ChangeFrequency</th>\n",
       "      <th>LastModified</th>\n",
       "      <th>URL</th>\n",
       "    </tr>\n",
       "  </thead>\n",
       "  <tbody>\n",
       "    <tr>\n",
       "      <th>0</th>\n",
       "      <td>monthly</td>\n",
       "      <td>2018-01-18T10:30:02.019Z</td>\n",
       "      <td>https://www.apartmentguide.com/batavia-il/houses/</td>\n",
       "    </tr>\n",
       "    <tr>\n",
       "      <th>0</th>\n",
       "      <td>monthly</td>\n",
       "      <td>2018-01-18T10:30:02.019Z</td>\n",
       "      <td>https://www.apartmentguide.com/league-city-tx/...</td>\n",
       "    </tr>\n",
       "    <tr>\n",
       "      <th>0</th>\n",
       "      <td>monthly</td>\n",
       "      <td>2018-01-18T10:30:02.019Z</td>\n",
       "      <td>https://www.apartmentguide.com/watford-city-nd...</td>\n",
       "    </tr>\n",
       "    <tr>\n",
       "      <th>0</th>\n",
       "      <td>monthly</td>\n",
       "      <td>2018-01-18T10:30:02.019Z</td>\n",
       "      <td>https://www.apartmentguide.com/chickamauga-ga/...</td>\n",
       "    </tr>\n",
       "    <tr>\n",
       "      <th>0</th>\n",
       "      <td>monthly</td>\n",
       "      <td>2018-01-18T10:30:02.019Z</td>\n",
       "      <td>https://www.apartmentguide.com/buford-ga/condos/</td>\n",
       "    </tr>\n",
       "  </tbody>\n",
       "</table>\n",
       "</div>"
      ],
      "text/plain": [
       "  ChangeFrequency              LastModified  \\\n",
       "0         monthly  2018-01-18T10:30:02.019Z   \n",
       "0         monthly  2018-01-18T10:30:02.019Z   \n",
       "0         monthly  2018-01-18T10:30:02.019Z   \n",
       "0         monthly  2018-01-18T10:30:02.019Z   \n",
       "0         monthly  2018-01-18T10:30:02.019Z   \n",
       "\n",
       "                                                 URL  \n",
       "0  https://www.apartmentguide.com/batavia-il/houses/  \n",
       "0  https://www.apartmentguide.com/league-city-tx/...  \n",
       "0  https://www.apartmentguide.com/watford-city-nd...  \n",
       "0  https://www.apartmentguide.com/chickamauga-ga/...  \n",
       "0   https://www.apartmentguide.com/buford-ga/condos/  "
      ]
     },
     "execution_count": 308,
     "metadata": {},
     "output_type": "execute_result"
    }
   ],
   "source": [
    "print sitemap_df.shape\n",
    "sitemap_df.tail()"
   ]
  },
  {
   "cell_type": "code",
   "execution_count": 295,
   "metadata": {
    "ExecuteTime": {
     "end_time": "2018-01-18T18:56:45.618419",
     "start_time": "2018-01-18T18:56:45.612495"
    },
    "collapsed": false
   },
   "outputs": [
    {
     "data": {
      "text/plain": [
       "SplitResult(scheme='https', netloc='www.apartmentguide.com', path='/sitemap/PropTypesCities/sitemap_0000.xml', query='', fragment='')"
      ]
     },
     "execution_count": 295,
     "metadata": {},
     "output_type": "execute_result"
    }
   ],
   "source": [
    "ul.urlparse.urlsplit('https://www.apartmentguide.com/sitemap/PropTypesCities/sitemap_0000.xml')"
   ]
  },
  {
   "cell_type": "code",
   "execution_count": null,
   "metadata": {
    "collapsed": true
   },
   "outputs": [],
   "source": []
  },
  {
   "cell_type": "raw",
   "metadata": {},
   "source": [
    "http://www.gsu.edu/sitemap.xml"
   ]
  },
  {
   "cell_type": "code",
   "execution_count": 265,
   "metadata": {
    "ExecuteTime": {
     "end_time": "2018-01-18T17:52:23.439674",
     "start_time": "2018-01-18T17:52:21.987664"
    },
    "collapsed": false
   },
   "outputs": [],
   "source": [
    "sitemap = BeautifulSoup(ul.urlopen('https://www.apartmentguide.com/sitemap/PropTypesCities/sitemap_0000.xml').read(), 'lxml')"
   ]
  },
  {
   "cell_type": "code",
   "execution_count": 276,
   "metadata": {
    "ExecuteTime": {
     "end_time": "2018-01-18T17:57:44.357947",
     "start_time": "2018-01-18T17:57:36.027272"
    },
    "collapsed": false
   },
   "outputs": [
    {
     "name": "stdout",
     "output_type": "stream",
     "text": [
      "(7741, 3)\n"
     ]
    },
    {
     "data": {
      "text/html": [
       "<div>\n",
       "<table border=\"1\" class=\"dataframe\">\n",
       "  <thead>\n",
       "    <tr style=\"text-align: right;\">\n",
       "      <th></th>\n",
       "      <th>ChangeFrequency</th>\n",
       "      <th>LastModified</th>\n",
       "      <th>URL</th>\n",
       "    </tr>\n",
       "  </thead>\n",
       "  <tbody>\n",
       "    <tr>\n",
       "      <th>0</th>\n",
       "      <td>monthly</td>\n",
       "      <td>2018-01-18T10:30:02.019Z</td>\n",
       "      <td>https://www.apartmentguide.com/saint-louis-mo/...</td>\n",
       "    </tr>\n",
       "    <tr>\n",
       "      <th>0</th>\n",
       "      <td>monthly</td>\n",
       "      <td>2018-01-18T10:30:02.019Z</td>\n",
       "      <td>https://www.apartmentguide.com/shelbyville-ky/...</td>\n",
       "    </tr>\n",
       "    <tr>\n",
       "      <th>0</th>\n",
       "      <td>monthly</td>\n",
       "      <td>2018-01-18T10:30:02.019Z</td>\n",
       "      <td>https://www.apartmentguide.com/lake-wylie-sc/h...</td>\n",
       "    </tr>\n",
       "    <tr>\n",
       "      <th>0</th>\n",
       "      <td>monthly</td>\n",
       "      <td>2018-01-18T10:30:02.019Z</td>\n",
       "      <td>https://www.apartmentguide.com/sterrett-al/hou...</td>\n",
       "    </tr>\n",
       "    <tr>\n",
       "      <th>0</th>\n",
       "      <td>monthly</td>\n",
       "      <td>2018-01-18T10:30:02.019Z</td>\n",
       "      <td>https://www.apartmentguide.com/niagara-falls-n...</td>\n",
       "    </tr>\n",
       "  </tbody>\n",
       "</table>\n",
       "</div>"
      ],
      "text/plain": [
       "  ChangeFrequency              LastModified  \\\n",
       "0         monthly  2018-01-18T10:30:02.019Z   \n",
       "0         monthly  2018-01-18T10:30:02.019Z   \n",
       "0         monthly  2018-01-18T10:30:02.019Z   \n",
       "0         monthly  2018-01-18T10:30:02.019Z   \n",
       "0         monthly  2018-01-18T10:30:02.019Z   \n",
       "\n",
       "                                                 URL  \n",
       "0  https://www.apartmentguide.com/saint-louis-mo/...  \n",
       "0  https://www.apartmentguide.com/shelbyville-ky/...  \n",
       "0  https://www.apartmentguide.com/lake-wylie-sc/h...  \n",
       "0  https://www.apartmentguide.com/sterrett-al/hou...  \n",
       "0  https://www.apartmentguide.com/niagara-falls-n...  "
      ]
     },
     "execution_count": 276,
     "metadata": {},
     "output_type": "execute_result"
    }
   ],
   "source": [
    "sitemap_df = pd.DataFrame()\n",
    "\n",
    "for el in sitemap.find_all('url'):\n",
    "    data = {'URL': [el.find('loc').text],\n",
    "            'LastModified': [el.find('lastmod').text],\n",
    "            'ChangeFrequency': [el.find('changefreq').text]\n",
    "    }\n",
    "    df = pd.DataFrame(data=data)\n",
    "    sitemap_df = pd.concat([sitemap_df, df])\n",
    "print sitemap_df.shape\n",
    "sitemap_df.head()"
   ]
  },
  {
   "cell_type": "markdown",
   "metadata": {
    "ExecuteTime": {
     "end_time": "2018-01-18T17:56:47.007194",
     "start_time": "2018-01-18T17:56:46.992156"
    }
   },
   "source": [
    "# Robinson Academic Programs Crawler\n",
    "\n",
    "Let's visit the website of our college and collect information about the academic programs.\n"
   ]
  },
  {
   "cell_type": "code",
   "execution_count": 329,
   "metadata": {
    "ExecuteTime": {
     "end_time": "2018-01-18T20:20:00.781795",
     "start_time": "2018-01-18T20:20:00.777827"
    },
    "collapsed": true
   },
   "outputs": [],
   "source": [
    "seed = 'https://robinson.gsu.edu/academic-programs/'"
   ]
  },
  {
   "cell_type": "markdown",
   "metadata": {},
   "source": [
    "Let's create another load function ... out of laziness, we hard-coded the encoding. We can verify by looking at the HTML source that this site uses UTF-8 encoding."
   ]
  },
  {
   "cell_type": "code",
   "execution_count": 330,
   "metadata": {
    "ExecuteTime": {
     "end_time": "2018-01-18T20:20:34.525543",
     "start_time": "2018-01-18T20:20:34.519507"
    },
    "collapsed": true
   },
   "outputs": [],
   "source": [
    "def load_robinson_soup(url):\n",
    "    import urllib2 as ul\n",
    "    html_doc = ul.urlopen(url, 'b').read()\n",
    "    return BeautifulSoup(html_doc, 'html.parser')"
   ]
  },
  {
   "cell_type": "code",
   "execution_count": null,
   "metadata": {
    "collapsed": true
   },
   "outputs": [],
   "source": [
    "soup = load_robinson_soup(seed)"
   ]
  },
  {
   "cell_type": "code",
   "execution_count": 331,
   "metadata": {
    "ExecuteTime": {
     "end_time": "2018-01-18T20:25:06.953401",
     "start_time": "2018-01-18T20:25:06.871072"
    },
    "collapsed": false
   },
   "outputs": [
    {
     "name": "stdout",
     "output_type": "stream",
     "text": [
      "Learn More /undergraduate/\n",
      "Learn More /masters-programs/\n",
      "Learn More /mba-programs/flex-mba/\n",
      "Learn More /mba-programs/professional-mba/\n",
      "Learn More /mba-programs/emba/\n",
      "Learn More /doctoral-programs/phd/\n",
      "Learn More /doctoral-programs/executive-doctorate-in-business/\n",
      "Learn More /immersive-experiential-learning/honors-program/\n",
      "Learn More /immersive-experiential-learning/pace/\n",
      "Learn More /cac/panthers-in-the-valley/\n",
      "Learn More /immersive-experiential-learning/panthers-on-wall-street/\n",
      "Learn More /immersive-experiential-learning/womenlead/\n",
      "Learn More http://execed.robinson.gsu.edu/\n",
      "Learn More /certificate-programs/\n"
     ]
    }
   ],
   "source": [
    "for a in filter(lambda el: el.text.lower().find('more')>=0 , soup.findAll('a', href=True)):\n",
    "    print a.text.strip(), a['href']\n",
    "    "
   ]
  },
  {
   "cell_type": "code",
   "execution_count": 332,
   "metadata": {
    "ExecuteTime": {
     "end_time": "2018-01-18T20:42:31.179918",
     "start_time": "2018-01-18T20:42:24.367374"
    },
    "collapsed": true
   },
   "outputs": [],
   "source": [
    "soup2 = load_robinson_soup('https://robinson.gsu.edu/mba-programs/professional-mba/')"
   ]
  },
  {
   "cell_type": "code",
   "execution_count": null,
   "metadata": {
    "collapsed": true
   },
   "outputs": [],
   "source": []
  },
  {
   "cell_type": "code",
   "execution_count": 335,
   "metadata": {
    "ExecuteTime": {
     "end_time": "2018-01-18T20:43:13.646938",
     "start_time": "2018-01-18T20:43:13.592221"
    },
    "collapsed": false,
    "scrolled": true
   },
   "outputs": [
    {
     "data": {
      "text/plain": [
       "[<h1 class=\"program-title\" style=\"line-height: 1.2em\">Professional MBA</h1>]"
      ]
     },
     "execution_count": 335,
     "metadata": {},
     "output_type": "execute_result"
    }
   ],
   "source": [
    "soup2.find_all('h1', class_='program-title')"
   ]
  },
  {
   "cell_type": "code",
   "execution_count": 368,
   "metadata": {
    "ExecuteTime": {
     "end_time": "2018-01-18T20:57:01.292533",
     "start_time": "2018-01-18T20:57:01.277812"
    },
    "collapsed": false
   },
   "outputs": [
    {
     "data": {
      "text/plain": [
       "u'Cohort, part-time'"
      ]
     },
     "execution_count": 368,
     "metadata": {},
     "output_type": "execute_result"
    }
   ],
   "source": [
    "f = soup2.find_all('h2')[10]\n",
    "';'.join([ p.text.strip() for p in f.parent.find_all('p')])"
   ]
  },
  {
   "cell_type": "code",
   "execution_count": 416,
   "metadata": {
    "ExecuteTime": {
     "end_time": "2018-01-18T21:47:32.447486",
     "start_time": "2018-01-18T21:47:32.429268"
    },
    "collapsed": false
   },
   "outputs": [],
   "source": [
    "def extract_info(soup):\n",
    "    data = {}\n",
    "    fields = [u'Title', u'Duration', u'Format', u'Tuition', u'Location']\n",
    "    for f in fields:\n",
    "        data[f] = [ np.nan ]\n",
    "\n",
    "    titles = soup.find_all('h1', class_='program-title')\n",
    "    if len(titles)>0:\n",
    "        data[u'Title'] = [ titles[0].text ]\n",
    "    fields = ['Title', 'Duration', 'Format', 'Tuition', 'Location']\n",
    "    for s in soup.find_all('h2'):\n",
    "        if s.text.strip() in fields:\n",
    "            lst = s.parent.find_all('p') + s.parent.find_all('li')\n",
    "            if len(lst)>0:\n",
    "                data[s.text.strip()] = [ ';'.join([ p.text.strip() for p in lst]) ]\n",
    "    return data"
   ]
  },
  {
   "cell_type": "code",
   "execution_count": 380,
   "metadata": {
    "ExecuteTime": {
     "end_time": "2018-01-18T21:17:59.107186",
     "start_time": "2018-01-18T21:17:59.033909"
    },
    "collapsed": false,
    "scrolled": false
   },
   "outputs": [
    {
     "data": {
      "text/plain": [
       "[<a href=\"https://robinson.gsu.edu/cac/\" itemprop=\"url\">Career Advancement Center</a>,\n",
       " <a href=\"https://robinson.gsu.edu/admissions/scholarships/\" itemprop=\"url\">Scholarships</a>,\n",
       " <a href=\"https://robinson.gsu.edu/student-clubs/\" itemprop=\"url\">Student Organizations and Clubs</a>,\n",
       " <a href=\"https://robinson.gsu.edu/laptop-recommendation/\" itemprop=\"url\">What kind of laptop do I need?</a>,\n",
       " <a href=\"https://robinson.gsu.edu/undergraduate-student-resources/\" itemprop=\"url\">Undergraduate Student Resources</a>]"
      ]
     },
     "execution_count": 380,
     "metadata": {},
     "output_type": "execute_result"
    }
   ],
   "source": [
    "def only_rbc(url):\n",
    "    return (url.find('://robinson.gsu.edu')>0) | (url[0]=='/')\n",
    "\n"
   ]
  },
  {
   "cell_type": "code",
   "execution_count": null,
   "metadata": {
    "collapsed": true
   },
   "outputs": [],
   "source": []
  },
  {
   "cell_type": "code",
   "execution_count": null,
   "metadata": {
    "collapsed": true
   },
   "outputs": [],
   "source": []
  },
  {
   "cell_type": "code",
   "execution_count": 342,
   "metadata": {
    "ExecuteTime": {
     "end_time": "2018-01-18T20:47:15.498491",
     "start_time": "2018-01-18T20:47:15.487583"
    },
    "collapsed": false
   },
   "outputs": [
    {
     "data": {
      "text/plain": [
       "[<h2 class=\"program-tagline\">Rub Elbows with Talented Leaders</h2>]"
      ]
     },
     "execution_count": 342,
     "metadata": {},
     "output_type": "execute_result"
    }
   ],
   "source": [
    "soup2.select('#genesis-content > article > div > div')[0].find_all('h2')"
   ]
  },
  {
   "cell_type": "code",
   "execution_count": null,
   "metadata": {
    "collapsed": true
   },
   "outputs": [],
   "source": []
  },
  {
   "cell_type": "code",
   "execution_count": null,
   "metadata": {
    "collapsed": true
   },
   "outputs": [],
   "source": []
  },
  {
   "cell_type": "code",
   "execution_count": null,
   "metadata": {
    "collapsed": true
   },
   "outputs": [],
   "source": []
  },
  {
   "cell_type": "code",
   "execution_count": null,
   "metadata": {
    "collapsed": true
   },
   "outputs": [],
   "source": []
  },
  {
   "cell_type": "markdown",
   "metadata": {},
   "source": [
    "##  Maintaining a Queue\n",
    "We're going to follow any link that indicates more information. Since there is **no guaranty** that page references will not create a cycle, we need to keep track of all visited pages."
   ]
  },
  {
   "cell_type": "code",
   "execution_count": 394,
   "metadata": {
    "ExecuteTime": {
     "end_time": "2018-01-18T21:28:49.635489",
     "start_time": "2018-01-18T21:28:49.632662"
    },
    "collapsed": true
   },
   "outputs": [],
   "source": [
    "sleep_time = 13"
   ]
  },
  {
   "cell_type": "code",
   "execution_count": 426,
   "metadata": {
    "ExecuteTime": {
     "end_time": "2018-01-18T21:55:41.166801",
     "start_time": "2018-01-18T21:55:34.138989"
    },
    "collapsed": false
   },
   "outputs": [
    {
     "name": "stdout",
     "output_type": "stream",
     "text": [
      "https://robinson.gsu.edu/academic-programs/\n",
      "131\n"
     ]
    }
   ],
   "source": [
    "seed = 'https://robinson.gsu.edu/academic-programs/'\n",
    "queue = {}\n",
    "print seed\n",
    "soup = load_robinson_soup(seed)\n",
    "for a in filter(lambda a: only_rbc(a['href']), soup.findAll('a', href=True)):\n",
    "    if a['href'][0]=='/':\n",
    "        pc = ul.urlparse.urlsplit(seed)\n",
    "        ##print pc.scheme+'://'+pc.hostname+a['href']  \n",
    "        queue[pc.scheme+'://'+pc.hostname+a['href']] = 1\n",
    "    else:\n",
    "        queue[a['href']] = 1\n",
    "queue[seed] = 0\n",
    "print len(queue.keys())"
   ]
  },
  {
   "cell_type": "code",
   "execution_count": 421,
   "metadata": {
    "ExecuteTime": {
     "end_time": "2018-01-18T21:51:15.498682",
     "start_time": "2018-01-18T21:51:15.485602"
    },
    "collapsed": false
   },
   "outputs": [],
   "source": [
    "def add_links_to_queue(soup, url):\n",
    "    global queue\n",
    "    for a in filter(lambda a: only_rbc(a['href']), soup.findAll('a', href=True)):\n",
    "        if a['href'][0]=='/':\n",
    "            pc = ul.urlparse.urlsplit(url)\n",
    "            ##print pc.scheme+'://'+pc.hostname+a['href']  \n",
    "            qk = pc.scheme+'://'+pc.hostname+a['href']\n",
    "        else:\n",
    "            qk = a['href']\n",
    "        if not qk in queue.keys():\n",
    "            queue[qk] = 1\n",
    "        "
   ]
  },
  {
   "cell_type": "code",
   "execution_count": 432,
   "metadata": {
    "ExecuteTime": {
     "end_time": "2018-01-18T23:51:27.300098",
     "start_time": "2018-01-18T21:57:15.246656"
    },
    "collapsed": false,
    "scrolled": true
   },
   "outputs": [
    {
     "name": "stdout",
     "output_type": "stream",
     "text": [
      "Remaining 131\tTrying https://robinson.gsu.edu/faculty/\n",
      "Remaining 132\tTrying https://robinson.gsu.edu/academic-programs/find-your-program/\n",
      "Remaining 132\tTrying https://robinson.gsu.edu/dual-degree-programs/\n",
      "Remaining 138\tTrying https://robinson.gsu.edu/alumni/contact-us/\n",
      "Remaining 137\tTrying https://robinson.gsu.edu/admissions/\n",
      "Remaining 139\tTrying https://robinson.gsu.edu/about/board-of-advisors/\n",
      "Remaining 138\tTrying https://robinson.gsu.edu/academic-departments/marketing/faculty/cbim/\n",
      "Remaining 143\tTrying http://robinson.gsu.edu/\n",
      "Remaining 268\tTrying http://robinson.gsu.edu/undergraduate/\n",
      "{u'Duration': [nan], u'Format': [nan], u'Location': [nan], u'Tuition': [nan], u'Title': [u'Undergraduate Programs']}\n",
      "Remaining 284\tTrying http://robinson.gsu.edu/graduate-student-resources/\n",
      "Remaining 284\tTrying http://robinson.gsu.edu/undergraduate/areas-of-study/business-economics/\n",
      "Remaining 284\tTrying http://robinson.gsu.edu/essential_grid/sensi-charlery-b-b-18/\n",
      "Remaining 283\tTrying http://robinson.gsu.edu/academic-departments/computer-information-systems/\n",
      "Remaining 291\tTrying http://robinson.gsu.edu/faculty/faculty-development-committee/\n",
      "Remaining 290\tTrying http://robinson.gsu.edu/about/rankings/\n",
      "Remaining 289\tTrying http://robinson.gsu.edu/academic-departments/marketing/faculty/cbim/\n",
      "Remaining 294\tTrying http://robinson.gsu.edu/corporate-connections/\n",
      "Remaining 295\tTrying http://robinson.gsu.edu/cac/events/panthership/\n",
      "Remaining 307\tTrying http://robinson.gsu.edu/cac/faqs/\n",
      "Remaining 308\tTrying http://robinson.gsu.edu/files/2017/02/graduate-career-guide.pdf\n",
      "HTTP Error 404: Not Found\n",
      "Remaining 307\tTrying http://robinson.gsu.edu/faculty/recognized-faculty/\n",
      "Remaining 306\tTrying http://robinson.gsu.edu/masters-programs/\n",
      "Remaining 320\tTrying http://robinson.gsu.edu/undergraduate/areas-of-study/entrepreneurship/\n",
      "Remaining 322\tTrying http://robinson.gsu.edu/academic-departments/entrepreneurship-and-innovation/\n",
      "Remaining 332\tTrying http://robinson.gsu.edu/about/news-center/\n",
      "Remaining 332\tTrying http://robinson.gsu.edu/undergraduate/areas-of-study/marketing/\n",
      "Remaining 332\tTrying http://robinson.gsu.edu/corporate-connections/advisory-boards/real-estate/\n",
      "Remaining 331\tTrying https://robinson.gsu.edu/academic-departments/marketing/\n",
      "Remaining 331\tTrying https://robinson.gsu.edu/graduate-programs\n",
      "Remaining 331\tTrying https://robinson.gsu.edu/mentoring-programs/\n",
      "Remaining 333\tTrying http://robinson.gsu.edu/alumni/clubs/\n",
      "Remaining 334\tTrying http://robinson.gsu.edu/academic-departments/\n",
      "Remaining 333\tTrying https://robinson.gsu.edu/undergraduate-student-resources/computer-skills-prerequisites/\n",
      "Remaining 332\tTrying http://robinson.gsu.edu/masters-programs/ms-in-managerial-sciences\n",
      "{u'Duration': [u'One year'], u'Format': [u'Cohort'], u'Location': [u'Buckhead Center'], u'Tuition': [u'Georgia residents: $37,500;Non-Ga. residents: $42,500'], u'Title': [u'Master of Science in Managerial Sciences']}\n",
      "Remaining 341\tTrying http://robinson.gsu.edu/masters-programs/ms-in-managerial-sciences/about/faqs/\n",
      "Remaining 340\tTrying http://robinson.gsu.edu/department/computer-information-systems/\n",
      "Remaining 379\tTrying http://robinson.gsu.edu/department/center-for-excellence-in-brand-customer-management/\n",
      "Remaining 379\tTrying http://robinson.gsu.edu/department/deans-office/\n",
      "Remaining 383\tTrying http://robinson.gsu.edu/profile/andrea-aria/\n",
      "Remaining 383\tTrying http://robinson.gsu.edu/tag/a/\n",
      "Remaining 389\tTrying http://robinson.gsu.edu/faculty/faculty-resources/\n",
      "Remaining 391\tTrying http://robinson.gsu.edu/files/2017/07/admin-cal-16-17.xlsx\n",
      "HTTP Error 404: Not Found\n",
      "Remaining 390\tTrying http://robinson.gsu.edu/files/2017/07/RCB-Committees17-18.doc\n",
      "Remaining 389\tTrying https://robinson.gsu.edu/doctoral-programs/executive-doctorate-in-business/\n",
      "HTTP Error 404: Not Found\n",
      "Remaining 388\tTrying https://robinson.gsu.edu/immersive-experiential-learning/honors-program/apply/\n",
      "Remaining 392\tTrying https://robinson.gsu.edu/admissions/transfer/\n",
      "Remaining 392\tTrying http://robinson.gsu.edu/profile/barry-west/\n",
      "Remaining 392\tTrying http://robinson.gsu.edu/cac/\n",
      "{u'Duration': [nan], u'Format': [nan], u'Location': [nan], u'Tuition': [nan], u'Title': [u'Career Advancement Center']}\n",
      "Remaining 402\tTrying http://robinson.gsu.edu/masters-programs/ms-in-marketing/\n",
      "{u'Duration': [u'One year'], u'Format': [u'Cohort'], u'Location': [u'Buckhead Center'], u'Tuition': [u'Georgia residents: $37,500;Non-Ga. residents: $42,500'], u'Title': [u'Master of Science in Marketing']}\n",
      "Remaining 410\tTrying http://robinson.gsu.edu/department/real-estate/\n",
      "Remaining 412\tTrying http://robinson.gsu.edu/files/2017/11/2017-2018-Entrepreneurship-Guide-Check-List-Updated-Final.pdf\n",
      "Remaining 411\tTrying http://robinson.gsu.edu/masters-programs/ms-in-analytics/about/dual-degrees/#1508168946846-d23f9eec-7014\n",
      "Remaining 421\tTrying http://robinson.gsu.edu/masters-programs/ms-in-analytics/about/class-profile/\n",
      "Remaining 420\tTrying http://robinson.gsu.edu/corporate-connections/roundtables/corporate-intellectual-property-roundtable/\n",
      "Remaining 419\tTrying http://robinson.gsu.edu/profile/jon-wiley/\n",
      "Remaining 419\tTrying http://robinson.gsu.edu/masters-programs/ms-in-analytics/contact-us/\n",
      "Remaining 418\tTrying http://robinson.gsu.edu/files/2017/10/RCBCACGenandContactInfo17-18-UPDATED1.pdf\n",
      "Remaining 417\tTrying http://robinson.gsu.edu/undergraduate-student-resources/forms/eni-class-authorization/\n",
      "Remaining 416\tTrying http://robinson.gsu.edu/department/health-administration/\n",
      "Remaining 423\tTrying https://robinson.gsu.edu/about/news-center/\n",
      "Remaining 423\tTrying https://robinson.gsu.edu/doctoral-programs/phd/\n",
      "HTTP Error 404: Not Found\n",
      "Remaining 422\tTrying http://robinson.gsu.edu/about/board-of-advisors/\n",
      "Remaining 421\tTrying http://robinson.gsu.edu/masters-programs/ms-in-analytics/tuition-and-financing/\n",
      "Remaining 421\tTrying https://robinson.gsu.edu/graduate-student-resources/buckhead/\n",
      "Remaining 422\tTrying http://robinson.gsu.edu/faculty/robinson-research-workshops/\n",
      "Remaining 421\tTrying http://robinson.gsu.edu/files/2013/05/CV-Wiley.pdf\n",
      "Remaining 420\tTrying https://robinson.gsu.edu/academic-departments/marketing/marketing-alumni-club-mac/\n",
      "Remaining 419\tTrying https://robinson.gsu.edu/faculty/buckhead/\n",
      "Remaining 418\tTrying http://robinson.gsu.edu/masters-programs/master-of-global-hospitality-management/\n",
      "{u'Duration': [u'12 months,\\nthree semesters'], u'Format': [u'Cohort'], u'Location': [u'Buckhead Center'], u'Tuition': [u'Georgia residents: $37,500;Non-Ga. residents: $42,500'], u'Title': [u'Regynald G. Washington Master of Global Hospitality Management']}\n",
      "Remaining 426\tTrying http://robinson.gsu.edu/files/2017/12/Buckhead-Center-Class-Schedule-Spring-2018.pdf\n",
      "Remaining 425\tTrying http://robinson.gsu.edu/files/2017/01/checksheet-business-econ.pdf\n",
      "Remaining 424\tTrying https://robinson.gsu.edu/cac/panthers-in-the-valley/student-application/\n",
      "Remaining 436\tTrying https://robinson.gsu.edu/cac/graduate/\n",
      "Remaining 438\tTrying http://robinson.gsu.edu/category/eni-events/\n",
      "Remaining 449\tTrying http://robinson.gsu.edu/phd/\n",
      "{u'Duration': [u'Typically 5 years'], u'Format': [u'Full-time, in-residence'], u'Location': [u'Downtown or Buckhead\\nCheck with your coordinator.'], u'Tuition': [u'Students typically receive tuition waivers and stipends to cover living expenses.'], u'Title': [u'Ph.D. Programs']}\n",
      "Remaining 469\tTrying http://robinson.gsu.edu/phd/areas-of-study/finance/\n",
      "Remaining 468\tTrying https://robinson.gsu.edu/corporate-connections/\n",
      "Remaining 467\tTrying https://robinson.gsu.edu/faculty/reserve-a-room/\n",
      "Remaining 468\tTrying https://robinson.gsu.edu/graduate-student-resources/graduate-assistantships/\n",
      "Remaining 470\tTrying http://robinson.gsu.edu/profile/wael-jabr/\n",
      "Remaining 471\tTrying http://robinson.gsu.edu/tag/j/\n",
      "Remaining 472\tTrying http://robinson.gsu.edu/files/2017/06/wael-jabr-cv.pdf\n",
      "Remaining 471\tTrying http://robinson.gsu.edu/masters-programs/ms-in-managerial-sciences/\n",
      "{u'Duration': [u'One year'], u'Format': [u'Cohort'], u'Location': [u'Buckhead Center'], u'Tuition': [u'Georgia residents: $37,500;Non-Ga. residents: $42,500'], u'Title': [u'Master of Science in Managerial Sciences']}\n",
      "Remaining 470\tTrying http://robinson.gsu.edu/category/mghm/\n",
      "Remaining 474\tTrying http://robinson.gsu.edu/2015/08/hospitality-gift/\n",
      "Remaining 473\tTrying http://robinson.gsu.edu/immersive-experiential-learning/honors-program/\n",
      "{u'Duration': [u'Two years (junior and senior year)'], u'Format': [u'Cohort'], u'Location': [u'Downtown Campus'], u'Tuition': [nan], u'Title': [u'Honors Program']}\n",
      "Remaining 477\tTrying http://robinson.gsu.edu/cac/panthership/\n",
      "HTTP Error 404: Not Found\n",
      "Remaining 476\tTrying http://robinson.gsu.edu/mba-programs/\n",
      "Remaining 482\tTrying http://robinson.gsu.edu/mba-programs/flex-mba/\n",
      "{u'Duration': [u'Flexible (2.5-5 years)'], u'Format': [u'Part-time or full-time'], u'Location': [u'Buckhead, downtown'], u'Tuition': [u'Georgia residents: $37,878\\nNon-Ga. residents: $81,594'], u'Title': [u'Flex MBA']}\n",
      "Remaining 491\tTrying http://robinson.gsu.edu/mba-programs/flex-mba/contact-us/\n",
      "Remaining 490\tTrying http://robinson.gsu.edu/mba-programs/flex-mba/about/faculty/\n",
      "Remaining 518\tTrying http://robinson.gsu.edu/profile/christopher-j-fenn/\n",
      "Remaining 519\tTrying http://robinson.gsu.edu/profile/peter-zhang/\n",
      "Remaining 519\tTrying http://robinson.gsu.edu/profile/deborah-s-butler/\n",
      "Remaining 519\tTrying http://robinson.gsu.edu/profile/scott-murray/\n",
      "Remaining 520\tTrying http://robinson.gsu.edu/profile/john-p-thielman/\n",
      "Remaining 520\tTrying https://robinson.gsu.edu/alumni/clubs/\n",
      "Remaining 521\tTrying https://robinson.gsu.edu/academic-departments/hospitality/alumni/\n",
      "Remaining 529\tTrying http://robinson.gsu.edu/profile/charles-s-shapiro/\n",
      "Remaining 529\tTrying http://robinson.gsu.edu/profile/steven-s-dionne/\n",
      "Remaining 529\tTrying http://robinson.gsu.edu/phd/areas-of-study/managerial-sciences/\n",
      "Remaining 528\tTrying http://robinson.gsu.edu/academic-departments/risk-management-and-insurance/\n",
      "Remaining 538\tTrying http://robinson.gsu.edu/academic-departments/risk-management-and-insurance/about/\n",
      "Remaining 537\tTrying http://robinson.gsu.edu/academic-departments/risk-management-and-insurance/about/quarterly-recap/\n",
      "Remaining 536\tTrying https://robinson.gsu.edu/academic-departments/health-administration/\n",
      "Remaining 541\tTrying http://robinson.gsu.edu/profile/daniel-montanera/\n",
      "Remaining 540\tTrying http://robinson.gsu.edu/academic-departments/computer-information-systems/student-resources/internships/\n",
      "Remaining 546\tTrying http://robinson.gsu.edu/files/2017/06/cv-fenn.pdf\n",
      "Remaining 545\tTrying http://robinson.gsu.edu/masters-programs/master-of-actuarial-science/\n",
      "{u'Duration': [u'Flexible'], u'Format': [u'Full Time or Part Time'], u'Location': [u'Downtown Campus and Buckhead Campus'], u'Tuition': [u'Georgia residents: $21,524;Non-Ga. residents: $45,794'], u'Title': [u'Master of Actuarial Science']}\n",
      "Remaining 553\tTrying http://robinson.gsu.edu/masters-programs/master-of-actuarial-science/application-process/\n",
      "Remaining 553\tTrying http://robinson.gsu.edu/masters-programs/master-of-actuarial-science/contact-us/\n",
      "Remaining 552\tTrying https://robinson.gsu.edu/academic-departments/real-estate/\n",
      "Remaining 560\tTrying https://robinson.gsu.edu/2018/01/daniel-connor-m-b/\n",
      "Remaining 560\tTrying https://robinson.gsu.edu/academic-departments/real-estate/contact-us/\n",
      "Remaining 559\tTrying https://robinson.gsu.edu/cac/panthers-in-the-valley/\n",
      "Remaining 559\tTrying http://robinson.gsu.edu/immersive-experiential-learning/honors-program/about/\n",
      "Remaining 558\tTrying http://robinson.gsu.edu/department/secondary-appointment-college-of-law/\n",
      "Remaining 558\tTrying https://robinson.gsu.edu/alumni/alumni-stories/\n",
      "Remaining 565\tTrying https://robinson.gsu.edu/2017/06/lawrence-le/\n",
      "HTTP Error 307: Temporary Redirect\n",
      "Remaining 564\tTrying https://robinson.gsu.edu/2017/08/christian-zimmerman-hell-get-debt/\n",
      "Remaining 566\tTrying https://robinson.gsu.edu/academic-departments/\n",
      "Remaining 565\tTrying http://robinson.gsu.edu/phd/areas-of-study/accountancy/\n",
      "Remaining 564\tTrying http://robinson.gsu.edu/2017/10/entrepreneurs-for-good/\n",
      "Remaining 563\tTrying https://robinson.gsu.edu/immersive-experiential-learning/honors-program/about/\n",
      "Remaining 562\tTrying http://robinson.gsu.edu/profile/douglas-battleson/\n",
      "Remaining 561\tTrying http://robinson.gsu.edu/emba\n",
      "{u'Duration': [u'17 months starting every August'], u'Format': [u'Cohort, classes every other weekend\\nFriday afternoon and all day Saturday'], u'Location': [u'Georgia State\\u2019s Buckhead Center, Tower Place 200'], u'Tuition': [u'Georgia residents: $69,500;Non-Ga. residents: $74,500'], u'Title': [u'Executive MBA']}\n",
      "Remaining 573\tTrying http://robinson.gsu.edu/mba-programs/emba/about/class-profile/\n",
      "Remaining 572\tTrying https://robinson.gsu.edu/about/robinson-stories/\n",
      "Remaining 583\tTrying https://robinson.gsu.edu/2017/09/leigh-anne-liu-negotiator/\n",
      "Remaining 584\tTrying https://robinson.gsu.edu/2017/09/pamela-s-barr-strategist/\n",
      "Remaining 584\tTrying https://robinson.gsu.edu/2017/12/travis-hewell/\n",
      "Remaining 584\tTrying https://robinson.gsu.edu/2017/09/andrew-t-sumner-diagnostician/\n",
      "Remaining 583\tTrying https://robinson.gsu.edu/files/2017/02/RCB_codes.pdf\n",
      "Remaining 582\tTrying http://robinson.gsu.edu/admissions/scholarships/#studyabroad\n",
      "Remaining 587\tTrying http://robinson.gsu.edu/international-applicants/\n",
      "Remaining 586\tTrying http://robinson.gsu.edu/cac/panthers-in-dc/\n",
      "Remaining 586\tTrying http://robinson.gsu.edu/corporate-connections/advisory-boards/health-administration/\n",
      "Remaining 585\tTrying https://robinson.gsu.edu/graduate-student-resources/responsible-conduct-in-research/\n",
      "Remaining 584\tTrying http://robinson.gsu.edu/profile/perry-z-binder/\n",
      "Remaining 583\tTrying https://robinson.gsu.edu/academic-departments/insight\n",
      "Remaining 595\tTrying https://robinson.gsu.edu/academic-departments/insight/what-we-do/insight-sprints/\n",
      "Remaining 594\tTrying https://robinson.gsu.edu/category/insight/\n",
      "Remaining 606\tTrying https://robinson.gsu.edu/academic-departments/insight/contact-us/\n",
      "Remaining 605\tTrying https://robinson.gsu.edu/2016/02/dual-degrees/\n",
      "Remaining 604\tTrying https://robinson.gsu.edu/category/news/\n",
      "Remaining 620\tTrying https://robinson.gsu.edu/category/eni/\n",
      "Remaining 630\tTrying https://robinson.gsu.edu/2017/11/robinson-college-honors-six-alumni-awards-celebration/\n",
      "Remaining 630\tTrying https://robinson.gsu.edu/2017/09/three-robinson-undergraduate-programs-among-nations-best-latest-u-s-news-rankings2/\n",
      "Remaining 629\tTrying https://robinson.gsu.edu/category/alumni-news/\n",
      "Remaining 637\tTrying https://robinson.gsu.edu/2013/02/alumni-in-the-news-february-2013/\n",
      "Remaining 636\tTrying https://robinson.gsu.edu/academic-departments/insight/about/network/\n",
      "Remaining 635\tTrying https://robinson.gsu.edu/category/msha/\n",
      "Remaining 635\tTrying https://robinson.gsu.edu/masters-programs/ms-in-analytics/\n",
      "Remaining 648\tTrying https://robinson.gsu.edu/masters-programs/ms-in-analytics/about/leadership/\n",
      "Remaining 653\tTrying https://robinson.gsu.edu/masters-programs/ms-in-analytics/about/concentrations/\n",
      "Remaining 657\tTrying https://robinson.gsu.edu/masters-programs/ms-in-analytics/contact-us/\n",
      "Remaining 656\tTrying https://robinson.gsu.edu/2017/11/changing-face-entrepreneurship-eni-co-sponsors-burdells-school-entrepreneurship-conference/\n",
      "Remaining 657\tTrying https://robinson.gsu.edu/2013/04/alumni-in-the-news-april-2013/\n",
      "Remaining 656\tTrying http://robinson.gsu.edu/profile/curtis-carver-jr/\n",
      "Remaining 656\tTrying http://robinson.gsu.edu/about/social/\n",
      "Remaining 655\tTrying https://robinson.gsu.edu/academic-departments/insight/what-we-do/fintech-lab/\n",
      "Remaining 659\tTrying http://robinson.gsu.edu/phd/about/students-on-the-job-market/\n",
      "Remaining 696\tTrying http://robinson.gsu.edu/files/2017/02/alan-yang.pdf\n",
      "Remaining 695\tTrying http://robinson.gsu.edu/files/2017/02/sayed-almohri.pdf\n",
      "Remaining 694\tTrying http://robinson.gsu.edu/files/2017/02/anna-zabinski-cv.pdf\n",
      "Remaining 693\tTrying http://robinson.gsu.edu/files/2017/02/haitao-huang-cv.pdf\n",
      "HTTP Error 404: Not Found\n",
      "Remaining 692\tTrying http://robinson.gsu.edu/files/2017/02/ryan-currie-cv.pdf\n",
      "Remaining 691\tTrying http://robinson.gsu.edu/files/2017/02/joshua-madden.pdf\n",
      "Remaining 690\tTrying http://robinson.gsu.edu/files/2017/02/rucha-rane-cv.pdf\n",
      "Remaining 689\tTrying https://robinson.gsu.edu/about/the-robinson-experience/\n",
      "Remaining 688\tTrying http://robinson.gsu.edu/immersive-experiential-learning/panthers-on-wall-street/\n",
      "{u'Duration': [u'Training:\\xa0February-September;Trip:\\xa0four days in September'], u'Format': [u'A group of 16-18 students'], u'Location': [u'Training:\\xa0Downtown Campus;Trip:\\xa0New York City'], u'Tuition': [nan], u'Title': [u'Panthers on Wall Street']}\n",
      "Remaining 696\tTrying http://robinson.gsu.edu/immersive-experiential-learning/panthers-on-wall-street/about/sample-schedule/\n",
      "Remaining 695\tTrying http://robinson.gsu.edu/immersive-experiential-learning/panthers-on-wall-street/about/\n",
      "Remaining 694\tTrying http://robinson.gsu.edu/immersive-experiential-learning/panthers-on-wall-street/alumni/\n",
      "HTTP Error 307: Temporary Redirect\n",
      "Remaining 693\tTrying http://robinson.gsu.edu/immersive-experiential-learning/panthers-on-wall-street/meet-2017-panthers-wall-st-cohort/\n",
      "Remaining 692\tTrying http://robinson.gsu.edu/immersive-experiential-learning/panthers-on-wall-street/about/companies/\n",
      "Remaining 691\tTrying http://robinson.gsu.edu/profile/rajeev-dhawan/\n",
      "Remaining 691\tTrying https://robinson.gsu.edu/cac/employers/\n",
      "Remaining 690\tTrying http://robinson.gsu.edu/mba-programs/emba/alumni/leadership-exchange-program/\n",
      "Remaining 691\tTrying http://robinson.gsu.edu/files/2017/02/jingting-liu-cv.pdf\n",
      "Remaining 690\tTrying http://robinson.gsu.edu/tag/m/\n",
      "Remaining 696\tTrying http://robinson.gsu.edu/profile/isabelle-monlouis/\n",
      "Remaining 695\tTrying http://robinson.gsu.edu/profile/michael-majerczyk/\n",
      "Remaining 694\tTrying https://robinson.gsu.edu/academic-departments/health-administration/faculty/center-for-health-services-research/\n",
      "Remaining 693\tTrying https://robinson.gsu.edu/faculty/research-workshops/\n",
      "Remaining 692\tTrying http://robinson.gsu.edu/profile/robert-mayberry/\n",
      "Remaining 691\tTrying https://robinson.gsu.edu/corporate-connections/roundtables/financial-leadership-network/\n",
      "Remaining 690\tTrying http://robinson.gsu.edu/masters-programs/ms-in-managerial-sciences/about/curriculum/\n",
      "Remaining 689\tTrying https://robinson.gsu.edu/international-programs/\n",
      "Remaining 688\tTrying http://robinson.gsu.edu/files/2017/02/yukun-yang-cv.pdf\n",
      "Remaining 687\tTrying https://robinson.gsu.edu/2017/11/sarah-crumbley-finding-solutions/\n",
      "Remaining 686\tTrying https://robinson.gsu.edu/files/2017/02/gra-application.doc\n",
      "Remaining 685\tTrying https://robinson.gsu.edu/2017/10/navigating-path-entrepreneurship-sharmeen-hawkins-breaks-entrepreneurship/\n",
      "Remaining 685\tTrying https://robinson.gsu.edu/2017/10/navigating-path-entrepreneurship-sharmeen-hawkins-breaks-entrepreneurship/?page=2\n",
      "Remaining 685\tTrying https://robinson.gsu.edu/corporate-connections/roundtables/hr-executive-roundtable/\n",
      "Remaining 684\tTrying https://robinson.gsu.edu/undergraduate/admissions/\n",
      "Remaining 699\tTrying https://robinson.gsu.edu/undergraduate/admissions/faqs/\n",
      "Remaining 703\tTrying https://robinson.gsu.edu/undergraduate/areas-of-study/actuarial-science/\n",
      "Remaining 703\tTrying https://robinson.gsu.edu/files/2017/02/change_college.pdf\n",
      "Remaining 702\tTrying http://robinson.gsu.edu/mentoring-programs/\n",
      "Remaining 701\tTrying https://robinson.gsu.edu/category/msmkt/\n",
      "Remaining 702\tTrying http://robinson.gsu.edu/advancing-vision-2020/\n",
      "Remaining 704\tTrying http://robinson.gsu.edu/profile/vincent-yao/\n",
      "Remaining 704\tTrying https://robinson.gsu.edu/immersive-experiential-learning/pace/\n",
      "{u'Duration': [u'One semester, 3 credit hours'], u'Format': [u'Teams of 3-5 students'], u'Location': [u'Downtown Campus'], u'Tuition': [u'No additional cost'], u'Title': [u'Panthers Accelerated Career Experience']}\n",
      "Remaining 710\tTrying http://robinson.gsu.edu/apply-now\n",
      "Remaining 709\tTrying https://robinson.gsu.edu/immersive-experiential-learning/womenlead/\n",
      "{u'Duration': [u'One semester'], u'Format': [u'Three courses, up to 25 students in each'], u'Location': [u'Atlanta\\xa0Campus'], u'Tuition': [nan], u'Title': [u'WomenLead']}\n",
      "Remaining 715\tTrying https://robinson.gsu.edu/immersive-experiential-learning/womenlead/about/\n",
      "Remaining 714\tTrying https://robinson.gsu.edu/immersive-experiential-learning/womenlead/courses/science/\n",
      "Remaining 713\tTrying http://robinson.gsu.edu/corporate-connections/advisory-boards/\n",
      "Remaining 712\tTrying http://robinson.gsu.edu/profile/vikas-agarwal/\n",
      "Remaining 712\tTrying http://robinson.gsu.edu/top-students/beta-gamma-sigma/\n",
      "Remaining 711\tTrying http://robinson.gsu.edu/profile/william-n-robinson/\n",
      "Remaining 712\tTrying http://robinson.gsu.edu/about/robinson-stories/\n",
      "Remaining 726\tTrying http://robinson.gsu.edu/2017/11/arthur-kiboit-competitive-edge/\n",
      "Remaining 726\tTrying http://robinson.gsu.edu/2017/10/kenneth-wright-jr-pitch-competition-success/\n",
      "Remaining 729\tTrying http://robinson.gsu.edu/2017/11/vaughn-irons/\n",
      "Remaining 728\tTrying http://robinson.gsu.edu/category/robinson-stories/robinson-stories-students/\n",
      "Remaining 735\tTrying https://robinson.gsu.edu/undergraduate/admissions/transfer-student-faqs/\n",
      "Remaining 735\tTrying https://robinson.gsu.edu/top-students/honors-day/\n",
      "Remaining 734\tTrying http://robinson.gsu.edu/tag/d/\n",
      "Remaining 740\tTrying http://robinson.gsu.edu/profile/evaristo-f-doria/\n",
      "Remaining 739\tTrying http://robinson.gsu.edu/profile/naveen-donthu/\n",
      "Remaining 738\tTrying http://robinson.gsu.edu/category/robinson-stories/robinson-stories-alumni/\n",
      "Remaining 743\tTrying http://robinson.gsu.edu/2016/09/tom_matthesen/\n",
      "Remaining 742\tTrying http://robinson.gsu.edu/category/alumni-news/\n",
      "Remaining 752\tTrying http://robinson.gsu.edu/2012/12/alumni-in-the-news-december-2012/\n",
      "Remaining 751\tTrying http://robinson.gsu.edu/2013/04/alumni-in-the-news-april-2013/\n",
      "Remaining 750\tTrying http://robinson.gsu.edu/2012/11/alumni-in-the-news-november-2012/\n",
      "HTTP Error 307: Temporary Redirect\n",
      "Remaining 749\tTrying http://robinson.gsu.edu/category/alumni-awards/\n",
      "Remaining 753\tTrying https://robinson.gsu.edu/corporate-connections/advisory-boards/real-estate/\n",
      "Remaining 752\tTrying https://robinson.gsu.edu/about/\n",
      "Remaining 751\tTrying https://robinson.gsu.edu/masters-programs/ms-in-real-estate/about/faculty/\n",
      "Remaining 762\tTrying https://robinson.gsu.edu/masters-programs/ms-in-real-estate/about/course-descriptions/\n",
      "Remaining 761\tTrying https://robinson.gsu.edu/masters-programs/ms-in-real-estate/about/class-profile/\n",
      "Remaining 760\tTrying https://robinson.gsu.edu/masters-programs/ms-in-real-estate/\n",
      "{u'Duration': [u'12 months,\\nthree semesters'], u'Format': [u'Cohort'], u'Location': [u'Buckhead Center'], u'Tuition': [u'Georgia residents: $37,500;Non-Ga. residents: $42,500'], u'Title': [u'Master of Science in Real Estate']}\n",
      "Remaining 760\tTrying https://robinson.gsu.edu/masters-programs/ms-in-real-estate/contact-us/\n",
      "Remaining 759\tTrying http://robinson.gsu.edu/profile/richard-j-welke/\n",
      "Remaining 758\tTrying https://robinson.gsu.edu/2017/10/entrepreneurs-for-good/\n",
      "Remaining 757\tTrying http://robinson.gsu.edu/graduate-mentoring-program/\n",
      "Remaining 757\tTrying http://robinson.gsu.edu/about/contact-us/\n",
      "Remaining 756\tTrying http://robinson.gsu.edu/profile/david-r-beard/\n",
      "Remaining 756\tTrying http://robinson.gsu.edu/files/2017/06/dbeard.pdf\n",
      "Remaining 755\tTrying http://robinson.gsu.edu/profile/yu-kai-lin/\n",
      "Remaining 756\tTrying http://robinson.gsu.edu/tag/l/\n",
      "Remaining 761\tTrying http://robinson.gsu.edu/profile/jeremy-lill/\n",
      "Remaining 761\tTrying http://robinson.gsu.edu/files/2017/06/cv-lill.pdf\n",
      "HTTP Error 404: Not Found\n",
      "Remaining 760\tTrying http://robinson.gsu.edu/masters-programs/ms-in-managerial-sciences/about/faculty/\n",
      "Remaining 763\tTrying http://robinson.gsu.edu/profile/nikos-dimotakis/\n",
      "HTTP Error 404: Not Found\n",
      "Remaining 762\tTrying http://robinson.gsu.edu/profile/wenjun-wen-gu/\n",
      "Remaining 762\tTrying https://robinson.gsu.edu/immersive-experiential-learning/honors-program/contact-us/\n",
      "Remaining 761\tTrying http://robinson.gsu.edu/profile/upkar-varshney/\n",
      "Remaining 762\tTrying http://robinson.gsu.edu/tag/v/\n",
      "Remaining 765\tTrying http://robinson.gsu.edu/profile/deepa-varadarajan/\n",
      "Remaining 765\tTrying http://robinson.gsu.edu/profile/hamid-vahidnia/\n",
      "Remaining 764\tTrying http://robinson.gsu.edu/files/2017/06/varshney-cv.pdf\n",
      "Remaining 763\tTrying http://robinson.gsu.edu/2017/08/sana-ali/\n",
      "Remaining 762\tTrying http://robinson.gsu.edu/immersive-experiential-learning/honors-program/apply/\n",
      "Remaining 761\tTrying http://robinson.gsu.edu/about/message-from-the-dean/\n",
      "Remaining 760\tTrying http://robinson.gsu.edu/profile/alok-r-saboo/\n",
      "Remaining 759\tTrying http://robinson.gsu.edu/phd/contact-us/\n",
      "Remaining 758\tTrying https://robinson.gsu.edu/2017/09/womenlead-attaining-goals/\n",
      "Remaining 757\tTrying http://robinson.gsu.edu/masters-programs/master-of-global-hospitality-management/about/curriculum/\n",
      "Remaining 756\tTrying https://robinson.gsu.edu/immersive-experiential-learning/womenlead/courses/business/\n",
      "Remaining 755\tTrying https://robinson.gsu.edu/graduate-student-resources/\n",
      "Remaining 755\tTrying http://robinson.gsu.edu/category/alumni-news/page/2/\n",
      "Remaining 764\tTrying http://robinson.gsu.edu/2012/06/alumni-in-the-news-june-2012/\n",
      "HTTP Error 307: Temporary Redirect\n",
      "Remaining 763\tTrying http://robinson.gsu.edu/2012/03/alumni-in-the-news-march-2012/\n",
      "Remaining 762\tTrying https://robinson.gsu.edu/undergraduate/areas-of-study/minor-offerings/\n",
      "Remaining 761\tTrying http://robinson.gsu.edu/executive-doctorate-in-business/cebr/\n",
      "Remaining 776\tTrying http://robinson.gsu.edu/executive-doctorate-in-business/tuition-and-financing/\n",
      "Remaining 775\tTrying http://robinson.gsu.edu/executive-doctorate-in-business/about/residency-dates/\n",
      "Remaining 774\tTrying http://robinson.gsu.edu/files/2017/11/2018-Scholarship-Application.doc\n",
      "Remaining 773\tTrying http://robinson.gsu.edu/files/2017/02/maheshwar-boodraj.pdf\n",
      "Remaining 772\tTrying http://robinson.gsu.edu/academic-departments/entrepreneurship-and-innovation/about/faqs/\n",
      "Remaining 771\tTrying https://robinson.gsu.edu/files/2017/07/robinson-room-reservations.pdf\n",
      "Remaining 770\tTrying http://robinson.gsu.edu/files/2017/02/roles-and-responsibilities.pdf\n",
      "Remaining 769\tTrying http://robinson.gsu.edu/2017/09/womenlead-attaining-goals/\n",
      "HTTP Error 307: Temporary Redirect\n",
      "Remaining 768\tTrying http://robinson.gsu.edu/category/marketing/\n",
      "HTTP Error 307: Temporary Redirect\n",
      "Remaining 767\tTrying http://robinson.gsu.edu/corporate-connections/roundtables/financial-leadership-network/\n",
      "Remaining 766\tTrying http://robinson.gsu.edu/academic-departments/entrepreneurship-and-innovation/russell-center/\n",
      "Remaining 766\tTrying https://robinson.gsu.edu/about/contact-us/\n",
      "Remaining 765\tTrying http://robinson.gsu.edu/academic-departments/finance/\n",
      "Remaining 768\tTrying http://robinson.gsu.edu/profile/ling-xue/\n",
      "Remaining 769\tTrying http://robinson.gsu.edu/files/2015/08/Vita-Ling-Xue-10-2017-AB.pdf\n",
      "Remaining 768\tTrying http://robinson.gsu.edu/masters-programs/master-of-global-hospitality-management/contact-us/\n",
      "Remaining 767\tTrying http://robinson.gsu.edu/immersive-experiential-learning/honors-program/events/\n",
      "Remaining 766\tTrying http://robinson.gsu.edu/phd/areas-of-study/marketing/\n",
      "Remaining 765\tTrying https://robinson.gsu.edu/immersive-experiential-learning/honors-program/events/\n",
      "Remaining 764\tTrying http://robinson.gsu.edu/masters-programs/ms-in-health-administration/\n",
      "{u'Duration': [u'4 semesters, 16 months'], u'Format': [u'Cohort'], u'Location': [u'Buckhead Center'], u'Tuition': [u'Georgia residents: $41,100;Non-Ga. residents: $46,000'], u'Title': [u'Master of Science in Health Administration']}\n",
      "Remaining 773\tTrying http://robinson.gsu.edu/masters-programs/ms-in-health-administration/application-process/\n",
      "Remaining 772\tTrying http://robinson.gsu.edu/masters-programs/ms-in-health-administration/about/faculty/\n",
      "Remaining 771\tTrying http://robinson.gsu.edu/masters-programs/ms-in-health-administration/about/curriculum/\n",
      "HTTP Error 307: Temporary Redirect\n",
      "Remaining 770\tTrying https://robinson.gsu.edu/masters-programs/ms-in-real-estate/about/curriculum/\n",
      "Remaining 769\tTrying http://robinson.gsu.edu/phd/online-student-handbook/travel-and-conference-funding/\n",
      "HTTP Error 307: Temporary Redirect\n",
      "Remaining 768\tTrying http://robinson.gsu.edu/tag/r/\n",
      "HTTP Error 307: Temporary Redirect\n",
      "Remaining 767\tTrying http://robinson.gsu.edu/profile/likoebe-m-maruping/\n",
      "Remaining 767\tTrying http://robinson.gsu.edu/files/2017/06/LMarupingCVPublic.pdf\n",
      "Remaining 766\tTrying http://robinson.gsu.edu/category/msmgmt/\n",
      "HTTP Error 307: Temporary Redirect\n",
      "Remaining 765\tTrying https://robinson.gsu.edu/academic-departments/insight/research-projects/\n",
      "Remaining 764\tTrying http://robinson.gsu.edu/masters-programs/ms-in-health-administration/about/\n",
      "Remaining 763\tTrying http://robinson.gsu.edu/immersive-experiential-learning/honors-program/enrollment/\n",
      "Remaining 763\tTrying http://robinson.gsu.edu/profile/irene-m-duhaime/\n",
      "Remaining 762\tTrying http://robinson.gsu.edu/immersive-experiential-learning/panthers-on-wall-street/about/leadership/\n",
      "Remaining 761\tTrying https://robinson.gsu.edu/masters-programs/ms-in-analytics/about/dual-degrees/\n",
      "Remaining 760\tTrying http://robinson.gsu.edu/enilinkedin\n",
      "Remaining 764\tTrying http://robinson.gsu.edu/messaging/\n",
      "HTTP Error 404: Not Found\n",
      "Remaining 763\tTrying http://robinson.gsu.edu/mynetwork/\n",
      "HTTP Error 404: Not Found\n",
      "Remaining 762\tTrying http://robinson.gsu.edu/department/insight/\n",
      "Remaining 765\tTrying http://robinson.gsu.edu/profile/sanjay-srivastava/\n",
      "Remaining 765\tTrying http://robinson.gsu.edu/feed/\n",
      "Remaining 764\tTrying http://robinson.gsu.edu/crisp/\n",
      "Remaining 769\tTrying http://robinson.gsu.edu/crisp/resources/\n",
      "Remaining 768\tTrying http://robinson.gsu.edu/profile/andy-mcgowan/\n",
      "HTTP Error 307: Temporary Redirect\n",
      "Remaining 767\tTrying http://robinson.gsu.edu/academic-departments/insight/\n",
      "Remaining 776\tTrying http://robinson.gsu.edu/academic-departments/insight/what-we-do/legal-analytics-lab/\n",
      "Remaining 776\tTrying http://robinson.gsu.edu/profile/baozhong-yang/\n",
      "Remaining 776\tTrying http://robinson.gsu.edu/academic-departments/insight/what-we-do/\n",
      "Remaining 775\tTrying http://robinson.gsu.edu/academic-departments/insight/research-team/\n",
      "Remaining 774\tTrying http://robinson.gsu.edu/category/insight/\n",
      "Remaining 781\tTrying http://robinson.gsu.edu/category/analytics/\n",
      "Remaining 784\tTrying http://robinson.gsu.edu/category/msisac/\n",
      "Remaining 785\tTrying http://robinson.gsu.edu/2016/03/starr-suntrust/\n",
      "Remaining 784\tTrying http://robinson.gsu.edu/category/msis/\n",
      "Remaining 785\tTrying http://robinson.gsu.edu/2017/10/dynamic-structural-model-uncover-consumer-behavior/\n",
      "HTTP Error 307: Temporary Redirect\n",
      "Remaining 784\tTrying http://robinson.gsu.edu/files/2017/06/yang-CV.pdf\n",
      "Remaining 783\tTrying http://robinson.gsu.edu/academic-departments/insight/about/network/\n",
      "Remaining 782\tTrying http://robinson.gsu.edu/academic-departments/entrepreneurship-and-innovation/about/ehouse/\n",
      "Remaining 783\tTrying https://robinson.gsu.edu/academic-departments/hospitality/alumni/update-your-information/\n",
      "Remaining 782\tTrying http://robinson.gsu.edu/notifications/\n",
      "HTTP Error 404: Not Found\n",
      "Remaining 781\tTrying http://robinson.gsu.edu/corporate-connections/partner-organizations/\n",
      "Remaining 780\tTrying http://robinson.gsu.edu/academic-departments/computer-information-systems/faculty-and-research/cris/\n",
      "Remaining 779\tTrying https://robinson.gsu.edu/alumni/awards/\n",
      "Remaining 779\tTrying http://robinson.gsu.edu/15th-annual-alumni-awards-celebration/\n",
      "HTTP Error 404: Not Found\n",
      "Remaining 778\tTrying http://robinson.gsu.edu/department/international-business/\n",
      "Remaining 785\tTrying http://robinson.gsu.edu/profile/daniel-c-bello/\n",
      "Remaining 784\tTrying http://robinson.gsu.edu/profile/penelope-b-prime/\n",
      "Remaining 785\tTrying https://robinson.gsu.edu/masters-programs/ms-in-analytics/tuition-and-financing/\n",
      "Remaining 785\tTrying https://robinson.gsu.edu/profile\n",
      "Remaining 972\tTrying https://robinson.gsu.edu/profile/wenjun-wen-gu/\n",
      "Remaining 972\tTrying https://robinson.gsu.edu/profile/s-tamer-cavusgil/\n",
      "HTTP Error 307: Temporary Redirect\n",
      "Remaining 971\tTrying https://robinson.gsu.edu/profile/mark-murovitz/\n",
      "Remaining 971\tTrying https://robinson.gsu.edu/profile/brett-p-matherne/\n",
      "Remaining 970\tTrying https://robinson.gsu.edu/profile/richard-j-welke/\n",
      "Remaining 970\tTrying https://robinson.gsu.edu/profile/jan-r-costello/\n",
      "Remaining 970\tTrying https://robinson.gsu.edu/profile/isabelle-monlouis/\n",
      "Remaining 969\tTrying https://robinson.gsu.edu/profile/qian-cecilia-gu/\n",
      "Remaining 969\tTrying https://robinson.gsu.edu/profile/greg-gimpel/\n",
      "Remaining 968\tTrying https://robinson.gsu.edu/profile/thao-le/\n",
      "Remaining 968\tTrying https://robinson.gsu.edu/tag/l/\n",
      "Remaining 967\tTrying https://robinson.gsu.edu/profile/david-c-bruce/\n",
      "Remaining 967\tTrying https://robinson.gsu.edu/profile/subhashish-samaddar/\n",
      "Remaining 967\tTrying https://robinson.gsu.edu/profile/loren-vern-buysman/\n",
      "Remaining 966\tTrying https://robinson.gsu.edu/profile/tad-d-ransopher/\n",
      "Remaining 966\tTrying https://robinson.gsu.edu/profile/alejandro-del-valle/\n",
      "Remaining 967\tTrying https://robinson.gsu.edu/profile/ryan-grelecki/\n",
      "Remaining 967\tTrying https://robinson.gsu.edu/profile/ritu-lohtia/\n",
      "Remaining 967\tTrying https://robinson.gsu.edu/profile/thomas-a-conklin/\n",
      "Remaining 967\tTrying https://robinson.gsu.edu/profile/marcia-cross/\n",
      "Remaining 966\tTrying https://robinson.gsu.edu/profile/daniel-c-bello/\n",
      "Remaining 965\tTrying https://robinson.gsu.edu/profile/soon-ho-kim/\n",
      "Remaining 965\tTrying https://robinson.gsu.edu/profile/koray-cosguner/\n",
      "Remaining 965\tTrying https://robinson.gsu.edu/profile/peter-zhang/\n",
      "Remaining 965\tTrying https://robinson.gsu.edu/profile/likoebe-m-maruping/\n",
      "Remaining 964\tTrying https://robinson.gsu.edu/profile/robert-eaton/\n",
      "Remaining 964\tTrying https://robinson.gsu.edu/profile/mourad-dakhli/\n",
      "Remaining 964\tTrying https://robinson.gsu.edu/profile/kyle-m-townsend/\n",
      "Remaining 965\tTrying http://robinson.gsu.edu/files/2017/06/kyle-townsend-cv.pdf\n",
      "Remaining 964\tTrying https://robinson.gsu.edu/profile/bronis-j-verhage/\n",
      "Remaining 963\tTrying https://robinson.gsu.edu/profile/charles-s-shapiro/\n",
      "Remaining 962\tTrying https://robinson.gsu.edu/profile/mark-keil/\n",
      "Remaining 962\tTrying https://robinson.gsu.edu/profile/marta-s-white/\n",
      "Remaining 961\tTrying https://robinson.gsu.edu/profile/daniel-montanera/\n",
      "Remaining 960\tTrying https://robinson.gsu.edu/profile/matthew-deangelis/\n",
      "Remaining 960\tTrying https://robinson.gsu.edu/profile/rhonda-s-palladi/\n",
      "Remaining 960\tTrying https://robinson.gsu.edu/profile/edward-e-rigdon/\n",
      "Remaining 960\tTrying https://robinson.gsu.edu/department/center-for-excellence-in-brand-customer-management/\n",
      "Remaining 959\tTrying http://robinson.gsu.edu/files/2017/06/ritu-lohtia-resume.pdf\n",
      "Remaining 958\tTrying https://robinson.gsu.edu/profile/steven-s-dionne/\n",
      "Remaining 957\tTrying https://robinson.gsu.edu/department/international-business/\n",
      "Remaining 956\tTrying https://robinson.gsu.edu/profile/flora-zhou/\n",
      "Remaining 955\tTrying https://robinson.gsu.edu/profile/corliss-g-thornton/\n",
      "Remaining 954\tTrying https://robinson.gsu.edu/profile/karen-d-loch/\n",
      "Remaining 953\tTrying https://robinson.gsu.edu/profile/perry-z-binder/\n",
      "Remaining 952\tTrying https://robinson.gsu.edu/profile/peggy-b-sherman/\n",
      "Remaining 951\tTrying https://robinson.gsu.edu/tag/z/\n",
      "HTTP Error 307: Temporary Redirect\n",
      "Remaining 950\tTrying https://robinson.gsu.edu/department/deans-office/\n",
      "Remaining 949\tTrying https://robinson.gsu.edu/profile/nita-umashankar/\n",
      "Remaining 950\tTrying http://robinson.gsu.edu/files/2013/05/Nita-Umashankar-CV_061517.pdf\n",
      "Remaining 949\tTrying https://robinson.gsu.edu/department/marketing/\n",
      "Remaining 948\tTrying https://robinson.gsu.edu/profile/hiram-c-barksdale-jr/\n",
      "Remaining 947\tTrying https://robinson.gsu.edu/department/managerial-sciences/\n",
      "Remaining 946\tTrying https://robinson.gsu.edu/profile/kay-j-bunch/\n",
      "Remaining 945\tTrying https://robinson.gsu.edu/profile/dmitry-zhdanov/\n",
      "Remaining 945\tTrying http://robinson.gsu.edu/files/2014/09/matt-deangelis-cv.pdf\n",
      "Remaining 944\tTrying https://robinson.gsu.edu/tag/e/\n",
      "Remaining 943\tTrying https://robinson.gsu.edu/profile/andrea-aria/\n",
      "Remaining 943\tTrying https://robinson.gsu.edu/profile/jay-otoole/\n",
      "Remaining 944\tTrying https://robinson.gsu.edu/profile/wendy-swenson-roth/\n",
      "Remaining 943\tTrying https://robinson.gsu.edu/profile/douglas-battleson/\n",
      "Remaining 942\tTrying https://robinson.gsu.edu/profile/shuguang-hong/\n",
      "Remaining 942\tTrying https://robinson.gsu.edu/profile/donetta-poisson/\n",
      "Remaining 941\tTrying https://robinson.gsu.edu/profile/duane-p-truex-iii/\n",
      "Remaining 940\tTrying https://robinson.gsu.edu/profile/john-p-thielman/\n",
      "Remaining 939\tTrying https://robinson.gsu.edu/academic-departments/marketing/contact-us/\n",
      "Remaining 938\tTrying https://robinson.gsu.edu/advancing-vision-2020/\n",
      "Remaining 937\tTrying http://robinson.gsu.edu/files/2017/06/delvalle_2017.pdf\n",
      "HTTP Error 404: Not Found\n",
      "Remaining 936\tTrying https://robinson.gsu.edu/profile/vincent-yao/\n",
      "Remaining 936\tTrying https://robinson.gsu.edu/profile/patricia-g-ketsche/\n",
      "HTTP Error 307: Temporary Redirect\n",
      "Remaining 935\tTrying http://robinson.gsu.edu/essential_grid/arthur-kiboit-competitive-edge/\n",
      "Remaining 934\tTrying https://robinson.gsu.edu/category/analytics/\n",
      "Remaining 938\tTrying https://robinson.gsu.edu/category/photo-galleries/\n",
      "Remaining 949\tTrying https://robinson.gsu.edu/2015/04/honors-day-2015-event-photos/\n",
      "Remaining 948\tTrying https://robinson.gsu.edu/2016/03/2016-honors-day-portraits/\n",
      "Remaining 947\tTrying https://robinson.gsu.edu/2016/10/the-next-steps/\n",
      "Remaining 947\tTrying https://robinson.gsu.edu/category/robinson-stories/\n",
      "Remaining 948\tTrying https://robinson.gsu.edu/category/finance/\n",
      "Remaining 952\tTrying https://robinson.gsu.edu/profile/wesley-j-johnston/\n",
      "Remaining 952\tTrying https://robinson.gsu.edu/profile/ramsi-woodcock/\n",
      "Remaining 951\tTrying https://robinson.gsu.edu/tag/p/\n",
      "Remaining 950\tTrying http://robinson.gsu.edu/category/flex/\n",
      "Remaining 957\tTrying https://robinson.gsu.edu/2015/05/alpharetta-center-gallery/\n",
      "Remaining 956\tTrying https://robinson.gsu.edu/mba-programs/emba/\n",
      "{u'Duration': [u'17 months starting every August'], u'Format': [u'Cohort, classes every other weekend\\nFriday afternoon and all day Saturday'], u'Location': [u'Georgia State\\u2019s Buckhead Center, Tower Place 200'], u'Tuition': [u'Georgia residents: $69,500;Non-Ga. residents: $74,500'], u'Title': [u'Executive MBA']}\n",
      "Remaining 969\tTrying http://robinson.gsu.edu/academic-departments/marketing/max-awards/\n",
      "Remaining 969\tTrying https://robinson.gsu.edu/academic-departments/hospitality/academic-programs/\n",
      "Remaining 968\tTrying http://robinson.gsu.edu/files/2017/02/jenny-wang-cv.pdf\n",
      "Remaining 967\tTrying https://robinson.gsu.edu/tag/k/\n",
      "Remaining 966\tTrying https://robinson.gsu.edu/category/photo-galleries/page/2/\n",
      "Remaining 976\tTrying https://robinson.gsu.edu/profile/evaristo-f-doria/\n",
      "Remaining 975\tTrying http://robinson.gsu.edu/2016/11/mis-leaders/\n",
      "Remaining 974\tTrying http://robinson.gsu.edu/files/2017/08/cis8391-employer-contact-form.docx\n",
      "Remaining 973\tTrying https://robinson.gsu.edu/2013/06/panthers-in-the-city-london-2013/\n",
      "Remaining 972\tTrying https://robinson.gsu.edu/profile/balasubramaniam-ramesh/\n",
      "Remaining 971\tTrying http://robinson.gsu.edu/files/2017/06/conklin-cv.pdf\n",
      "Remaining 970\tTrying http://robinson.gsu.edu/faculty/faculty-job-openings/\n",
      "Remaining 986\tTrying http://robinson.gsu.edu/files/2018/01/MGS-ad-copy.pdf\n",
      "Remaining 985\tTrying http://robinson.gsu.edu/files/2017/09/19-022-Final-GSU-Ad-for-Insurance-Economics-Position-for-Fall-2018-Rich.docx\n",
      "Remaining 984\tTrying https://robinson.gsu.edu/2017/11/vaughn-irons/\n",
      "Remaining 983\tTrying https://robinson.gsu.edu/profile/anita-luo-pawluk/\n",
      "Remaining 983\tTrying http://robinson.gsu.edu/files/2017/12/HAfacRecruit-2017-1206-Senior-position.docx\n",
      "Remaining 982\tTrying http://robinson.gsu.edu/masters-programs/master-of-global-hospitality-management/about/\n",
      "Remaining 981\tTrying https://robinson.gsu.edu/tag/c/\n",
      "Remaining 981\tTrying https://robinson.gsu.edu/cac\n",
      "{u'Duration': [nan], u'Format': [nan], u'Location': [nan], u'Tuition': [nan], u'Title': [u'Career Advancement Center']}\n",
      "Remaining 984\tTrying http://robinson.gsu.edu/category/cac/\n",
      "HTTP Error 307: Temporary Redirect\n",
      "Remaining 983\tTrying http://robinson.gsu.edu/files/2017/02/qiheng-guo-cv.pdf\n",
      "Remaining 982\tTrying http://robinson.gsu.edu/pmba\n",
      "{u'Duration': [u'24 months'], u'Format': [u'Cohort, part-time'], u'Location': [u'Buckhead Center'], u'Tuition': [u'Georgia residents: $49,900;Non-Ga. residents: $54,900'], u'Title': [u'Professional MBA']}\n",
      "Remaining 990\tTrying https://robinson.gsu.edu/profile/jj-hsieh/\n",
      "Remaining 990\tTrying https://robinson.gsu.edu/corporate-connections/roundtables/sales-executive-roundtable/\n",
      "Remaining 989\tTrying https://robinson.gsu.edu/apply-now\n",
      "Remaining 988\tTrying http://robinson.gsu.edu/undergraduate/areas-of-study/finance/\n",
      "Remaining 988\tTrying http://robinson.gsu.edu/profile/charlotte-alexander/\n",
      "Remaining 988\tTrying http://robinson.gsu.edu/files/2013/02/CV-C.-Alexander-10.2017.pdf\n",
      "Remaining 987\tTrying https://robinson.gsu.edu/admissions/scholarships/\n",
      "Remaining 990\tTrying http://robinson.gsu.edu/2015/09/rai-mis-quarterly/\n",
      "Remaining 989\tTrying http://robinson.gsu.edu/profile/tad-d-ransopher/\n",
      "Remaining 988\tTrying https://robinson.gsu.edu/profile/laura-green/\n",
      "Remaining 987\tTrying http://robinson.gsu.edu/department/insight\n",
      "Remaining 986\tTrying http://robinson.gsu.edu/cac/events/graduate-career-fair/\n",
      "Remaining 985\tTrying http://robinson.gsu.edu/masters-programs/ms-in-managerial-sciences/about/course-descriptions/\n",
      "Remaining 984\tTrying https://robinson.gsu.edu/department/finance/\n",
      "Remaining 983\tTrying http://robinson.gsu.edu/graduate-student-resources/buckhead/\n",
      "Remaining 982\tTrying https://robinson.gsu.edu/2016/11/vk-distinguished-scholar/\n",
      "Remaining 981\tTrying http://robinson.gsu.edu/faculty/research-centers/\n",
      "Remaining 980\tTrying https://robinson.gsu.edu/category/rmi/\n",
      "Remaining 986\tTrying https://robinson.gsu.edu/2017/07/department-launches-new-quarterly-newsletter/\n",
      "Remaining 985\tTrying http://robinson.gsu.edu/profile/satish-v-nargundkar/\n",
      "Remaining 985\tTrying http://robinson.gsu.edu/bootcamps/\n",
      "Remaining 984\tTrying http://robinson.gsu.edu/cac/student-ambassador/\n",
      "Remaining 983\tTrying https://robinson.gsu.edu/profile/barry-wood/\n",
      "Remaining 983\tTrying http://robinson.gsu.edu/category/rmi/\n",
      "Remaining 989\tTrying https://robinson.gsu.edu/about/locations/buckhead/\n",
      "Remaining 988\tTrying http://robinson.gsu.edu/tag/m/page/2/\n",
      "Remaining 988\tTrying http://robinson.gsu.edu/files/2017/06/scott-murray-cv.pdf\n",
      "HTTP Error 404: Not Found\n",
      "Remaining 987\tTrying http://robinson.gsu.edu/graduate-mentoring/\n",
      "Remaining 986\tTrying https://robinson.gsu.edu/corporate-connections/roundtables/corporate-intellectual-property-roundtable/\n",
      "Remaining 985\tTrying https://robinson.gsu.edu/academic-departments/hospitality/job-board/\n",
      "Remaining 1028\tTrying https://robinson.gsu.edu/files/formidable/8/Omni-17.pdf\n",
      "Remaining 1027\tTrying https://robinson.gsu.edu/academic-departments/hospitality/job-board/entry/948\n",
      "Remaining 1026\tTrying https://robinson.gsu.edu/academic-departments/hospitality/job-board/entry/945\n",
      "Remaining 1025\tTrying https://robinson.gsu.edu/academic-departments/hospitality/job-board/entry/943\n",
      "Remaining 1024\tTrying https://robinson.gsu.edu/files/formidable/8/Community-Manager-Gal-JD.pdf\n",
      "Remaining 1023\tTrying https://robinson.gsu.edu/files/formidable/8/Stone-Mountain-Park.pdf\n",
      "Remaining 1022\tTrying https://robinson.gsu.edu/2017/11/georgia-state-student-places-third-ceo-global-pitch-competition/\n",
      "Remaining 1021\tTrying http://robinson.gsu.edu/2017/08/tien-huynh-double-majoring-opens-opportunities-future/\n",
      "Remaining 1020\tTrying https://robinson.gsu.edu/department/hospitality/\n",
      "Remaining 1019\tTrying http://robinson.gsu.edu/mba-programs/emba/about/course-descriptions/\n",
      "Remaining 1018\tTrying http://robinson.gsu.edu/2017/09/pamela-s-barr-strategist/\n",
      "Remaining 1019\tTrying https://robinson.gsu.edu/academic-departments/health-administration/contact-us/\n"
     ]
    },
    {
     "ename": "KeyboardInterrupt",
     "evalue": "",
     "output_type": "error",
     "traceback": [
      "\u001b[0;31m---------------------------------------------------------------------------\u001b[0m",
      "\u001b[0;31mKeyboardInterrupt\u001b[0m                         Traceback (most recent call last)",
      "\u001b[0;32m<ipython-input-432-34959b25121d>\u001b[0m in \u001b[0;36m<module>\u001b[0;34m()\u001b[0m\n\u001b[1;32m      8\u001b[0m     \u001b[0;32mif\u001b[0m \u001b[0mis_allowed\u001b[0m\u001b[0;34m(\u001b[0m\u001b[0mrobots_pat\u001b[0m\u001b[0;34m,\u001b[0m \u001b[0murl\u001b[0m\u001b[0;34m)\u001b[0m\u001b[0;34m:\u001b[0m\u001b[0;34m\u001b[0m\u001b[0m\n\u001b[1;32m      9\u001b[0m         \u001b[0;32mtry\u001b[0m\u001b[0;34m:\u001b[0m\u001b[0;34m\u001b[0m\u001b[0m\n\u001b[0;32m---> 10\u001b[0;31m             \u001b[0msoup\u001b[0m \u001b[0;34m=\u001b[0m \u001b[0mload_robinson_soup\u001b[0m\u001b[0;34m(\u001b[0m\u001b[0murl\u001b[0m\u001b[0;34m)\u001b[0m\u001b[0;34m\u001b[0m\u001b[0m\n\u001b[0m\u001b[1;32m     11\u001b[0m             \u001b[0madd_links_to_queue\u001b[0m\u001b[0;34m(\u001b[0m\u001b[0msoup\u001b[0m\u001b[0;34m,\u001b[0m \u001b[0murl\u001b[0m\u001b[0;34m)\u001b[0m\u001b[0;34m\u001b[0m\u001b[0m\n\u001b[1;32m     12\u001b[0m             \u001b[0mdata\u001b[0m \u001b[0;34m=\u001b[0m \u001b[0mextract_info\u001b[0m\u001b[0;34m(\u001b[0m\u001b[0msoup\u001b[0m\u001b[0;34m)\u001b[0m\u001b[0;34m\u001b[0m\u001b[0m\n",
      "\u001b[0;32m<ipython-input-330-21e20d40d5d9>\u001b[0m in \u001b[0;36mload_robinson_soup\u001b[0;34m(url)\u001b[0m\n\u001b[1;32m      1\u001b[0m \u001b[0;32mdef\u001b[0m \u001b[0mload_robinson_soup\u001b[0m\u001b[0;34m(\u001b[0m\u001b[0murl\u001b[0m\u001b[0;34m)\u001b[0m\u001b[0;34m:\u001b[0m\u001b[0;34m\u001b[0m\u001b[0m\n\u001b[1;32m      2\u001b[0m     \u001b[0;32mimport\u001b[0m \u001b[0murllib2\u001b[0m \u001b[0;32mas\u001b[0m \u001b[0mul\u001b[0m\u001b[0;34m\u001b[0m\u001b[0m\n\u001b[0;32m----> 3\u001b[0;31m     \u001b[0mhtml_doc\u001b[0m \u001b[0;34m=\u001b[0m \u001b[0mul\u001b[0m\u001b[0;34m.\u001b[0m\u001b[0murlopen\u001b[0m\u001b[0;34m(\u001b[0m\u001b[0murl\u001b[0m\u001b[0;34m,\u001b[0m \u001b[0;34m'b'\u001b[0m\u001b[0;34m)\u001b[0m\u001b[0;34m.\u001b[0m\u001b[0mread\u001b[0m\u001b[0;34m(\u001b[0m\u001b[0;34m)\u001b[0m\u001b[0;34m\u001b[0m\u001b[0m\n\u001b[0m\u001b[1;32m      4\u001b[0m     \u001b[0;32mreturn\u001b[0m \u001b[0mBeautifulSoup\u001b[0m\u001b[0;34m(\u001b[0m\u001b[0mhtml_doc\u001b[0m\u001b[0;34m,\u001b[0m \u001b[0;34m'html.parser'\u001b[0m\u001b[0;34m)\u001b[0m\u001b[0;34m\u001b[0m\u001b[0m\n",
      "\u001b[0;32m/usr/lib64/python2.7/urllib2.pyc\u001b[0m in \u001b[0;36murlopen\u001b[0;34m(url, data, timeout, cafile, capath, cadefault, context)\u001b[0m\n\u001b[1;32m    152\u001b[0m     \u001b[0;32melse\u001b[0m\u001b[0;34m:\u001b[0m\u001b[0;34m\u001b[0m\u001b[0m\n\u001b[1;32m    153\u001b[0m         \u001b[0mopener\u001b[0m \u001b[0;34m=\u001b[0m \u001b[0m_opener\u001b[0m\u001b[0;34m\u001b[0m\u001b[0m\n\u001b[0;32m--> 154\u001b[0;31m     \u001b[0;32mreturn\u001b[0m \u001b[0mopener\u001b[0m\u001b[0;34m.\u001b[0m\u001b[0mopen\u001b[0m\u001b[0;34m(\u001b[0m\u001b[0murl\u001b[0m\u001b[0;34m,\u001b[0m \u001b[0mdata\u001b[0m\u001b[0;34m,\u001b[0m \u001b[0mtimeout\u001b[0m\u001b[0;34m)\u001b[0m\u001b[0;34m\u001b[0m\u001b[0m\n\u001b[0m\u001b[1;32m    155\u001b[0m \u001b[0;34m\u001b[0m\u001b[0m\n\u001b[1;32m    156\u001b[0m \u001b[0;32mdef\u001b[0m \u001b[0minstall_opener\u001b[0m\u001b[0;34m(\u001b[0m\u001b[0mopener\u001b[0m\u001b[0;34m)\u001b[0m\u001b[0;34m:\u001b[0m\u001b[0;34m\u001b[0m\u001b[0m\n",
      "\u001b[0;32m/usr/lib64/python2.7/urllib2.pyc\u001b[0m in \u001b[0;36mopen\u001b[0;34m(self, fullurl, data, timeout)\u001b[0m\n\u001b[1;32m    429\u001b[0m             \u001b[0mreq\u001b[0m \u001b[0;34m=\u001b[0m \u001b[0mmeth\u001b[0m\u001b[0;34m(\u001b[0m\u001b[0mreq\u001b[0m\u001b[0;34m)\u001b[0m\u001b[0;34m\u001b[0m\u001b[0m\n\u001b[1;32m    430\u001b[0m \u001b[0;34m\u001b[0m\u001b[0m\n\u001b[0;32m--> 431\u001b[0;31m         \u001b[0mresponse\u001b[0m \u001b[0;34m=\u001b[0m \u001b[0mself\u001b[0m\u001b[0;34m.\u001b[0m\u001b[0m_open\u001b[0m\u001b[0;34m(\u001b[0m\u001b[0mreq\u001b[0m\u001b[0;34m,\u001b[0m \u001b[0mdata\u001b[0m\u001b[0;34m)\u001b[0m\u001b[0;34m\u001b[0m\u001b[0m\n\u001b[0m\u001b[1;32m    432\u001b[0m \u001b[0;34m\u001b[0m\u001b[0m\n\u001b[1;32m    433\u001b[0m         \u001b[0;31m# post-process response\u001b[0m\u001b[0;34m\u001b[0m\u001b[0;34m\u001b[0m\u001b[0m\n",
      "\u001b[0;32m/usr/lib64/python2.7/urllib2.pyc\u001b[0m in \u001b[0;36m_open\u001b[0;34m(self, req, data)\u001b[0m\n\u001b[1;32m    447\u001b[0m         \u001b[0mprotocol\u001b[0m \u001b[0;34m=\u001b[0m \u001b[0mreq\u001b[0m\u001b[0;34m.\u001b[0m\u001b[0mget_type\u001b[0m\u001b[0;34m(\u001b[0m\u001b[0;34m)\u001b[0m\u001b[0;34m\u001b[0m\u001b[0m\n\u001b[1;32m    448\u001b[0m         result = self._call_chain(self.handle_open, protocol, protocol +\n\u001b[0;32m--> 449\u001b[0;31m                                   '_open', req)\n\u001b[0m\u001b[1;32m    450\u001b[0m         \u001b[0;32mif\u001b[0m \u001b[0mresult\u001b[0m\u001b[0;34m:\u001b[0m\u001b[0;34m\u001b[0m\u001b[0m\n\u001b[1;32m    451\u001b[0m             \u001b[0;32mreturn\u001b[0m \u001b[0mresult\u001b[0m\u001b[0;34m\u001b[0m\u001b[0m\n",
      "\u001b[0;32m/usr/lib64/python2.7/urllib2.pyc\u001b[0m in \u001b[0;36m_call_chain\u001b[0;34m(self, chain, kind, meth_name, *args)\u001b[0m\n\u001b[1;32m    407\u001b[0m             \u001b[0mfunc\u001b[0m \u001b[0;34m=\u001b[0m \u001b[0mgetattr\u001b[0m\u001b[0;34m(\u001b[0m\u001b[0mhandler\u001b[0m\u001b[0;34m,\u001b[0m \u001b[0mmeth_name\u001b[0m\u001b[0;34m)\u001b[0m\u001b[0;34m\u001b[0m\u001b[0m\n\u001b[1;32m    408\u001b[0m \u001b[0;34m\u001b[0m\u001b[0m\n\u001b[0;32m--> 409\u001b[0;31m             \u001b[0mresult\u001b[0m \u001b[0;34m=\u001b[0m \u001b[0mfunc\u001b[0m\u001b[0;34m(\u001b[0m\u001b[0;34m*\u001b[0m\u001b[0margs\u001b[0m\u001b[0;34m)\u001b[0m\u001b[0;34m\u001b[0m\u001b[0m\n\u001b[0m\u001b[1;32m    410\u001b[0m             \u001b[0;32mif\u001b[0m \u001b[0mresult\u001b[0m \u001b[0;32mis\u001b[0m \u001b[0;32mnot\u001b[0m \u001b[0mNone\u001b[0m\u001b[0;34m:\u001b[0m\u001b[0;34m\u001b[0m\u001b[0m\n\u001b[1;32m    411\u001b[0m                 \u001b[0;32mreturn\u001b[0m \u001b[0mresult\u001b[0m\u001b[0;34m\u001b[0m\u001b[0m\n",
      "\u001b[0;32m/usr/lib64/python2.7/urllib2.pyc\u001b[0m in \u001b[0;36mhttps_open\u001b[0;34m(self, req)\u001b[0m\n\u001b[1;32m   1256\u001b[0m         \u001b[0;32mdef\u001b[0m \u001b[0mhttps_open\u001b[0m\u001b[0;34m(\u001b[0m\u001b[0mself\u001b[0m\u001b[0;34m,\u001b[0m \u001b[0mreq\u001b[0m\u001b[0;34m)\u001b[0m\u001b[0;34m:\u001b[0m\u001b[0;34m\u001b[0m\u001b[0m\n\u001b[1;32m   1257\u001b[0m             return self.do_open(httplib.HTTPSConnection, req,\n\u001b[0;32m-> 1258\u001b[0;31m                 context=self._context, check_hostname=self._check_hostname)\n\u001b[0m\u001b[1;32m   1259\u001b[0m \u001b[0;34m\u001b[0m\u001b[0m\n\u001b[1;32m   1260\u001b[0m         \u001b[0mhttps_request\u001b[0m \u001b[0;34m=\u001b[0m \u001b[0mAbstractHTTPHandler\u001b[0m\u001b[0;34m.\u001b[0m\u001b[0mdo_request_\u001b[0m\u001b[0;34m\u001b[0m\u001b[0m\n",
      "\u001b[0;32m/usr/lib64/python2.7/urllib2.pyc\u001b[0m in \u001b[0;36mdo_open\u001b[0;34m(self, http_class, req, **http_conn_args)\u001b[0m\n\u001b[1;32m   1215\u001b[0m         \u001b[0;32melse\u001b[0m\u001b[0;34m:\u001b[0m\u001b[0;34m\u001b[0m\u001b[0m\n\u001b[1;32m   1216\u001b[0m             \u001b[0;32mtry\u001b[0m\u001b[0;34m:\u001b[0m\u001b[0;34m\u001b[0m\u001b[0m\n\u001b[0;32m-> 1217\u001b[0;31m                 \u001b[0mr\u001b[0m \u001b[0;34m=\u001b[0m \u001b[0mh\u001b[0m\u001b[0;34m.\u001b[0m\u001b[0mgetresponse\u001b[0m\u001b[0;34m(\u001b[0m\u001b[0mbuffering\u001b[0m\u001b[0;34m=\u001b[0m\u001b[0mTrue\u001b[0m\u001b[0;34m)\u001b[0m\u001b[0;34m\u001b[0m\u001b[0m\n\u001b[0m\u001b[1;32m   1218\u001b[0m             \u001b[0;32mexcept\u001b[0m \u001b[0mTypeError\u001b[0m\u001b[0;34m:\u001b[0m \u001b[0;31m# buffering kw not supported\u001b[0m\u001b[0;34m\u001b[0m\u001b[0m\n\u001b[1;32m   1219\u001b[0m                 \u001b[0mr\u001b[0m \u001b[0;34m=\u001b[0m \u001b[0mh\u001b[0m\u001b[0;34m.\u001b[0m\u001b[0mgetresponse\u001b[0m\u001b[0;34m(\u001b[0m\u001b[0;34m)\u001b[0m\u001b[0;34m\u001b[0m\u001b[0m\n",
      "\u001b[0;32m/usr/lib64/python2.7/httplib.pyc\u001b[0m in \u001b[0;36mgetresponse\u001b[0;34m(self, buffering)\u001b[0m\n\u001b[1;32m   1087\u001b[0m         \u001b[0mresponse\u001b[0m \u001b[0;34m=\u001b[0m \u001b[0mself\u001b[0m\u001b[0;34m.\u001b[0m\u001b[0mresponse_class\u001b[0m\u001b[0;34m(\u001b[0m\u001b[0;34m*\u001b[0m\u001b[0margs\u001b[0m\u001b[0;34m,\u001b[0m \u001b[0;34m**\u001b[0m\u001b[0mkwds\u001b[0m\u001b[0;34m)\u001b[0m\u001b[0;34m\u001b[0m\u001b[0m\n\u001b[1;32m   1088\u001b[0m \u001b[0;34m\u001b[0m\u001b[0m\n\u001b[0;32m-> 1089\u001b[0;31m         \u001b[0mresponse\u001b[0m\u001b[0;34m.\u001b[0m\u001b[0mbegin\u001b[0m\u001b[0;34m(\u001b[0m\u001b[0;34m)\u001b[0m\u001b[0;34m\u001b[0m\u001b[0m\n\u001b[0m\u001b[1;32m   1090\u001b[0m         \u001b[0;32massert\u001b[0m \u001b[0mresponse\u001b[0m\u001b[0;34m.\u001b[0m\u001b[0mwill_close\u001b[0m \u001b[0;34m!=\u001b[0m \u001b[0m_UNKNOWN\u001b[0m\u001b[0;34m\u001b[0m\u001b[0m\n\u001b[1;32m   1091\u001b[0m         \u001b[0mself\u001b[0m\u001b[0;34m.\u001b[0m\u001b[0m__state\u001b[0m \u001b[0;34m=\u001b[0m \u001b[0m_CS_IDLE\u001b[0m\u001b[0;34m\u001b[0m\u001b[0m\n",
      "\u001b[0;32m/usr/lib64/python2.7/httplib.pyc\u001b[0m in \u001b[0;36mbegin\u001b[0;34m(self)\u001b[0m\n\u001b[1;32m    442\u001b[0m         \u001b[0;31m# read until we get a non-100 response\u001b[0m\u001b[0;34m\u001b[0m\u001b[0;34m\u001b[0m\u001b[0m\n\u001b[1;32m    443\u001b[0m         \u001b[0;32mwhile\u001b[0m \u001b[0mTrue\u001b[0m\u001b[0;34m:\u001b[0m\u001b[0;34m\u001b[0m\u001b[0m\n\u001b[0;32m--> 444\u001b[0;31m             \u001b[0mversion\u001b[0m\u001b[0;34m,\u001b[0m \u001b[0mstatus\u001b[0m\u001b[0;34m,\u001b[0m \u001b[0mreason\u001b[0m \u001b[0;34m=\u001b[0m \u001b[0mself\u001b[0m\u001b[0;34m.\u001b[0m\u001b[0m_read_status\u001b[0m\u001b[0;34m(\u001b[0m\u001b[0;34m)\u001b[0m\u001b[0;34m\u001b[0m\u001b[0m\n\u001b[0m\u001b[1;32m    445\u001b[0m             \u001b[0;32mif\u001b[0m \u001b[0mstatus\u001b[0m \u001b[0;34m!=\u001b[0m \u001b[0mCONTINUE\u001b[0m\u001b[0;34m:\u001b[0m\u001b[0;34m\u001b[0m\u001b[0m\n\u001b[1;32m    446\u001b[0m                 \u001b[0;32mbreak\u001b[0m\u001b[0;34m\u001b[0m\u001b[0m\n",
      "\u001b[0;32m/usr/lib64/python2.7/httplib.pyc\u001b[0m in \u001b[0;36m_read_status\u001b[0;34m(self)\u001b[0m\n\u001b[1;32m    398\u001b[0m     \u001b[0;32mdef\u001b[0m \u001b[0m_read_status\u001b[0m\u001b[0;34m(\u001b[0m\u001b[0mself\u001b[0m\u001b[0;34m)\u001b[0m\u001b[0;34m:\u001b[0m\u001b[0;34m\u001b[0m\u001b[0m\n\u001b[1;32m    399\u001b[0m         \u001b[0;31m# Initialize with Simple-Response defaults\u001b[0m\u001b[0;34m\u001b[0m\u001b[0;34m\u001b[0m\u001b[0m\n\u001b[0;32m--> 400\u001b[0;31m         \u001b[0mline\u001b[0m \u001b[0;34m=\u001b[0m \u001b[0mself\u001b[0m\u001b[0;34m.\u001b[0m\u001b[0mfp\u001b[0m\u001b[0;34m.\u001b[0m\u001b[0mreadline\u001b[0m\u001b[0;34m(\u001b[0m\u001b[0m_MAXLINE\u001b[0m \u001b[0;34m+\u001b[0m \u001b[0;36m1\u001b[0m\u001b[0;34m)\u001b[0m\u001b[0;34m\u001b[0m\u001b[0m\n\u001b[0m\u001b[1;32m    401\u001b[0m         \u001b[0;32mif\u001b[0m \u001b[0mlen\u001b[0m\u001b[0;34m(\u001b[0m\u001b[0mline\u001b[0m\u001b[0;34m)\u001b[0m \u001b[0;34m>\u001b[0m \u001b[0m_MAXLINE\u001b[0m\u001b[0;34m:\u001b[0m\u001b[0;34m\u001b[0m\u001b[0m\n\u001b[1;32m    402\u001b[0m             \u001b[0;32mraise\u001b[0m \u001b[0mLineTooLong\u001b[0m\u001b[0;34m(\u001b[0m\u001b[0;34m\"header line\"\u001b[0m\u001b[0;34m)\u001b[0m\u001b[0;34m\u001b[0m\u001b[0m\n",
      "\u001b[0;32m/usr/lib64/python2.7/socket.pyc\u001b[0m in \u001b[0;36mreadline\u001b[0;34m(self, size)\u001b[0m\n\u001b[1;32m    474\u001b[0m             \u001b[0;32mwhile\u001b[0m \u001b[0mTrue\u001b[0m\u001b[0;34m:\u001b[0m\u001b[0;34m\u001b[0m\u001b[0m\n\u001b[1;32m    475\u001b[0m                 \u001b[0;32mtry\u001b[0m\u001b[0;34m:\u001b[0m\u001b[0;34m\u001b[0m\u001b[0m\n\u001b[0;32m--> 476\u001b[0;31m                     \u001b[0mdata\u001b[0m \u001b[0;34m=\u001b[0m \u001b[0mself\u001b[0m\u001b[0;34m.\u001b[0m\u001b[0m_sock\u001b[0m\u001b[0;34m.\u001b[0m\u001b[0mrecv\u001b[0m\u001b[0;34m(\u001b[0m\u001b[0mself\u001b[0m\u001b[0;34m.\u001b[0m\u001b[0m_rbufsize\u001b[0m\u001b[0;34m)\u001b[0m\u001b[0;34m\u001b[0m\u001b[0m\n\u001b[0m\u001b[1;32m    477\u001b[0m                 \u001b[0;32mexcept\u001b[0m \u001b[0merror\u001b[0m\u001b[0;34m,\u001b[0m \u001b[0me\u001b[0m\u001b[0;34m:\u001b[0m\u001b[0;34m\u001b[0m\u001b[0m\n\u001b[1;32m    478\u001b[0m                     \u001b[0;32mif\u001b[0m \u001b[0me\u001b[0m\u001b[0;34m.\u001b[0m\u001b[0margs\u001b[0m\u001b[0;34m[\u001b[0m\u001b[0;36m0\u001b[0m\u001b[0;34m]\u001b[0m \u001b[0;34m==\u001b[0m \u001b[0mEINTR\u001b[0m\u001b[0;34m:\u001b[0m\u001b[0;34m\u001b[0m\u001b[0m\n",
      "\u001b[0;32m/usr/lib64/python2.7/ssl.pyc\u001b[0m in \u001b[0;36mrecv\u001b[0;34m(self, buflen, flags)\u001b[0m\n\u001b[1;32m    757\u001b[0m                     \u001b[0;34m\"non-zero flags not allowed in calls to recv() on %s\"\u001b[0m \u001b[0;34m%\u001b[0m\u001b[0;34m\u001b[0m\u001b[0m\n\u001b[1;32m    758\u001b[0m                     self.__class__)\n\u001b[0;32m--> 759\u001b[0;31m             \u001b[0;32mreturn\u001b[0m \u001b[0mself\u001b[0m\u001b[0;34m.\u001b[0m\u001b[0mread\u001b[0m\u001b[0;34m(\u001b[0m\u001b[0mbuflen\u001b[0m\u001b[0;34m)\u001b[0m\u001b[0;34m\u001b[0m\u001b[0m\n\u001b[0m\u001b[1;32m    760\u001b[0m         \u001b[0;32melse\u001b[0m\u001b[0;34m:\u001b[0m\u001b[0;34m\u001b[0m\u001b[0m\n\u001b[1;32m    761\u001b[0m             \u001b[0;32mreturn\u001b[0m \u001b[0mself\u001b[0m\u001b[0;34m.\u001b[0m\u001b[0m_sock\u001b[0m\u001b[0;34m.\u001b[0m\u001b[0mrecv\u001b[0m\u001b[0;34m(\u001b[0m\u001b[0mbuflen\u001b[0m\u001b[0;34m,\u001b[0m \u001b[0mflags\u001b[0m\u001b[0;34m)\u001b[0m\u001b[0;34m\u001b[0m\u001b[0m\n",
      "\u001b[0;32m/usr/lib64/python2.7/ssl.pyc\u001b[0m in \u001b[0;36mread\u001b[0;34m(self, len, buffer)\u001b[0m\n\u001b[1;32m    651\u001b[0m                 \u001b[0mv\u001b[0m \u001b[0;34m=\u001b[0m \u001b[0mself\u001b[0m\u001b[0;34m.\u001b[0m\u001b[0m_sslobj\u001b[0m\u001b[0;34m.\u001b[0m\u001b[0mread\u001b[0m\u001b[0;34m(\u001b[0m\u001b[0mlen\u001b[0m\u001b[0;34m,\u001b[0m \u001b[0mbuffer\u001b[0m\u001b[0;34m)\u001b[0m\u001b[0;34m\u001b[0m\u001b[0m\n\u001b[1;32m    652\u001b[0m             \u001b[0;32melse\u001b[0m\u001b[0;34m:\u001b[0m\u001b[0;34m\u001b[0m\u001b[0m\n\u001b[0;32m--> 653\u001b[0;31m                 \u001b[0mv\u001b[0m \u001b[0;34m=\u001b[0m \u001b[0mself\u001b[0m\u001b[0;34m.\u001b[0m\u001b[0m_sslobj\u001b[0m\u001b[0;34m.\u001b[0m\u001b[0mread\u001b[0m\u001b[0;34m(\u001b[0m\u001b[0mlen\u001b[0m \u001b[0;32mor\u001b[0m \u001b[0;36m1024\u001b[0m\u001b[0;34m)\u001b[0m\u001b[0;34m\u001b[0m\u001b[0m\n\u001b[0m\u001b[1;32m    654\u001b[0m             \u001b[0;32mreturn\u001b[0m \u001b[0mv\u001b[0m\u001b[0;34m\u001b[0m\u001b[0m\n\u001b[1;32m    655\u001b[0m         \u001b[0;32mexcept\u001b[0m \u001b[0mSSLError\u001b[0m \u001b[0;32mas\u001b[0m \u001b[0mx\u001b[0m\u001b[0;34m:\u001b[0m\u001b[0;34m\u001b[0m\u001b[0m\n",
      "\u001b[0;31mKeyboardInterrupt\u001b[0m: "
     ]
    }
   ],
   "source": [
    "programs_df = pd.DataFrame()\n",
    "\n",
    "while np.array(map(lambda x: x>0, queue.values())).sum()>0:\n",
    "    urls = np.array(queue.keys())[np.array(map(lambda x: x>0, queue.values()))]\n",
    "    url = urls[0]  ## take the first one\n",
    "    \n",
    "    print \"Remaining %d\\tTrying %s\"%(len(urls), url)\n",
    "    if is_allowed(robots_pat, url):\n",
    "        try:\n",
    "            soup = load_robinson_soup(url)\n",
    "            add_links_to_queue(soup, url)\n",
    "            data = extract_info(soup)\n",
    "            if not np.nan in data['Title']:\n",
    "                print data\n",
    "                programs_df = pd.concat([programs_df, pd.DataFrame(data=data)])\n",
    "            queue[url] = 0\n",
    "        except Exception as e:\n",
    "            print e\n",
    "        finally:\n",
    "            queue[url] -= 1 ## reduce trial count\n",
    "        time.sleep(sleep_time)\n",
    "    else:\n",
    "        queue[url] = -999\n",
    "   "
   ]
  },
  {
   "cell_type": "code",
   "execution_count": 433,
   "metadata": {
    "ExecuteTime": {
     "end_time": "2018-01-18T23:51:33.824505",
     "start_time": "2018-01-18T23:51:33.780916"
    },
    "collapsed": false,
    "scrolled": false
   },
   "outputs": [
    {
     "data": {
      "text/html": [
       "<div>\n",
       "<table border=\"1\" class=\"dataframe\">\n",
       "  <thead>\n",
       "    <tr style=\"text-align: right;\">\n",
       "      <th></th>\n",
       "      <th>Duration</th>\n",
       "      <th>Format</th>\n",
       "      <th>Location</th>\n",
       "      <th>Title</th>\n",
       "      <th>Tuition</th>\n",
       "    </tr>\n",
       "  </thead>\n",
       "  <tbody>\n",
       "    <tr>\n",
       "      <th>0</th>\n",
       "      <td>NaN</td>\n",
       "      <td>NaN</td>\n",
       "      <td>NaN</td>\n",
       "      <td>Undergraduate Programs</td>\n",
       "      <td>NaN</td>\n",
       "    </tr>\n",
       "    <tr>\n",
       "      <th>0</th>\n",
       "      <td>One year</td>\n",
       "      <td>Cohort</td>\n",
       "      <td>Buckhead Center</td>\n",
       "      <td>Master of Science in Managerial Sciences</td>\n",
       "      <td>Georgia residents: $37,500;Non-Ga. residents: ...</td>\n",
       "    </tr>\n",
       "    <tr>\n",
       "      <th>0</th>\n",
       "      <td>NaN</td>\n",
       "      <td>NaN</td>\n",
       "      <td>NaN</td>\n",
       "      <td>Career Advancement Center</td>\n",
       "      <td>NaN</td>\n",
       "    </tr>\n",
       "    <tr>\n",
       "      <th>0</th>\n",
       "      <td>One year</td>\n",
       "      <td>Cohort</td>\n",
       "      <td>Buckhead Center</td>\n",
       "      <td>Master of Science in Marketing</td>\n",
       "      <td>Georgia residents: $37,500;Non-Ga. residents: ...</td>\n",
       "    </tr>\n",
       "    <tr>\n",
       "      <th>0</th>\n",
       "      <td>12 months,\\nthree semesters</td>\n",
       "      <td>Cohort</td>\n",
       "      <td>Buckhead Center</td>\n",
       "      <td>Regynald G. Washington Master of Global Hospit...</td>\n",
       "      <td>Georgia residents: $37,500;Non-Ga. residents: ...</td>\n",
       "    </tr>\n",
       "    <tr>\n",
       "      <th>0</th>\n",
       "      <td>Typically 5 years</td>\n",
       "      <td>Full-time, in-residence</td>\n",
       "      <td>Downtown or Buckhead\\nCheck with your coordina...</td>\n",
       "      <td>Ph.D. Programs</td>\n",
       "      <td>Students typically receive tuition waivers and...</td>\n",
       "    </tr>\n",
       "    <tr>\n",
       "      <th>0</th>\n",
       "      <td>One year</td>\n",
       "      <td>Cohort</td>\n",
       "      <td>Buckhead Center</td>\n",
       "      <td>Master of Science in Managerial Sciences</td>\n",
       "      <td>Georgia residents: $37,500;Non-Ga. residents: ...</td>\n",
       "    </tr>\n",
       "    <tr>\n",
       "      <th>0</th>\n",
       "      <td>Two years (junior and senior year)</td>\n",
       "      <td>Cohort</td>\n",
       "      <td>Downtown Campus</td>\n",
       "      <td>Honors Program</td>\n",
       "      <td>NaN</td>\n",
       "    </tr>\n",
       "    <tr>\n",
       "      <th>0</th>\n",
       "      <td>Flexible (2.5-5 years)</td>\n",
       "      <td>Part-time or full-time</td>\n",
       "      <td>Buckhead, downtown</td>\n",
       "      <td>Flex MBA</td>\n",
       "      <td>Georgia residents: $37,878\\nNon-Ga. residents:...</td>\n",
       "    </tr>\n",
       "    <tr>\n",
       "      <th>0</th>\n",
       "      <td>Flexible</td>\n",
       "      <td>Full Time or Part Time</td>\n",
       "      <td>Downtown Campus and Buckhead Campus</td>\n",
       "      <td>Master of Actuarial Science</td>\n",
       "      <td>Georgia residents: $21,524;Non-Ga. residents: ...</td>\n",
       "    </tr>\n",
       "    <tr>\n",
       "      <th>0</th>\n",
       "      <td>17 months starting every August</td>\n",
       "      <td>Cohort, classes every other weekend\\nFriday af...</td>\n",
       "      <td>Georgia State’s Buckhead Center, Tower Place 200</td>\n",
       "      <td>Executive MBA</td>\n",
       "      <td>Georgia residents: $69,500;Non-Ga. residents: ...</td>\n",
       "    </tr>\n",
       "    <tr>\n",
       "      <th>0</th>\n",
       "      <td>Training: February-September;Trip: four days i...</td>\n",
       "      <td>A group of 16-18 students</td>\n",
       "      <td>Training: Downtown Campus;Trip: New York City</td>\n",
       "      <td>Panthers on Wall Street</td>\n",
       "      <td>NaN</td>\n",
       "    </tr>\n",
       "    <tr>\n",
       "      <th>0</th>\n",
       "      <td>One semester, 3 credit hours</td>\n",
       "      <td>Teams of 3-5 students</td>\n",
       "      <td>Downtown Campus</td>\n",
       "      <td>Panthers Accelerated Career Experience</td>\n",
       "      <td>No additional cost</td>\n",
       "    </tr>\n",
       "    <tr>\n",
       "      <th>0</th>\n",
       "      <td>One semester</td>\n",
       "      <td>Three courses, up to 25 students in each</td>\n",
       "      <td>Atlanta Campus</td>\n",
       "      <td>WomenLead</td>\n",
       "      <td>NaN</td>\n",
       "    </tr>\n",
       "    <tr>\n",
       "      <th>0</th>\n",
       "      <td>12 months,\\nthree semesters</td>\n",
       "      <td>Cohort</td>\n",
       "      <td>Buckhead Center</td>\n",
       "      <td>Master of Science in Real Estate</td>\n",
       "      <td>Georgia residents: $37,500;Non-Ga. residents: ...</td>\n",
       "    </tr>\n",
       "    <tr>\n",
       "      <th>0</th>\n",
       "      <td>4 semesters, 16 months</td>\n",
       "      <td>Cohort</td>\n",
       "      <td>Buckhead Center</td>\n",
       "      <td>Master of Science in Health Administration</td>\n",
       "      <td>Georgia residents: $41,100;Non-Ga. residents: ...</td>\n",
       "    </tr>\n",
       "    <tr>\n",
       "      <th>0</th>\n",
       "      <td>17 months starting every August</td>\n",
       "      <td>Cohort, classes every other weekend\\nFriday af...</td>\n",
       "      <td>Georgia State’s Buckhead Center, Tower Place 200</td>\n",
       "      <td>Executive MBA</td>\n",
       "      <td>Georgia residents: $69,500;Non-Ga. residents: ...</td>\n",
       "    </tr>\n",
       "    <tr>\n",
       "      <th>0</th>\n",
       "      <td>NaN</td>\n",
       "      <td>NaN</td>\n",
       "      <td>NaN</td>\n",
       "      <td>Career Advancement Center</td>\n",
       "      <td>NaN</td>\n",
       "    </tr>\n",
       "    <tr>\n",
       "      <th>0</th>\n",
       "      <td>24 months</td>\n",
       "      <td>Cohort, part-time</td>\n",
       "      <td>Buckhead Center</td>\n",
       "      <td>Professional MBA</td>\n",
       "      <td>Georgia residents: $49,900;Non-Ga. residents: ...</td>\n",
       "    </tr>\n",
       "  </tbody>\n",
       "</table>\n",
       "</div>"
      ],
      "text/plain": [
       "                                            Duration  \\\n",
       "0                                                NaN   \n",
       "0                                           One year   \n",
       "0                                                NaN   \n",
       "0                                           One year   \n",
       "0                        12 months,\\nthree semesters   \n",
       "0                                  Typically 5 years   \n",
       "0                                           One year   \n",
       "0                 Two years (junior and senior year)   \n",
       "0                             Flexible (2.5-5 years)   \n",
       "0                                           Flexible   \n",
       "0                    17 months starting every August   \n",
       "0  Training: February-September;Trip: four days i...   \n",
       "0                       One semester, 3 credit hours   \n",
       "0                                       One semester   \n",
       "0                        12 months,\\nthree semesters   \n",
       "0                             4 semesters, 16 months   \n",
       "0                    17 months starting every August   \n",
       "0                                                NaN   \n",
       "0                                          24 months   \n",
       "\n",
       "                                              Format  \\\n",
       "0                                                NaN   \n",
       "0                                             Cohort   \n",
       "0                                                NaN   \n",
       "0                                             Cohort   \n",
       "0                                             Cohort   \n",
       "0                            Full-time, in-residence   \n",
       "0                                             Cohort   \n",
       "0                                             Cohort   \n",
       "0                             Part-time or full-time   \n",
       "0                             Full Time or Part Time   \n",
       "0  Cohort, classes every other weekend\\nFriday af...   \n",
       "0                          A group of 16-18 students   \n",
       "0                              Teams of 3-5 students   \n",
       "0           Three courses, up to 25 students in each   \n",
       "0                                             Cohort   \n",
       "0                                             Cohort   \n",
       "0  Cohort, classes every other weekend\\nFriday af...   \n",
       "0                                                NaN   \n",
       "0                                  Cohort, part-time   \n",
       "\n",
       "                                            Location  \\\n",
       "0                                                NaN   \n",
       "0                                    Buckhead Center   \n",
       "0                                                NaN   \n",
       "0                                    Buckhead Center   \n",
       "0                                    Buckhead Center   \n",
       "0  Downtown or Buckhead\\nCheck with your coordina...   \n",
       "0                                    Buckhead Center   \n",
       "0                                    Downtown Campus   \n",
       "0                                 Buckhead, downtown   \n",
       "0                Downtown Campus and Buckhead Campus   \n",
       "0   Georgia State’s Buckhead Center, Tower Place 200   \n",
       "0      Training: Downtown Campus;Trip: New York City   \n",
       "0                                    Downtown Campus   \n",
       "0                                     Atlanta Campus   \n",
       "0                                    Buckhead Center   \n",
       "0                                    Buckhead Center   \n",
       "0   Georgia State’s Buckhead Center, Tower Place 200   \n",
       "0                                                NaN   \n",
       "0                                    Buckhead Center   \n",
       "\n",
       "                                               Title  \\\n",
       "0                             Undergraduate Programs   \n",
       "0           Master of Science in Managerial Sciences   \n",
       "0                          Career Advancement Center   \n",
       "0                     Master of Science in Marketing   \n",
       "0  Regynald G. Washington Master of Global Hospit...   \n",
       "0                                     Ph.D. Programs   \n",
       "0           Master of Science in Managerial Sciences   \n",
       "0                                     Honors Program   \n",
       "0                                           Flex MBA   \n",
       "0                        Master of Actuarial Science   \n",
       "0                                      Executive MBA   \n",
       "0                            Panthers on Wall Street   \n",
       "0             Panthers Accelerated Career Experience   \n",
       "0                                          WomenLead   \n",
       "0                   Master of Science in Real Estate   \n",
       "0         Master of Science in Health Administration   \n",
       "0                                      Executive MBA   \n",
       "0                          Career Advancement Center   \n",
       "0                                   Professional MBA   \n",
       "\n",
       "                                             Tuition  \n",
       "0                                                NaN  \n",
       "0  Georgia residents: $37,500;Non-Ga. residents: ...  \n",
       "0                                                NaN  \n",
       "0  Georgia residents: $37,500;Non-Ga. residents: ...  \n",
       "0  Georgia residents: $37,500;Non-Ga. residents: ...  \n",
       "0  Students typically receive tuition waivers and...  \n",
       "0  Georgia residents: $37,500;Non-Ga. residents: ...  \n",
       "0                                                NaN  \n",
       "0  Georgia residents: $37,878\\nNon-Ga. residents:...  \n",
       "0  Georgia residents: $21,524;Non-Ga. residents: ...  \n",
       "0  Georgia residents: $69,500;Non-Ga. residents: ...  \n",
       "0                                                NaN  \n",
       "0                                 No additional cost  \n",
       "0                                                NaN  \n",
       "0  Georgia residents: $37,500;Non-Ga. residents: ...  \n",
       "0  Georgia residents: $41,100;Non-Ga. residents: ...  \n",
       "0  Georgia residents: $69,500;Non-Ga. residents: ...  \n",
       "0                                                NaN  \n",
       "0  Georgia residents: $49,900;Non-Ga. residents: ...  "
      ]
     },
     "execution_count": 433,
     "metadata": {},
     "output_type": "execute_result"
    }
   ],
   "source": [
    "programs_df"
   ]
  },
  {
   "cell_type": "code",
   "execution_count": null,
   "metadata": {
    "collapsed": true
   },
   "outputs": [],
   "source": []
  },
  {
   "cell_type": "markdown",
   "metadata": {},
   "source": [
    "# Exercise\n",
    "\n",
    "Let's get back to *xkcd* https://xkcd.com\n",
    "\n",
    "Each page has a simple structure with one comic and a bunch of links and navigation buttons.\n",
    "\n",
    "## Task\n",
    "- collect about 100 **different** comics from the xkcd site\n",
    "- extract the following elements and create a data table with those fields:\n",
    "    1. permanent URL of page\n",
    "    2. permanent URL of image (such as https://imgs.xkcd.com/comics/the_end_of_the_rainbow.png)\n",
    "    3. *alt* text of image, which is a short title\n",
    "    4. *title* text of image, which actually is some text from the comic.\n",
    "- Bonus: Create an inverted index that keeps a list of document IDs for each term (of the title-text) in those documents.\n",
    "\n",
    "https://en.wikipedia.org/wiki/Inverted_index"
   ]
  },
  {
   "cell_type": "code",
   "execution_count": null,
   "metadata": {
    "collapsed": true
   },
   "outputs": [],
   "source": []
  },
  {
   "cell_type": "code",
   "execution_count": null,
   "metadata": {
    "collapsed": true
   },
   "outputs": [],
   "source": []
  }
 ],
 "metadata": {
  "hide_input": false,
  "kernelspec": {
   "display_name": "Python 2",
   "language": "python",
   "name": "python2"
  },
  "language_info": {
   "codemirror_mode": {
    "name": "ipython",
    "version": 2
   },
   "file_extension": ".py",
   "mimetype": "text/x-python",
   "name": "python",
   "nbconvert_exporter": "python",
   "pygments_lexer": "ipython2",
   "version": "2.7.5"
  },
  "toc": {
   "nav_menu": {
    "height": "246px",
    "width": "252px"
   },
   "navigate_menu": true,
   "number_sections": true,
   "sideBar": true,
   "threshold": 4,
   "toc_cell": false,
   "toc_section_display": "block",
   "toc_window_display": true
  }
 },
 "nbformat": 4,
 "nbformat_minor": 0
}
